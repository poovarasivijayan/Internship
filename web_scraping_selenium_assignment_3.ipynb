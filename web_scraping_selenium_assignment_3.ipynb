{
 "cells": [
  {
   "cell_type": "markdown",
   "id": "d6e092be",
   "metadata": {},
   "source": [
    "# Top 10 Data Analyst Jobs In Bangalore Location"
   ]
  },
  {
   "cell_type": "code",
   "execution_count": 1,
   "id": "08203a39",
   "metadata": {},
   "outputs": [],
   "source": [
    "#install selenium"
   ]
  },
  {
   "cell_type": "code",
   "execution_count": 2,
   "id": "d286546a",
   "metadata": {},
   "outputs": [
    {
     "name": "stdout",
     "output_type": "stream",
     "text": [
      "Requirement already satisfied: selenium in c:\\users\\poovi\\anaconda3\\lib\\site-packages (4.1.3)\n",
      "Requirement already satisfied: urllib3[secure,socks]~=1.26 in c:\\users\\poovi\\anaconda3\\lib\\site-packages (from selenium) (1.26.7)\n",
      "Requirement already satisfied: trio~=0.17 in c:\\users\\poovi\\anaconda3\\lib\\site-packages (from selenium) (0.20.0)\n",
      "Requirement already satisfied: trio-websocket~=0.9 in c:\\users\\poovi\\anaconda3\\lib\\site-packages (from selenium) (0.9.2)\n",
      "Requirement already satisfied: attrs>=19.2.0 in c:\\users\\poovi\\anaconda3\\lib\\site-packages (from trio~=0.17->selenium) (21.2.0)\n",
      "Requirement already satisfied: sortedcontainers in c:\\users\\poovi\\anaconda3\\lib\\site-packages (from trio~=0.17->selenium) (2.4.0)\n",
      "Requirement already satisfied: async-generator>=1.9 in c:\\users\\poovi\\anaconda3\\lib\\site-packages (from trio~=0.17->selenium) (1.10)\n",
      "Requirement already satisfied: cffi>=1.14 in c:\\users\\poovi\\anaconda3\\lib\\site-packages (from trio~=0.17->selenium) (1.14.6)\n",
      "Requirement already satisfied: outcome in c:\\users\\poovi\\anaconda3\\lib\\site-packages (from trio~=0.17->selenium) (1.1.0)\n",
      "Requirement already satisfied: idna in c:\\users\\poovi\\anaconda3\\lib\\site-packages (from trio~=0.17->selenium) (3.2)\n",
      "Requirement already satisfied: sniffio in c:\\users\\poovi\\anaconda3\\lib\\site-packages (from trio~=0.17->selenium) (1.2.0)\n",
      "Requirement already satisfied: pycparser in c:\\users\\poovi\\anaconda3\\lib\\site-packages (from cffi>=1.14->trio~=0.17->selenium) (2.20)\n",
      "Requirement already satisfied: wsproto>=0.14 in c:\\users\\poovi\\anaconda3\\lib\\site-packages (from trio-websocket~=0.9->selenium) (1.1.0)\n",
      "Requirement already satisfied: pyOpenSSL>=0.14 in c:\\users\\poovi\\anaconda3\\lib\\site-packages (from urllib3[secure,socks]~=1.26->selenium) (21.0.0)\n",
      "Requirement already satisfied: cryptography>=1.3.4 in c:\\users\\poovi\\anaconda3\\lib\\site-packages (from urllib3[secure,socks]~=1.26->selenium) (3.4.8)\n",
      "Requirement already satisfied: certifi in c:\\users\\poovi\\anaconda3\\lib\\site-packages (from urllib3[secure,socks]~=1.26->selenium) (2021.10.8)\n",
      "Requirement already satisfied: PySocks!=1.5.7,<2.0,>=1.5.6 in c:\\users\\poovi\\anaconda3\\lib\\site-packages (from urllib3[secure,socks]~=1.26->selenium) (1.7.1)\n",
      "Requirement already satisfied: six>=1.5.2 in c:\\users\\poovi\\anaconda3\\lib\\site-packages (from pyOpenSSL>=0.14->urllib3[secure,socks]~=1.26->selenium) (1.16.0)\n",
      "Requirement already satisfied: h11<1,>=0.9.0 in c:\\users\\poovi\\anaconda3\\lib\\site-packages (from wsproto>=0.14->trio-websocket~=0.9->selenium) (0.13.0)\n"
     ]
    }
   ],
   "source": [
    "!pip install selenium"
   ]
  },
  {
   "cell_type": "code",
   "execution_count": 3,
   "id": "6b4708d2",
   "metadata": {},
   "outputs": [],
   "source": [
    "#importing libraries\n",
    "import selenium\n",
    "import pandas as pd\n",
    "from selenium import webdriver\n",
    "import warnings\n",
    "warnings.filterwarnings('ignore')\n",
    "import time"
   ]
  },
  {
   "cell_type": "code",
   "execution_count": 4,
   "id": "f45abf72",
   "metadata": {},
   "outputs": [],
   "source": [
    "#connecting to webdriver\n",
    "driver = webdriver.Chrome(r\"C:\\web driver\\chromedriver.exe\")"
   ]
  },
  {
   "cell_type": "code",
   "execution_count": 5,
   "id": "f468be30",
   "metadata": {},
   "outputs": [],
   "source": [
    "#opening naukri.com in automated chrome window\n",
    "driver.get(\"https://www.naukri.com/\")"
   ]
  },
  {
   "cell_type": "code",
   "execution_count": 6,
   "id": "f00bfb5d",
   "metadata": {},
   "outputs": [],
   "source": [
    "#finding element for designation search bar\n",
    "search_field_designation = driver.find_element_by_xpath(\"/html/body/div/div[2]/div[3]/div/div/div[1]/div/div/div/input\")\n",
    "search_field_designation.send_keys(\"Data Analyst\")"
   ]
  },
  {
   "cell_type": "code",
   "execution_count": 7,
   "id": "b4c37ad2",
   "metadata": {},
   "outputs": [],
   "source": [
    "#finding element for location bar\n",
    "search_field_location = driver.find_element_by_xpath(\"/html/body/div/div[2]/div[3]/div/div/div[3]/div/div/div/input\")\n",
    "search_field_location.send_keys(\"Bangalore\")"
   ]
  },
  {
   "cell_type": "code",
   "execution_count": 8,
   "id": "37b6f3af",
   "metadata": {},
   "outputs": [],
   "source": [
    "#clicking on search button\n",
    "search_button = driver.find_element_by_xpath('/html/body/div/div[2]/div[3]/div/div/div[6]')\n",
    "search_button.click()"
   ]
  },
  {
   "cell_type": "code",
   "execution_count": 9,
   "id": "ca869de9",
   "metadata": {},
   "outputs": [],
   "source": [
    "job_title = []\n",
    "company_name = []\n",
    "location_tag = []\n",
    "experience_tag = []"
   ]
  },
  {
   "cell_type": "code",
   "execution_count": 10,
   "id": "e92a1dec",
   "metadata": {},
   "outputs": [],
   "source": [
    "#extract all tags having job title\n",
    "title = driver.find_elements_by_xpath(\"//a[@class='title fw500 ellipsis']\")"
   ]
  },
  {
   "cell_type": "code",
   "execution_count": 11,
   "id": "d74787f1",
   "metadata": {},
   "outputs": [],
   "source": [
    "#now the text of the job title is inside the tags extracted above.\n",
    "#so we will run a loop to iterate over the tags extracted above and extract the text inside them.\n",
    "for i in title[:10]:\n",
    "    titles=i.text\n",
    "    job_title.append(titles)"
   ]
  },
  {
   "cell_type": "code",
   "execution_count": 12,
   "id": "05e85268",
   "metadata": {},
   "outputs": [],
   "source": [
    "#extract all tags having company name\n",
    "name = driver.find_elements_by_xpath(\"//a[@class='subTitle ellipsis fleft']\")"
   ]
  },
  {
   "cell_type": "code",
   "execution_count": 13,
   "id": "ca257531",
   "metadata": {},
   "outputs": [],
   "source": [
    "#now the text of the company name is inside the tags extracted above.\n",
    "#so we will run a loop to iterate over the tags extracted above and extract the text inside them.\n",
    "for i in name[:10]:\n",
    "    names = i.text\n",
    "    company_name.append(names)"
   ]
  },
  {
   "cell_type": "code",
   "execution_count": 14,
   "id": "efd8a140",
   "metadata": {},
   "outputs": [],
   "source": [
    "#extract all tags having experience\n",
    "experience = driver.find_elements_by_xpath(\"//li[@class='fleft grey-text br2 placeHolderLi experience']/span\")"
   ]
  },
  {
   "cell_type": "code",
   "execution_count": 15,
   "id": "dc8fd47d",
   "metadata": {},
   "outputs": [],
   "source": [
    "#now the text of the experience is inside the tags extracted above.\n",
    "#so we will run a loop to iterate over the tags extracted above and extract the text inside them.\n",
    "\n",
    "for i in experience[:10]:\n",
    "    experiences = i.text\n",
    "    experience_tag.append(experiences)"
   ]
  },
  {
   "cell_type": "code",
   "execution_count": 16,
   "id": "81adf494",
   "metadata": {},
   "outputs": [],
   "source": [
    "#extract all tags having loaction\n",
    "location = driver.find_elements_by_xpath(\"//li[@class='fleft grey-text br2 placeHolderLi location']/span[1]\")"
   ]
  },
  {
   "cell_type": "code",
   "execution_count": 17,
   "id": "0e1d5597",
   "metadata": {},
   "outputs": [],
   "source": [
    "#now the text of the location is inside the tags extracted above.\n",
    "#so we will run a loop to iterate over the tags extracted above and extract the text inside them.\n",
    "for i in location[:10]:\n",
    "    locations = i.text\n",
    "    location_tag.append(locations)"
   ]
  },
  {
   "cell_type": "code",
   "execution_count": 18,
   "id": "040376b3",
   "metadata": {},
   "outputs": [
    {
     "name": "stdout",
     "output_type": "stream",
     "text": [
      "10 10 10 10\n"
     ]
    }
   ],
   "source": [
    "print(len(job_title),len(company_name),len(location_tag),len(experience_tag))"
   ]
  },
  {
   "cell_type": "code",
   "execution_count": 19,
   "id": "5a9a6a9d",
   "metadata": {},
   "outputs": [],
   "source": [
    "#Dataframe\n",
    "jobs = pd.DataFrame({})\n",
    "jobs['title'] = job_title\n",
    "jobs['company'] = company_name\n",
    "jobs['location'] = location_tag\n",
    "jobs['experience required'] = experience_tag"
   ]
  },
  {
   "cell_type": "code",
   "execution_count": 20,
   "id": "75d3c463",
   "metadata": {},
   "outputs": [
    {
     "data": {
      "text/html": [
       "<div>\n",
       "<style scoped>\n",
       "    .dataframe tbody tr th:only-of-type {\n",
       "        vertical-align: middle;\n",
       "    }\n",
       "\n",
       "    .dataframe tbody tr th {\n",
       "        vertical-align: top;\n",
       "    }\n",
       "\n",
       "    .dataframe thead th {\n",
       "        text-align: right;\n",
       "    }\n",
       "</style>\n",
       "<table border=\"1\" class=\"dataframe\">\n",
       "  <thead>\n",
       "    <tr style=\"text-align: right;\">\n",
       "      <th></th>\n",
       "      <th>title</th>\n",
       "      <th>company</th>\n",
       "      <th>location</th>\n",
       "      <th>experience required</th>\n",
       "    </tr>\n",
       "  </thead>\n",
       "  <tbody>\n",
       "    <tr>\n",
       "      <th>0</th>\n",
       "      <td>Senior Data Analyst</td>\n",
       "      <td>Thomson Reuters</td>\n",
       "      <td>Bangalore/Bengaluru</td>\n",
       "      <td>2-4 Yrs</td>\n",
       "    </tr>\n",
       "    <tr>\n",
       "      <th>1</th>\n",
       "      <td>Data Analyst- customer facing</td>\n",
       "      <td>Synamedia</td>\n",
       "      <td>Bangalore/Bengaluru</td>\n",
       "      <td>0-3 Yrs</td>\n",
       "    </tr>\n",
       "    <tr>\n",
       "      <th>2</th>\n",
       "      <td>Sr Data Analyst II</td>\n",
       "      <td>IHS Markit</td>\n",
       "      <td>Gurgaon/Gurugram, Bangalore/Bengaluru</td>\n",
       "      <td>3-6 Yrs</td>\n",
       "    </tr>\n",
       "    <tr>\n",
       "      <th>3</th>\n",
       "      <td>Business analyst + data Analysis</td>\n",
       "      <td>Anlage Infotech (I) Pvt. Ltd.</td>\n",
       "      <td>Hyderabad/Secunderabad, Bangalore/Bengaluru</td>\n",
       "      <td>5-10 Yrs</td>\n",
       "    </tr>\n",
       "    <tr>\n",
       "      <th>4</th>\n",
       "      <td>Data Analyst</td>\n",
       "      <td>VOLVO ASSET FINANCE INDIA PRIVATE LIMITED</td>\n",
       "      <td>Bangalore/Bengaluru</td>\n",
       "      <td>2-4 Yrs</td>\n",
       "    </tr>\n",
       "    <tr>\n",
       "      <th>5</th>\n",
       "      <td>Hiring For Data Analyst with SAP ABAP &amp; BW - C...</td>\n",
       "      <td>MILLION MINDS INFOTECH PRIVATE LIMITED</td>\n",
       "      <td>Bangalore/Bengaluru</td>\n",
       "      <td>7-10 Yrs</td>\n",
       "    </tr>\n",
       "    <tr>\n",
       "      <th>6</th>\n",
       "      <td>Senior Business Analyst - Data Sciences and Ad...</td>\n",
       "      <td>Vmware</td>\n",
       "      <td>Bangalore/Bengaluru</td>\n",
       "      <td>3-7 Yrs</td>\n",
       "    </tr>\n",
       "    <tr>\n",
       "      <th>7</th>\n",
       "      <td>Business and Data Analyst</td>\n",
       "      <td>CAREERDOST ENTERPRISE</td>\n",
       "      <td>Bangalore/Bengaluru</td>\n",
       "      <td>0-5 Yrs</td>\n",
       "    </tr>\n",
       "    <tr>\n",
       "      <th>8</th>\n",
       "      <td>Senior Data Analyst | Lululemon</td>\n",
       "      <td>TALENT500 TECH (INDIA) PRIVATE LIMITED</td>\n",
       "      <td>Bangalore/Bengaluru</td>\n",
       "      <td>5-8 Yrs</td>\n",
       "    </tr>\n",
       "    <tr>\n",
       "      <th>9</th>\n",
       "      <td>Urgent hiring For Senior Data Analyst</td>\n",
       "      <td>upGrad</td>\n",
       "      <td>Bangalore/Bengaluru</td>\n",
       "      <td>2-7 Yrs</td>\n",
       "    </tr>\n",
       "  </tbody>\n",
       "</table>\n",
       "</div>"
      ],
      "text/plain": [
       "                                               title  \\\n",
       "0                                Senior Data Analyst   \n",
       "1                      Data Analyst- customer facing   \n",
       "2                                 Sr Data Analyst II   \n",
       "3                   Business analyst + data Analysis   \n",
       "4                                       Data Analyst   \n",
       "5  Hiring For Data Analyst with SAP ABAP & BW - C...   \n",
       "6  Senior Business Analyst - Data Sciences and Ad...   \n",
       "7                          Business and Data Analyst   \n",
       "8                    Senior Data Analyst | Lululemon   \n",
       "9              Urgent hiring For Senior Data Analyst   \n",
       "\n",
       "                                     company  \\\n",
       "0                            Thomson Reuters   \n",
       "1                                  Synamedia   \n",
       "2                                 IHS Markit   \n",
       "3              Anlage Infotech (I) Pvt. Ltd.   \n",
       "4  VOLVO ASSET FINANCE INDIA PRIVATE LIMITED   \n",
       "5     MILLION MINDS INFOTECH PRIVATE LIMITED   \n",
       "6                                     Vmware   \n",
       "7                      CAREERDOST ENTERPRISE   \n",
       "8     TALENT500 TECH (INDIA) PRIVATE LIMITED   \n",
       "9                                     upGrad   \n",
       "\n",
       "                                      location experience required  \n",
       "0                          Bangalore/Bengaluru             2-4 Yrs  \n",
       "1                          Bangalore/Bengaluru             0-3 Yrs  \n",
       "2        Gurgaon/Gurugram, Bangalore/Bengaluru             3-6 Yrs  \n",
       "3  Hyderabad/Secunderabad, Bangalore/Bengaluru            5-10 Yrs  \n",
       "4                          Bangalore/Bengaluru             2-4 Yrs  \n",
       "5                          Bangalore/Bengaluru            7-10 Yrs  \n",
       "6                          Bangalore/Bengaluru             3-7 Yrs  \n",
       "7                          Bangalore/Bengaluru             0-5 Yrs  \n",
       "8                          Bangalore/Bengaluru             5-8 Yrs  \n",
       "9                          Bangalore/Bengaluru             2-7 Yrs  "
      ]
     },
     "execution_count": 20,
     "metadata": {},
     "output_type": "execute_result"
    }
   ],
   "source": [
    "jobs"
   ]
  },
  {
   "cell_type": "code",
   "execution_count": 21,
   "id": "477c0e15",
   "metadata": {},
   "outputs": [],
   "source": [
    "#closing webdriver\n",
    "driver.close()"
   ]
  },
  {
   "cell_type": "markdown",
   "id": "ad09b1e9",
   "metadata": {},
   "source": [
    "# Scraping Top 10 Data Scientist Job in Bangalore Location"
   ]
  },
  {
   "cell_type": "code",
   "execution_count": 22,
   "id": "c87e36fd",
   "metadata": {},
   "outputs": [],
   "source": [
    "#connecting to webdriver\n",
    "driver = webdriver.Chrome(r\"C:\\web driver\\chromedriver\")"
   ]
  },
  {
   "cell_type": "code",
   "execution_count": 23,
   "id": "7e815ebc",
   "metadata": {},
   "outputs": [],
   "source": [
    "#opening naukri.com in automated chrome window\n",
    "driver.get(\"http://www.naukri.com/\")"
   ]
  },
  {
   "cell_type": "code",
   "execution_count": 24,
   "id": "f0d67558",
   "metadata": {},
   "outputs": [],
   "source": [
    "#finding element for designation field\n",
    "search_field_designation = driver.find_element_by_class_name(\"suggestor-input \")\n",
    "search_field_designation.send_keys(\"Data Scientist\")"
   ]
  },
  {
   "cell_type": "code",
   "execution_count": 25,
   "id": "9617c113",
   "metadata": {},
   "outputs": [],
   "source": [
    "#finding element for location filed\n",
    "search_field_location = driver.find_element_by_xpath(\"/html/body/div/div[2]/div[3]/div/div/div[3]/div/div/div/input\")\n",
    "search_field_location.send_keys(\"Bangalore\")"
   ]
  },
  {
   "cell_type": "code",
   "execution_count": 26,
   "id": "f1b7e694",
   "metadata": {},
   "outputs": [],
   "source": [
    "#clicking on search button\n",
    "search_button = driver.find_element_by_xpath(\"/html/body/div/div[2]/div[3]/div/div/div[6]\")\n",
    "search_button.click()"
   ]
  },
  {
   "cell_type": "code",
   "execution_count": 27,
   "id": "a5db0117",
   "metadata": {},
   "outputs": [],
   "source": [
    "job_title = []\n",
    "company_name = []\n",
    "location_tag = []"
   ]
  },
  {
   "cell_type": "code",
   "execution_count": 28,
   "id": "a2384bb4",
   "metadata": {},
   "outputs": [],
   "source": [
    "#extrcat all tags having job title\n",
    "title = driver.find_elements_by_xpath(\"//a[@class='title fw500 ellipsis']\")"
   ]
  },
  {
   "cell_type": "code",
   "execution_count": 29,
   "id": "3500f5bf",
   "metadata": {},
   "outputs": [],
   "source": [
    "#now the text of the job title is inside the tags extracted above.\n",
    "#so we will run a loop to iterate over the tags extracted above and extract the text inside them.\n",
    "for i in title[:10]:\n",
    "    titles = i.text\n",
    "    job_title.append(titles)"
   ]
  },
  {
   "cell_type": "code",
   "execution_count": 30,
   "id": "4e8677a0",
   "metadata": {},
   "outputs": [],
   "source": [
    "#extract all tags having company name\n",
    "company = driver.find_elements_by_xpath(\"//a[@class='subTitle ellipsis fleft']\")"
   ]
  },
  {
   "cell_type": "code",
   "execution_count": 31,
   "id": "f65b7e89",
   "metadata": {},
   "outputs": [],
   "source": [
    "#now the text of the company name is inside the tags extracted above.\n",
    "#so we will run a loop to iterate over the tags extracted above and extract the text inside them.\n",
    "for i in company[:10]:\n",
    "    companies = i.text\n",
    "    company_name.append(companies)"
   ]
  },
  {
   "cell_type": "code",
   "execution_count": 32,
   "id": "91093058",
   "metadata": {},
   "outputs": [],
   "source": [
    "#extracting all tags having location\n",
    "location = driver.find_elements_by_xpath(\"//li[@class='fleft grey-text br2 placeHolderLi location']\")"
   ]
  },
  {
   "cell_type": "code",
   "execution_count": 33,
   "id": "35ef220c",
   "metadata": {},
   "outputs": [],
   "source": [
    "#now the text of the job title is inside the tags extracted above.\n",
    "#so we will run a loop to iterate over the tags extracted above and extract the text inside them.\n",
    "for i in location[:10]:\n",
    "    locations = i.text\n",
    "    location_tag.append(locations)"
   ]
  },
  {
   "cell_type": "code",
   "execution_count": 34,
   "id": "db1b881a",
   "metadata": {},
   "outputs": [],
   "source": [
    "#dataframe\n",
    "jobs = pd.DataFrame({})\n",
    "jobs['Job Title'] = job_title\n",
    "jobs['Company Name'] = company_name\n",
    "jobs['Location'] = location_tag"
   ]
  },
  {
   "cell_type": "code",
   "execution_count": 35,
   "id": "eaea0b28",
   "metadata": {},
   "outputs": [
    {
     "data": {
      "text/html": [
       "<div>\n",
       "<style scoped>\n",
       "    .dataframe tbody tr th:only-of-type {\n",
       "        vertical-align: middle;\n",
       "    }\n",
       "\n",
       "    .dataframe tbody tr th {\n",
       "        vertical-align: top;\n",
       "    }\n",
       "\n",
       "    .dataframe thead th {\n",
       "        text-align: right;\n",
       "    }\n",
       "</style>\n",
       "<table border=\"1\" class=\"dataframe\">\n",
       "  <thead>\n",
       "    <tr style=\"text-align: right;\">\n",
       "      <th></th>\n",
       "      <th>Job Title</th>\n",
       "      <th>Company Name</th>\n",
       "      <th>Location</th>\n",
       "    </tr>\n",
       "  </thead>\n",
       "  <tbody>\n",
       "    <tr>\n",
       "      <th>0</th>\n",
       "      <td>Senior Data Scientist</td>\n",
       "      <td>Fractal Analytics</td>\n",
       "      <td>Bangalore/Bengaluru</td>\n",
       "    </tr>\n",
       "    <tr>\n",
       "      <th>1</th>\n",
       "      <td>Data Scientist: Advanced Analytics</td>\n",
       "      <td>IBM</td>\n",
       "      <td>Bengaluru/Bangalore</td>\n",
       "    </tr>\n",
       "    <tr>\n",
       "      <th>2</th>\n",
       "      <td>Data Scientist</td>\n",
       "      <td>VISA</td>\n",
       "      <td>Bangalore/Bengaluru</td>\n",
       "    </tr>\n",
       "    <tr>\n",
       "      <th>3</th>\n",
       "      <td>Data Scientist: Artificial Intelligence</td>\n",
       "      <td>IBM</td>\n",
       "      <td>Bangalore/Bengaluru</td>\n",
       "    </tr>\n",
       "    <tr>\n",
       "      <th>4</th>\n",
       "      <td>Data Scientist: Artificial Intelligence</td>\n",
       "      <td>IBM</td>\n",
       "      <td>Bengaluru/Bangalore</td>\n",
       "    </tr>\n",
       "    <tr>\n",
       "      <th>5</th>\n",
       "      <td>Data Scientist: Artificial Intelligence</td>\n",
       "      <td>IBM</td>\n",
       "      <td>Bengaluru/Bangalore</td>\n",
       "    </tr>\n",
       "    <tr>\n",
       "      <th>6</th>\n",
       "      <td>Data Scientist: Artificial Intelligence</td>\n",
       "      <td>IBM</td>\n",
       "      <td>Bengaluru/Bangalore</td>\n",
       "    </tr>\n",
       "    <tr>\n",
       "      <th>7</th>\n",
       "      <td>Data Scientist, Machine Learning (AIML)</td>\n",
       "      <td>Fractal Analytics</td>\n",
       "      <td>Bangalore/Bengaluru</td>\n",
       "    </tr>\n",
       "    <tr>\n",
       "      <th>8</th>\n",
       "      <td>Sr. Data Scientist</td>\n",
       "      <td>HUDSON'S BAY SERVICES PRIVATE LIMITED</td>\n",
       "      <td>Bangalore/Bengaluru</td>\n",
       "    </tr>\n",
       "    <tr>\n",
       "      <th>9</th>\n",
       "      <td>Lead Data Scientist</td>\n",
       "      <td>TransOrg Solutions Services (P) Ltd.</td>\n",
       "      <td>Bangalore/Bengaluru, Delhi / NCR, Mumbai (All ...</td>\n",
       "    </tr>\n",
       "  </tbody>\n",
       "</table>\n",
       "</div>"
      ],
      "text/plain": [
       "                                 Job Title  \\\n",
       "0                    Senior Data Scientist   \n",
       "1       Data Scientist: Advanced Analytics   \n",
       "2                           Data Scientist   \n",
       "3  Data Scientist: Artificial Intelligence   \n",
       "4  Data Scientist: Artificial Intelligence   \n",
       "5  Data Scientist: Artificial Intelligence   \n",
       "6  Data Scientist: Artificial Intelligence   \n",
       "7  Data Scientist, Machine Learning (AIML)   \n",
       "8                       Sr. Data Scientist   \n",
       "9                      Lead Data Scientist   \n",
       "\n",
       "                            Company Name  \\\n",
       "0                      Fractal Analytics   \n",
       "1                                    IBM   \n",
       "2                                   VISA   \n",
       "3                                    IBM   \n",
       "4                                    IBM   \n",
       "5                                    IBM   \n",
       "6                                    IBM   \n",
       "7                      Fractal Analytics   \n",
       "8  HUDSON'S BAY SERVICES PRIVATE LIMITED   \n",
       "9   TransOrg Solutions Services (P) Ltd.   \n",
       "\n",
       "                                            Location  \n",
       "0                                Bangalore/Bengaluru  \n",
       "1                                Bengaluru/Bangalore  \n",
       "2                                Bangalore/Bengaluru  \n",
       "3                                Bangalore/Bengaluru  \n",
       "4                                Bengaluru/Bangalore  \n",
       "5                                Bengaluru/Bangalore  \n",
       "6                                Bengaluru/Bangalore  \n",
       "7                                Bangalore/Bengaluru  \n",
       "8                                Bangalore/Bengaluru  \n",
       "9  Bangalore/Bengaluru, Delhi / NCR, Mumbai (All ...  "
      ]
     },
     "execution_count": 35,
     "metadata": {},
     "output_type": "execute_result"
    }
   ],
   "source": [
    "jobs"
   ]
  },
  {
   "cell_type": "code",
   "execution_count": 37,
   "id": "67a07db9",
   "metadata": {},
   "outputs": [],
   "source": [
    "driver.close()"
   ]
  },
  {
   "cell_type": "markdown",
   "id": "edc328f3",
   "metadata": {},
   "source": [
    "#  Scraping First 10 Data Scientist Job in Delhi/NCR location with 3-6lakhs salary"
   ]
  },
  {
   "cell_type": "code",
   "execution_count": 39,
   "id": "aadd2392",
   "metadata": {},
   "outputs": [],
   "source": [
    "#connecting to webdriver\n",
    "driver =  webdriver.Chrome(r\"C:\\web driver\\chromedriver\")"
   ]
  },
  {
   "cell_type": "code",
   "execution_count": 40,
   "id": "083addbe",
   "metadata": {},
   "outputs": [],
   "source": [
    "#opening naukri.com in automated chrome window\n",
    "driver.get(\"http://www.naukri.com/\")"
   ]
  },
  {
   "cell_type": "code",
   "execution_count": 41,
   "id": "076504f8",
   "metadata": {},
   "outputs": [],
   "source": [
    "#finding element for job destination bar\n",
    "find_job_designation = driver.find_element_by_class_name(\"suggestor-input \")\n",
    "find_job_designation.send_keys(\"Data Scientist\")"
   ]
  },
  {
   "cell_type": "code",
   "execution_count": 42,
   "id": "caaa3de5",
   "metadata": {},
   "outputs": [],
   "source": [
    "#clicking search button\n",
    "search_button = driver.find_element_by_xpath(\"/html/body/div/div[2]/div[3]/div/div/div[6]\")\n",
    "search_button.click()"
   ]
  },
  {
   "cell_type": "code",
   "execution_count": 44,
   "id": "dc5cf777",
   "metadata": {},
   "outputs": [],
   "source": [
    "#filtering location option\n",
    "location_button = driver.find_element_by_xpath(\"/html/body/div[1]/div[3]/div[2]/section[1]/div[2]/div[4]/div[2]/div[3]/label/p/span[1]\")\n",
    "location_button.click()"
   ]
  },
  {
   "cell_type": "code",
   "execution_count": 45,
   "id": "568daa7c",
   "metadata": {},
   "outputs": [],
   "source": [
    "#filtering salary option\n",
    "salary_button = driver.find_element_by_xpath(\"/html/body/div[1]/div[3]/div[2]/section[1]/div[2]/div[5]/div[2]/div[2]/label/p/span[1]\")\n",
    "salary_button.click()"
   ]
  },
  {
   "cell_type": "code",
   "execution_count": 46,
   "id": "62b90e68",
   "metadata": {},
   "outputs": [
    {
     "data": {
      "text/plain": [
       "10"
      ]
     },
     "execution_count": 46,
     "metadata": {},
     "output_type": "execute_result"
    }
   ],
   "source": [
    "#extracting all tag having job title\n",
    "title = driver.find_elements_by_xpath(\"//a[@class='title fw500 ellipsis']\")\n",
    "job_title = []\n",
    "#now the text of the job title is inside the tags extracted above.\n",
    "#so we will run a loop to iterate over the tags extracted above and extract the text inside them.\n",
    "for i in title[0:10]:\n",
    "    titles = i.text\n",
    "    job_title.append(titles)\n",
    "len(job_title)"
   ]
  },
  {
   "cell_type": "code",
   "execution_count": 47,
   "id": "4132ff97",
   "metadata": {},
   "outputs": [
    {
     "data": {
      "text/plain": [
       "10"
      ]
     },
     "execution_count": 47,
     "metadata": {},
     "output_type": "execute_result"
    }
   ],
   "source": [
    "#extracting all tag having company name\n",
    "company = driver.find_elements_by_xpath(\"//a[@class='subTitle ellipsis fleft']\")\n",
    "company_name = []\n",
    "#now the text of the comapny is inside the tags extracted above.\n",
    "#so we will run a loop to iterate over the tags extracted above and extract the text inside them.\n",
    "for i in company[0:10]:\n",
    "    companies = i.text\n",
    "    company_name.append(companies)\n",
    "len(company_name)"
   ]
  },
  {
   "cell_type": "code",
   "execution_count": 48,
   "id": "b4f856d1",
   "metadata": {},
   "outputs": [
    {
     "data": {
      "text/plain": [
       "10"
      ]
     },
     "execution_count": 48,
     "metadata": {},
     "output_type": "execute_result"
    }
   ],
   "source": [
    "#extracting all tag having job experience\n",
    "experience = driver.find_elements_by_xpath(\"//li[@class='fleft grey-text br2 placeHolderLi experience']/span\")\n",
    "job_experience = []\n",
    "#now the text of the job experience is inside the tags extracted above.\n",
    "#so we will run a loop to iterate over the tags extracted above and extract the text inside them.\n",
    "for i in experience[0:10]:\n",
    "    experiences = i.text\n",
    "    job_experience.append(experiences)\n",
    "len(job_experience)"
   ]
  },
  {
   "cell_type": "code",
   "execution_count": 49,
   "id": "3636988f",
   "metadata": {},
   "outputs": [
    {
     "data": {
      "text/plain": [
       "10"
      ]
     },
     "execution_count": 49,
     "metadata": {},
     "output_type": "execute_result"
    }
   ],
   "source": [
    "#extracting all tag having job location\n",
    "location = driver.find_elements_by_xpath(\"//li[@class='fleft grey-text br2 placeHolderLi location']/span\")\n",
    "job_location = []\n",
    "#now the text of the job location is inside the tags extracted above.\n",
    "#so we will run a loop to iterate over the tags extracted above and extract the text inside them.\n",
    "for i in location[0:10]:\n",
    "    locations = i.text\n",
    "    job_location.append(locations)\n",
    "len(job_location)"
   ]
  },
  {
   "cell_type": "code",
   "execution_count": 50,
   "id": "20e95440",
   "metadata": {},
   "outputs": [
    {
     "data": {
      "text/html": [
       "<div>\n",
       "<style scoped>\n",
       "    .dataframe tbody tr th:only-of-type {\n",
       "        vertical-align: middle;\n",
       "    }\n",
       "\n",
       "    .dataframe tbody tr th {\n",
       "        vertical-align: top;\n",
       "    }\n",
       "\n",
       "    .dataframe thead th {\n",
       "        text-align: right;\n",
       "    }\n",
       "</style>\n",
       "<table border=\"1\" class=\"dataframe\">\n",
       "  <thead>\n",
       "    <tr style=\"text-align: right;\">\n",
       "      <th></th>\n",
       "      <th>Job Title</th>\n",
       "      <th>Company Name</th>\n",
       "      <th>Experience</th>\n",
       "      <th>Location</th>\n",
       "    </tr>\n",
       "  </thead>\n",
       "  <tbody>\n",
       "    <tr>\n",
       "      <th>0</th>\n",
       "      <td>Data Scientist</td>\n",
       "      <td>Ashkom Media India Private Limited</td>\n",
       "      <td>3-6 Yrs</td>\n",
       "      <td>Noida, Bangalore/Bengaluru</td>\n",
       "    </tr>\n",
       "    <tr>\n",
       "      <th>1</th>\n",
       "      <td>Data Scientist || Software Company || Immediat...</td>\n",
       "      <td>Skyleaf Consultants</td>\n",
       "      <td>3-8 Yrs</td>\n",
       "      <td>Gurgaon/Gurugram, Bangalore/Bengaluru</td>\n",
       "    </tr>\n",
       "    <tr>\n",
       "      <th>2</th>\n",
       "      <td>Associate Data Scientist</td>\n",
       "      <td>Optum</td>\n",
       "      <td>1-5 Yrs</td>\n",
       "      <td>Gurgaon/Gurugram</td>\n",
       "    </tr>\n",
       "    <tr>\n",
       "      <th>3</th>\n",
       "      <td>Associate Scientist - Data Engineering</td>\n",
       "      <td>AXA Technology Services India Pvt. Ltd</td>\n",
       "      <td>2-5 Yrs</td>\n",
       "      <td>Gurgaon/Gurugram</td>\n",
       "    </tr>\n",
       "    <tr>\n",
       "      <th>4</th>\n",
       "      <td>Data Scientist</td>\n",
       "      <td>BlackBuck</td>\n",
       "      <td>3-7 Yrs</td>\n",
       "      <td>Gurgaon, Bengaluru</td>\n",
       "    </tr>\n",
       "    <tr>\n",
       "      <th>5</th>\n",
       "      <td>Hiring For Data Analyst and Data Scientist For...</td>\n",
       "      <td>Shadow Placements</td>\n",
       "      <td>3-7 Yrs</td>\n",
       "      <td>Noida, Gurgaon/Gurugram, Delhi / NCR</td>\n",
       "    </tr>\n",
       "    <tr>\n",
       "      <th>6</th>\n",
       "      <td>Data Scientist (freelance)</td>\n",
       "      <td>2Coms</td>\n",
       "      <td>2-7 Yrs</td>\n",
       "      <td>New Delhi, Delhi</td>\n",
       "    </tr>\n",
       "    <tr>\n",
       "      <th>7</th>\n",
       "      <td>Data Scientist</td>\n",
       "      <td>Country Veggie</td>\n",
       "      <td>1-3 Yrs</td>\n",
       "      <td>Bharuch, Jaipur, Bhopal, Mumbai, Jhansi, Nagpu...</td>\n",
       "    </tr>\n",
       "    <tr>\n",
       "      <th>8</th>\n",
       "      <td>Data Scientist/ Machine Learning, 2022 Passout...</td>\n",
       "      <td>Creative Hands HR Consultancy</td>\n",
       "      <td>0-4 Yrs</td>\n",
       "      <td>Hyderabad/Secunderabad, Pune, Chennai, Delhi /...</td>\n",
       "    </tr>\n",
       "    <tr>\n",
       "      <th>9</th>\n",
       "      <td>Data Scientists</td>\n",
       "      <td>Nibha Infotech Private Limited</td>\n",
       "      <td>5-8 Yrs</td>\n",
       "      <td>Gurgaon/Gurugram</td>\n",
       "    </tr>\n",
       "  </tbody>\n",
       "</table>\n",
       "</div>"
      ],
      "text/plain": [
       "                                           Job Title  \\\n",
       "0                                     Data Scientist   \n",
       "1  Data Scientist || Software Company || Immediat...   \n",
       "2                           Associate Data Scientist   \n",
       "3             Associate Scientist - Data Engineering   \n",
       "4                                     Data Scientist   \n",
       "5  Hiring For Data Analyst and Data Scientist For...   \n",
       "6                         Data Scientist (freelance)   \n",
       "7                                     Data Scientist   \n",
       "8  Data Scientist/ Machine Learning, 2022 Passout...   \n",
       "9                                    Data Scientists   \n",
       "\n",
       "                             Company Name Experience  \\\n",
       "0      Ashkom Media India Private Limited    3-6 Yrs   \n",
       "1                     Skyleaf Consultants    3-8 Yrs   \n",
       "2                                   Optum    1-5 Yrs   \n",
       "3  AXA Technology Services India Pvt. Ltd    2-5 Yrs   \n",
       "4                               BlackBuck    3-7 Yrs   \n",
       "5                       Shadow Placements    3-7 Yrs   \n",
       "6                                   2Coms    2-7 Yrs   \n",
       "7                          Country Veggie    1-3 Yrs   \n",
       "8           Creative Hands HR Consultancy    0-4 Yrs   \n",
       "9          Nibha Infotech Private Limited    5-8 Yrs   \n",
       "\n",
       "                                            Location  \n",
       "0                         Noida, Bangalore/Bengaluru  \n",
       "1              Gurgaon/Gurugram, Bangalore/Bengaluru  \n",
       "2                                   Gurgaon/Gurugram  \n",
       "3                                   Gurgaon/Gurugram  \n",
       "4                                 Gurgaon, Bengaluru  \n",
       "5               Noida, Gurgaon/Gurugram, Delhi / NCR  \n",
       "6                                   New Delhi, Delhi  \n",
       "7  Bharuch, Jaipur, Bhopal, Mumbai, Jhansi, Nagpu...  \n",
       "8  Hyderabad/Secunderabad, Pune, Chennai, Delhi /...  \n",
       "9                                   Gurgaon/Gurugram  "
      ]
     },
     "execution_count": 50,
     "metadata": {},
     "output_type": "execute_result"
    }
   ],
   "source": [
    "#dataframe\n",
    "jobs = pd.DataFrame({})\n",
    "jobs['Job Title'] = job_title\n",
    "jobs['Company Name'] = company_name\n",
    "jobs['Experience'] = job_experience\n",
    "jobs['Location'] = job_location\n",
    "jobs"
   ]
  },
  {
   "cell_type": "code",
   "execution_count": 51,
   "id": "a3ebe9f9",
   "metadata": {},
   "outputs": [],
   "source": [
    "#closing web driver\n",
    "driver.close()"
   ]
  },
  {
   "cell_type": "markdown",
   "id": "8681564b",
   "metadata": {},
   "source": [
    "#  Scraping First 100 sunglasses list on flipkart.com"
   ]
  },
  {
   "cell_type": "code",
   "execution_count": 79,
   "id": "4ae7ec05",
   "metadata": {},
   "outputs": [],
   "source": [
    "#connecting to webdriver\n",
    "driver = webdriver.Chrome(r\"C:\\web driver\\chromedriver\")"
   ]
  },
  {
   "cell_type": "code",
   "execution_count": 80,
   "id": "6dd2f8b5",
   "metadata": {},
   "outputs": [],
   "source": [
    "#opening flipkart in automated chrome window\n",
    "driver.get(\"http://www.flipkart.com/\")"
   ]
  },
  {
   "cell_type": "code",
   "execution_count": 81,
   "id": "f5f66a72",
   "metadata": {},
   "outputs": [],
   "source": [
    "#clicking on close button\n",
    "close_button = driver.find_element_by_xpath(\"/html/body/div[2]/div/div/button\")\n",
    "close_button.click()"
   ]
  },
  {
   "cell_type": "code",
   "execution_count": 82,
   "id": "356b886b",
   "metadata": {},
   "outputs": [],
   "source": [
    "#finding element to search product\n",
    "search_product = driver.find_element_by_class_name(\"_3704LK\")\n",
    "search_product.send_keys(\"Sunglasses\")"
   ]
  },
  {
   "cell_type": "code",
   "execution_count": 83,
   "id": "fb456413",
   "metadata": {},
   "outputs": [],
   "source": [
    "#clicking searcg button\n",
    "search_button = driver.find_element_by_xpath(\"/html/body/div[1]/div/div[1]/div[1]/div[2]/div[2]/form/div/button\")\n",
    "search_button.click()"
   ]
  },
  {
   "cell_type": "code",
   "execution_count": 88,
   "id": "bdd7f3ed",
   "metadata": {},
   "outputs": [],
   "source": [
    "brand_name =[]\n",
    "#using range function to run multiple pages\n",
    "for i in range(0,3):\n",
    "    brand = driver.find_elements_by_xpath(\"//div[@class='_2WkVRV']\")\n",
    "#now the text of the brand name is inside the tags extracted above.\n",
    "#so we will run a loop to iterate over the tags extracted above and extract the text inside them.\n",
    "    for i in brand:\n",
    "        brands = i.text\n",
    "        brand_name.append(brands)\n",
    "        if (len(brand_name)>=100):\n",
    "            break;"
   ]
  },
  {
   "cell_type": "code",
   "execution_count": 89,
   "id": "9f1cf8be",
   "metadata": {},
   "outputs": [
    {
     "data": {
      "text/plain": [
       "100"
      ]
     },
     "execution_count": 89,
     "metadata": {},
     "output_type": "execute_result"
    }
   ],
   "source": [
    "len(brand_name)"
   ]
  },
  {
   "cell_type": "code",
   "execution_count": 91,
   "id": "17d7ca31",
   "metadata": {},
   "outputs": [],
   "source": [
    "product_description = []\n",
    "#using range function to run multiple pages\n",
    "for i in range(0,3):\n",
    "    description = driver.find_elements_by_xpath(\"//div[@class='_2B099V']/a[1]\")\n",
    "#now the text of the description is inside the tags extracted above.\n",
    "#so we will run a loop to iterate over the tags extracted above and extract the text inside them.\n",
    "    for i in description:\n",
    "        descriptions = i.text\n",
    "        product_description.append(descriptions)\n",
    "        if(len(product_description)>=100):\n",
    "            break;"
   ]
  },
  {
   "cell_type": "code",
   "execution_count": 92,
   "id": "d3798cf0",
   "metadata": {},
   "outputs": [
    {
     "data": {
      "text/plain": [
       "100"
      ]
     },
     "execution_count": 92,
     "metadata": {},
     "output_type": "execute_result"
    }
   ],
   "source": [
    "len(product_description)"
   ]
  },
  {
   "cell_type": "code",
   "execution_count": 93,
   "id": "b07c5980",
   "metadata": {},
   "outputs": [],
   "source": [
    "product_price=[]\n",
    "#using range function to run multiple pages\n",
    "for i in range(0,3):\n",
    "    price = driver.find_elements_by_xpath(\"//div[@class='_30jeq3']\")\n",
    "#now the text of the product price is inside the tags extracted above.\n",
    "#so we will run a loop to iterate over the tags extracted above and extract the text inside them.    \n",
    "    for i in price[:100]:\n",
    "        price = i.text\n",
    "        product_price.append(price)\n",
    "        if(len(product_price)>=100):\n",
    "            break;"
   ]
  },
  {
   "cell_type": "code",
   "execution_count": 94,
   "id": "98dbeac3",
   "metadata": {},
   "outputs": [
    {
     "data": {
      "text/plain": [
       "100"
      ]
     },
     "execution_count": 94,
     "metadata": {},
     "output_type": "execute_result"
    }
   ],
   "source": [
    "len(product_price)"
   ]
  },
  {
   "cell_type": "code",
   "execution_count": 95,
   "id": "b9a75ea8",
   "metadata": {},
   "outputs": [],
   "source": [
    "offer = []\n",
    "#using range function to run multiple pages\n",
    "for i in range(0,3):\n",
    "    offer_tag = driver.find_elements_by_xpath(\"//div[@class='_3Ay6Sb']\")\n",
    "#now the text of the offer price is inside the tags extracted above.\n",
    "#so we will run a loop to iterate over the tags extracted above and extract the text inside them.    \n",
    "    for i in offer_tag[0:100]:\n",
    "        offers = i.text\n",
    "        offer.append(offers)\n",
    "        if(len(offer)>=100):\n",
    "            break;"
   ]
  },
  {
   "cell_type": "code",
   "execution_count": 96,
   "id": "33673b86",
   "metadata": {},
   "outputs": [
    {
     "data": {
      "text/plain": [
       "100"
      ]
     },
     "execution_count": 96,
     "metadata": {},
     "output_type": "execute_result"
    }
   ],
   "source": [
    "len(offer)"
   ]
  },
  {
   "cell_type": "code",
   "execution_count": 97,
   "id": "9b2c64bd",
   "metadata": {},
   "outputs": [],
   "source": [
    "#dataframe\n",
    "product = pd.DataFrame({})\n",
    "product['brand name'] = brand_name\n",
    "product['product description'] = product_description\n",
    "product['product price'] = product_price\n",
    "product['offer'] = offer"
   ]
  },
  {
   "cell_type": "code",
   "execution_count": 98,
   "id": "6b9cb7cd",
   "metadata": {},
   "outputs": [
    {
     "data": {
      "text/html": [
       "<div>\n",
       "<style scoped>\n",
       "    .dataframe tbody tr th:only-of-type {\n",
       "        vertical-align: middle;\n",
       "    }\n",
       "\n",
       "    .dataframe tbody tr th {\n",
       "        vertical-align: top;\n",
       "    }\n",
       "\n",
       "    .dataframe thead th {\n",
       "        text-align: right;\n",
       "    }\n",
       "</style>\n",
       "<table border=\"1\" class=\"dataframe\">\n",
       "  <thead>\n",
       "    <tr style=\"text-align: right;\">\n",
       "      <th></th>\n",
       "      <th>brand name</th>\n",
       "      <th>product description</th>\n",
       "      <th>product price</th>\n",
       "      <th>offer</th>\n",
       "    </tr>\n",
       "  </thead>\n",
       "  <tbody>\n",
       "    <tr>\n",
       "      <th>0</th>\n",
       "      <td>Arnette</td>\n",
       "      <td>Others Rectangular Sunglasses (56)</td>\n",
       "      <td>₹4,199</td>\n",
       "      <td>49% off</td>\n",
       "    </tr>\n",
       "    <tr>\n",
       "      <th>1</th>\n",
       "      <td>BAJERO</td>\n",
       "      <td>UV Protection, Polarized, Riding Glasses Retro...</td>\n",
       "      <td>₹1,273</td>\n",
       "      <td>84% off</td>\n",
       "    </tr>\n",
       "    <tr>\n",
       "      <th>2</th>\n",
       "      <td>Fastrack</td>\n",
       "      <td>UV Protection Wayfarer Sunglasses (Free Size)</td>\n",
       "      <td>₹719</td>\n",
       "      <td>20% off</td>\n",
       "    </tr>\n",
       "    <tr>\n",
       "      <th>3</th>\n",
       "      <td>Fastrack</td>\n",
       "      <td>UV Protection Rectangular Sunglasses (Free Size)</td>\n",
       "      <td>₹639</td>\n",
       "      <td>20% off</td>\n",
       "    </tr>\n",
       "    <tr>\n",
       "      <th>4</th>\n",
       "      <td>Fastrack</td>\n",
       "      <td>UV Protection Aviator Sunglasses (Free Size)</td>\n",
       "      <td>₹639</td>\n",
       "      <td>20% off</td>\n",
       "    </tr>\n",
       "    <tr>\n",
       "      <th>...</th>\n",
       "      <td>...</td>\n",
       "      <td>...</td>\n",
       "      <td>...</td>\n",
       "      <td>...</td>\n",
       "    </tr>\n",
       "    <tr>\n",
       "      <th>95</th>\n",
       "      <td>Singco India</td>\n",
       "      <td>Gradient, Toughened Glass Lens, UV Protection ...</td>\n",
       "      <td>₹664</td>\n",
       "      <td>77% off</td>\n",
       "    </tr>\n",
       "    <tr>\n",
       "      <th>96</th>\n",
       "      <td>SRPM</td>\n",
       "      <td>UV Protection Wayfarer Sunglasses (50)</td>\n",
       "      <td>₹249</td>\n",
       "      <td>80% off</td>\n",
       "    </tr>\n",
       "    <tr>\n",
       "      <th>97</th>\n",
       "      <td>Fastrack</td>\n",
       "      <td>Gradient, UV Protection Wayfarer Sunglasses (F...</td>\n",
       "      <td>₹639</td>\n",
       "      <td>20% off</td>\n",
       "    </tr>\n",
       "    <tr>\n",
       "      <th>98</th>\n",
       "      <td>Fastrack</td>\n",
       "      <td>UV Protection Aviator Sunglasses (58)</td>\n",
       "      <td>₹1,099</td>\n",
       "      <td>15% off</td>\n",
       "    </tr>\n",
       "    <tr>\n",
       "      <th>99</th>\n",
       "      <td>Arnette</td>\n",
       "      <td>Mirrored Rectangular Sunglasses (63)</td>\n",
       "      <td>₹3,449</td>\n",
       "      <td>49% off</td>\n",
       "    </tr>\n",
       "  </tbody>\n",
       "</table>\n",
       "<p>100 rows × 4 columns</p>\n",
       "</div>"
      ],
      "text/plain": [
       "      brand name                                product description  \\\n",
       "0        Arnette                 Others Rectangular Sunglasses (56)   \n",
       "1         BAJERO  UV Protection, Polarized, Riding Glasses Retro...   \n",
       "2       Fastrack      UV Protection Wayfarer Sunglasses (Free Size)   \n",
       "3       Fastrack   UV Protection Rectangular Sunglasses (Free Size)   \n",
       "4       Fastrack       UV Protection Aviator Sunglasses (Free Size)   \n",
       "..           ...                                                ...   \n",
       "95  Singco India  Gradient, Toughened Glass Lens, UV Protection ...   \n",
       "96          SRPM             UV Protection Wayfarer Sunglasses (50)   \n",
       "97      Fastrack  Gradient, UV Protection Wayfarer Sunglasses (F...   \n",
       "98      Fastrack              UV Protection Aviator Sunglasses (58)   \n",
       "99       Arnette               Mirrored Rectangular Sunglasses (63)   \n",
       "\n",
       "   product price    offer  \n",
       "0         ₹4,199  49% off  \n",
       "1         ₹1,273  84% off  \n",
       "2           ₹719  20% off  \n",
       "3           ₹639  20% off  \n",
       "4           ₹639  20% off  \n",
       "..           ...      ...  \n",
       "95          ₹664  77% off  \n",
       "96          ₹249  80% off  \n",
       "97          ₹639  20% off  \n",
       "98        ₹1,099  15% off  \n",
       "99        ₹3,449  49% off  \n",
       "\n",
       "[100 rows x 4 columns]"
      ]
     },
     "execution_count": 98,
     "metadata": {},
     "output_type": "execute_result"
    }
   ],
   "source": [
    "product"
   ]
  },
  {
   "cell_type": "code",
   "execution_count": 64,
   "id": "816a9538",
   "metadata": {},
   "outputs": [],
   "source": [
    "driver.close()"
   ]
  },
  {
   "cell_type": "markdown",
   "id": "04c09748",
   "metadata": {},
   "source": [
    "# Scraping first 100 reviews of iphone--flipkart "
   ]
  },
  {
   "cell_type": "code",
   "execution_count": 303,
   "id": "13a7a53f",
   "metadata": {},
   "outputs": [],
   "source": [
    "#opening web driver\n",
    "driver = webdriver.Chrome(r\"C:\\web driver\\chromedriver\")"
   ]
  },
  {
   "cell_type": "code",
   "execution_count": 304,
   "id": "9ba70773",
   "metadata": {},
   "outputs": [],
   "source": [
    "#opening flipkart in automated chrome window\n",
    "driver.get(\"https://www.flipkart.com/apple-iphone-11-black-64-gb-includes- earpods-power\u0002adapter/p/itm0f37c2240b217?pid=MOBFKCTSVZAXUHGR&lid=LSTMOBFKCTSVZAXUHGREPBFGI&marketplace.\")"
   ]
  },
  {
   "cell_type": "code",
   "execution_count": 305,
   "id": "75b6b61e",
   "metadata": {},
   "outputs": [],
   "source": [
    "#clicking on close button to close login page\n",
    "button = driver.find_element_by_xpath('//*[@id=\"container\"]/div/div[3]/div[1]/div[2]/div[9]/div/div/div[5]/div/a/div/span')\n",
    "button.click()"
   ]
  },
  {
   "cell_type": "code",
   "execution_count": 306,
   "id": "95517090",
   "metadata": {},
   "outputs": [],
   "source": [
    "ratings=[]\n",
    "#using range function to run multiple pages\n",
    "for i in range(0,10):\n",
    "    rating = driver.find_elements_by_xpath(\"//div[@class='_3LWZlK _1BLPMq']\")\n",
    "#now the text of the ratings is inside the tags extracted above.\n",
    "#so we will run a loop to iterate over the tags extracted above and extract the text inside them.    \n",
    "    for i in rating[0:100]:\n",
    "        rating_t = i.text\n",
    "        ratings.append(rating_t)\n",
    "#clicking on next button        \n",
    "    next_button = driver.find_element_by_xpath(\"/html/body/div[1]/div/div[3]/div/div/div[2]/div[13]/div/div/nav/a[11]\")\n",
    "    next_button.click()\n",
    "    time.sleep(5)        "
   ]
  },
  {
   "cell_type": "code",
   "execution_count": 307,
   "id": "dc481635",
   "metadata": {},
   "outputs": [
    {
     "data": {
      "text/plain": [
       "100"
      ]
     },
     "execution_count": 307,
     "metadata": {},
     "output_type": "execute_result"
    }
   ],
   "source": [
    "len(ratings)"
   ]
  },
  {
   "cell_type": "code",
   "execution_count": 308,
   "id": "faf5b251",
   "metadata": {},
   "outputs": [],
   "source": [
    "review_summary = []\n",
    "#using range function to run multiple pages\n",
    "for i in range(0,10):\n",
    "    review = driver.find_elements_by_xpath(\"//p[@class='_2-N8zT']\")\n",
    "#now the text of the review_summary is inside the tags extracted above.\n",
    "#so we will run a loop to iterate over the tags extracted above and extract the text inside them.    \n",
    "    for i in review[0:100]:\n",
    "        reviews = i.text\n",
    "        review_summary.append(reviews)\n",
    "#click on next button        \n",
    "    next_button = driver.find_element_by_xpath(\"/html/body/div[1]/div/div[3]/div/div/div[2]/div[13]/div/div/nav/a[11]\")\n",
    "    next_button.click()\n",
    "    time.sleep(5)"
   ]
  },
  {
   "cell_type": "code",
   "execution_count": 309,
   "id": "a765759e",
   "metadata": {},
   "outputs": [
    {
     "data": {
      "text/plain": [
       "100"
      ]
     },
     "execution_count": 309,
     "metadata": {},
     "output_type": "execute_result"
    }
   ],
   "source": [
    "len(review_summary)"
   ]
  },
  {
   "cell_type": "code",
   "execution_count": 311,
   "id": "281e375d",
   "metadata": {},
   "outputs": [],
   "source": [
    "full_review = []\n",
    "for i in range(0,10):\n",
    "    full = driver.find_elements_by_xpath(\"//div[@class='t-ZTKy']\")\n",
    "#now the text of the full_review is inside the tags extracted above.\n",
    "#so we will run a loop to iterate over the tags extracted above and extract the text inside them.   \n",
    "    for i in full[:100]:\n",
    "        full_reviews = i.text\n",
    "        full_review.append(full_reviews)\n",
    "#click on next button        \n",
    "    next_button = driver.find_element_by_xpath(\"/html/body/div[1]/div/div[3]/div/div/div[2]/div[13]/div/div/nav/a[11]\")\n",
    "    next_button.click()\n",
    "    time.sleep(5)"
   ]
  },
  {
   "cell_type": "code",
   "execution_count": 313,
   "id": "e595ab90",
   "metadata": {},
   "outputs": [
    {
     "data": {
      "text/plain": [
       "100"
      ]
     },
     "execution_count": 313,
     "metadata": {},
     "output_type": "execute_result"
    }
   ],
   "source": [
    "len(full_review)"
   ]
  },
  {
   "cell_type": "code",
   "execution_count": 314,
   "id": "853c1e44",
   "metadata": {},
   "outputs": [],
   "source": [
    "#dataframe\n",
    "reviews = pd.DataFrame({})\n",
    "reviews['Rating'] = ratings\n",
    "reviews['Review Summary'] = review_summary\n",
    "reviews['Full Review'] = full_review"
   ]
  },
  {
   "cell_type": "code",
   "execution_count": 315,
   "id": "cf6ca2b4",
   "metadata": {},
   "outputs": [
    {
     "data": {
      "text/html": [
       "<div>\n",
       "<style scoped>\n",
       "    .dataframe tbody tr th:only-of-type {\n",
       "        vertical-align: middle;\n",
       "    }\n",
       "\n",
       "    .dataframe tbody tr th {\n",
       "        vertical-align: top;\n",
       "    }\n",
       "\n",
       "    .dataframe thead th {\n",
       "        text-align: right;\n",
       "    }\n",
       "</style>\n",
       "<table border=\"1\" class=\"dataframe\">\n",
       "  <thead>\n",
       "    <tr style=\"text-align: right;\">\n",
       "      <th></th>\n",
       "      <th>Rating</th>\n",
       "      <th>Review Summary</th>\n",
       "      <th>Full Review</th>\n",
       "    </tr>\n",
       "  </thead>\n",
       "  <tbody>\n",
       "    <tr>\n",
       "      <th>0</th>\n",
       "      <td>5</td>\n",
       "      <td>Pretty good</td>\n",
       "      <td>The Best Phone for the Money\\n\\nThe iPhone 11 ...</td>\n",
       "    </tr>\n",
       "    <tr>\n",
       "      <th>1</th>\n",
       "      <td>5</td>\n",
       "      <td>Excellent</td>\n",
       "      <td>Really satisfied with the Product I received.....</td>\n",
       "    </tr>\n",
       "    <tr>\n",
       "      <th>2</th>\n",
       "      <td>5</td>\n",
       "      <td>Super!</td>\n",
       "      <td>Great iPhone very snappy experience as apple k...</td>\n",
       "    </tr>\n",
       "    <tr>\n",
       "      <th>3</th>\n",
       "      <td>5</td>\n",
       "      <td>Best in the market!</td>\n",
       "      <td>Amazing phone with great cameras and better ba...</td>\n",
       "    </tr>\n",
       "    <tr>\n",
       "      <th>4</th>\n",
       "      <td>5</td>\n",
       "      <td>Fabulous!</td>\n",
       "      <td>This is my first iOS phone. I am very happy wi...</td>\n",
       "    </tr>\n",
       "    <tr>\n",
       "      <th>...</th>\n",
       "      <td>...</td>\n",
       "      <td>...</td>\n",
       "      <td>...</td>\n",
       "    </tr>\n",
       "    <tr>\n",
       "      <th>95</th>\n",
       "      <td>4</td>\n",
       "      <td>Nice</td>\n",
       "      <td>Works seamlessly, I get an avg 1.5 days batter...</td>\n",
       "    </tr>\n",
       "    <tr>\n",
       "      <th>96</th>\n",
       "      <td>5</td>\n",
       "      <td>Simply awesome</td>\n",
       "      <td>I was using iPhone 6s from a long time and I’v...</td>\n",
       "    </tr>\n",
       "    <tr>\n",
       "      <th>97</th>\n",
       "      <td>5</td>\n",
       "      <td>Excellent</td>\n",
       "      <td>Osm &amp; fabulous phone..just upgraded from iPhon...</td>\n",
       "    </tr>\n",
       "    <tr>\n",
       "      <th>98</th>\n",
       "      <td>5</td>\n",
       "      <td>Mind-blowing purchase</td>\n",
       "      <td>Thanx Flipkart giving fast delivery with genui...</td>\n",
       "    </tr>\n",
       "    <tr>\n",
       "      <th>99</th>\n",
       "      <td>5</td>\n",
       "      <td>Highly recommended</td>\n",
       "      <td>Just the display held it from being a 5star ph...</td>\n",
       "    </tr>\n",
       "  </tbody>\n",
       "</table>\n",
       "<p>100 rows × 3 columns</p>\n",
       "</div>"
      ],
      "text/plain": [
       "   Rating         Review Summary  \\\n",
       "0       5            Pretty good   \n",
       "1       5              Excellent   \n",
       "2       5                 Super!   \n",
       "3       5    Best in the market!   \n",
       "4       5              Fabulous!   \n",
       "..    ...                    ...   \n",
       "95      4                   Nice   \n",
       "96      5         Simply awesome   \n",
       "97      5              Excellent   \n",
       "98      5  Mind-blowing purchase   \n",
       "99      5     Highly recommended   \n",
       "\n",
       "                                          Full Review  \n",
       "0   The Best Phone for the Money\\n\\nThe iPhone 11 ...  \n",
       "1   Really satisfied with the Product I received.....  \n",
       "2   Great iPhone very snappy experience as apple k...  \n",
       "3   Amazing phone with great cameras and better ba...  \n",
       "4   This is my first iOS phone. I am very happy wi...  \n",
       "..                                                ...  \n",
       "95  Works seamlessly, I get an avg 1.5 days batter...  \n",
       "96  I was using iPhone 6s from a long time and I’v...  \n",
       "97  Osm & fabulous phone..just upgraded from iPhon...  \n",
       "98  Thanx Flipkart giving fast delivery with genui...  \n",
       "99  Just the display held it from being a 5star ph...  \n",
       "\n",
       "[100 rows x 3 columns]"
      ]
     },
     "execution_count": 315,
     "metadata": {},
     "output_type": "execute_result"
    }
   ],
   "source": [
    "reviews"
   ]
  },
  {
   "cell_type": "code",
   "execution_count": 316,
   "id": "c2af6208",
   "metadata": {},
   "outputs": [],
   "source": [
    "#close driver\n",
    "driver.close()"
   ]
  },
  {
   "cell_type": "markdown",
   "id": "f7ff38c6",
   "metadata": {},
   "source": [
    "# Scraping First 100 Sneakers on Flipkart"
   ]
  },
  {
   "cell_type": "code",
   "execution_count": 4,
   "id": "cd1eb72f",
   "metadata": {},
   "outputs": [],
   "source": [
    "#opening web driver\n",
    "driver = webdriver.Chrome(\"C:\\web driver\\chromedriver\")"
   ]
  },
  {
   "cell_type": "code",
   "execution_count": 5,
   "id": "fa1a01e4",
   "metadata": {},
   "outputs": [],
   "source": [
    "#opening flipkart on automated chrome window\n",
    "driver.get(\"http://www.flipkart.com/\")"
   ]
  },
  {
   "cell_type": "code",
   "execution_count": 6,
   "id": "c3c5abd7",
   "metadata": {},
   "outputs": [],
   "source": [
    "#enter sneakers in the search bar\n",
    "search_product = driver.find_element_by_class_name(\"_3704LK\")\n",
    "search_product.send_keys(\"Sneakers\")"
   ]
  },
  {
   "cell_type": "code",
   "execution_count": 7,
   "id": "96d4877b",
   "metadata": {},
   "outputs": [],
   "source": [
    "#click on close to close login page\n",
    "close_button = driver.find_element_by_xpath('/html/body/div[2]/div/div/button')\n",
    "close_button.click()"
   ]
  },
  {
   "cell_type": "code",
   "execution_count": 8,
   "id": "cc937960",
   "metadata": {},
   "outputs": [],
   "source": [
    "#click on search button\n",
    "search_button = driver.find_element_by_xpath(\"/html/body/div[1]/div/div[1]/div[1]/div[2]/div[2]/form/div/button\")\n",
    "search_button.click()"
   ]
  },
  {
   "cell_type": "code",
   "execution_count": 9,
   "id": "a4565084",
   "metadata": {},
   "outputs": [],
   "source": [
    "brand = []\n",
    "#range function is used to run multiple pages\n",
    "for i in range(0,3):\n",
    "    brands = driver.find_elements_by_xpath(\"//div[@class='_2WkVRV']\")\n",
    "#now the text of the brand is inside the tags extracted above.\n",
    "#so we will run a loop to iterate over the tags extracted above and extract the text inside them.    \n",
    "    for i in brands[0:100]:\n",
    "        brand_t = i.text\n",
    "        brand.append(brand_t)\n",
    "        if(len(brand)>=100):\n",
    "            break;\n",
    "#click on next page\n",
    "    next_button = driver.find_element_by_xpath(\"/html/body/div[1]/div/div[3]/div[1]/div[2]/div[12]/div/div/nav/a[11]\")\n",
    "    next_button.click()\n",
    "    time.sleep(5)\n",
    "    "
   ]
  },
  {
   "cell_type": "code",
   "execution_count": 10,
   "id": "081de595",
   "metadata": {},
   "outputs": [
    {
     "data": {
      "text/plain": [
       "100"
      ]
     },
     "execution_count": 10,
     "metadata": {},
     "output_type": "execute_result"
    }
   ],
   "source": [
    "len(brand)"
   ]
  },
  {
   "cell_type": "code",
   "execution_count": 13,
   "id": "cec6716c",
   "metadata": {},
   "outputs": [],
   "source": [
    "product_description = []\n",
    "#range function is used to run multiple pages\n",
    "for i in range(0,11):\n",
    "    description = driver.find_elements_by_xpath(\"//a[@class='IRpwTa _2-ICcC']\")\n",
    "#now the text of the product_description is inside the tags extracted above.\n",
    "#so we will run a loop to iterate over the tags extracted above and extract the text inside them.\n",
    "    for i in description:\n",
    "        p_description = i.text\n",
    "        product_description.append(p_description)\n",
    "        if(len(product_description)>=100):\n",
    "            break;\n",
    "#click on next page\n",
    "    next_button = driver.find_element_by_xpath(\"/html/body/div[1]/div/div[3]/div[1]/div[2]/div[12]/div/div/nav/a[11]\")\n",
    "    next_button.click()\n",
    "    time.sleep(5)"
   ]
  },
  {
   "cell_type": "code",
   "execution_count": 14,
   "id": "38e61888",
   "metadata": {},
   "outputs": [
    {
     "data": {
      "text/plain": [
       "100"
      ]
     },
     "execution_count": 14,
     "metadata": {},
     "output_type": "execute_result"
    }
   ],
   "source": [
    "len(product_description)"
   ]
  },
  {
   "cell_type": "code",
   "execution_count": 15,
   "id": "c1414074",
   "metadata": {},
   "outputs": [],
   "source": [
    "product_price = []\n",
    "#range function is used to run multiple pages\n",
    "for i in range(0,3):\n",
    "    prices = driver.find_elements_by_xpath(\"//div[@class='_30jeq3']\")\n",
    "#now the text of the product price is inside the tags extracted above.\n",
    "#so we will run a loop to iterate over the tags extracted above and extract the text inside them.    \n",
    "    for i in prices[0:100]:\n",
    "        price = i.text\n",
    "        product_price.append(price)\n",
    "        if(len(product_price)>=100):\n",
    "            break;\n",
    "#click on next page\n",
    "    next_button = driver.find_element_by_xpath(\"/html/body/div[1]/div/div[3]/div[1]/div[2]/div[12]/div/div/nav/a[11]\")\n",
    "    next_button.click()\n",
    "    "
   ]
  },
  {
   "cell_type": "code",
   "execution_count": 16,
   "id": "26dfbd4e",
   "metadata": {},
   "outputs": [
    {
     "data": {
      "text/plain": [
       "100"
      ]
     },
     "execution_count": 16,
     "metadata": {},
     "output_type": "execute_result"
    }
   ],
   "source": [
    "len(product_price)"
   ]
  },
  {
   "cell_type": "code",
   "execution_count": 24,
   "id": "e2e67559",
   "metadata": {},
   "outputs": [],
   "source": [
    "#dataframe\n",
    "product = pd.DataFrame({})\n",
    "product['brand'] = brand\n",
    "product['product description'] = product_description\n",
    "product['product price'] = product_price"
   ]
  },
  {
   "cell_type": "code",
   "execution_count": 25,
   "id": "bf78091a",
   "metadata": {},
   "outputs": [
    {
     "data": {
      "text/html": [
       "<div>\n",
       "<style scoped>\n",
       "    .dataframe tbody tr th:only-of-type {\n",
       "        vertical-align: middle;\n",
       "    }\n",
       "\n",
       "    .dataframe tbody tr th {\n",
       "        vertical-align: top;\n",
       "    }\n",
       "\n",
       "    .dataframe thead th {\n",
       "        text-align: right;\n",
       "    }\n",
       "</style>\n",
       "<table border=\"1\" class=\"dataframe\">\n",
       "  <thead>\n",
       "    <tr style=\"text-align: right;\">\n",
       "      <th></th>\n",
       "      <th>brand</th>\n",
       "      <th>product description</th>\n",
       "      <th>product price</th>\n",
       "    </tr>\n",
       "  </thead>\n",
       "  <tbody>\n",
       "    <tr>\n",
       "      <th>0</th>\n",
       "      <td>Roadster</td>\n",
       "      <td>Sneakers For Men</td>\n",
       "      <td>₹2,887</td>\n",
       "    </tr>\n",
       "    <tr>\n",
       "      <th>1</th>\n",
       "      <td>RapidBox</td>\n",
       "      <td>NY 92 STRIPES Sneakers For Men</td>\n",
       "      <td>₹769</td>\n",
       "    </tr>\n",
       "    <tr>\n",
       "      <th>2</th>\n",
       "      <td>URBANBOX</td>\n",
       "      <td>Men's Streetwear Pro Style High Top Platform F...</td>\n",
       "      <td>₹474</td>\n",
       "    </tr>\n",
       "    <tr>\n",
       "      <th>3</th>\n",
       "      <td>BRUTON</td>\n",
       "      <td>Canvas Sneaker Sneakers For Men</td>\n",
       "      <td>₹749</td>\n",
       "    </tr>\n",
       "    <tr>\n",
       "      <th>4</th>\n",
       "      <td>corsac</td>\n",
       "      <td>CPM-1193 Sneakers For Men</td>\n",
       "      <td>₹1,648</td>\n",
       "    </tr>\n",
       "    <tr>\n",
       "      <th>...</th>\n",
       "      <td>...</td>\n",
       "      <td>...</td>\n",
       "      <td>...</td>\n",
       "    </tr>\n",
       "    <tr>\n",
       "      <th>95</th>\n",
       "      <td>CAMPUS</td>\n",
       "      <td>Sneakers For Men</td>\n",
       "      <td>₹439</td>\n",
       "    </tr>\n",
       "    <tr>\n",
       "      <th>96</th>\n",
       "      <td>PUMA</td>\n",
       "      <td>Sneakers For Men</td>\n",
       "      <td>₹1,650</td>\n",
       "    </tr>\n",
       "    <tr>\n",
       "      <th>97</th>\n",
       "      <td>CALCADOS</td>\n",
       "      <td>white sport shoes for mens Sneakers For Men</td>\n",
       "      <td>₹459</td>\n",
       "    </tr>\n",
       "    <tr>\n",
       "      <th>98</th>\n",
       "      <td>bacca bucci</td>\n",
       "      <td>RC3513 001 Sneakers For Men</td>\n",
       "      <td>₹1,912</td>\n",
       "    </tr>\n",
       "    <tr>\n",
       "      <th>99</th>\n",
       "      <td>HRX by Hrithik Roshan</td>\n",
       "      <td>White Sneaker For Men Sneakers For Men</td>\n",
       "      <td>₹859</td>\n",
       "    </tr>\n",
       "  </tbody>\n",
       "</table>\n",
       "<p>100 rows × 3 columns</p>\n",
       "</div>"
      ],
      "text/plain": [
       "                    brand                                product description  \\\n",
       "0                Roadster                                   Sneakers For Men   \n",
       "1                RapidBox                     NY 92 STRIPES Sneakers For Men   \n",
       "2                URBANBOX  Men's Streetwear Pro Style High Top Platform F...   \n",
       "3                  BRUTON                    Canvas Sneaker Sneakers For Men   \n",
       "4                  corsac                          CPM-1193 Sneakers For Men   \n",
       "..                    ...                                                ...   \n",
       "95                 CAMPUS                                   Sneakers For Men   \n",
       "96                   PUMA                                   Sneakers For Men   \n",
       "97               CALCADOS        white sport shoes for mens Sneakers For Men   \n",
       "98            bacca bucci                        RC3513 001 Sneakers For Men   \n",
       "99  HRX by Hrithik Roshan             White Sneaker For Men Sneakers For Men   \n",
       "\n",
       "   product price  \n",
       "0         ₹2,887  \n",
       "1           ₹769  \n",
       "2           ₹474  \n",
       "3           ₹749  \n",
       "4         ₹1,648  \n",
       "..           ...  \n",
       "95          ₹439  \n",
       "96        ₹1,650  \n",
       "97          ₹459  \n",
       "98        ₹1,912  \n",
       "99          ₹859  \n",
       "\n",
       "[100 rows x 3 columns]"
      ]
     },
     "execution_count": 25,
     "metadata": {},
     "output_type": "execute_result"
    }
   ],
   "source": [
    "product"
   ]
  },
  {
   "cell_type": "code",
   "execution_count": 26,
   "id": "d4d16ac4",
   "metadata": {},
   "outputs": [],
   "source": [
    "#closing webdriver\n",
    "driver.close()"
   ]
  },
  {
   "cell_type": "markdown",
   "id": "a1f7a202",
   "metadata": {},
   "source": [
    "# Scraping first 100 shoes with black color and price range 7.4k to 14k -- Myntra"
   ]
  },
  {
   "cell_type": "code",
   "execution_count": 27,
   "id": "250e11b8",
   "metadata": {},
   "outputs": [],
   "source": [
    "#opening webdriver\n",
    "driver = webdriver.Chrome(\"C:\\web driver\\chromedriver\")"
   ]
  },
  {
   "cell_type": "code",
   "execution_count": 28,
   "id": "0d8409e5",
   "metadata": {},
   "outputs": [],
   "source": [
    "#opening myntra on automated chrome window\n",
    "driver.get(\"http://www.myntra.com/shoes\")"
   ]
  },
  {
   "cell_type": "code",
   "execution_count": 31,
   "id": "d0c1ac80",
   "metadata": {},
   "outputs": [],
   "source": [
    "#filter price option\n",
    "search_price = driver.find_element_by_xpath(\"/html/body/div[2]/div/div[1]/main/div[3]/div[1]/section/div/div[5]/ul/li[2]/label\")\n",
    "search_price.click()"
   ]
  },
  {
   "cell_type": "code",
   "execution_count": 30,
   "id": "b9b8d1cd",
   "metadata": {},
   "outputs": [],
   "source": [
    "#filter color option\n",
    "search_color = driver.find_element_by_xpath(\"/html/body/div[2]/div/div[1]/main/div[3]/div[1]/section/div/div[6]/ul/li[1]/label\")\n",
    "search_color.click()"
   ]
  },
  {
   "cell_type": "code",
   "execution_count": 33,
   "id": "7255b7ef",
   "metadata": {},
   "outputs": [],
   "source": [
    "shoe_brand = []\n",
    "#range function is used to run multiple pages\n",
    "for i in range(0,2):\n",
    "    brand = driver.find_elements_by_xpath(\"//h3[@class='product-brand']\")\n",
    "#now the text of the shoe_brand is inside the tags extracted above.\n",
    "#so we will run a loop to iterate over the tags extracted above and extract the text inside them.\n",
    "    for i in brand[0:100]:\n",
    "        brands = i.text\n",
    "        shoe_brand.append(brands)\n",
    "#click on next button\n",
    "    next_button = driver.find_element_by_xpath(\"/html/body/div[2]/div/div[1]/main/div[3]/div[2]/div/div[2]/section/div[2]/ul/li[12]\")\n",
    "    next_button.click()\n",
    "    time.sleep(5)"
   ]
  },
  {
   "cell_type": "code",
   "execution_count": 34,
   "id": "c8c4dfc0",
   "metadata": {},
   "outputs": [
    {
     "data": {
      "text/plain": [
       "100"
      ]
     },
     "execution_count": 34,
     "metadata": {},
     "output_type": "execute_result"
    }
   ],
   "source": [
    "len(shoe_brand)"
   ]
  },
  {
   "cell_type": "code",
   "execution_count": 35,
   "id": "2603a53c",
   "metadata": {},
   "outputs": [],
   "source": [
    "shoe_description = []\n",
    "#range function is used to run multiple pages\n",
    "for i in range(0,2):\n",
    "    description = driver.find_elements_by_xpath(\"//h4[@class='product-product']\")\n",
    "#now the text of the shoe_description is inside the tags extracted above.\n",
    "#so we will run a loop to iterate over the tags extracted above and extract the text inside them.\n",
    "    for i in description[0:100]:\n",
    "        descriptions = i.text\n",
    "        shoe_description.append(descriptions)\n",
    "#click on next button\n",
    "    next_button = driver.find_element_by_xpath(\"/html/body/div[2]/div/div[1]/main/div[3]/div[2]/div/div[2]/section/div[2]/ul/li[12]\")\n",
    "    next_button.click()\n",
    "    time.sleep(5)"
   ]
  },
  {
   "cell_type": "code",
   "execution_count": 36,
   "id": "1c0ec033",
   "metadata": {},
   "outputs": [
    {
     "data": {
      "text/plain": [
       "100"
      ]
     },
     "execution_count": 36,
     "metadata": {},
     "output_type": "execute_result"
    }
   ],
   "source": [
    "len(shoe_description)"
   ]
  },
  {
   "cell_type": "code",
   "execution_count": 38,
   "id": "8d592323",
   "metadata": {},
   "outputs": [],
   "source": [
    "shoe_price = []\n",
    "for i in range(0,2):\n",
    "    price = driver.find_elements_by_xpath(\"//div[@class='product-price']\")\n",
    "#now the text of the shoe_price is inside the tags extracted above.\n",
    "#so we will run a loop to iterate over the tags extracted above and extract the text inside them.\n",
    "    for i in price[0:100]:\n",
    "        prices = i.text\n",
    "        shoe_price.append(prices)\n",
    "#click on next button\n",
    "    next_button = driver.find_element_by_xpath(\"/html/body/div[2]/div/div[1]/main/div[3]/div[2]/div/div[2]/section/div[2]/ul/li[12]\")\n",
    "    next_button.click()\n",
    "    time.sleep(5)"
   ]
  },
  {
   "cell_type": "code",
   "execution_count": 39,
   "id": "03cff954",
   "metadata": {},
   "outputs": [
    {
     "data": {
      "text/plain": [
       "100"
      ]
     },
     "execution_count": 39,
     "metadata": {},
     "output_type": "execute_result"
    }
   ],
   "source": [
    "len(shoe_price)"
   ]
  },
  {
   "cell_type": "code",
   "execution_count": 40,
   "id": "c7435768",
   "metadata": {},
   "outputs": [
    {
     "data": {
      "text/html": [
       "<div>\n",
       "<style scoped>\n",
       "    .dataframe tbody tr th:only-of-type {\n",
       "        vertical-align: middle;\n",
       "    }\n",
       "\n",
       "    .dataframe tbody tr th {\n",
       "        vertical-align: top;\n",
       "    }\n",
       "\n",
       "    .dataframe thead th {\n",
       "        text-align: right;\n",
       "    }\n",
       "</style>\n",
       "<table border=\"1\" class=\"dataframe\">\n",
       "  <thead>\n",
       "    <tr style=\"text-align: right;\">\n",
       "      <th></th>\n",
       "      <th>Brand</th>\n",
       "      <th>Description</th>\n",
       "      <th>Price</th>\n",
       "    </tr>\n",
       "  </thead>\n",
       "  <tbody>\n",
       "    <tr>\n",
       "      <th>0</th>\n",
       "      <td>ALDO</td>\n",
       "      <td>Men Woven Design Sneakers</td>\n",
       "      <td>Rs. 13999</td>\n",
       "    </tr>\n",
       "    <tr>\n",
       "      <th>1</th>\n",
       "      <td>ALDO</td>\n",
       "      <td>Men Leather Driving Shoes</td>\n",
       "      <td>Rs. 12999</td>\n",
       "    </tr>\n",
       "    <tr>\n",
       "      <th>2</th>\n",
       "      <td>UNDER ARMOUR</td>\n",
       "      <td>Men Vantage 2 Running Shoes</td>\n",
       "      <td>Rs. 7999</td>\n",
       "    </tr>\n",
       "    <tr>\n",
       "      <th>3</th>\n",
       "      <td>UNDER ARMOUR</td>\n",
       "      <td>Men Charged Rouge 3 Run Shoes</td>\n",
       "      <td>Rs. 7999</td>\n",
       "    </tr>\n",
       "    <tr>\n",
       "      <th>4</th>\n",
       "      <td>ALDO</td>\n",
       "      <td>Men Leather Loafers</td>\n",
       "      <td>Rs. 12999</td>\n",
       "    </tr>\n",
       "    <tr>\n",
       "      <th>...</th>\n",
       "      <td>...</td>\n",
       "      <td>...</td>\n",
       "      <td>...</td>\n",
       "    </tr>\n",
       "    <tr>\n",
       "      <th>95</th>\n",
       "      <td>UNDER ARMOUR</td>\n",
       "      <td>Women Charged Breeze Running</td>\n",
       "      <td>Rs. 13990</td>\n",
       "    </tr>\n",
       "    <tr>\n",
       "      <th>96</th>\n",
       "      <td>Bugatti</td>\n",
       "      <td>Men Black Formal Derby Shoes</td>\n",
       "      <td>Rs. 8999</td>\n",
       "    </tr>\n",
       "    <tr>\n",
       "      <th>97</th>\n",
       "      <td>Clarks</td>\n",
       "      <td>Men Leather Derbys</td>\n",
       "      <td>Rs. 9499</td>\n",
       "    </tr>\n",
       "    <tr>\n",
       "      <th>98</th>\n",
       "      <td>Saint G</td>\n",
       "      <td>Men Leather Chelsea Boots</td>\n",
       "      <td>Rs. 8999</td>\n",
       "    </tr>\n",
       "    <tr>\n",
       "      <th>99</th>\n",
       "      <td>J.FONTINI</td>\n",
       "      <td>Men Black Leather Loafers</td>\n",
       "      <td>Rs. 11999</td>\n",
       "    </tr>\n",
       "  </tbody>\n",
       "</table>\n",
       "<p>100 rows × 3 columns</p>\n",
       "</div>"
      ],
      "text/plain": [
       "           Brand                    Description      Price\n",
       "0           ALDO      Men Woven Design Sneakers  Rs. 13999\n",
       "1           ALDO      Men Leather Driving Shoes  Rs. 12999\n",
       "2   UNDER ARMOUR    Men Vantage 2 Running Shoes   Rs. 7999\n",
       "3   UNDER ARMOUR  Men Charged Rouge 3 Run Shoes   Rs. 7999\n",
       "4           ALDO            Men Leather Loafers  Rs. 12999\n",
       "..           ...                            ...        ...\n",
       "95  UNDER ARMOUR   Women Charged Breeze Running  Rs. 13990\n",
       "96       Bugatti   Men Black Formal Derby Shoes   Rs. 8999\n",
       "97        Clarks             Men Leather Derbys   Rs. 9499\n",
       "98       Saint G      Men Leather Chelsea Boots   Rs. 8999\n",
       "99     J.FONTINI      Men Black Leather Loafers  Rs. 11999\n",
       "\n",
       "[100 rows x 3 columns]"
      ]
     },
     "execution_count": 40,
     "metadata": {},
     "output_type": "execute_result"
    }
   ],
   "source": [
    "#dataframe\n",
    "shoes = pd.DataFrame({})\n",
    "shoes['Brand'] = shoe_brand\n",
    "shoes['Description'] =shoe_description\n",
    "shoes['Price'] =shoe_price\n",
    "shoes"
   ]
  },
  {
   "cell_type": "code",
   "execution_count": 41,
   "id": "f7febff1",
   "metadata": {},
   "outputs": [],
   "source": [
    "#closing webdriver\n",
    "driver.close()"
   ]
  },
  {
   "cell_type": "markdown",
   "id": "bb6bf9ce",
   "metadata": {},
   "source": [
    "# Scraping First 10 Laptops with i7 processor -- Amazon"
   ]
  },
  {
   "cell_type": "code",
   "execution_count": 203,
   "id": "0401e5c8",
   "metadata": {},
   "outputs": [],
   "source": [
    "#opening webdriver\n",
    "driver = webdriver.Chrome(\"C:\\web driver\\chromedriver\")"
   ]
  },
  {
   "cell_type": "code",
   "execution_count": 204,
   "id": "3a194ea6",
   "metadata": {},
   "outputs": [],
   "source": [
    "#opening amazon in automated chrome window\n",
    "driver.get(\"http://www.amazon.in/\")"
   ]
  },
  {
   "cell_type": "code",
   "execution_count": 205,
   "id": "3be1e660",
   "metadata": {},
   "outputs": [],
   "source": [
    "#extracting tag to enter search_product\n",
    "search_product = driver.find_element_by_xpath(\"/html/body/div[1]/header/div/div[1]/div[2]/div/form/div[2]/div[1]/input\")\n",
    "search_product.send_keys(\"Laptop\")"
   ]
  },
  {
   "cell_type": "code",
   "execution_count": 206,
   "id": "0fa132e4",
   "metadata": {},
   "outputs": [],
   "source": [
    "#extracting tag to click search button\n",
    "search_button = driver.find_element_by_xpath(\"/html/body/div[1]/header/div/div[1]/div[2]/div/form/div[3]/div/span/input\")\n",
    "search_button.click()"
   ]
  },
  {
   "cell_type": "code",
   "execution_count": 208,
   "id": "b7448aa4",
   "metadata": {},
   "outputs": [],
   "source": [
    "#extracting tags to filter i7 core processor\n",
    "i7_button = driver.find_element_by_xpath(\"/html/body/div[2]/div[2]/div[1]/div[2]/div/div[3]/span/div[1]/div/div/div[6]/ul[4]/li[12]/span/a/span\")\n",
    "i7_button.click()"
   ]
  },
  {
   "cell_type": "code",
   "execution_count": 209,
   "id": "2bde1c8d",
   "metadata": {},
   "outputs": [],
   "source": [
    "#extracting tags having laptop title\n",
    "title = driver.find_elements_by_xpath(\"//span[@class='a-size-medium a-color-base a-text-normal']\")\n",
    "laptop_title = []\n",
    "#now the text of the laptop_title is inside the tags extracted above.\n",
    "#so we will run a loop to iterate over the tags extracted above and extract the text inside them.\n",
    "for i in title[0:10]:\n",
    "    titles = i.text\n",
    "    laptop_title.append(titles)\n",
    "    "
   ]
  },
  {
   "cell_type": "code",
   "execution_count": 210,
   "id": "1033813f",
   "metadata": {},
   "outputs": [
    {
     "data": {
      "text/plain": [
       "10"
      ]
     },
     "execution_count": 210,
     "metadata": {},
     "output_type": "execute_result"
    }
   ],
   "source": [
    "len(laptop_title)"
   ]
  },
  {
   "cell_type": "code",
   "execution_count": 211,
   "id": "53f3beb1",
   "metadata": {},
   "outputs": [
    {
     "data": {
      "text/plain": [
       "10"
      ]
     },
     "execution_count": 211,
     "metadata": {},
     "output_type": "execute_result"
    }
   ],
   "source": [
    "#extractin tags having rating\n",
    "rating = driver.find_elements_by_xpath(\"//span[@class='a-icon-alt']\")\n",
    "laptop_rating = []\n",
    "#now the text of the laptop_rating is inside the tags extracted above.\n",
    "#so we will run a loop to iterate over the tags extracted above and extract the text inside them.\n",
    "for i in rating[0:10]:\n",
    "    ratings = i.text\n",
    "    laptop_rating.append(ratings)\n",
    "len(laptop_rating)"
   ]
  },
  {
   "cell_type": "code",
   "execution_count": 212,
   "id": "c57ab8bf",
   "metadata": {},
   "outputs": [
    {
     "data": {
      "text/plain": [
       "10"
      ]
     },
     "execution_count": 212,
     "metadata": {},
     "output_type": "execute_result"
    }
   ],
   "source": [
    "#extracting tags having price\n",
    "price = driver.find_elements_by_xpath(\"//span[@class='a-price-whole']\")\n",
    "laptop_price = []\n",
    "#now the text of the laptop_price is inside the tags extracted above.\n",
    "#so we will run a loop to iterate over the tags extracted above and extract the text inside them.\n",
    "for i in price[0:10]:\n",
    "    prices = i.text\n",
    "    laptop_price.append(prices)\n",
    "len(laptop_price)"
   ]
  },
  {
   "cell_type": "code",
   "execution_count": 215,
   "id": "3c3392f2",
   "metadata": {},
   "outputs": [
    {
     "data": {
      "text/html": [
       "<div>\n",
       "<style scoped>\n",
       "    .dataframe tbody tr th:only-of-type {\n",
       "        vertical-align: middle;\n",
       "    }\n",
       "\n",
       "    .dataframe tbody tr th {\n",
       "        vertical-align: top;\n",
       "    }\n",
       "\n",
       "    .dataframe thead th {\n",
       "        text-align: right;\n",
       "    }\n",
       "</style>\n",
       "<table border=\"1\" class=\"dataframe\">\n",
       "  <thead>\n",
       "    <tr style=\"text-align: right;\">\n",
       "      <th></th>\n",
       "      <th>Title</th>\n",
       "      <th>Ratings</th>\n",
       "      <th>Price</th>\n",
       "    </tr>\n",
       "  </thead>\n",
       "  <tbody>\n",
       "    <tr>\n",
       "      <th>0</th>\n",
       "      <td>MSI Modern 14, Intel i7-1195G7, 14\" FHD IPS-Le...</td>\n",
       "      <td></td>\n",
       "      <td>76,490</td>\n",
       "    </tr>\n",
       "    <tr>\n",
       "      <th>1</th>\n",
       "      <td>Fujitsu UH-X 11th Gen Intel Core i7 13.3” FHD ...</td>\n",
       "      <td></td>\n",
       "      <td>84,590</td>\n",
       "    </tr>\n",
       "    <tr>\n",
       "      <th>2</th>\n",
       "      <td>Mi Notebook Ultra 3.2K Resolution Display Inte...</td>\n",
       "      <td></td>\n",
       "      <td>77,990</td>\n",
       "    </tr>\n",
       "    <tr>\n",
       "      <th>3</th>\n",
       "      <td>Lenovo ThinkBook 15 Intel 11th Gen Core i7 15....</td>\n",
       "      <td></td>\n",
       "      <td>86,990</td>\n",
       "    </tr>\n",
       "    <tr>\n",
       "      <th>4</th>\n",
       "      <td>ASUS VivoBook 14 (2021), 14-inch (35.56 cms) F...</td>\n",
       "      <td></td>\n",
       "      <td>57,490</td>\n",
       "    </tr>\n",
       "    <tr>\n",
       "      <th>5</th>\n",
       "      <td>Samsung Galaxy Book2 Intel 12th Gen core i7 Ev...</td>\n",
       "      <td></td>\n",
       "      <td>79,990</td>\n",
       "    </tr>\n",
       "    <tr>\n",
       "      <th>6</th>\n",
       "      <td>HP Pavilion 14, 11th Gen Intel Core i7-16GB RA...</td>\n",
       "      <td></td>\n",
       "      <td>86,990</td>\n",
       "    </tr>\n",
       "    <tr>\n",
       "      <th>7</th>\n",
       "      <td>LG Gram Intel Evo 11th Gen Core i7 17 inches U...</td>\n",
       "      <td></td>\n",
       "      <td>93,999</td>\n",
       "    </tr>\n",
       "    <tr>\n",
       "      <th>8</th>\n",
       "      <td>HP Pavilion x360 11th Gen Intel Core i7 14 inc...</td>\n",
       "      <td></td>\n",
       "      <td>85,890</td>\n",
       "    </tr>\n",
       "    <tr>\n",
       "      <th>9</th>\n",
       "      <td>LG Gram 16 inches Intel Evo 11th Gen Core i7 U...</td>\n",
       "      <td></td>\n",
       "      <td>1,01,112</td>\n",
       "    </tr>\n",
       "  </tbody>\n",
       "</table>\n",
       "</div>"
      ],
      "text/plain": [
       "                                               Title Ratings     Price\n",
       "0  MSI Modern 14, Intel i7-1195G7, 14\" FHD IPS-Le...            76,490\n",
       "1  Fujitsu UH-X 11th Gen Intel Core i7 13.3” FHD ...            84,590\n",
       "2  Mi Notebook Ultra 3.2K Resolution Display Inte...            77,990\n",
       "3  Lenovo ThinkBook 15 Intel 11th Gen Core i7 15....            86,990\n",
       "4  ASUS VivoBook 14 (2021), 14-inch (35.56 cms) F...            57,490\n",
       "5  Samsung Galaxy Book2 Intel 12th Gen core i7 Ev...            79,990\n",
       "6  HP Pavilion 14, 11th Gen Intel Core i7-16GB RA...            86,990\n",
       "7  LG Gram Intel Evo 11th Gen Core i7 17 inches U...            93,999\n",
       "8  HP Pavilion x360 11th Gen Intel Core i7 14 inc...            85,890\n",
       "9  LG Gram 16 inches Intel Evo 11th Gen Core i7 U...          1,01,112"
      ]
     },
     "execution_count": 215,
     "metadata": {},
     "output_type": "execute_result"
    }
   ],
   "source": [
    "#dataframe\n",
    "laptop = pd.DataFrame({})\n",
    "laptop['Title'] = laptop_title\n",
    "laptop['Ratings'] = laptop_rating\n",
    "laptop['Price'] = laptop_price\n",
    "laptop"
   ]
  },
  {
   "cell_type": "code",
   "execution_count": 116,
   "id": "4d324bd7",
   "metadata": {},
   "outputs": [],
   "source": [
    "#closing webdriver\n",
    "driver.close()"
   ]
  },
  {
   "cell_type": "markdown",
   "id": "cc9dc8fe",
   "metadata": {},
   "source": [
    "# Fist 10 Data Scientist Jobs in Noida --- Ambition Box"
   ]
  },
  {
   "cell_type": "code",
   "execution_count": 2,
   "id": "f644cb41",
   "metadata": {},
   "outputs": [],
   "source": [
    "#opening webdriver\n",
    "driver = webdriver.Chrome(\"C:\\web driver\\chromedriver\")"
   ]
  },
  {
   "cell_type": "code",
   "execution_count": 3,
   "id": "f3342eaf",
   "metadata": {},
   "outputs": [],
   "source": [
    "#opening ambitionbox in automated chrome page\n",
    "driver.get(\"http://www.ambitionbox.com/\")"
   ]
  },
  {
   "cell_type": "code",
   "execution_count": 6,
   "id": "84dd2960",
   "metadata": {},
   "outputs": [],
   "source": [
    "#extracting tag to search jobs\n",
    "search_jobs = driver.find_element_by_xpath(\"//a[@class='link jobs']\")\n",
    "search_jobs.click()"
   ]
  },
  {
   "cell_type": "code",
   "execution_count": 7,
   "id": "13bcfc4c",
   "metadata": {},
   "outputs": [],
   "source": [
    "#extracting tag to search designation\n",
    "search_designation = driver.find_element_by_xpath(\"/html/body/div/div/div/div[2]/div[1]/div[1]/div/div/div/div/span/input\")\n",
    "search_designation.send_keys('Data Scientist')"
   ]
  },
  {
   "cell_type": "code",
   "execution_count": 8,
   "id": "356cd153",
   "metadata": {},
   "outputs": [],
   "source": [
    "#extracting tag to click on search button\n",
    "search_button = driver.find_element_by_xpath(\"/html/body/div/div/div/div[2]/div[1]/div[1]/div/div/div/button/span\")\n",
    "search_button.click()"
   ]
  },
  {
   "cell_type": "code",
   "execution_count": 9,
   "id": "5a3f05df",
   "metadata": {},
   "outputs": [],
   "source": [
    "#extracting tag to click location option\n",
    "location_button = driver.find_element_by_xpath(\"/html/body/div/div/div/div[2]/div[1]/div[2]/div[1]/div/div/div/div[2]/div[1]/p\")\n",
    "location_button.click()"
   ]
  },
  {
   "cell_type": "code",
   "execution_count": 11,
   "id": "46994578",
   "metadata": {},
   "outputs": [],
   "source": [
    "#extracting tag to search location\n",
    "search_location = driver.find_element_by_xpath(\"/html/body/div/div/div/div[2]/div[1]/div[2]/div[1]/div/div/div/div[2]/div[2]/div/div[2]/input\")\n",
    "search_location.send_keys('Noida')"
   ]
  },
  {
   "cell_type": "code",
   "execution_count": 13,
   "id": "62efbbc9",
   "metadata": {},
   "outputs": [],
   "source": [
    "#extracing tag to click on location\n",
    "select_location = driver.find_element_by_xpath(\"/html/body/div/div/div/div[2]/div[1]/div[2]/div[1]/div/div/div/div[2]/div[2]/div/div[3]/div[1]/div[1]/div/label\")\n",
    "select_location.click()"
   ]
  },
  {
   "cell_type": "code",
   "execution_count": 16,
   "id": "6f800a74",
   "metadata": {},
   "outputs": [
    {
     "data": {
      "text/plain": [
       "10"
      ]
     },
     "execution_count": 16,
     "metadata": {},
     "output_type": "execute_result"
    }
   ],
   "source": [
    "#extracting tags having company name \n",
    "company = driver.find_elements_by_xpath(\"//p[@class='company body-medium']\")\n",
    "company_name = []\n",
    "#now the text of the company_name is inside the tags extracted above.\n",
    "#so we will run a loop to iterate over the tags extracted above and extract the text inside them.\n",
    "for i in company[0:10]:\n",
    "    companies = i.text\n",
    "    company_name.append(companies)\n",
    "len(company_name)"
   ]
  },
  {
   "cell_type": "code",
   "execution_count": 17,
   "id": "7b1c46dd",
   "metadata": {},
   "outputs": [
    {
     "data": {
      "text/plain": [
       "10"
      ]
     },
     "execution_count": 17,
     "metadata": {},
     "output_type": "execute_result"
    }
   ],
   "source": [
    "#extracting tags having number of days ago jobs posted\n",
    "day = driver.find_elements_by_xpath(\"//div[@class='other-info']/span[1]\")\n",
    "job_posted = []\n",
    "#now the text of how many days ago job has posted is inside the tags extracted above.\n",
    "#so we will run a loop to iterate over the tags extracted above and extract the text inside them.\n",
    "for i in day[0:10]:\n",
    "    days = i.text\n",
    "    job_posted.append(days)\n",
    "len(job_posted)"
   ]
  },
  {
   "cell_type": "code",
   "execution_count": 18,
   "id": "8fe07235",
   "metadata": {},
   "outputs": [
    {
     "data": {
      "text/plain": [
       "10"
      ]
     },
     "execution_count": 18,
     "metadata": {},
     "output_type": "execute_result"
    }
   ],
   "source": [
    "#extracting tags having ratings\n",
    "rating  = driver.find_elements_by_xpath(\"//span[@class='body-small']\")\n",
    "job_ratings = []\n",
    "#now the text of the job ratings is inside the tags extracted above.\n",
    "#so we will run a loop to iterate over the tags extracted above and extract the text inside them.\n",
    "for i in rating[0:10]:\n",
    "    ratings = i.text\n",
    "    job_ratings.append(ratings)\n",
    "len(job_ratings)"
   ]
  },
  {
   "cell_type": "code",
   "execution_count": 20,
   "id": "0ccdc2f4",
   "metadata": {},
   "outputs": [
    {
     "data": {
      "text/html": [
       "<div>\n",
       "<style scoped>\n",
       "    .dataframe tbody tr th:only-of-type {\n",
       "        vertical-align: middle;\n",
       "    }\n",
       "\n",
       "    .dataframe tbody tr th {\n",
       "        vertical-align: top;\n",
       "    }\n",
       "\n",
       "    .dataframe thead th {\n",
       "        text-align: right;\n",
       "    }\n",
       "</style>\n",
       "<table border=\"1\" class=\"dataframe\">\n",
       "  <thead>\n",
       "    <tr style=\"text-align: right;\">\n",
       "      <th></th>\n",
       "      <th>Company Name</th>\n",
       "      <th>No of Days ago job posted</th>\n",
       "      <th>Ratings</th>\n",
       "    </tr>\n",
       "  </thead>\n",
       "  <tbody>\n",
       "    <tr>\n",
       "      <th>0</th>\n",
       "      <td>EXL Services.com ( I ) Pvt. Ltd.</td>\n",
       "      <td>8d ago</td>\n",
       "      <td>3.9</td>\n",
       "    </tr>\n",
       "    <tr>\n",
       "      <th>1</th>\n",
       "      <td>GENPACT India Private Limited</td>\n",
       "      <td>20d ago</td>\n",
       "      <td>4.0</td>\n",
       "    </tr>\n",
       "    <tr>\n",
       "      <th>2</th>\n",
       "      <td>TECHNIP GLOBAL BUSINESS SERVICES PRIVATE LIMITED</td>\n",
       "      <td>6d ago</td>\n",
       "      <td>3.9</td>\n",
       "    </tr>\n",
       "    <tr>\n",
       "      <th>3</th>\n",
       "      <td>GENPACT India Private Limited</td>\n",
       "      <td>1mon ago</td>\n",
       "      <td>4.0</td>\n",
       "    </tr>\n",
       "    <tr>\n",
       "      <th>4</th>\n",
       "      <td>Bristlecone India Limited</td>\n",
       "      <td>15d ago</td>\n",
       "      <td>3.8</td>\n",
       "    </tr>\n",
       "    <tr>\n",
       "      <th>5</th>\n",
       "      <td>Zyoin</td>\n",
       "      <td>19d ago</td>\n",
       "      <td>4.1</td>\n",
       "    </tr>\n",
       "    <tr>\n",
       "      <th>6</th>\n",
       "      <td>Ashkom Media India Private Limited</td>\n",
       "      <td>6d ago</td>\n",
       "      <td>3.7</td>\n",
       "    </tr>\n",
       "    <tr>\n",
       "      <th>7</th>\n",
       "      <td>Newgen Software Technologies Ltd.</td>\n",
       "      <td>21d ago</td>\n",
       "      <td>3.5</td>\n",
       "    </tr>\n",
       "    <tr>\n",
       "      <th>8</th>\n",
       "      <td>JK Technosoft Ltd</td>\n",
       "      <td>30d ago</td>\n",
       "      <td>3.7</td>\n",
       "    </tr>\n",
       "    <tr>\n",
       "      <th>9</th>\n",
       "      <td>Pitney Bowes India Pvt Ltd</td>\n",
       "      <td>1mon ago</td>\n",
       "      <td>4.2</td>\n",
       "    </tr>\n",
       "  </tbody>\n",
       "</table>\n",
       "</div>"
      ],
      "text/plain": [
       "                                       Company Name No of Days ago job posted  \\\n",
       "0                  EXL Services.com ( I ) Pvt. Ltd.                    8d ago   \n",
       "1                     GENPACT India Private Limited                   20d ago   \n",
       "2  TECHNIP GLOBAL BUSINESS SERVICES PRIVATE LIMITED                    6d ago   \n",
       "3                     GENPACT India Private Limited                  1mon ago   \n",
       "4                         Bristlecone India Limited                   15d ago   \n",
       "5                                             Zyoin                   19d ago   \n",
       "6                Ashkom Media India Private Limited                    6d ago   \n",
       "7                 Newgen Software Technologies Ltd.                   21d ago   \n",
       "8                                 JK Technosoft Ltd                   30d ago   \n",
       "9                        Pitney Bowes India Pvt Ltd                  1mon ago   \n",
       "\n",
       "  Ratings  \n",
       "0     3.9  \n",
       "1     4.0  \n",
       "2     3.9  \n",
       "3     4.0  \n",
       "4     3.8  \n",
       "5     4.1  \n",
       "6     3.7  \n",
       "7     3.5  \n",
       "8     3.7  \n",
       "9     4.2  "
      ]
     },
     "execution_count": 20,
     "metadata": {},
     "output_type": "execute_result"
    }
   ],
   "source": [
    "#dataframe\n",
    "jobs = pd.DataFrame({})\n",
    "jobs['Company Name'] = company_name\n",
    "jobs['No of Days ago job posted'] = job_posted\n",
    "jobs['Ratings'] = job_ratings\n",
    "jobs"
   ]
  },
  {
   "cell_type": "code",
   "execution_count": 21,
   "id": "d7563355",
   "metadata": {},
   "outputs": [],
   "source": [
    "#close webdriver\n",
    "driver.close()"
   ]
  },
  {
   "cell_type": "markdown",
   "id": "4d9fb068",
   "metadata": {},
   "source": [
    "# Ambition Box --- Salary of Data Scientist Designation"
   ]
  },
  {
   "cell_type": "code",
   "execution_count": 309,
   "id": "f083f802",
   "metadata": {},
   "outputs": [],
   "source": [
    "#opening webdriver\n",
    "driver = webdriver.Chrome(\"C:\\web driver\\chromedriver\")"
   ]
  },
  {
   "cell_type": "code",
   "execution_count": 310,
   "id": "73661031",
   "metadata": {},
   "outputs": [],
   "source": [
    "#opening ambitionbox in automated chrome page\n",
    "driver.get(\"http://www.ambitionbox.com/\")"
   ]
  },
  {
   "cell_type": "code",
   "execution_count": 311,
   "id": "1592e428",
   "metadata": {},
   "outputs": [],
   "source": [
    "#clicking on salary button\n",
    "salary_button = driver.find_element_by_xpath(\"//a[@class='link salaries']\")\n",
    "salary_button.click()"
   ]
  },
  {
   "cell_type": "code",
   "execution_count": 312,
   "id": "be9f1743",
   "metadata": {},
   "outputs": [],
   "source": [
    "#extracting tag to search for designation\n",
    "search_designation = driver.find_element_by_xpath(\"/html/body/div/div/div/main/section[1]/div[2]/div[1]/span/input\")\n",
    "search_designation.send_keys(\"Data Scientist\")"
   ]
  },
  {
   "cell_type": "code",
   "execution_count": 313,
   "id": "08be85f1",
   "metadata": {},
   "outputs": [],
   "source": [
    "#clicking on data scientist option\n",
    "select_designation = driver.find_element_by_xpath(\"/html/body/div/div/div/main/section[1]/div[2]/div[1]/span/div/div/div[1]/div/div/p\")\n",
    "select_designation.click()"
   ]
  },
  {
   "cell_type": "code",
   "execution_count": 315,
   "id": "7fa26c4c",
   "metadata": {},
   "outputs": [
    {
     "data": {
      "text/plain": [
       "10"
      ]
     },
     "execution_count": 315,
     "metadata": {},
     "output_type": "execute_result"
    }
   ],
   "source": [
    "company_name =[]\n",
    "company = driver.find_elements_by_xpath(\"//div[@class='name']/a\")\n",
    "#now the text of the company is inside the tags extracted above.\n",
    "#so we will run a loop to iterate over the tags extracted above and extract the text inside them.\n",
    "for i in company[0:10]:\n",
    "    companies = i.text\n",
    "    company_name.append(companies)\n",
    "len(company_name)"
   ]
  },
  {
   "cell_type": "code",
   "execution_count": 317,
   "id": "920bf40b",
   "metadata": {},
   "outputs": [
    {
     "data": {
      "text/plain": [
       "10"
      ]
     },
     "execution_count": 317,
     "metadata": {},
     "output_type": "execute_result"
    }
   ],
   "source": [
    "salary_records = []\n",
    "record = driver.find_elements_by_xpath(\"//div[@class='name']/span\")\n",
    "#now the text of the salary_records is inside the tags extracted above.\n",
    "#so we will run a loop to iterate over the tags extracted above and extract the text inside them.\n",
    "for i in record[0:10]:\n",
    "    records = i.text\n",
    "    salary_records.append(records)\n",
    "len(salary_records)"
   ]
  },
  {
   "cell_type": "code",
   "execution_count": 318,
   "id": "14ab10ac",
   "metadata": {},
   "outputs": [
    {
     "data": {
      "text/plain": [
       "10"
      ]
     },
     "execution_count": 318,
     "metadata": {},
     "output_type": "execute_result"
    }
   ],
   "source": [
    "average_salary = []\n",
    "avg = driver.find_elements_by_xpath(\"//p[@class='averageCtc']\")\n",
    "#now the text of the average_salary is inside the tags extracted above.\n",
    "#so we will run a loop to iterate over the tags extracted above and extract the text inside them.\n",
    "for i in avg[0:10]:\n",
    "    average = i.text\n",
    "    average_salary.append(average)\n",
    "len(average_salary)"
   ]
  },
  {
   "cell_type": "code",
   "execution_count": 319,
   "id": "f7648999",
   "metadata": {},
   "outputs": [
    {
     "data": {
      "text/plain": [
       "10"
      ]
     },
     "execution_count": 319,
     "metadata": {},
     "output_type": "execute_result"
    }
   ],
   "source": [
    "minimum_salary = []\n",
    "minimum = driver.find_elements_by_xpath(\"//div[@class='salary-values']/div[1]\")\n",
    "#now the text of the minimun_salary is inside the tags extracted above.\n",
    "#so we will run a loop to iterate over the tags extracted above and extract the text inside them.\n",
    "for i in minimum[0:10]:\n",
    "    min_sal = i.text\n",
    "    minimum_salary.append(min_sal)\n",
    "len(minimum_salary)"
   ]
  },
  {
   "cell_type": "code",
   "execution_count": 320,
   "id": "d52fc599",
   "metadata": {},
   "outputs": [
    {
     "data": {
      "text/plain": [
       "10"
      ]
     },
     "execution_count": 320,
     "metadata": {},
     "output_type": "execute_result"
    }
   ],
   "source": [
    "maximum_salary = []\n",
    "#now the text of the maximun_salary is inside the tags extracted above.\n",
    "#so we will run a loop to iterate over the tags extracted above and extract the text inside them.\n",
    "maximum = driver.find_elements_by_xpath(\"//div[@class='salary-values']/div[2]\")\n",
    "for i in maximum[0:10]:\n",
    "    max_sal = i.text\n",
    "    maximum_salary.append(max_sal)\n",
    "len(maximum_salary)"
   ]
  },
  {
   "cell_type": "code",
   "execution_count": 322,
   "id": "19b0cfa8",
   "metadata": {},
   "outputs": [
    {
     "data": {
      "text/html": [
       "<div>\n",
       "<style scoped>\n",
       "    .dataframe tbody tr th:only-of-type {\n",
       "        vertical-align: middle;\n",
       "    }\n",
       "\n",
       "    .dataframe tbody tr th {\n",
       "        vertical-align: top;\n",
       "    }\n",
       "\n",
       "    .dataframe thead th {\n",
       "        text-align: right;\n",
       "    }\n",
       "</style>\n",
       "<table border=\"1\" class=\"dataframe\">\n",
       "  <thead>\n",
       "    <tr style=\"text-align: right;\">\n",
       "      <th></th>\n",
       "      <th>Company Name</th>\n",
       "      <th>Salary Records</th>\n",
       "      <th>Average Salary</th>\n",
       "      <th>Minimum Salary</th>\n",
       "      <th>Maximum Salary</th>\n",
       "    </tr>\n",
       "  </thead>\n",
       "  <tbody>\n",
       "    <tr>\n",
       "      <th>0</th>\n",
       "      <td>Walmart</td>\n",
       "      <td>based on 11 salaries</td>\n",
       "      <td>₹ 29.7L</td>\n",
       "      <td>₹ 25.0L</td>\n",
       "      <td>₹ 35.0L</td>\n",
       "    </tr>\n",
       "    <tr>\n",
       "      <th>1</th>\n",
       "      <td>Ab Inbev</td>\n",
       "      <td>based on 32 salaries</td>\n",
       "      <td>₹ 20.5L</td>\n",
       "      <td>₹ 15.0L</td>\n",
       "      <td>₹ 25.5L</td>\n",
       "    </tr>\n",
       "    <tr>\n",
       "      <th>2</th>\n",
       "      <td>Reliance Jio</td>\n",
       "      <td>based on 10 salaries</td>\n",
       "      <td>₹ 18.9L</td>\n",
       "      <td>₹ 5.6L</td>\n",
       "      <td>₹ 26.2L</td>\n",
       "    </tr>\n",
       "    <tr>\n",
       "      <th>3</th>\n",
       "      <td>ZS</td>\n",
       "      <td>based on 15 salaries</td>\n",
       "      <td>₹ 15.9L</td>\n",
       "      <td>₹ 9.8L</td>\n",
       "      <td>₹ 20.0L</td>\n",
       "    </tr>\n",
       "    <tr>\n",
       "      <th>4</th>\n",
       "      <td>Optum</td>\n",
       "      <td>based on 27 salaries</td>\n",
       "      <td>₹ 15.2L</td>\n",
       "      <td>₹ 11.0L</td>\n",
       "      <td>₹ 22.0L</td>\n",
       "    </tr>\n",
       "    <tr>\n",
       "      <th>5</th>\n",
       "      <td>Fractal Analytics</td>\n",
       "      <td>based on 81 salaries</td>\n",
       "      <td>₹ 15.2L</td>\n",
       "      <td>₹ 9.5L</td>\n",
       "      <td>₹ 22.0L</td>\n",
       "    </tr>\n",
       "    <tr>\n",
       "      <th>6</th>\n",
       "      <td>Tiger Analytics</td>\n",
       "      <td>based on 46 salaries</td>\n",
       "      <td>₹ 14.8L</td>\n",
       "      <td>₹ 9.0L</td>\n",
       "      <td>₹ 20.0L</td>\n",
       "    </tr>\n",
       "    <tr>\n",
       "      <th>7</th>\n",
       "      <td>UnitedHealth</td>\n",
       "      <td>based on 53 salaries</td>\n",
       "      <td>₹ 14.0L</td>\n",
       "      <td>₹ 8.3L</td>\n",
       "      <td>₹ 20.5L</td>\n",
       "    </tr>\n",
       "    <tr>\n",
       "      <th>8</th>\n",
       "      <td>Verizon</td>\n",
       "      <td>based on 14 salaries</td>\n",
       "      <td>₹ 12.7L</td>\n",
       "      <td>₹ 10.0L</td>\n",
       "      <td>₹ 21.0L</td>\n",
       "    </tr>\n",
       "    <tr>\n",
       "      <th>9</th>\n",
       "      <td>Ganit Business Solutions</td>\n",
       "      <td>based on 13 salaries</td>\n",
       "      <td>₹ 12.4L</td>\n",
       "      <td>₹ 8.5L</td>\n",
       "      <td>₹ 15.0L</td>\n",
       "    </tr>\n",
       "  </tbody>\n",
       "</table>\n",
       "</div>"
      ],
      "text/plain": [
       "               Company Name        Salary Records Average Salary  \\\n",
       "0                   Walmart  based on 11 salaries        ₹ 29.7L   \n",
       "1                  Ab Inbev  based on 32 salaries        ₹ 20.5L   \n",
       "2              Reliance Jio  based on 10 salaries        ₹ 18.9L   \n",
       "3                        ZS  based on 15 salaries        ₹ 15.9L   \n",
       "4                     Optum  based on 27 salaries        ₹ 15.2L   \n",
       "5         Fractal Analytics  based on 81 salaries        ₹ 15.2L   \n",
       "6           Tiger Analytics  based on 46 salaries        ₹ 14.8L   \n",
       "7              UnitedHealth  based on 53 salaries        ₹ 14.0L   \n",
       "8                   Verizon  based on 14 salaries        ₹ 12.7L   \n",
       "9  Ganit Business Solutions  based on 13 salaries        ₹ 12.4L   \n",
       "\n",
       "  Minimum Salary Maximum Salary  \n",
       "0        ₹ 25.0L        ₹ 35.0L  \n",
       "1        ₹ 15.0L        ₹ 25.5L  \n",
       "2         ₹ 5.6L        ₹ 26.2L  \n",
       "3         ₹ 9.8L        ₹ 20.0L  \n",
       "4        ₹ 11.0L        ₹ 22.0L  \n",
       "5         ₹ 9.5L        ₹ 22.0L  \n",
       "6         ₹ 9.0L        ₹ 20.0L  \n",
       "7         ₹ 8.3L        ₹ 20.5L  \n",
       "8        ₹ 10.0L        ₹ 21.0L  \n",
       "9         ₹ 8.5L        ₹ 15.0L  "
      ]
     },
     "execution_count": 322,
     "metadata": {},
     "output_type": "execute_result"
    }
   ],
   "source": [
    "#dataframe\n",
    "salary = pd.DataFrame({})\n",
    "salary['Company Name'] = company_name\n",
    "salary['Salary Records'] = salary_records\n",
    "salary['Average Salary'] = average_salary\n",
    "salary['Minimum Salary'] = minimum_salary\n",
    "salary['Maximum Salary'] = maximum_salary\n",
    "salary"
   ]
  },
  {
   "cell_type": "code",
   "execution_count": 323,
   "id": "39ee18be",
   "metadata": {},
   "outputs": [],
   "source": [
    "#closing webdriver\n",
    "driver.close()"
   ]
  },
  {
   "cell_type": "code",
   "execution_count": null,
   "id": "27624ec4",
   "metadata": {},
   "outputs": [],
   "source": []
  }
 ],
 "metadata": {
  "kernelspec": {
   "display_name": "Python 3 (ipykernel)",
   "language": "python",
   "name": "python3"
  },
  "language_info": {
   "codemirror_mode": {
    "name": "ipython",
    "version": 3
   },
   "file_extension": ".py",
   "mimetype": "text/x-python",
   "name": "python",
   "nbconvert_exporter": "python",
   "pygments_lexer": "ipython3",
   "version": "3.9.7"
  }
 },
 "nbformat": 4,
 "nbformat_minor": 5
}
