{
 "cells": [
  {
   "cell_type": "code",
   "execution_count": 1,
   "id": "5911928e",
   "metadata": {},
   "outputs": [],
   "source": [
    "import pandas as pd\n",
    "import selenium\n",
    "from selenium import webdriver\n",
    "from selenium.common.exceptions import NoSuchElementException\n",
    "from selenium.webdriver.support.ui import WebDriverWait\n",
    "from selenium.webdriver.common.by import By\n",
    "from selenium.webdriver.support import expected_conditions as EC\n",
    "import re\n",
    "import time\n",
    "import warnings\n",
    "import requests\n",
    "warnings.filterwarnings('ignore')"
   ]
  },
  {
   "cell_type": "markdown",
   "id": "5800c2c0",
   "metadata": {},
   "source": [
    "# 1&2 Search product by product name"
   ]
  },
  {
   "cell_type": "code",
   "execution_count": 81,
   "id": "e28e92c6",
   "metadata": {
    "scrolled": true
   },
   "outputs": [],
   "source": [
    "driver = webdriver.Chrome('C:\\web driver\\chromedriver')"
   ]
  },
  {
   "cell_type": "code",
   "execution_count": 82,
   "id": "29eb465d",
   "metadata": {},
   "outputs": [],
   "source": [
    "driver.get(\"http:\\\\www.amazon.in\")"
   ]
  },
  {
   "cell_type": "code",
   "execution_count": 83,
   "id": "4e9d3d38",
   "metadata": {},
   "outputs": [
    {
     "name": "stdout",
     "output_type": "stream",
     "text": [
      "Enter Product Name: headphone\n"
     ]
    }
   ],
   "source": [
    "#product name given as input is headphone\n",
    "input1 = input(\"Enter Product Name: \")"
   ]
  },
  {
   "cell_type": "code",
   "execution_count": 84,
   "id": "b49e63ff",
   "metadata": {},
   "outputs": [],
   "source": [
    "search_product = driver.find_element_by_xpath(\"/html/body/div[1]/header/div/div[1]/div[2]/div/form/div[2]/div[1]/input\")\n",
    "search_product.send_keys(input1)"
   ]
  },
  {
   "cell_type": "code",
   "execution_count": 85,
   "id": "c9329baa",
   "metadata": {},
   "outputs": [],
   "source": [
    "search_button = driver.find_element_by_xpath(\"/html/body/div[1]/header/div/div[1]/div[2]/div/form/div[3]/div/span/input\")\n",
    "search_button.click()"
   ]
  },
  {
   "cell_type": "code",
   "execution_count": 86,
   "id": "3bbeb63b",
   "metadata": {},
   "outputs": [
    {
     "data": {
      "text/plain": [
       "27"
      ]
     },
     "execution_count": 86,
     "metadata": {},
     "output_type": "execute_result"
    }
   ],
   "source": [
    "product_url = []\n",
    "url = driver.find_elements_by_xpath(\"//a[@class='a-link-normal s-underline-text s-underline-link-text s-link-style a-text-normal']\")\n",
    "\n",
    "    \n",
    "for i in url:\n",
    "    product_url.append(i.get_attribute('href'))\n",
    "len(product_url)"
   ]
  },
  {
   "cell_type": "code",
   "execution_count": 87,
   "id": "75177d18",
   "metadata": {},
   "outputs": [
    {
     "data": {
      "text/plain": [
       "27"
      ]
     },
     "execution_count": 87,
     "metadata": {},
     "output_type": "execute_result"
    }
   ],
   "source": [
    "price= []\n",
    "rep = [] \n",
    "brand = []\n",
    "delivery = []\n",
    "availablity = []\n",
    "product_name = []\n",
    "#by using try and except we can scrap all the details by clicking on product url\n",
    "for i in product_url:\n",
    "    driver.get(i)\n",
    "    time.sleep(5)\n",
    "    try:\n",
    "        prices = driver.find_element_by_xpath(\"/html/body/div[2]/div[2]/div[5]/div[4]/div[1]/div[3]/div/div/div/div/form/div/div/div/div/div[2]/div[1]/div/span/span[2]\")\n",
    "        price.append(prices.text.replace('\\n00',\"\"))\n",
    "    except NoSuchElementException:\n",
    "        price.append('-')\n",
    "\n",
    "    try:\n",
    "        replacement = driver.find_element_by_xpath(\"/html/body/div[2]/div[2]/div[5]/div[4]/div[4]/div[22]/div[2]/div/div/div/div[2]/span/div[2]/a\")\n",
    "        rep.append(replacement.text)\n",
    "    except NoSuchElementException:\n",
    "        rep.append('-')\n",
    "\n",
    "    try:\n",
    "        brands = driver.find_element_by_xpath(\"/html/body/div[2]/div[2]/div[5]/div[4]/div[4]/div[43]/div/table/tbody/tr[3]/td[2]\")\n",
    "        brand.append(brands.text)\n",
    "    except NoSuchElementException:\n",
    "        brand.append('-')\n",
    "        \n",
    "    try:\n",
    "        deli = driver.find_element_by_xpath(\"/html/body/div[2]/div[2]/div[5]/div[4]/div[1]/div[3]/div/div/div/div/form/div/div/div/div/div[3]/div/div[2]/div[8]/div[1]/div/div/div[1]/b\")\n",
    "        delivery.append(deli.text)\n",
    "    except NoSuchElementException:\n",
    "        delivery.append('Not Present')\n",
    "        \n",
    "    try:\n",
    "        avail = driver.find_element_by_xpath(\"/html/body/div[2]/div[2]/div[5]/div[4]/div[1]/div[3]/div/div/div/div/form/div/div/div/div/div[3]/div/div[4]/div/div[1]/span\")\n",
    "        availablity.append(avail.text)\n",
    "    except NoSuchElementException:\n",
    "        availablity.append('-')\n",
    "        \n",
    "    try:\n",
    "        name = driver.find_element_by_xpath(\"/html/body/div[2]/div[2]/div[5]/div[4]/div[4]/div[1]/div/h1/span\")\n",
    "        product_name.append(name.text)\n",
    "    except NoSuchElementException:\n",
    "        product_name.append(\"-\")\n",
    "        \n",
    "        \n",
    "        \n",
    "len(price)\n",
    "len(rep)\n",
    "len(brand)  \n",
    "len(delivery)\n",
    "len(availablity)\n",
    "        "
   ]
  },
  {
   "cell_type": "code",
   "execution_count": 79,
   "id": "f4e11a67",
   "metadata": {},
   "outputs": [
    {
     "data": {
      "text/html": [
       "<div>\n",
       "<style scoped>\n",
       "    .dataframe tbody tr th:only-of-type {\n",
       "        vertical-align: middle;\n",
       "    }\n",
       "\n",
       "    .dataframe tbody tr th {\n",
       "        vertical-align: top;\n",
       "    }\n",
       "\n",
       "    .dataframe thead th {\n",
       "        text-align: right;\n",
       "    }\n",
       "</style>\n",
       "<table border=\"1\" class=\"dataframe\">\n",
       "  <thead>\n",
       "    <tr style=\"text-align: right;\">\n",
       "      <th></th>\n",
       "      <th>Product Name</th>\n",
       "      <th>Brand</th>\n",
       "      <th>Price</th>\n",
       "      <th>Availability</th>\n",
       "      <th>Delivery</th>\n",
       "      <th>Replacement/Exchange</th>\n",
       "      <th>URL</th>\n",
       "    </tr>\n",
       "  </thead>\n",
       "  <tbody>\n",
       "    <tr>\n",
       "      <th>0</th>\n",
       "      <td>Boat Rockerz 450 Pro Upto 15 Hours Playback, A...</td>\n",
       "      <td>Rockerz 450 Pro, Charging Cable, User Manual, ...</td>\n",
       "      <td>₹1,399</td>\n",
       "      <td>In stock.</td>\n",
       "      <td>Friday, May 27</td>\n",
       "      <td>7 Days Replacement</td>\n",
       "      <td>https://www.amazon.in/gp/slredirect/picassoRed...</td>\n",
       "    </tr>\n",
       "    <tr>\n",
       "      <th>1</th>\n",
       "      <td>Infinity (JBL) Glide 510, 72 Hrs Playtime with...</td>\n",
       "      <td>Infinity</td>\n",
       "      <td>Not Present</td>\n",
       "      <td>Not Present</td>\n",
       "      <td>Not Present</td>\n",
       "      <td>7 Days Replacement</td>\n",
       "      <td>https://www.amazon.in/gp/slredirect/picassoRed...</td>\n",
       "    </tr>\n",
       "    <tr>\n",
       "      <th>2</th>\n",
       "      <td>Boat Rockerz 450 Bluetooth Wireless On Ear Hea...</td>\n",
       "      <td>BoAt</td>\n",
       "      <td>₹1,099</td>\n",
       "      <td>In stock.</td>\n",
       "      <td>Wednesday, May 25</td>\n",
       "      <td>7 Days Replacement</td>\n",
       "      <td>https://www.amazon.in/Rockerz-450-Wireless-Blu...</td>\n",
       "    </tr>\n",
       "    <tr>\n",
       "      <th>3</th>\n",
       "      <td>Techobucks High X Bass Wireless Over-Ear Bluet...</td>\n",
       "      <td>Cable</td>\n",
       "      <td>₹399</td>\n",
       "      <td>In stock.</td>\n",
       "      <td>Sunday, May 29</td>\n",
       "      <td>Not Present</td>\n",
       "      <td>https://www.amazon.in/Techobucks-Wireless-Over...</td>\n",
       "    </tr>\n",
       "    <tr>\n",
       "      <th>4</th>\n",
       "      <td>Boat Bassheads 100 Wired in Ear Earphones with...</td>\n",
       "      <td>Bassheads 100, Additional Earbuds, Warranty Card</td>\n",
       "      <td>₹379</td>\n",
       "      <td>In stock.</td>\n",
       "      <td>May 25 - 31</td>\n",
       "      <td>7 Days Replacement</td>\n",
       "      <td>https://www.amazon.in/Bassheads-100-Wired-Earp...</td>\n",
       "    </tr>\n",
       "    <tr>\n",
       "      <th>5</th>\n",
       "      <td>boAt Rockerz 400 Bluetooth On Ear Headphones w...</td>\n",
       "      <td>BoAt</td>\n",
       "      <td>₹1,099</td>\n",
       "      <td>In stock.</td>\n",
       "      <td>Wednesday, May 25</td>\n",
       "      <td>7 Days Replacement</td>\n",
       "      <td>https://www.amazon.in/Boat-Rockerz-400-Bluetoo...</td>\n",
       "    </tr>\n",
       "    <tr>\n",
       "      <th>6</th>\n",
       "      <td>JBL Tune 500BT by Harman Powerful Bass Wireles...</td>\n",
       "      <td>JBL</td>\n",
       "      <td>₹3,199</td>\n",
       "      <td>In stock.</td>\n",
       "      <td>Wednesday, May 25</td>\n",
       "      <td>7 Days Replacement</td>\n",
       "      <td>https://www.amazon.in/JBL-500BT-Powerful-Wirel...</td>\n",
       "    </tr>\n",
       "    <tr>\n",
       "      <th>7</th>\n",
       "      <td>Skullcandy Crusher Wireless Bluetooth Over The...</td>\n",
       "      <td>Crusher Wireless Headphones, 1 Micro USB to US...</td>\n",
       "      <td>₹8,020</td>\n",
       "      <td>In stock.</td>\n",
       "      <td>Thursday, May 26</td>\n",
       "      <td>7 Days Replacement</td>\n",
       "      <td>https://www.amazon.in/Skullcandy-Crusher-Over-...</td>\n",
       "    </tr>\n",
       "    <tr>\n",
       "      <th>8</th>\n",
       "      <td>Sennheiser PXC 550-II Wireless Over The Ear He...</td>\n",
       "      <td>PXC 550-II headphone, Carry case, USB-A to Mic...</td>\n",
       "      <td>₹14,990.00</td>\n",
       "      <td>In stock.</td>\n",
       "      <td>Thursday, May 26</td>\n",
       "      <td>7 Days Replacement</td>\n",
       "      <td>https://www.amazon.in/Sennheiser-550-II-Wirele...</td>\n",
       "    </tr>\n",
       "    <tr>\n",
       "      <th>9</th>\n",
       "      <td>Jabra Elite 45h, On Ear Wireless Headphones wi...</td>\n",
       "      <td>Jabra</td>\n",
       "      <td>₹7,878</td>\n",
       "      <td>In stock.</td>\n",
       "      <td>Saturday, May 28</td>\n",
       "      <td>7 Days Replacement</td>\n",
       "      <td>https://www.amazon.in/Jabra-Elite-45h-Headphon...</td>\n",
       "    </tr>\n",
       "    <tr>\n",
       "      <th>10</th>\n",
       "      <td>Boat Rockerz 450 Bluetooth Wireless On Ear Hea...</td>\n",
       "      <td>BoAt</td>\n",
       "      <td>₹1,199</td>\n",
       "      <td>In stock.</td>\n",
       "      <td>Wednesday, May 25</td>\n",
       "      <td>7 Days Replacement</td>\n",
       "      <td>https://www.amazon.in/Boat-Rockerz-450-Lightwe...</td>\n",
       "    </tr>\n",
       "    <tr>\n",
       "      <th>11</th>\n",
       "      <td>boAt Rockerz 510 Over Ear Bluetooth Headphones...</td>\n",
       "      <td>BoAt</td>\n",
       "      <td>₹1,199</td>\n",
       "      <td>In stock.</td>\n",
       "      <td>Wednesday, May 25</td>\n",
       "      <td>7 Days Replacement</td>\n",
       "      <td>https://www.amazon.in/Rockerz-510-Wireless-Blu...</td>\n",
       "    </tr>\n",
       "    <tr>\n",
       "      <th>12</th>\n",
       "      <td>JBL C100SI In-Ear Headphones with Mic (Red)</td>\n",
       "      <td>JBL</td>\n",
       "      <td>Not Present</td>\n",
       "      <td>Not Present</td>\n",
       "      <td>Not Present</td>\n",
       "      <td>7 Days Replacement</td>\n",
       "      <td>https://www.amazon.in/JBL-C100SI-Ear-Headphone...</td>\n",
       "    </tr>\n",
       "    <tr>\n",
       "      <th>13</th>\n",
       "      <td>Boat Rockerz 550 Bluetooth Wireless Over Ear H...</td>\n",
       "      <td>Rockerz 550, Charging Cable, User Manual, Warr...</td>\n",
       "      <td>₹1,599.00</td>\n",
       "      <td>In stock.</td>\n",
       "      <td>Wednesday, May 25</td>\n",
       "      <td>7 Days Replacement</td>\n",
       "      <td>https://www.amazon.in/boAt-Rockerz-550-Headpho...</td>\n",
       "    </tr>\n",
       "    <tr>\n",
       "      <th>14</th>\n",
       "      <td>boAt Bassheads 900 Wired On Ear Headphones wit...</td>\n",
       "      <td>BoAt</td>\n",
       "      <td>₹599</td>\n",
       "      <td>In stock.</td>\n",
       "      <td>Wednesday, May 25</td>\n",
       "      <td>7 Days Replacement</td>\n",
       "      <td>https://www.amazon.in/Boat-BassHeads-900-Wired...</td>\n",
       "    </tr>\n",
       "    <tr>\n",
       "      <th>15</th>\n",
       "      <td>Boat Rockerz 550 Upto 20 Hours Playback, 50Mm ...</td>\n",
       "      <td>Rockerz 550, Charging Cable, User Manual, Warr...</td>\n",
       "      <td>₹1,599.00</td>\n",
       "      <td>In stock.</td>\n",
       "      <td>Wednesday, May 25</td>\n",
       "      <td>7 Days Replacement</td>\n",
       "      <td>https://www.amazon.in/gp/slredirect/picassoRed...</td>\n",
       "    </tr>\n",
       "    <tr>\n",
       "      <th>16</th>\n",
       "      <td>Boat Rockerz 330 with ASAP Charge, Enhanced Ba...</td>\n",
       "      <td>User Manual, Warranty Card, Additional Earbuds...</td>\n",
       "      <td>₹1,299</td>\n",
       "      <td>In stock.</td>\n",
       "      <td>Wednesday, May 25</td>\n",
       "      <td>7 Days Replacement</td>\n",
       "      <td>https://www.amazon.in/gp/slredirect/picassoRed...</td>\n",
       "    </tr>\n",
       "    <tr>\n",
       "      <th>17</th>\n",
       "      <td>pTron Pride Lite HBE (High Bass Earphones) in-...</td>\n",
       "      <td>1*Wired Earphones</td>\n",
       "      <td>₹199.00</td>\n",
       "      <td>In stock.</td>\n",
       "      <td>Wednesday, May 25</td>\n",
       "      <td>7 Days Replacement</td>\n",
       "      <td>https://www.amazon.in/Pride-Lite-Headphones-Ca...</td>\n",
       "    </tr>\n",
       "    <tr>\n",
       "      <th>18</th>\n",
       "      <td>Boat Rockerz 245V2 Integrated Controls and Lig...</td>\n",
       "      <td>Rockerz 245v2, Additional Earbuds, Charging Ca...</td>\n",
       "      <td>₹899.00</td>\n",
       "      <td>In stock.</td>\n",
       "      <td>Wednesday, May 25</td>\n",
       "      <td>7 Days Replacement</td>\n",
       "      <td>https://www.amazon.in/Rockerz-Bluetooth-Immers...</td>\n",
       "    </tr>\n",
       "    <tr>\n",
       "      <th>19</th>\n",
       "      <td>Boat Rockerz 550 Bluetooth Wireless Over Ear H...</td>\n",
       "      <td>BoAt</td>\n",
       "      <td>₹1,599.00</td>\n",
       "      <td>In stock.</td>\n",
       "      <td>Wednesday, May 25</td>\n",
       "      <td>7 Days Replacement</td>\n",
       "      <td>https://www.amazon.in/Boat-Rockerz-550-Headpho...</td>\n",
       "    </tr>\n",
       "    <tr>\n",
       "      <th>20</th>\n",
       "      <td>Sony MDR-ZX110A Wired On Ear Headphone without...</td>\n",
       "      <td>Sony</td>\n",
       "      <td>₹549</td>\n",
       "      <td>In stock.</td>\n",
       "      <td>Wednesday, May 25</td>\n",
       "      <td>7 Days Replacement</td>\n",
       "      <td>https://www.amazon.in/Sony-MDR-ZX110A-Stereo-H...</td>\n",
       "    </tr>\n",
       "    <tr>\n",
       "      <th>21</th>\n",
       "      <td>JBL C100SI Wired In Ear Headphones with Mic, J...</td>\n",
       "      <td>JBL</td>\n",
       "      <td>Not Present</td>\n",
       "      <td>Not Present</td>\n",
       "      <td>Not Present</td>\n",
       "      <td>7 Days Replacement</td>\n",
       "      <td>https://www.amazon.in/JBL-C100SI-Ear-Headphone...</td>\n",
       "    </tr>\n",
       "    <tr>\n",
       "      <th>22</th>\n",
       "      <td>JBL T460BT by Harman, Wireless On Ear Headphon...</td>\n",
       "      <td>JBL</td>\n",
       "      <td>Not Present</td>\n",
       "      <td>Not Present</td>\n",
       "      <td>Not Present</td>\n",
       "      <td>7 Days Replacement</td>\n",
       "      <td>https://www.amazon.in/JBL-T460BT-Extra-Wireles...</td>\n",
       "    </tr>\n",
       "    <tr>\n",
       "      <th>23</th>\n",
       "      <td>Boat Rockerz 245V2 Bluetooth Wireless in Ear E...</td>\n",
       "      <td>User Manual, Rocker 245v2, Warranty Card, Addi...</td>\n",
       "      <td>₹899.00</td>\n",
       "      <td>In stock.</td>\n",
       "      <td>Wednesday, May 25</td>\n",
       "      <td>7 Days Replacement</td>\n",
       "      <td>https://www.amazon.in/boAt-Rockerz-245v2-Bluet...</td>\n",
       "    </tr>\n",
       "    <tr>\n",
       "      <th>24</th>\n",
       "      <td>Sony WH-CH510, On-Ear Headphones, up-to 35Hrs ...</td>\n",
       "      <td>Sony</td>\n",
       "      <td>₹2,790</td>\n",
       "      <td>In stock.</td>\n",
       "      <td>Wednesday, May 25</td>\n",
       "      <td>7 Days Replacement</td>\n",
       "      <td>https://www.amazon.in/SONY-WH-CH510-Wireless-H...</td>\n",
       "    </tr>\n",
       "    <tr>\n",
       "      <th>25</th>\n",
       "      <td>boAt BassHeads 950v2 Wired Over Ear Headphones...</td>\n",
       "      <td>User Manual, Warranty Card, Bassheads 950v2</td>\n",
       "      <td>₹999</td>\n",
       "      <td>In stock.</td>\n",
       "      <td>Wednesday, May 25</td>\n",
       "      <td>7 Days Replacement</td>\n",
       "      <td>https://www.amazon.in/gp/slredirect/picassoRed...</td>\n",
       "    </tr>\n",
       "    <tr>\n",
       "      <th>26</th>\n",
       "      <td>boAt Bassheads 900 Wired On Ear Headphones wit...</td>\n",
       "      <td>BoAt</td>\n",
       "      <td>₹599</td>\n",
       "      <td>In stock.</td>\n",
       "      <td>Wednesday, May 25</td>\n",
       "      <td>7 Days Replacement</td>\n",
       "      <td>https://www.amazon.in/gp/slredirect/picassoRed...</td>\n",
       "    </tr>\n",
       "  </tbody>\n",
       "</table>\n",
       "</div>"
      ],
      "text/plain": [
       "                                         Product Name  \\\n",
       "0   Boat Rockerz 450 Pro Upto 15 Hours Playback, A...   \n",
       "1   Infinity (JBL) Glide 510, 72 Hrs Playtime with...   \n",
       "2   Boat Rockerz 450 Bluetooth Wireless On Ear Hea...   \n",
       "3   Techobucks High X Bass Wireless Over-Ear Bluet...   \n",
       "4   Boat Bassheads 100 Wired in Ear Earphones with...   \n",
       "5   boAt Rockerz 400 Bluetooth On Ear Headphones w...   \n",
       "6   JBL Tune 500BT by Harman Powerful Bass Wireles...   \n",
       "7   Skullcandy Crusher Wireless Bluetooth Over The...   \n",
       "8   Sennheiser PXC 550-II Wireless Over The Ear He...   \n",
       "9   Jabra Elite 45h, On Ear Wireless Headphones wi...   \n",
       "10  Boat Rockerz 450 Bluetooth Wireless On Ear Hea...   \n",
       "11  boAt Rockerz 510 Over Ear Bluetooth Headphones...   \n",
       "12        JBL C100SI In-Ear Headphones with Mic (Red)   \n",
       "13  Boat Rockerz 550 Bluetooth Wireless Over Ear H...   \n",
       "14  boAt Bassheads 900 Wired On Ear Headphones wit...   \n",
       "15  Boat Rockerz 550 Upto 20 Hours Playback, 50Mm ...   \n",
       "16  Boat Rockerz 330 with ASAP Charge, Enhanced Ba...   \n",
       "17  pTron Pride Lite HBE (High Bass Earphones) in-...   \n",
       "18  Boat Rockerz 245V2 Integrated Controls and Lig...   \n",
       "19  Boat Rockerz 550 Bluetooth Wireless Over Ear H...   \n",
       "20  Sony MDR-ZX110A Wired On Ear Headphone without...   \n",
       "21  JBL C100SI Wired In Ear Headphones with Mic, J...   \n",
       "22  JBL T460BT by Harman, Wireless On Ear Headphon...   \n",
       "23  Boat Rockerz 245V2 Bluetooth Wireless in Ear E...   \n",
       "24  Sony WH-CH510, On-Ear Headphones, up-to 35Hrs ...   \n",
       "25  boAt BassHeads 950v2 Wired Over Ear Headphones...   \n",
       "26  boAt Bassheads 900 Wired On Ear Headphones wit...   \n",
       "\n",
       "                                                Brand        Price  \\\n",
       "0   Rockerz 450 Pro, Charging Cable, User Manual, ...       ₹1,399   \n",
       "1                                            Infinity  Not Present   \n",
       "2                                                BoAt       ₹1,099   \n",
       "3                                               Cable         ₹399   \n",
       "4    Bassheads 100, Additional Earbuds, Warranty Card         ₹379   \n",
       "5                                                BoAt       ₹1,099   \n",
       "6                                                 JBL       ₹3,199   \n",
       "7   Crusher Wireless Headphones, 1 Micro USB to US...       ₹8,020   \n",
       "8   PXC 550-II headphone, Carry case, USB-A to Mic...   ₹14,990.00   \n",
       "9                                               Jabra       ₹7,878   \n",
       "10                                               BoAt       ₹1,199   \n",
       "11                                               BoAt       ₹1,199   \n",
       "12                                                JBL  Not Present   \n",
       "13  Rockerz 550, Charging Cable, User Manual, Warr...    ₹1,599.00   \n",
       "14                                               BoAt         ₹599   \n",
       "15  Rockerz 550, Charging Cable, User Manual, Warr...    ₹1,599.00   \n",
       "16  User Manual, Warranty Card, Additional Earbuds...       ₹1,299   \n",
       "17                                  1*Wired Earphones      ₹199.00   \n",
       "18  Rockerz 245v2, Additional Earbuds, Charging Ca...      ₹899.00   \n",
       "19                                               BoAt    ₹1,599.00   \n",
       "20                                               Sony         ₹549   \n",
       "21                                                JBL  Not Present   \n",
       "22                                                JBL  Not Present   \n",
       "23  User Manual, Rocker 245v2, Warranty Card, Addi...      ₹899.00   \n",
       "24                                               Sony       ₹2,790   \n",
       "25        User Manual, Warranty Card, Bassheads 950v2         ₹999   \n",
       "26                                               BoAt         ₹599   \n",
       "\n",
       "   Availability           Delivery Replacement/Exchange  \\\n",
       "0     In stock.     Friday, May 27   7 Days Replacement   \n",
       "1   Not Present        Not Present   7 Days Replacement   \n",
       "2     In stock.  Wednesday, May 25   7 Days Replacement   \n",
       "3     In stock.     Sunday, May 29          Not Present   \n",
       "4     In stock.        May 25 - 31   7 Days Replacement   \n",
       "5     In stock.  Wednesday, May 25   7 Days Replacement   \n",
       "6     In stock.  Wednesday, May 25   7 Days Replacement   \n",
       "7     In stock.   Thursday, May 26   7 Days Replacement   \n",
       "8     In stock.   Thursday, May 26   7 Days Replacement   \n",
       "9     In stock.   Saturday, May 28   7 Days Replacement   \n",
       "10    In stock.  Wednesday, May 25   7 Days Replacement   \n",
       "11    In stock.  Wednesday, May 25   7 Days Replacement   \n",
       "12  Not Present        Not Present   7 Days Replacement   \n",
       "13    In stock.  Wednesday, May 25   7 Days Replacement   \n",
       "14    In stock.  Wednesday, May 25   7 Days Replacement   \n",
       "15    In stock.  Wednesday, May 25   7 Days Replacement   \n",
       "16    In stock.  Wednesday, May 25   7 Days Replacement   \n",
       "17    In stock.  Wednesday, May 25   7 Days Replacement   \n",
       "18    In stock.  Wednesday, May 25   7 Days Replacement   \n",
       "19    In stock.  Wednesday, May 25   7 Days Replacement   \n",
       "20    In stock.  Wednesday, May 25   7 Days Replacement   \n",
       "21  Not Present        Not Present   7 Days Replacement   \n",
       "22  Not Present        Not Present   7 Days Replacement   \n",
       "23    In stock.  Wednesday, May 25   7 Days Replacement   \n",
       "24    In stock.  Wednesday, May 25   7 Days Replacement   \n",
       "25    In stock.  Wednesday, May 25   7 Days Replacement   \n",
       "26    In stock.  Wednesday, May 25   7 Days Replacement   \n",
       "\n",
       "                                                  URL  \n",
       "0   https://www.amazon.in/gp/slredirect/picassoRed...  \n",
       "1   https://www.amazon.in/gp/slredirect/picassoRed...  \n",
       "2   https://www.amazon.in/Rockerz-450-Wireless-Blu...  \n",
       "3   https://www.amazon.in/Techobucks-Wireless-Over...  \n",
       "4   https://www.amazon.in/Bassheads-100-Wired-Earp...  \n",
       "5   https://www.amazon.in/Boat-Rockerz-400-Bluetoo...  \n",
       "6   https://www.amazon.in/JBL-500BT-Powerful-Wirel...  \n",
       "7   https://www.amazon.in/Skullcandy-Crusher-Over-...  \n",
       "8   https://www.amazon.in/Sennheiser-550-II-Wirele...  \n",
       "9   https://www.amazon.in/Jabra-Elite-45h-Headphon...  \n",
       "10  https://www.amazon.in/Boat-Rockerz-450-Lightwe...  \n",
       "11  https://www.amazon.in/Rockerz-510-Wireless-Blu...  \n",
       "12  https://www.amazon.in/JBL-C100SI-Ear-Headphone...  \n",
       "13  https://www.amazon.in/boAt-Rockerz-550-Headpho...  \n",
       "14  https://www.amazon.in/Boat-BassHeads-900-Wired...  \n",
       "15  https://www.amazon.in/gp/slredirect/picassoRed...  \n",
       "16  https://www.amazon.in/gp/slredirect/picassoRed...  \n",
       "17  https://www.amazon.in/Pride-Lite-Headphones-Ca...  \n",
       "18  https://www.amazon.in/Rockerz-Bluetooth-Immers...  \n",
       "19  https://www.amazon.in/Boat-Rockerz-550-Headpho...  \n",
       "20  https://www.amazon.in/Sony-MDR-ZX110A-Stereo-H...  \n",
       "21  https://www.amazon.in/JBL-C100SI-Ear-Headphone...  \n",
       "22  https://www.amazon.in/JBL-T460BT-Extra-Wireles...  \n",
       "23  https://www.amazon.in/boAt-Rockerz-245v2-Bluet...  \n",
       "24  https://www.amazon.in/SONY-WH-CH510-Wireless-H...  \n",
       "25  https://www.amazon.in/gp/slredirect/picassoRed...  \n",
       "26  https://www.amazon.in/gp/slredirect/picassoRed...  "
      ]
     },
     "execution_count": 79,
     "metadata": {},
     "output_type": "execute_result"
    }
   ],
   "source": [
    "#dataframe\n",
    "product = pd.DataFrame({})\n",
    "product[\"Product Name\"] = product_name\n",
    "product[\"Brand\"] = brand\n",
    "product[\"Price\"] = price\n",
    "product[\"Availability\"] = availablity\n",
    "product[\"Delivery\"] = delivery\n",
    "product[\"Replacement/Exchange\"] =rep\n",
    "product[\"URL\"] = product_url\n",
    "product"
   ]
  },
  {
   "cell_type": "code",
   "execution_count": 88,
   "id": "85704ad5",
   "metadata": {},
   "outputs": [],
   "source": [
    "driver.close()"
   ]
  },
  {
   "cell_type": "markdown",
   "id": "fdd418bc",
   "metadata": {},
   "source": [
    "# 3. images.google.com ---  scraping cars, fruits, machine learning etc images"
   ]
  },
  {
   "cell_type": "code",
   "execution_count": 131,
   "id": "6cb24a14",
   "metadata": {},
   "outputs": [],
   "source": [
    "driver = webdriver.Chrome(\"C:\\web driver\\chromedriver\")"
   ]
  },
  {
   "cell_type": "code",
   "execution_count": 132,
   "id": "f8bbfcdc",
   "metadata": {},
   "outputs": [],
   "source": [
    "driver.get(\"http:\\\\images.google.com\")"
   ]
  },
  {
   "cell_type": "code",
   "execution_count": 133,
   "id": "7bbdf1af",
   "metadata": {},
   "outputs": [],
   "source": [
    "#cars is given as input\n",
    "search_images = driver.find_element_by_xpath(\"/html/body/div[1]/div[3]/form/div[1]/div[1]/div[1]/div/div[2]/input\")\n",
    "search_images.send_keys('cars')"
   ]
  },
  {
   "cell_type": "code",
   "execution_count": 134,
   "id": "b48cff24",
   "metadata": {},
   "outputs": [],
   "source": [
    "search_button = driver.find_element_by_xpath(\"/html/body/div[1]/div[3]/form/div[1]/div[1]/div[1]/button\")\n",
    "search_button.click()"
   ]
  },
  {
   "cell_type": "code",
   "execution_count": 136,
   "id": "94fbeaa7",
   "metadata": {},
   "outputs": [
    {
     "name": "stdout",
     "output_type": "stream",
     "text": [
      "Downloading 0 of 10 images\n",
      "Downloading 1 of 10 images\n",
      "Downloading 2 of 10 images\n",
      "Downloading 3 of 10 images\n",
      "Downloading 4 of 10 images\n",
      "Downloading 5 of 10 images\n",
      "Downloading 6 of 10 images\n",
      "Downloading 7 of 10 images\n",
      "Downloading 8 of 10 images\n",
      "Downloading 9 of 10 images\n",
      "Downloading 10 of 10 images\n"
     ]
    }
   ],
   "source": [
    "# 20 time we scroll down by 100 in order to get more images\n",
    "\n",
    "for _ in range(20):\n",
    "    driver.execute_script(\"window.scrollBy(0,1000)\")\n",
    "    \n",
    "images = driver.find_elements_by_xpath(\"//img[@class='rg_i Q4LuWd']\")\n",
    "\n",
    "img_urls = []\n",
    "img_data = []\n",
    "for image in images:\n",
    "    source = image.get_attribute('src')\n",
    "    if source is not None:\n",
    "        if(source[0:4] == 'http'):\n",
    "            img_urls.append(source)\n",
    "\n",
    "for i in range(len(img_urls)):\n",
    "    if i > 10:\n",
    "        break;\n",
    "    print(\"Downloading {0} of {1} images\".format(i,10))\n",
    "    response = requests.get(img_urls[i])\n",
    "    file = open(r\"C:\\Users\\poovi\\OneDrive\\Pictures\\assignment)\"+str(i)+\".jpg\",'wb')\n",
    "    file.write(response.content)"
   ]
  },
  {
   "cell_type": "code",
   "execution_count": 137,
   "id": "17eb70cb",
   "metadata": {},
   "outputs": [],
   "source": [
    "driver.close()"
   ]
  },
  {
   "cell_type": "code",
   "execution_count": 143,
   "id": "8f0962da",
   "metadata": {},
   "outputs": [],
   "source": [
    "driver = webdriver.Chrome(\"C:\\web driver\\chromedriver\")\n",
    "driver.get(\"http:\\\\images.google.com\")\n",
    "search_images = driver.find_element_by_xpath(\"/html/body/div[1]/div[3]/form/div[1]/div[1]/div[1]/div/div[2]/input\")\n",
    "search_images.send_keys('fruits')\n",
    "search_button = driver.find_element_by_xpath(\"/html/body/div[1]/div[3]/form/div[1]/div[1]/div[1]/button\")\n",
    "search_button.click()"
   ]
  },
  {
   "cell_type": "code",
   "execution_count": 145,
   "id": "7478b38c",
   "metadata": {},
   "outputs": [],
   "source": [
    "for _ in range(20):\n",
    "    driver.execute_script(\"window.scrollBy(0,1000)\")\n",
    "    \n",
    "images = driver.find_elements_by_xpath(\"//img[@class='rg_i Q4LuWd']\")\n",
    "\n",
    "img_urls = []\n",
    "img_data = []\n",
    "for image in images:\n",
    "    source = image.get_attribute('src')\n",
    "    if source is not None:\n",
    "        if(source[0:10] == 'http'):\n",
    "            img_urls.append(source)\n",
    "\n",
    "for i in range(len(img_urls)):\n",
    "    if i > 10:\n",
    "        break;\n",
    "    print(\"Downloading {0} of {1} images\".format(i,10))\n",
    "    response = requests.get(img_urls[i])\n",
    "    file = open(r\"C:\\Users\\poovi\\OneDrive\\Pictures\\assignment)\"+str(i)+\".jpg\",'wb')\n",
    "    file.write(response.content)"
   ]
  },
  {
   "cell_type": "code",
   "execution_count": 146,
   "id": "38b128b2",
   "metadata": {},
   "outputs": [],
   "source": [
    "driver.close()"
   ]
  },
  {
   "cell_type": "code",
   "execution_count": 127,
   "id": "fff8b98b",
   "metadata": {},
   "outputs": [],
   "source": [
    "driver = webdriver.Chrome(\"C:\\web driver\\chromedriver\")\n",
    "driver.get(\"https://images.google.com/\")\n",
    "search_images = driver.find_element_by_xpath(\"/html/body/div[1]/div[3]/form/div[1]/div[1]/div[1]/div/div[2]/input\")\n",
    "search_images.send_keys('machine learning')\n",
    "search_button = driver.find_element_by_xpath(\"/html/body/div[1]/div[3]/form/div[1]/div[1]/div[1]/button\")\n",
    "search_button.click()"
   ]
  },
  {
   "cell_type": "code",
   "execution_count": 129,
   "id": "452f4be5",
   "metadata": {},
   "outputs": [
    {
     "name": "stdout",
     "output_type": "stream",
     "text": [
      "Downloading 0 of 10 images\n",
      "Downloading 1 of 10 images\n",
      "Downloading 2 of 10 images\n",
      "Downloading 3 of 10 images\n",
      "Downloading 4 of 10 images\n",
      "Downloading 5 of 10 images\n",
      "Downloading 6 of 10 images\n",
      "Downloading 7 of 10 images\n",
      "Downloading 8 of 10 images\n",
      "Downloading 9 of 10 images\n",
      "Downloading 10 of 10 images\n"
     ]
    }
   ],
   "source": [
    "for _ in range(20):\n",
    "    driver.execute_script(\"window.scrollBy(0,1000)\")\n",
    "images = driver.find_elements_by_xpath(\"//img[@class='rg_i Q4LuWd']\")\n",
    "img_urls=[]\n",
    "img_data=[]\n",
    "for image in images:\n",
    "    source = image.get_attribute('src')\n",
    "    if source is not None:\n",
    "        if(source[0:4] == 'http'):\n",
    "            img_urls.append(source)\n",
    "for i in range(len(img_urls)):\n",
    "    if i > 10:\n",
    "        break;\n",
    "    print(\"Downloading {0} of {1} images\".format(i,10))\n",
    "    response = requests.get(img_urls[i])\n",
    "    file = open(r\"C:\\Users\\poovi\\OneDrive\\Pictures\\assignment)\"+str(i)+\".jpg\",'wb')\n",
    "    file.write(response.content)"
   ]
  },
  {
   "cell_type": "code",
   "execution_count": 130,
   "id": "bfa07388",
   "metadata": {},
   "outputs": [],
   "source": [
    "driver.close()"
   ]
  },
  {
   "cell_type": "markdown",
   "id": "69df20e2",
   "metadata": {},
   "source": [
    "# 4. Flipkart.com -- scrap smartphone -- google pixel"
   ]
  },
  {
   "cell_type": "code",
   "execution_count": 59,
   "id": "4724fa76",
   "metadata": {},
   "outputs": [],
   "source": [
    "driver = webdriver.Chrome('C:\\web driver\\chromedriver')"
   ]
  },
  {
   "cell_type": "code",
   "execution_count": 60,
   "id": "12dca763",
   "metadata": {},
   "outputs": [],
   "source": [
    "driver.get('https:\\\\www.flipkart.com')"
   ]
  },
  {
   "cell_type": "code",
   "execution_count": 61,
   "id": "8e4b66a7",
   "metadata": {},
   "outputs": [],
   "source": [
    "close_button = driver.find_element_by_xpath(\"/html/body/div[2]/div/div/button\")\n",
    "close_button.click()"
   ]
  },
  {
   "cell_type": "code",
   "execution_count": 70,
   "id": "ec512e74",
   "metadata": {},
   "outputs": [],
   "source": [
    "search_product = driver.find_element_by_xpath(\"/html/body/div[1]/div/div[1]/div[1]/div[2]/div[2]/form/div/div/input\")\n",
    "search_product.send_keys('google pixel smartphone')"
   ]
  },
  {
   "cell_type": "code",
   "execution_count": 71,
   "id": "5b9386a0",
   "metadata": {},
   "outputs": [],
   "source": [
    "search_button = driver.find_element_by_xpath(\"/html/body/div[1]/div/div[1]/div[1]/div[2]/div[2]/form/div/button\")\n",
    "search_button.click()"
   ]
  },
  {
   "cell_type": "code",
   "execution_count": 64,
   "id": "012cf7ee",
   "metadata": {},
   "outputs": [
    {
     "data": {
      "text/plain": [
       "24"
      ]
     },
     "execution_count": 64,
     "metadata": {},
     "output_type": "execute_result"
    }
   ],
   "source": [
    "mobile_name = []\n",
    "mobile = driver.find_elements_by_xpath(\"//div[@class='_4rR01T']\")\n",
    "for i in mobile:\n",
    "    if i.text == None:\n",
    "        print(\"--\")\n",
    "    else:\n",
    "        mobile_name.append(i.text)\n",
    "len(mobile_name)"
   ]
  },
  {
   "cell_type": "code",
   "execution_count": 65,
   "id": "a6638c28",
   "metadata": {},
   "outputs": [],
   "source": [
    "url_path=[]\n",
    "url = driver.find_elements_by_xpath(\"//a[@class='_1fQZEK']\")\n",
    "for i in url:\n",
    "    url_path.append(i.get_attribute('href'))\n",
    "len(url_path)\n",
    "\n",
    "brand_name = []\n",
    "display = []\n",
    "color = []\n",
    "for i in url_path:\n",
    "    driver.get(i)\n",
    "    time.sleep(5)\n",
    "   \n",
    "        \n",
    "    try:\n",
    "        dis = driver.find_element_by_xpath(\"/html/body/div[1]/div/div[3]/div[1]/div[2]/div[8]/div[1]/div/div[2]/ul/li[2]\")\n",
    "        display.append(dis.text)\n",
    "    except NoSuchElementException:\n",
    "        display.append(\"-\")\n",
    "        \n",
    "   "
   ]
  },
  {
   "cell_type": "code",
   "execution_count": 72,
   "id": "ac18eb7c",
   "metadata": {},
   "outputs": [
    {
     "data": {
      "text/plain": [
       "24"
      ]
     },
     "execution_count": 72,
     "metadata": {},
     "output_type": "execute_result"
    }
   ],
   "source": [
    "storage = []\n",
    "memory = driver.find_elements_by_xpath(\"//ul[@class='_1xgFaf']/li[1]\")\n",
    "for i in memory:\n",
    "    if i.text == None:\n",
    "        print(\"--\")\n",
    "    else:\n",
    "        storage.append(i.text)\n",
    "len(storage)"
   ]
  },
  {
   "cell_type": "code",
   "execution_count": 73,
   "id": "8c1b6f08",
   "metadata": {},
   "outputs": [
    {
     "data": {
      "text/plain": [
       "24"
      ]
     },
     "execution_count": 73,
     "metadata": {},
     "output_type": "execute_result"
    }
   ],
   "source": [
    "mobile_display = []\n",
    "display = driver.find_elements_by_xpath(\"//ul[@class='_1xgFaf']/li[2]\")\n",
    "for i in display:\n",
    "    if i.text == None:\n",
    "        print(\"--\")\n",
    "    else:\n",
    "        mobile_display.append(i.text)\n",
    "len(mobile_display)"
   ]
  },
  {
   "cell_type": "code",
   "execution_count": 74,
   "id": "2a1a4aec",
   "metadata": {},
   "outputs": [
    {
     "data": {
      "text/plain": [
       "24"
      ]
     },
     "execution_count": 74,
     "metadata": {},
     "output_type": "execute_result"
    }
   ],
   "source": [
    "mobile_camera= []\n",
    "camera = driver.find_elements_by_xpath(\"//ul[@class='_1xgFaf']/li[3]\")\n",
    "for i in camera:\n",
    "    if i.text == None:\n",
    "        print(\"--\")\n",
    "    else:\n",
    "        mobile_camera.append(i.text)\n",
    "len(mobile_camera)"
   ]
  },
  {
   "cell_type": "code",
   "execution_count": 75,
   "id": "825cbddc",
   "metadata": {},
   "outputs": [
    {
     "data": {
      "text/plain": [
       "24"
      ]
     },
     "execution_count": 75,
     "metadata": {},
     "output_type": "execute_result"
    }
   ],
   "source": [
    "mobile_battery = []\n",
    "battery = driver.find_elements_by_xpath(\"//ul[@class='_1xgFaf']/li[4]\")\n",
    "for i in battery:\n",
    "    if i.text == None:\n",
    "        print(\"--\")\n",
    "    else:\n",
    "        mobile_battery.append(i.text)\n",
    "len(mobile_battery)"
   ]
  },
  {
   "cell_type": "code",
   "execution_count": 76,
   "id": "50be67e0",
   "metadata": {},
   "outputs": [
    {
     "data": {
      "text/plain": [
       "24"
      ]
     },
     "execution_count": 76,
     "metadata": {},
     "output_type": "execute_result"
    }
   ],
   "source": [
    "mobile_processor = []\n",
    "processor = driver.find_elements_by_xpath(\"//ul[@class='_1xgFaf']/li[5]\")\n",
    "for i in processor:\n",
    "    if i.text == None:\n",
    "        print(\"--\")\n",
    "    else:\n",
    "        mobile_processor.append(i.text)\n",
    "len(mobile_processor)"
   ]
  },
  {
   "cell_type": "code",
   "execution_count": 77,
   "id": "b2a73987",
   "metadata": {},
   "outputs": [
    {
     "data": {
      "text/plain": [
       "24"
      ]
     },
     "execution_count": 77,
     "metadata": {},
     "output_type": "execute_result"
    }
   ],
   "source": [
    "mobile_price = []\n",
    "price = driver.find_elements_by_xpath(\"//div[@class='_30jeq3 _1_WHN1']\")\n",
    "for i in price:\n",
    "    if i.text == None:\n",
    "        print(\"--\")\n",
    "    else:\n",
    "        mobile_price.append(i.text)\n",
    "len(mobile_price)"
   ]
  },
  {
   "cell_type": "code",
   "execution_count": 80,
   "id": "e8f422f2",
   "metadata": {},
   "outputs": [
    {
     "data": {
      "text/html": [
       "<div>\n",
       "<style scoped>\n",
       "    .dataframe tbody tr th:only-of-type {\n",
       "        vertical-align: middle;\n",
       "    }\n",
       "\n",
       "    .dataframe tbody tr th {\n",
       "        vertical-align: top;\n",
       "    }\n",
       "\n",
       "    .dataframe thead th {\n",
       "        text-align: right;\n",
       "    }\n",
       "</style>\n",
       "<table border=\"1\" class=\"dataframe\">\n",
       "  <thead>\n",
       "    <tr style=\"text-align: right;\">\n",
       "      <th></th>\n",
       "      <th>Brand Name &amp; Color</th>\n",
       "      <th>Display</th>\n",
       "      <th>Storage</th>\n",
       "      <th>Camera</th>\n",
       "      <th>Battery</th>\n",
       "      <th>Processor</th>\n",
       "      <th>Price</th>\n",
       "      <th>URL</th>\n",
       "    </tr>\n",
       "  </thead>\n",
       "  <tbody>\n",
       "    <tr>\n",
       "      <th>0</th>\n",
       "      <td>Google Pixel 4a (Just Black, 128 GB)</td>\n",
       "      <td>14.76 cm (5.81 inch) Full HD+ Display</td>\n",
       "      <td>6 GB RAM | 128 GB ROM</td>\n",
       "      <td>12.2MP Rear Camera | 8MP Front Camera</td>\n",
       "      <td>3140 mAh Battery</td>\n",
       "      <td>Qualcomm Snapdragon 730G Processor</td>\n",
       "      <td>₹31,999</td>\n",
       "      <td>https://www.flipkart.com/google-pixel-4a-just-...</td>\n",
       "    </tr>\n",
       "    <tr>\n",
       "      <th>1</th>\n",
       "      <td>Google Pixel 3a (Clearly White, 64 GB)</td>\n",
       "      <td>14.22 cm (5.6 inch) Full HD+ Display</td>\n",
       "      <td>4 GB RAM | 64 GB ROM</td>\n",
       "      <td>12.2MP Rear Camera | 8MP Front Camera</td>\n",
       "      <td>3000 mAh Battery</td>\n",
       "      <td>Qualcomm Snapdragon 670 Processor</td>\n",
       "      <td>₹39,749</td>\n",
       "      <td>https://www.flipkart.com/google-pixel-3a-clear...</td>\n",
       "    </tr>\n",
       "    <tr>\n",
       "      <th>2</th>\n",
       "      <td>Google Pixel (Quite Black, 32 GB)</td>\n",
       "      <td>12.7 cm (5 inch) Full HD Display</td>\n",
       "      <td>4 GB RAM | 32 GB ROM</td>\n",
       "      <td>12.3MP Rear Camera | 8MP Front Camera</td>\n",
       "      <td>2770 mAh Battery</td>\n",
       "      <td>Qualcomm Snapdragon 821 64-bit Quad Core 2.15G...</td>\n",
       "      <td>₹57,000</td>\n",
       "      <td>https://www.flipkart.com/google-pixel-quite-bl...</td>\n",
       "    </tr>\n",
       "    <tr>\n",
       "      <th>3</th>\n",
       "      <td>Google Pixel (Very Silver, 128 GB)</td>\n",
       "      <td>12.7 cm (5 inch) Full HD Display</td>\n",
       "      <td>4 GB RAM | 128 GB ROM</td>\n",
       "      <td>12.3MP Rear Camera | 8MP Front Camera</td>\n",
       "      <td>2770 mAh Battery</td>\n",
       "      <td>Qualcomm Snapdragon 821 64-bit Quad Core 2.15G...</td>\n",
       "      <td>₹66,000</td>\n",
       "      <td>https://www.flipkart.com/google-pixel-very-sil...</td>\n",
       "    </tr>\n",
       "    <tr>\n",
       "      <th>4</th>\n",
       "      <td>Google Pixel (Quite Black, 128 GB)</td>\n",
       "      <td>12.7 cm (5 inch) Full HD Display</td>\n",
       "      <td>4 GB RAM | 128 GB ROM</td>\n",
       "      <td>12.3MP Rear Camera | 8MP Front Camera</td>\n",
       "      <td>2770 mAh Battery</td>\n",
       "      <td>Qualcomm Snapdragon 821 64-bit Processor</td>\n",
       "      <td>₹66,000</td>\n",
       "      <td>https://www.flipkart.com/google-pixel-quite-bl...</td>\n",
       "    </tr>\n",
       "    <tr>\n",
       "      <th>5</th>\n",
       "      <td>Google Pixel (Very Silver, 32 GB)</td>\n",
       "      <td>12.7 cm (5 inch) Full HD Display</td>\n",
       "      <td>4 GB RAM | 32 GB ROM</td>\n",
       "      <td>12.3MP Rear Camera | 8MP Front Camera</td>\n",
       "      <td>2770 mAh Battery</td>\n",
       "      <td>Qualcomm Snapdragon 821 64-bit Quad Core 2.15G...</td>\n",
       "      <td>₹57,000</td>\n",
       "      <td>https://www.flipkart.com/google-pixel-very-sil...</td>\n",
       "    </tr>\n",
       "    <tr>\n",
       "      <th>6</th>\n",
       "      <td>Google Pixel 2 (Clearly White, 64 GB)</td>\n",
       "      <td>12.7 cm (5 inch) Full HD Display</td>\n",
       "      <td>4 GB RAM | 64 GB ROM</td>\n",
       "      <td>12.2MP Rear Camera | 8MP Front Camera</td>\n",
       "      <td>2700 mAh Battery</td>\n",
       "      <td>Qualcomm Snapdragon 835 64-bit Octa Core Proce...</td>\n",
       "      <td>₹61,000</td>\n",
       "      <td>https://www.flipkart.com/google-pixel-2-clearl...</td>\n",
       "    </tr>\n",
       "    <tr>\n",
       "      <th>7</th>\n",
       "      <td>Google Pixel XL (Very Silver, 128 GB)</td>\n",
       "      <td>13.97 cm (5.5 inch) Quad HD Display</td>\n",
       "      <td>4 GB RAM | 128 GB ROM</td>\n",
       "      <td>12.3MP Rear Camera | 8MP Front Camera</td>\n",
       "      <td>3450 mAh Battery</td>\n",
       "      <td>Qualcomm Snapdragon 821 64-bit Quad Core 2.15G...</td>\n",
       "      <td>₹76,000</td>\n",
       "      <td>https://www.flipkart.com/google-pixel-xl-very-...</td>\n",
       "    </tr>\n",
       "    <tr>\n",
       "      <th>8</th>\n",
       "      <td>Google Pixel 2 (Just Black, 128 GB)</td>\n",
       "      <td>12.7 cm (5 inch) Full HD Display</td>\n",
       "      <td>4 GB RAM | 128 GB ROM</td>\n",
       "      <td>12.2MP Rear Camera | 8MP Front Camera</td>\n",
       "      <td>2700 mAh Battery</td>\n",
       "      <td>Qualcomm Snapdragon 835 64-bit Octa Core Proce...</td>\n",
       "      <td>₹70,000</td>\n",
       "      <td>https://www.flipkart.com/google-pixel-2-just-b...</td>\n",
       "    </tr>\n",
       "    <tr>\n",
       "      <th>9</th>\n",
       "      <td>Google Pixel 2 (Clearly White, 128 GB)</td>\n",
       "      <td>12.7 cm (5 inch) Full HD Display</td>\n",
       "      <td>4 GB RAM | 128 GB ROM</td>\n",
       "      <td>12.2MP Rear Camera | 8MP Front Camera</td>\n",
       "      <td>2700 mAh Battery</td>\n",
       "      <td>Qualcomm Snapdragon 835 64-bit Octa Core Proce...</td>\n",
       "      <td>₹70,000</td>\n",
       "      <td>https://www.flipkart.com/google-pixel-2-clearl...</td>\n",
       "    </tr>\n",
       "    <tr>\n",
       "      <th>10</th>\n",
       "      <td>Google Pixel 3 (Not Pink, 128 GB)</td>\n",
       "      <td>13.97 cm (5.5 inch) Full HD+ Display</td>\n",
       "      <td>4 GB RAM | 128 GB ROM</td>\n",
       "      <td>12.2MP Rear Camera | 8MP + 8MP Dual Front Camera</td>\n",
       "      <td>2915 mAh Battery</td>\n",
       "      <td>Qualcomm Snapdragon 845 64-bit Processor</td>\n",
       "      <td>₹80,000</td>\n",
       "      <td>https://www.flipkart.com/google-pixel-3-not-pi...</td>\n",
       "    </tr>\n",
       "    <tr>\n",
       "      <th>11</th>\n",
       "      <td>Google Pixel 3 XL (Just Black, 64 GB)</td>\n",
       "      <td>16.0 cm (6.3 inch) Quad HD+ Display</td>\n",
       "      <td>4 GB RAM | 64 GB ROM</td>\n",
       "      <td>12.2MP Rear Camera | 8MP + 8MP Dual Front Camera</td>\n",
       "      <td>3430 mAh Battery</td>\n",
       "      <td>Qualcomm Snapdragon 845 64-bit Processor</td>\n",
       "      <td>₹83,000</td>\n",
       "      <td>https://www.flipkart.com/google-pixel-3-xl-jus...</td>\n",
       "    </tr>\n",
       "    <tr>\n",
       "      <th>12</th>\n",
       "      <td>Google Pixel 3 XL (Clearly White, 128 GB)</td>\n",
       "      <td>16.0 cm (6.3 inch) Quad HD+ Display</td>\n",
       "      <td>4 GB RAM | 128 GB ROM</td>\n",
       "      <td>12.2MP Rear Camera | 8MP + 8MP Dual Front Camera</td>\n",
       "      <td>3430 mAh Battery</td>\n",
       "      <td>Qualcomm Snapdragon 845 64-bit Processor</td>\n",
       "      <td>₹92,000</td>\n",
       "      <td>https://www.flipkart.com/google-pixel-3-xl-cle...</td>\n",
       "    </tr>\n",
       "    <tr>\n",
       "      <th>13</th>\n",
       "      <td>Google Pixel 3 XL (Just Black, 128 GB)</td>\n",
       "      <td>16.0 cm (6.3 inch) Quad HD+ Display</td>\n",
       "      <td>4 GB RAM | 128 GB ROM</td>\n",
       "      <td>12.2MP Rear Camera | 8MP + 8MP Dual Front Camera</td>\n",
       "      <td>3430 mAh Battery</td>\n",
       "      <td>Qualcomm Snapdragon 845 64-bit Processor</td>\n",
       "      <td>₹92,000</td>\n",
       "      <td>https://www.flipkart.com/google-pixel-3-xl-jus...</td>\n",
       "    </tr>\n",
       "    <tr>\n",
       "      <th>14</th>\n",
       "      <td>Google Pixel 3 XL (Not Pink, 64 GB)</td>\n",
       "      <td>16.0 cm (6.3 inch) Quad HD+ Display</td>\n",
       "      <td>4 GB RAM | 64 GB ROM</td>\n",
       "      <td>12.2MP Rear Camera | 8MP + 8MP Dual Front Camera</td>\n",
       "      <td>3430 mAh Battery</td>\n",
       "      <td>Qualcomm Snapdragon 845 64-bit Processor</td>\n",
       "      <td>₹83,000</td>\n",
       "      <td>https://www.flipkart.com/google-pixel-3-xl-not...</td>\n",
       "    </tr>\n",
       "    <tr>\n",
       "      <th>15</th>\n",
       "      <td>Google Pixel 3 (Not Pink, 64 GB)</td>\n",
       "      <td>13.97 cm (5.5 inch) Full HD+ Display</td>\n",
       "      <td>4 GB RAM | 64 GB ROM</td>\n",
       "      <td>12.2MP Rear Camera | 8MP + 8MP Dual Front Camera</td>\n",
       "      <td>2915 mAh Battery</td>\n",
       "      <td>Qualcomm Snapdragon 845 64-bit Processor</td>\n",
       "      <td>₹71,000</td>\n",
       "      <td>https://www.flipkart.com/google-pixel-3-not-pi...</td>\n",
       "    </tr>\n",
       "    <tr>\n",
       "      <th>16</th>\n",
       "      <td>Google Pixel 3 (Clearly White, 64 GB)</td>\n",
       "      <td>13.97 cm (5.5 inch) Full HD+ Display</td>\n",
       "      <td>4 GB RAM | 64 GB ROM</td>\n",
       "      <td>12.2MP Rear Camera | 8MP + 8MP Dual Front Camera</td>\n",
       "      <td>2915 mAh Battery</td>\n",
       "      <td>Qualcomm Snapdragon 845 64-bit Processor</td>\n",
       "      <td>₹71,000</td>\n",
       "      <td>https://www.flipkart.com/google-pixel-3-clearl...</td>\n",
       "    </tr>\n",
       "    <tr>\n",
       "      <th>17</th>\n",
       "      <td>Google Pixel XL (Very Silver, 32 GB)</td>\n",
       "      <td>13.97 cm (5.5 inch) Quad HD Display</td>\n",
       "      <td>4 GB RAM | 32 GB ROM</td>\n",
       "      <td>12.3MP Rear Camera | 8MP Front Camera</td>\n",
       "      <td>3450 mAh Battery</td>\n",
       "      <td>Qualcomm Snapdragon 821 64-bit Quad Core 2.15G...</td>\n",
       "      <td>₹67,000</td>\n",
       "      <td>https://www.flipkart.com/google-pixel-xl-very-...</td>\n",
       "    </tr>\n",
       "    <tr>\n",
       "      <th>18</th>\n",
       "      <td>Google Pixel XL (Quite Black, 32 GB)</td>\n",
       "      <td>13.97 cm (5.5 inch) Quad HD Display</td>\n",
       "      <td>4 GB RAM | 32 GB ROM</td>\n",
       "      <td>12.3MP Rear Camera | 8MP Front Camera</td>\n",
       "      <td>3450 mAh Battery</td>\n",
       "      <td>Qualcomm Snapdragon 821 64-bit Processor</td>\n",
       "      <td>₹67,000</td>\n",
       "      <td>https://www.flipkart.com/google-pixel-xl-quite...</td>\n",
       "    </tr>\n",
       "    <tr>\n",
       "      <th>19</th>\n",
       "      <td>Google Pixel 3 (Just Black, 64 GB)</td>\n",
       "      <td>13.97 cm (5.5 inch) Full HD+ Display</td>\n",
       "      <td>4 GB RAM | 64 GB ROM</td>\n",
       "      <td>12.2MP Rear Camera | 8MP + 8MP Dual Front Camera</td>\n",
       "      <td>2915 mAh Battery</td>\n",
       "      <td>Qualcomm Snapdragon 845 64-bit Processor</td>\n",
       "      <td>₹71,000</td>\n",
       "      <td>https://www.flipkart.com/google-pixel-3-just-b...</td>\n",
       "    </tr>\n",
       "    <tr>\n",
       "      <th>20</th>\n",
       "      <td>Google Pixel 3 (Just Black, 128 GB)</td>\n",
       "      <td>13.97 cm (5.5 inch) Full HD+ Display</td>\n",
       "      <td>4 GB RAM | 128 GB ROM</td>\n",
       "      <td>12.2MP Rear Camera | 8MP + 8MP Dual Front Camera</td>\n",
       "      <td>2915 mAh Battery</td>\n",
       "      <td>Qualcomm Snapdragon 845 64-bit Processor</td>\n",
       "      <td>₹80,000</td>\n",
       "      <td>https://www.flipkart.com/google-pixel-3-just-b...</td>\n",
       "    </tr>\n",
       "    <tr>\n",
       "      <th>21</th>\n",
       "      <td>Google Pixel 3 (Clearly White, 128 GB)</td>\n",
       "      <td>13.97 cm (5.5 inch) Full HD+ Display</td>\n",
       "      <td>4 GB RAM | 128 GB ROM</td>\n",
       "      <td>12.2MP Rear Camera | 8MP + 8MP Dual Front Camera</td>\n",
       "      <td>2915 mAh Battery</td>\n",
       "      <td>Qualcomm Snapdragon 845 64-bit Processor</td>\n",
       "      <td>₹80,000</td>\n",
       "      <td>https://www.flipkart.com/google-pixel-3-clearl...</td>\n",
       "    </tr>\n",
       "    <tr>\n",
       "      <th>22</th>\n",
       "      <td>Google Pixel 2 XL (Just Black, 128 GB)</td>\n",
       "      <td>15.24 cm (6 inch) Quad HD+ Display</td>\n",
       "      <td>4 GB RAM | 128 GB ROM</td>\n",
       "      <td>12.2MP Rear Camera | 8MP Front Camera</td>\n",
       "      <td>3520 mAh Battery</td>\n",
       "      <td>Qualcomm Snapdragon 835 64-bit Octa Core Proce...</td>\n",
       "      <td>₹82,000</td>\n",
       "      <td>https://www.flipkart.com/google-pixel-2-xl-jus...</td>\n",
       "    </tr>\n",
       "    <tr>\n",
       "      <th>23</th>\n",
       "      <td>Google Pixel 2 (Kinda Blue, 64 GB)</td>\n",
       "      <td>12.7 cm (5 inch) Full HD Display</td>\n",
       "      <td>4 GB RAM | 64 GB ROM</td>\n",
       "      <td>12.2MP Rear Camera | 8MP Front Camera</td>\n",
       "      <td>2700 mAh Battery</td>\n",
       "      <td>Qualcomm Snapdragon 835 64-bit Octa Core Proce...</td>\n",
       "      <td>₹61,000</td>\n",
       "      <td>https://www.flipkart.com/google-pixel-2-kinda-...</td>\n",
       "    </tr>\n",
       "  </tbody>\n",
       "</table>\n",
       "</div>"
      ],
      "text/plain": [
       "                           Brand Name & Color  \\\n",
       "0        Google Pixel 4a (Just Black, 128 GB)   \n",
       "1      Google Pixel 3a (Clearly White, 64 GB)   \n",
       "2           Google Pixel (Quite Black, 32 GB)   \n",
       "3          Google Pixel (Very Silver, 128 GB)   \n",
       "4          Google Pixel (Quite Black, 128 GB)   \n",
       "5           Google Pixel (Very Silver, 32 GB)   \n",
       "6       Google Pixel 2 (Clearly White, 64 GB)   \n",
       "7       Google Pixel XL (Very Silver, 128 GB)   \n",
       "8         Google Pixel 2 (Just Black, 128 GB)   \n",
       "9      Google Pixel 2 (Clearly White, 128 GB)   \n",
       "10          Google Pixel 3 (Not Pink, 128 GB)   \n",
       "11      Google Pixel 3 XL (Just Black, 64 GB)   \n",
       "12  Google Pixel 3 XL (Clearly White, 128 GB)   \n",
       "13     Google Pixel 3 XL (Just Black, 128 GB)   \n",
       "14        Google Pixel 3 XL (Not Pink, 64 GB)   \n",
       "15           Google Pixel 3 (Not Pink, 64 GB)   \n",
       "16      Google Pixel 3 (Clearly White, 64 GB)   \n",
       "17       Google Pixel XL (Very Silver, 32 GB)   \n",
       "18       Google Pixel XL (Quite Black, 32 GB)   \n",
       "19         Google Pixel 3 (Just Black, 64 GB)   \n",
       "20        Google Pixel 3 (Just Black, 128 GB)   \n",
       "21     Google Pixel 3 (Clearly White, 128 GB)   \n",
       "22     Google Pixel 2 XL (Just Black, 128 GB)   \n",
       "23         Google Pixel 2 (Kinda Blue, 64 GB)   \n",
       "\n",
       "                                  Display                Storage  \\\n",
       "0   14.76 cm (5.81 inch) Full HD+ Display  6 GB RAM | 128 GB ROM   \n",
       "1    14.22 cm (5.6 inch) Full HD+ Display   4 GB RAM | 64 GB ROM   \n",
       "2        12.7 cm (5 inch) Full HD Display   4 GB RAM | 32 GB ROM   \n",
       "3        12.7 cm (5 inch) Full HD Display  4 GB RAM | 128 GB ROM   \n",
       "4        12.7 cm (5 inch) Full HD Display  4 GB RAM | 128 GB ROM   \n",
       "5        12.7 cm (5 inch) Full HD Display   4 GB RAM | 32 GB ROM   \n",
       "6        12.7 cm (5 inch) Full HD Display   4 GB RAM | 64 GB ROM   \n",
       "7     13.97 cm (5.5 inch) Quad HD Display  4 GB RAM | 128 GB ROM   \n",
       "8        12.7 cm (5 inch) Full HD Display  4 GB RAM | 128 GB ROM   \n",
       "9        12.7 cm (5 inch) Full HD Display  4 GB RAM | 128 GB ROM   \n",
       "10   13.97 cm (5.5 inch) Full HD+ Display  4 GB RAM | 128 GB ROM   \n",
       "11    16.0 cm (6.3 inch) Quad HD+ Display   4 GB RAM | 64 GB ROM   \n",
       "12    16.0 cm (6.3 inch) Quad HD+ Display  4 GB RAM | 128 GB ROM   \n",
       "13    16.0 cm (6.3 inch) Quad HD+ Display  4 GB RAM | 128 GB ROM   \n",
       "14    16.0 cm (6.3 inch) Quad HD+ Display   4 GB RAM | 64 GB ROM   \n",
       "15   13.97 cm (5.5 inch) Full HD+ Display   4 GB RAM | 64 GB ROM   \n",
       "16   13.97 cm (5.5 inch) Full HD+ Display   4 GB RAM | 64 GB ROM   \n",
       "17    13.97 cm (5.5 inch) Quad HD Display   4 GB RAM | 32 GB ROM   \n",
       "18    13.97 cm (5.5 inch) Quad HD Display   4 GB RAM | 32 GB ROM   \n",
       "19   13.97 cm (5.5 inch) Full HD+ Display   4 GB RAM | 64 GB ROM   \n",
       "20   13.97 cm (5.5 inch) Full HD+ Display  4 GB RAM | 128 GB ROM   \n",
       "21   13.97 cm (5.5 inch) Full HD+ Display  4 GB RAM | 128 GB ROM   \n",
       "22     15.24 cm (6 inch) Quad HD+ Display  4 GB RAM | 128 GB ROM   \n",
       "23       12.7 cm (5 inch) Full HD Display   4 GB RAM | 64 GB ROM   \n",
       "\n",
       "                                              Camera           Battery  \\\n",
       "0              12.2MP Rear Camera | 8MP Front Camera  3140 mAh Battery   \n",
       "1              12.2MP Rear Camera | 8MP Front Camera  3000 mAh Battery   \n",
       "2              12.3MP Rear Camera | 8MP Front Camera  2770 mAh Battery   \n",
       "3              12.3MP Rear Camera | 8MP Front Camera  2770 mAh Battery   \n",
       "4              12.3MP Rear Camera | 8MP Front Camera  2770 mAh Battery   \n",
       "5              12.3MP Rear Camera | 8MP Front Camera  2770 mAh Battery   \n",
       "6              12.2MP Rear Camera | 8MP Front Camera  2700 mAh Battery   \n",
       "7              12.3MP Rear Camera | 8MP Front Camera  3450 mAh Battery   \n",
       "8              12.2MP Rear Camera | 8MP Front Camera  2700 mAh Battery   \n",
       "9              12.2MP Rear Camera | 8MP Front Camera  2700 mAh Battery   \n",
       "10  12.2MP Rear Camera | 8MP + 8MP Dual Front Camera  2915 mAh Battery   \n",
       "11  12.2MP Rear Camera | 8MP + 8MP Dual Front Camera  3430 mAh Battery   \n",
       "12  12.2MP Rear Camera | 8MP + 8MP Dual Front Camera  3430 mAh Battery   \n",
       "13  12.2MP Rear Camera | 8MP + 8MP Dual Front Camera  3430 mAh Battery   \n",
       "14  12.2MP Rear Camera | 8MP + 8MP Dual Front Camera  3430 mAh Battery   \n",
       "15  12.2MP Rear Camera | 8MP + 8MP Dual Front Camera  2915 mAh Battery   \n",
       "16  12.2MP Rear Camera | 8MP + 8MP Dual Front Camera  2915 mAh Battery   \n",
       "17             12.3MP Rear Camera | 8MP Front Camera  3450 mAh Battery   \n",
       "18             12.3MP Rear Camera | 8MP Front Camera  3450 mAh Battery   \n",
       "19  12.2MP Rear Camera | 8MP + 8MP Dual Front Camera  2915 mAh Battery   \n",
       "20  12.2MP Rear Camera | 8MP + 8MP Dual Front Camera  2915 mAh Battery   \n",
       "21  12.2MP Rear Camera | 8MP + 8MP Dual Front Camera  2915 mAh Battery   \n",
       "22             12.2MP Rear Camera | 8MP Front Camera  3520 mAh Battery   \n",
       "23             12.2MP Rear Camera | 8MP Front Camera  2700 mAh Battery   \n",
       "\n",
       "                                            Processor    Price  \\\n",
       "0                  Qualcomm Snapdragon 730G Processor  ₹31,999   \n",
       "1                   Qualcomm Snapdragon 670 Processor  ₹39,749   \n",
       "2   Qualcomm Snapdragon 821 64-bit Quad Core 2.15G...  ₹57,000   \n",
       "3   Qualcomm Snapdragon 821 64-bit Quad Core 2.15G...  ₹66,000   \n",
       "4            Qualcomm Snapdragon 821 64-bit Processor  ₹66,000   \n",
       "5   Qualcomm Snapdragon 821 64-bit Quad Core 2.15G...  ₹57,000   \n",
       "6   Qualcomm Snapdragon 835 64-bit Octa Core Proce...  ₹61,000   \n",
       "7   Qualcomm Snapdragon 821 64-bit Quad Core 2.15G...  ₹76,000   \n",
       "8   Qualcomm Snapdragon 835 64-bit Octa Core Proce...  ₹70,000   \n",
       "9   Qualcomm Snapdragon 835 64-bit Octa Core Proce...  ₹70,000   \n",
       "10           Qualcomm Snapdragon 845 64-bit Processor  ₹80,000   \n",
       "11           Qualcomm Snapdragon 845 64-bit Processor  ₹83,000   \n",
       "12           Qualcomm Snapdragon 845 64-bit Processor  ₹92,000   \n",
       "13           Qualcomm Snapdragon 845 64-bit Processor  ₹92,000   \n",
       "14           Qualcomm Snapdragon 845 64-bit Processor  ₹83,000   \n",
       "15           Qualcomm Snapdragon 845 64-bit Processor  ₹71,000   \n",
       "16           Qualcomm Snapdragon 845 64-bit Processor  ₹71,000   \n",
       "17  Qualcomm Snapdragon 821 64-bit Quad Core 2.15G...  ₹67,000   \n",
       "18           Qualcomm Snapdragon 821 64-bit Processor  ₹67,000   \n",
       "19           Qualcomm Snapdragon 845 64-bit Processor  ₹71,000   \n",
       "20           Qualcomm Snapdragon 845 64-bit Processor  ₹80,000   \n",
       "21           Qualcomm Snapdragon 845 64-bit Processor  ₹80,000   \n",
       "22  Qualcomm Snapdragon 835 64-bit Octa Core Proce...  ₹82,000   \n",
       "23  Qualcomm Snapdragon 835 64-bit Octa Core Proce...  ₹61,000   \n",
       "\n",
       "                                                  URL  \n",
       "0   https://www.flipkart.com/google-pixel-4a-just-...  \n",
       "1   https://www.flipkart.com/google-pixel-3a-clear...  \n",
       "2   https://www.flipkart.com/google-pixel-quite-bl...  \n",
       "3   https://www.flipkart.com/google-pixel-very-sil...  \n",
       "4   https://www.flipkart.com/google-pixel-quite-bl...  \n",
       "5   https://www.flipkart.com/google-pixel-very-sil...  \n",
       "6   https://www.flipkart.com/google-pixel-2-clearl...  \n",
       "7   https://www.flipkart.com/google-pixel-xl-very-...  \n",
       "8   https://www.flipkart.com/google-pixel-2-just-b...  \n",
       "9   https://www.flipkart.com/google-pixel-2-clearl...  \n",
       "10  https://www.flipkart.com/google-pixel-3-not-pi...  \n",
       "11  https://www.flipkart.com/google-pixel-3-xl-jus...  \n",
       "12  https://www.flipkart.com/google-pixel-3-xl-cle...  \n",
       "13  https://www.flipkart.com/google-pixel-3-xl-jus...  \n",
       "14  https://www.flipkart.com/google-pixel-3-xl-not...  \n",
       "15  https://www.flipkart.com/google-pixel-3-not-pi...  \n",
       "16  https://www.flipkart.com/google-pixel-3-clearl...  \n",
       "17  https://www.flipkart.com/google-pixel-xl-very-...  \n",
       "18  https://www.flipkart.com/google-pixel-xl-quite...  \n",
       "19  https://www.flipkart.com/google-pixel-3-just-b...  \n",
       "20  https://www.flipkart.com/google-pixel-3-just-b...  \n",
       "21  https://www.flipkart.com/google-pixel-3-clearl...  \n",
       "22  https://www.flipkart.com/google-pixel-2-xl-jus...  \n",
       "23  https://www.flipkart.com/google-pixel-2-kinda-...  "
      ]
     },
     "execution_count": 80,
     "metadata": {},
     "output_type": "execute_result"
    }
   ],
   "source": [
    "smartphone = pd.DataFrame({})\n",
    "smartphone[\"Brand Name & Color\"] = mobile_name\n",
    "smartphone[\"Display\"] = display\n",
    "smartphone[\"Storage\"] = storage\n",
    "smartphone[\"Display\"] = mobile_display\n",
    "smartphone[\"Camera\"] = mobile_camera\n",
    "smartphone[\"Battery\"] = mobile_battery\n",
    "smartphone[\"Processor\"] = mobile_processor\n",
    "smartphone[\"Price\"] = mobile_price\n",
    "smartphone[\"URL\"] = url_path\n",
    "smartphone"
   ]
  },
  {
   "cell_type": "code",
   "execution_count": 129,
   "id": "c74a049d",
   "metadata": {},
   "outputs": [],
   "source": [
    "driver.close()"
   ]
  },
  {
   "cell_type": "markdown",
   "id": "e6fbfa13",
   "metadata": {},
   "source": [
    "# 5. Scrap latitude and longitude Location of a city"
   ]
  },
  {
   "cell_type": "code",
   "execution_count": 70,
   "id": "b87f2fed",
   "metadata": {},
   "outputs": [],
   "source": [
    "driver = webdriver.Chrome(\"C:\\web driver\\chromedriver\")"
   ]
  },
  {
   "cell_type": "code",
   "execution_count": 71,
   "id": "d7f3da6f",
   "metadata": {},
   "outputs": [],
   "source": [
    "wait = WebDriverWait(driver,10)\n",
    "driver.get(\"https:\\\\www.googlemaps.com\")\n",
    "wait.until(EC.element_to_be_clickable((By.ID,\"searchboxinput\"))).send_keys(\"Bangalore\")\n",
    "wait.until(EC.element_to_be_clickable((By.ID,\"searchbox-searchbutton\"))).click()"
   ]
  },
  {
   "cell_type": "code",
   "execution_count": 75,
   "id": "9c542e74",
   "metadata": {},
   "outputs": [
    {
     "name": "stdout",
     "output_type": "stream",
     "text": [
      "URL Extracted : https://www.google.com/maps/place/Bengaluru,+Karnataka/@12.9538477,77.350722,10z/data=!3m1!4b1!4m5!3m4!1s0x3bae1670c9b44e6d:0xf8dfc3e8517e4fe0!8m2!3d12.9715987!4d77.5945627\n",
      "Latitiude = 12.9538477,Longitude=77.350722\n"
     ]
    }
   ],
   "source": [
    "# input location = Bangalore\n",
    "try:\n",
    "    url_string = driver.current_url\n",
    "    print(\"URL Extracted :\",url_string)\n",
    "    lat_long = re.findall(r'@(.*)data',url_string)\n",
    "    if len(lat_long):\n",
    "        lat_long_list = lat_long[0].split(\",\")\n",
    "        if len(lat_long_list)>=2:\n",
    "            lat = lat_long_list[0]\n",
    "            long = lat_long_list[1]\n",
    "        print(\"Latitiude = {},Longitude={}\".format(lat,long))\n",
    "except Exception as e:\n",
    "    print(\"error:\",str(e))"
   ]
  },
  {
   "cell_type": "code",
   "execution_count": 76,
   "id": "69a97488",
   "metadata": {},
   "outputs": [],
   "source": [
    "driver.close()"
   ]
  },
  {
   "cell_type": "markdown",
   "id": "34eece76",
   "metadata": {},
   "source": [
    "# 6. Trak.in --- funding details second quarter"
   ]
  },
  {
   "cell_type": "code",
   "execution_count": 77,
   "id": "a07e6767",
   "metadata": {},
   "outputs": [],
   "source": [
    "driver = webdriver.Chrome(\"C:\\web driver\\chromedriver\")"
   ]
  },
  {
   "cell_type": "code",
   "execution_count": 78,
   "id": "222d6c88",
   "metadata": {},
   "outputs": [],
   "source": [
    "driver.get(\"https://trak.in/india-startup-funding-investment-2015/\")"
   ]
  },
  {
   "cell_type": "code",
   "execution_count": 94,
   "id": "dcfa517b",
   "metadata": {},
   "outputs": [
    {
     "data": {
      "text/plain": [
       "18"
      ]
     },
     "execution_count": 94,
     "metadata": {},
     "output_type": "execute_result"
    }
   ],
   "source": [
    "funding_dates = []\n",
    "dates = driver.find_elements_by_xpath(\"//td[@class='column-2']\")\n",
    "for i in dates[5:23]:\n",
    "    funding_dates.append(i.text)\n",
    "len(funding_dates)"
   ]
  },
  {
   "cell_type": "code",
   "execution_count": 95,
   "id": "60d0190d",
   "metadata": {},
   "outputs": [
    {
     "data": {
      "text/plain": [
       "18"
      ]
     },
     "execution_count": 95,
     "metadata": {},
     "output_type": "execute_result"
    }
   ],
   "source": [
    "company = driver.find_elements_by_xpath(\"//td[@class='column-3']\")\n",
    "company_name = []\n",
    "for i in company[5:23]:\n",
    "    company_name.append(i.text)\n",
    "len(company_name)\n"
   ]
  },
  {
   "cell_type": "code",
   "execution_count": 85,
   "id": "1de49907",
   "metadata": {},
   "outputs": [
    {
     "data": {
      "text/plain": [
       "18"
      ]
     },
     "execution_count": 85,
     "metadata": {},
     "output_type": "execute_result"
    }
   ],
   "source": [
    "industry = driver.find_elements_by_xpath(\"//td[@class='column-4']\")\n",
    "industry_type = []\n",
    "for i in industry[5:23]:\n",
    "    industry_type.append(i.text)\n",
    "len(industry_type)"
   ]
  },
  {
   "cell_type": "code",
   "execution_count": 86,
   "id": "5ceec0f1",
   "metadata": {},
   "outputs": [
    {
     "data": {
      "text/plain": [
       "18"
      ]
     },
     "execution_count": 86,
     "metadata": {},
     "output_type": "execute_result"
    }
   ],
   "source": [
    "sub_industry = driver.find_elements_by_xpath(\"//td[@class='column-5']\")\n",
    "subindustry_type = []\n",
    "for i in sub_industry[5:23]:\n",
    "    subindustry_type.append(i.text)\n",
    "len(subindustry_type)"
   ]
  },
  {
   "cell_type": "code",
   "execution_count": 87,
   "id": "bf2e9d1f",
   "metadata": {},
   "outputs": [
    {
     "data": {
      "text/plain": [
       "18"
      ]
     },
     "execution_count": 87,
     "metadata": {},
     "output_type": "execute_result"
    }
   ],
   "source": [
    "location = driver.find_elements_by_xpath(\"//td[@class='column-6']\")\n",
    "startup_location = []\n",
    "for i in location[5:23]:\n",
    "    startup_location.append(i.text)\n",
    "len(startup_location)"
   ]
  },
  {
   "cell_type": "code",
   "execution_count": 89,
   "id": "01741078",
   "metadata": {},
   "outputs": [
    {
     "data": {
      "text/plain": [
       "18"
      ]
     },
     "execution_count": 89,
     "metadata": {},
     "output_type": "execute_result"
    }
   ],
   "source": [
    "investor_name = []\n",
    "name = driver.find_elements_by_xpath(\"//td[@class='column-7']\")\n",
    "for i in name[5:23]:\n",
    "    investor_name.append(i.text)\n",
    "len(investor_name)"
   ]
  },
  {
   "cell_type": "code",
   "execution_count": 90,
   "id": "d079f750",
   "metadata": {},
   "outputs": [
    {
     "data": {
      "text/plain": [
       "18"
      ]
     },
     "execution_count": 90,
     "metadata": {},
     "output_type": "execute_result"
    }
   ],
   "source": [
    "investment_type = []\n",
    "type = driver.find_elements_by_xpath(\"//td[@class='column-8']\")\n",
    "for i in type[5:23]:\n",
    "    investment_type.append(i.text)\n",
    "len(investment_type)"
   ]
  },
  {
   "cell_type": "code",
   "execution_count": 91,
   "id": "fd6bb2aa",
   "metadata": {},
   "outputs": [
    {
     "data": {
      "text/plain": [
       "18"
      ]
     },
     "execution_count": 91,
     "metadata": {},
     "output_type": "execute_result"
    }
   ],
   "source": [
    "amount = []\n",
    "invested_amount = driver.find_elements_by_xpath(\"//td[@class='column-9']\")\n",
    "for i in invested_amount[5:23]:\n",
    "    amount.append(i.text)\n",
    "len(amount)"
   ]
  },
  {
   "cell_type": "code",
   "execution_count": 97,
   "id": "3284c05d",
   "metadata": {},
   "outputs": [
    {
     "data": {
      "text/html": [
       "<div>\n",
       "<style scoped>\n",
       "    .dataframe tbody tr th:only-of-type {\n",
       "        vertical-align: middle;\n",
       "    }\n",
       "\n",
       "    .dataframe tbody tr th {\n",
       "        vertical-align: top;\n",
       "    }\n",
       "\n",
       "    .dataframe thead th {\n",
       "        text-align: right;\n",
       "    }\n",
       "</style>\n",
       "<table border=\"1\" class=\"dataframe\">\n",
       "  <thead>\n",
       "    <tr style=\"text-align: right;\">\n",
       "      <th></th>\n",
       "      <th>Funding Date</th>\n",
       "      <th>Company Name</th>\n",
       "      <th>Industry</th>\n",
       "      <th>Sub Industry</th>\n",
       "      <th>Location</th>\n",
       "      <th>Investor Name</th>\n",
       "      <th>Investment Type</th>\n",
       "      <th>Amount</th>\n",
       "    </tr>\n",
       "  </thead>\n",
       "  <tbody>\n",
       "    <tr>\n",
       "      <th>0</th>\n",
       "      <td>04/03/2021</td>\n",
       "      <td>DealShare</td>\n",
       "      <td>E-commerce</td>\n",
       "      <td>Online shopping platform</td>\n",
       "      <td>Jaipur, Rajasthan</td>\n",
       "      <td>Innoven Capital</td>\n",
       "      <td>Debt Financing</td>\n",
       "      <td>250,000,000</td>\n",
       "    </tr>\n",
       "    <tr>\n",
       "      <th>1</th>\n",
       "      <td>31/03/2021</td>\n",
       "      <td>Uniphore</td>\n",
       "      <td>Technology</td>\n",
       "      <td>Conversational Service Automation (CSA)</td>\n",
       "      <td>Palo Alto</td>\n",
       "      <td>Sorenson Capital Partners</td>\n",
       "      <td>Series D</td>\n",
       "      <td>140,000,000</td>\n",
       "    </tr>\n",
       "    <tr>\n",
       "      <th>2</th>\n",
       "      <td>30/03/2021</td>\n",
       "      <td>Dunzo</td>\n",
       "      <td>E-commerce</td>\n",
       "      <td>Hyper-local delivery app</td>\n",
       "      <td>Bengaluru</td>\n",
       "      <td>Krishtal Advisors Pte Ltd</td>\n",
       "      <td>Series E</td>\n",
       "      <td>8,000,000</td>\n",
       "    </tr>\n",
       "    <tr>\n",
       "      <th>3</th>\n",
       "      <td>30/03/2021</td>\n",
       "      <td>BYJU’S</td>\n",
       "      <td>Edu-tech</td>\n",
       "      <td>Online tutoring</td>\n",
       "      <td>Bengaluru</td>\n",
       "      <td>MC Global Edtech, B Capital, Baron, others</td>\n",
       "      <td>Series F</td>\n",
       "      <td>460,000,000</td>\n",
       "    </tr>\n",
       "    <tr>\n",
       "      <th>4</th>\n",
       "      <td>23/03/2021</td>\n",
       "      <td>SkilloVilla</td>\n",
       "      <td>Edu-tech</td>\n",
       "      <td>Career and job-oriented upskilling.</td>\n",
       "      <td>Bengaluru</td>\n",
       "      <td>Titan Capital, others</td>\n",
       "      <td>Seed</td>\n",
       "      <td>300,000,000</td>\n",
       "    </tr>\n",
       "    <tr>\n",
       "      <th>5</th>\n",
       "      <td>25/03/2021</td>\n",
       "      <td>CityMall</td>\n",
       "      <td>E-commerce</td>\n",
       "      <td>Social ecommerce and online grocery platform</td>\n",
       "      <td>Gurgaon</td>\n",
       "      <td>Accel Partners</td>\n",
       "      <td>Series A</td>\n",
       "      <td>11,000,000</td>\n",
       "    </tr>\n",
       "    <tr>\n",
       "      <th>6</th>\n",
       "      <td>26/03/2021</td>\n",
       "      <td>DotPe</td>\n",
       "      <td>FinTech</td>\n",
       "      <td>Commerce and payments platform to offline ente...</td>\n",
       "      <td>Gurgaon</td>\n",
       "      <td>PayU</td>\n",
       "      <td>Series A</td>\n",
       "      <td>27,500,000</td>\n",
       "    </tr>\n",
       "    <tr>\n",
       "      <th>7</th>\n",
       "      <td>11/02/2021</td>\n",
       "      <td>Doubtnut</td>\n",
       "      <td>Edu Tech</td>\n",
       "      <td>E-Learning Platform</td>\n",
       "      <td>Gurgaon</td>\n",
       "      <td>SIG Global, Sequoia Capital, WaterBridge Ventu...</td>\n",
       "      <td>Series B</td>\n",
       "      <td>2,500,000</td>\n",
       "    </tr>\n",
       "    <tr>\n",
       "      <th>8</th>\n",
       "      <td>22/02/2021</td>\n",
       "      <td>Zomato</td>\n",
       "      <td>Hospitality</td>\n",
       "      <td>Online Food Delivery Platform</td>\n",
       "      <td>Gurgaon</td>\n",
       "      <td>Tiger Global, Kora</td>\n",
       "      <td>Venture</td>\n",
       "      <td>250,000,000</td>\n",
       "    </tr>\n",
       "    <tr>\n",
       "      <th>9</th>\n",
       "      <td>19/02/2021</td>\n",
       "      <td>Fingerlix</td>\n",
       "      <td>Hospitality</td>\n",
       "      <td>Semi-cooked food delivery app</td>\n",
       "      <td>Mumbai</td>\n",
       "      <td>Rhodium Trust, Accel Partners and Swiggy</td>\n",
       "      <td>Series C</td>\n",
       "      <td>2,747,045.20</td>\n",
       "    </tr>\n",
       "    <tr>\n",
       "      <th>10</th>\n",
       "      <td>17/02/2021</td>\n",
       "      <td>Zolve</td>\n",
       "      <td>FinTech</td>\n",
       "      <td>Global Neobank Venture</td>\n",
       "      <td>Mumbai</td>\n",
       "      <td>Accel Partners and Lightspeed Venture Partners</td>\n",
       "      <td>Seed</td>\n",
       "      <td>1,50,00,000</td>\n",
       "    </tr>\n",
       "    <tr>\n",
       "      <th>11</th>\n",
       "      <td>15/02/2021</td>\n",
       "      <td>KreditBee</td>\n",
       "      <td>Finance</td>\n",
       "      <td>Digital lending platform</td>\n",
       "      <td>Bengaluru</td>\n",
       "      <td>Azim Premji’s PremjiInvest and South Korea’s M...</td>\n",
       "      <td>Series C</td>\n",
       "      <td>75,000,000</td>\n",
       "    </tr>\n",
       "    <tr>\n",
       "      <th>12</th>\n",
       "      <td>12/02/2021</td>\n",
       "      <td>Pepperfry</td>\n",
       "      <td>E-commerce</td>\n",
       "      <td>Multi-brand furniture brand</td>\n",
       "      <td>Mumbai</td>\n",
       "      <td>InnoVen Capital</td>\n",
       "      <td>Debt Financing</td>\n",
       "      <td>4,773,958</td>\n",
       "    </tr>\n",
       "    <tr>\n",
       "      <th>13</th>\n",
       "      <td>12/02/2021</td>\n",
       "      <td>Grofers</td>\n",
       "      <td>E-Commerce</td>\n",
       "      <td>Online supermarket</td>\n",
       "      <td>Gurgaon</td>\n",
       "      <td>SoftBank Vision Fund (SVF)</td>\n",
       "      <td>Unspecified</td>\n",
       "      <td>55,000,000</td>\n",
       "    </tr>\n",
       "    <tr>\n",
       "      <th>14</th>\n",
       "      <td>09/02/2021</td>\n",
       "      <td>Nothing</td>\n",
       "      <td>Technology</td>\n",
       "      <td>Consumer Technology Venture</td>\n",
       "      <td>London</td>\n",
       "      <td>GV</td>\n",
       "      <td>Series A</td>\n",
       "      <td>15,000,000</td>\n",
       "    </tr>\n",
       "    <tr>\n",
       "      <th>15</th>\n",
       "      <td>09/02/2021</td>\n",
       "      <td>SplashLearn</td>\n",
       "      <td>EdTech</td>\n",
       "      <td>Game-based learning programme</td>\n",
       "      <td>Gurgaon</td>\n",
       "      <td>Owl Ventures</td>\n",
       "      <td>Series C</td>\n",
       "      <td>18,000,000</td>\n",
       "    </tr>\n",
       "    <tr>\n",
       "      <th>16</th>\n",
       "      <td>15/01/2021</td>\n",
       "      <td>Digit Insurance</td>\n",
       "      <td>Financial Services</td>\n",
       "      <td>Insurance Services</td>\n",
       "      <td>Bengaluru</td>\n",
       "      <td>A91 Partners, Faering Capital, TVS Capital Funds</td>\n",
       "      <td>Venture</td>\n",
       "      <td>1,80,00,000</td>\n",
       "    </tr>\n",
       "    <tr>\n",
       "      <th>17</th>\n",
       "      <td>28/01/2021</td>\n",
       "      <td>Bombay Shaving Company</td>\n",
       "      <td>Consumer Goods Company</td>\n",
       "      <td>Shave care, beard care, and skincare products</td>\n",
       "      <td>New Delhi</td>\n",
       "      <td>Reckitt Benckiser</td>\n",
       "      <td>Venture</td>\n",
       "      <td>6,172,258.50</td>\n",
       "    </tr>\n",
       "  </tbody>\n",
       "</table>\n",
       "</div>"
      ],
      "text/plain": [
       "   Funding Date            Company Name                Industry  \\\n",
       "0    04/03/2021               DealShare              E-commerce   \n",
       "1    31/03/2021                Uniphore              Technology   \n",
       "2    30/03/2021                   Dunzo              E-commerce   \n",
       "3    30/03/2021                  BYJU’S                Edu-tech   \n",
       "4    23/03/2021             SkilloVilla                Edu-tech   \n",
       "5    25/03/2021                CityMall              E-commerce   \n",
       "6    26/03/2021                   DotPe                 FinTech   \n",
       "7    11/02/2021                Doubtnut                Edu Tech   \n",
       "8    22/02/2021                  Zomato             Hospitality   \n",
       "9    19/02/2021               Fingerlix             Hospitality   \n",
       "10   17/02/2021                   Zolve                 FinTech   \n",
       "11   15/02/2021               KreditBee                 Finance   \n",
       "12   12/02/2021               Pepperfry              E-commerce   \n",
       "13   12/02/2021                 Grofers              E-Commerce   \n",
       "14   09/02/2021                 Nothing              Technology   \n",
       "15   09/02/2021             SplashLearn                  EdTech   \n",
       "16   15/01/2021         Digit Insurance      Financial Services   \n",
       "17   28/01/2021  Bombay Shaving Company  Consumer Goods Company   \n",
       "\n",
       "                                         Sub Industry           Location  \\\n",
       "0                            Online shopping platform  Jaipur, Rajasthan   \n",
       "1             Conversational Service Automation (CSA)          Palo Alto   \n",
       "2                            Hyper-local delivery app          Bengaluru   \n",
       "3                                     Online tutoring          Bengaluru   \n",
       "4                 Career and job-oriented upskilling.          Bengaluru   \n",
       "5        Social ecommerce and online grocery platform            Gurgaon   \n",
       "6   Commerce and payments platform to offline ente...            Gurgaon   \n",
       "7                                 E-Learning Platform            Gurgaon   \n",
       "8                       Online Food Delivery Platform            Gurgaon   \n",
       "9                       Semi-cooked food delivery app             Mumbai   \n",
       "10                             Global Neobank Venture             Mumbai   \n",
       "11                           Digital lending platform          Bengaluru   \n",
       "12                        Multi-brand furniture brand             Mumbai   \n",
       "13                                 Online supermarket            Gurgaon   \n",
       "14                        Consumer Technology Venture             London   \n",
       "15                      Game-based learning programme            Gurgaon   \n",
       "16                                 Insurance Services          Bengaluru   \n",
       "17      Shave care, beard care, and skincare products          New Delhi   \n",
       "\n",
       "                                        Investor Name Investment Type  \\\n",
       "0                                     Innoven Capital  Debt Financing   \n",
       "1                           Sorenson Capital Partners        Series D   \n",
       "2                           Krishtal Advisors Pte Ltd        Series E   \n",
       "3          MC Global Edtech, B Capital, Baron, others        Series F   \n",
       "4                               Titan Capital, others            Seed   \n",
       "5                                      Accel Partners        Series A   \n",
       "6                                                PayU        Series A   \n",
       "7   SIG Global, Sequoia Capital, WaterBridge Ventu...        Series B   \n",
       "8                                  Tiger Global, Kora         Venture   \n",
       "9            Rhodium Trust, Accel Partners and Swiggy        Series C   \n",
       "10     Accel Partners and Lightspeed Venture Partners            Seed   \n",
       "11  Azim Premji’s PremjiInvest and South Korea’s M...        Series C   \n",
       "12                                    InnoVen Capital  Debt Financing   \n",
       "13                         SoftBank Vision Fund (SVF)     Unspecified   \n",
       "14                                                 GV        Series A   \n",
       "15                                       Owl Ventures        Series C   \n",
       "16   A91 Partners, Faering Capital, TVS Capital Funds         Venture   \n",
       "17                                  Reckitt Benckiser         Venture   \n",
       "\n",
       "          Amount  \n",
       "0    250,000,000  \n",
       "1    140,000,000  \n",
       "2      8,000,000  \n",
       "3    460,000,000  \n",
       "4    300,000,000  \n",
       "5     11,000,000  \n",
       "6     27,500,000  \n",
       "7      2,500,000  \n",
       "8    250,000,000  \n",
       "9   2,747,045.20  \n",
       "10   1,50,00,000  \n",
       "11    75,000,000  \n",
       "12     4,773,958  \n",
       "13    55,000,000  \n",
       "14    15,000,000  \n",
       "15    18,000,000  \n",
       "16   1,80,00,000  \n",
       "17  6,172,258.50  "
      ]
     },
     "execution_count": 97,
     "metadata": {},
     "output_type": "execute_result"
    }
   ],
   "source": [
    "funding_deals = pd.DataFrame({})\n",
    "funding_deals[\"Funding Date\"] = funding_dates\n",
    "funding_deals[\"Company Name\"] =company_name\n",
    "funding_deals[\"Industry\"] = industry_type\n",
    "funding_deals[\"Sub Industry\"] =subindustry_type\n",
    "funding_deals[\"Location\"] =startup_location\n",
    "funding_deals[\"Investor Name\"] = investor_name\n",
    "funding_deals[\"Investment Type\"] = investment_type\n",
    "funding_deals['Amount'] =amount\n",
    "funding_deals"
   ]
  },
  {
   "cell_type": "code",
   "execution_count": 184,
   "id": "22d82225",
   "metadata": {},
   "outputs": [],
   "source": [
    "driver.close()"
   ]
  },
  {
   "cell_type": "markdown",
   "id": "fe19de4a",
   "metadata": {},
   "source": [
    "# 7. digit.in --- best gaming laptop"
   ]
  },
  {
   "cell_type": "code",
   "execution_count": 120,
   "id": "66d3aa73",
   "metadata": {},
   "outputs": [],
   "source": [
    "driver = webdriver.Chrome('C:\\web driver\\chromedriver')"
   ]
  },
  {
   "cell_type": "code",
   "execution_count": 121,
   "id": "11e4f123",
   "metadata": {},
   "outputs": [],
   "source": [
    "driver.get('https:\\\\digit.in')"
   ]
  },
  {
   "cell_type": "code",
   "execution_count": 122,
   "id": "9e88a41d",
   "metadata": {},
   "outputs": [],
   "source": [
    "search_laptops = driver.find_element_by_xpath('/html/body/div[1]/div/div[4]/ul/li[3]/a')\n",
    "search_laptops.click()"
   ]
  },
  {
   "cell_type": "code",
   "execution_count": 123,
   "id": "5ccd23ed",
   "metadata": {},
   "outputs": [],
   "source": [
    "gaming_laptop = driver.find_element_by_xpath('/html/body/div[6]/div/div[2]/div[2]/ul/li[10]/a')\n",
    "gaming_laptop.click()"
   ]
  },
  {
   "cell_type": "code",
   "execution_count": 125,
   "id": "ecc5b0e4",
   "metadata": {},
   "outputs": [
    {
     "data": {
      "text/plain": [
       "10"
      ]
     },
     "execution_count": 125,
     "metadata": {},
     "output_type": "execute_result"
    }
   ],
   "source": [
    "laptop_names = driver.find_elements_by_xpath(\"//div[@class='TopNumbeHeading active sticky-footer']\")\n",
    "laptops = []\n",
    "for i in laptop_names:\n",
    "    names = i.text\n",
    "    laptops.append(names.replace(\"\\n\",\"\"))\n",
    "len(laptops)\n"
   ]
  },
  {
   "cell_type": "code",
   "execution_count": 129,
   "id": "c07d5cc4",
   "metadata": {},
   "outputs": [
    {
     "data": {
      "text/plain": [
       "10"
      ]
     },
     "execution_count": 129,
     "metadata": {},
     "output_type": "execute_result"
    }
   ],
   "source": [
    "specification = driver.find_elements_by_xpath(\"//div[@class='Specs-Wrap']\")\n",
    "product_specification = []\n",
    "for i in specification:\n",
    "    product_specification.append(str(i.text).replace(\"\\n\",\"\"))\n",
    "len(product_specification)"
   ]
  },
  {
   "cell_type": "code",
   "execution_count": 131,
   "id": "8468ec7d",
   "metadata": {},
   "outputs": [
    {
     "data": {
      "text/plain": [
       "10"
      ]
     },
     "execution_count": 131,
     "metadata": {},
     "output_type": "execute_result"
    }
   ],
   "source": [
    "description = driver.find_elements_by_xpath(\"//div[@class='Section-center']\")\n",
    "product_description = []\n",
    "for i in description:\n",
    "    product_description.append(str(i.text).replace(\"\\n\",\"\"))\n",
    "len(product_description)"
   ]
  },
  {
   "cell_type": "code",
   "execution_count": 141,
   "id": "6e6d0c2d",
   "metadata": {},
   "outputs": [
    {
     "data": {
      "text/plain": [
       "10"
      ]
     },
     "execution_count": 141,
     "metadata": {},
     "output_type": "execute_result"
    }
   ],
   "source": [
    "price = driver.find_elements_by_xpath(\"//td[@class='smprice']\")\n",
    "product_price = []\n",
    "for i in price:\n",
    "    \n",
    "    product_price.append(i.text.replace(\"\\n\",\"\"))\n",
    "len(product_price)"
   ]
  },
  {
   "cell_type": "code",
   "execution_count": 142,
   "id": "c2df5d3a",
   "metadata": {},
   "outputs": [
    {
     "data": {
      "text/html": [
       "<div>\n",
       "<style scoped>\n",
       "    .dataframe tbody tr th:only-of-type {\n",
       "        vertical-align: middle;\n",
       "    }\n",
       "\n",
       "    .dataframe tbody tr th {\n",
       "        vertical-align: top;\n",
       "    }\n",
       "\n",
       "    .dataframe thead th {\n",
       "        text-align: right;\n",
       "    }\n",
       "</style>\n",
       "<table border=\"1\" class=\"dataframe\">\n",
       "  <thead>\n",
       "    <tr style=\"text-align: right;\">\n",
       "      <th></th>\n",
       "      <th>Brand</th>\n",
       "      <th>Product Specification</th>\n",
       "      <th>Product Description</th>\n",
       "      <th>Product Price</th>\n",
       "    </tr>\n",
       "  </thead>\n",
       "  <tbody>\n",
       "    <tr>\n",
       "      <th>0</th>\n",
       "      <td>1.MSI RAIDER GE76</td>\n",
       "      <td>OSWINDOWS 11 HOMEDISPLAY17\" (3840 X 2160)PROCE...</td>\n",
       "      <td>Possibly the most high-end gaming laptop anyon...</td>\n",
       "      <td>₹ 429,940</td>\n",
       "    </tr>\n",
       "    <tr>\n",
       "      <th>1</th>\n",
       "      <td>2.ASUS ROG STRIX SCAR 15</td>\n",
       "      <td>OSWINDOWS 11 HOMEDISPLAY15.6\" (2560 X 1440)PRO...</td>\n",
       "      <td>The second high-end gaming laptop on the list ...</td>\n",
       "      <td>₹ 285,390</td>\n",
       "    </tr>\n",
       "    <tr>\n",
       "      <th>2</th>\n",
       "      <td>3.ACER NITRO 5</td>\n",
       "      <td>OSWINDOWS 10DISPLAY15.6\" (1920 X 1080)PROCESSO...</td>\n",
       "      <td>Possibly the best value-for-money gaming lapto...</td>\n",
       "      <td>₹ 129,990</td>\n",
       "    </tr>\n",
       "    <tr>\n",
       "      <th>3</th>\n",
       "      <td>4.MSI STEALTH 15M</td>\n",
       "      <td>OSWINDOWS 10DISPLAY15.6\" (1920 X 1080)PROCESSO...</td>\n",
       "      <td>If you’re looking for a powerful gaming laptop...</td>\n",
       "      <td>₹ 134,990</td>\n",
       "    </tr>\n",
       "    <tr>\n",
       "      <th>4</th>\n",
       "      <td>5.ASUS ROG STRIX SCAR 15</td>\n",
       "      <td>OSWINDOWS 10DISPLAY15.6\" (2560 X 1440)PROCESSO...</td>\n",
       "      <td>If you want possibly the best performance poss...</td>\n",
       "      <td>₹ 193,990</td>\n",
       "    </tr>\n",
       "    <tr>\n",
       "      <th>5</th>\n",
       "      <td>6.ASUS ROG STRIX SCAR 15</td>\n",
       "      <td>OSWINDOWS 10 HOMEDISPLAY15.6\" (1920 X 1080)PRO...</td>\n",
       "      <td>When the ASUS ROG Strix Scar 15 ended up on ou...</td>\n",
       "      <td>₹ 215,990</td>\n",
       "    </tr>\n",
       "    <tr>\n",
       "      <th>6</th>\n",
       "      <td>7.ASUS ZEPHYRUS G14</td>\n",
       "      <td>OSWINDOWS 10 HOMEDISPLAY14\" (1920 X 1080)PROCE...</td>\n",
       "      <td>The Asus Zephyrus G14 is a first-of-its-kind g...</td>\n",
       "      <td>₹ 144,990</td>\n",
       "    </tr>\n",
       "    <tr>\n",
       "      <th>7</th>\n",
       "      <td>8.HP OMEN 16</td>\n",
       "      <td>OSWINDOWS 11 HOMEDISPLAY16.1\" (1920 X 1080)PRO...</td>\n",
       "      <td>It is difficult to find a laptop that offers a...</td>\n",
       "      <td>₹ 139,990</td>\n",
       "    </tr>\n",
       "    <tr>\n",
       "      <th>8</th>\n",
       "      <td>9.ASUS ROG ZEPHYRUS DUO 15</td>\n",
       "      <td>OSWINDOWS 10DISPLAY15.6\" (3840 X 1100)PROCESSO...</td>\n",
       "      <td>The machine is powered by an Intel Core i7-108...</td>\n",
       "      <td>₹ 185,000</td>\n",
       "    </tr>\n",
       "    <tr>\n",
       "      <th>9</th>\n",
       "      <td>10.ACER ASPIRE 7 GAMING LAPTOP</td>\n",
       "      <td>OSWINDOWS 10 HOMEDISPLAY15.6\" (1920 X 1080)PRO...</td>\n",
       "      <td>The Acer Aspire 7 gaming laptop is a very capa...</td>\n",
       "      <td>₹ 53,490</td>\n",
       "    </tr>\n",
       "  </tbody>\n",
       "</table>\n",
       "</div>"
      ],
      "text/plain": [
       "                            Brand  \\\n",
       "0               1.MSI RAIDER GE76   \n",
       "1        2.ASUS ROG STRIX SCAR 15   \n",
       "2                  3.ACER NITRO 5   \n",
       "3               4.MSI STEALTH 15M   \n",
       "4        5.ASUS ROG STRIX SCAR 15   \n",
       "5        6.ASUS ROG STRIX SCAR 15   \n",
       "6             7.ASUS ZEPHYRUS G14   \n",
       "7                    8.HP OMEN 16   \n",
       "8      9.ASUS ROG ZEPHYRUS DUO 15   \n",
       "9  10.ACER ASPIRE 7 GAMING LAPTOP   \n",
       "\n",
       "                               Product Specification  \\\n",
       "0  OSWINDOWS 11 HOMEDISPLAY17\" (3840 X 2160)PROCE...   \n",
       "1  OSWINDOWS 11 HOMEDISPLAY15.6\" (2560 X 1440)PRO...   \n",
       "2  OSWINDOWS 10DISPLAY15.6\" (1920 X 1080)PROCESSO...   \n",
       "3  OSWINDOWS 10DISPLAY15.6\" (1920 X 1080)PROCESSO...   \n",
       "4  OSWINDOWS 10DISPLAY15.6\" (2560 X 1440)PROCESSO...   \n",
       "5  OSWINDOWS 10 HOMEDISPLAY15.6\" (1920 X 1080)PRO...   \n",
       "6  OSWINDOWS 10 HOMEDISPLAY14\" (1920 X 1080)PROCE...   \n",
       "7  OSWINDOWS 11 HOMEDISPLAY16.1\" (1920 X 1080)PRO...   \n",
       "8  OSWINDOWS 10DISPLAY15.6\" (3840 X 1100)PROCESSO...   \n",
       "9  OSWINDOWS 10 HOMEDISPLAY15.6\" (1920 X 1080)PRO...   \n",
       "\n",
       "                                 Product Description Product Price  \n",
       "0  Possibly the most high-end gaming laptop anyon...     ₹ 429,940  \n",
       "1  The second high-end gaming laptop on the list ...     ₹ 285,390  \n",
       "2  Possibly the best value-for-money gaming lapto...     ₹ 129,990  \n",
       "3  If you’re looking for a powerful gaming laptop...     ₹ 134,990  \n",
       "4  If you want possibly the best performance poss...     ₹ 193,990  \n",
       "5  When the ASUS ROG Strix Scar 15 ended up on ou...     ₹ 215,990  \n",
       "6  The Asus Zephyrus G14 is a first-of-its-kind g...     ₹ 144,990  \n",
       "7  It is difficult to find a laptop that offers a...     ₹ 139,990  \n",
       "8  The machine is powered by an Intel Core i7-108...     ₹ 185,000  \n",
       "9  The Acer Aspire 7 gaming laptop is a very capa...      ₹ 53,490  "
      ]
     },
     "execution_count": 142,
     "metadata": {},
     "output_type": "execute_result"
    }
   ],
   "source": [
    "gaming_laptops = pd.DataFrame({})\n",
    "gaming_laptops[\"Brand\"] = laptops\n",
    "gaming_laptops[\"Product Specification\"] = product_specification\n",
    "gaming_laptops[\"Product Description\"] = product_description\n",
    "gaming_laptops[\"Product Price\"] = product_price\n",
    "gaming_laptops"
   ]
  },
  {
   "cell_type": "code",
   "execution_count": 143,
   "id": "2aea12f3",
   "metadata": {},
   "outputs": [],
   "source": [
    "driver.close()"
   ]
  },
  {
   "cell_type": "markdown",
   "id": "9f328f27",
   "metadata": {},
   "source": [
    "# 8. forbes.com --Scraping top billioners"
   ]
  },
  {
   "cell_type": "code",
   "execution_count": 187,
   "id": "aaab52ee",
   "metadata": {},
   "outputs": [],
   "source": [
    "driver = webdriver.Chrome('C:\\web driver\\chromedriver')"
   ]
  },
  {
   "cell_type": "code",
   "execution_count": 188,
   "id": "327da858",
   "metadata": {},
   "outputs": [],
   "source": [
    "driver.get('https://www.forbes.com/billionaires/')"
   ]
  },
  {
   "cell_type": "code",
   "execution_count": 193,
   "id": "aef1cba2",
   "metadata": {},
   "outputs": [
    {
     "data": {
      "text/plain": [
       "200"
      ]
     },
     "execution_count": 193,
     "metadata": {},
     "output_type": "execute_result"
    }
   ],
   "source": [
    "name = driver.find_elements_by_xpath(\"//div[@class='personName']\")\n",
    "names = []\n",
    "for i in name[:200]:\n",
    "    nam = i.text\n",
    "    names.append(nam)\n",
    "len(names)"
   ]
  },
  {
   "cell_type": "code",
   "execution_count": 196,
   "id": "3f2a04e7",
   "metadata": {},
   "outputs": [
    {
     "data": {
      "text/plain": [
       "200"
      ]
     },
     "execution_count": 196,
     "metadata": {},
     "output_type": "execute_result"
    }
   ],
   "source": [
    "rank = []\n",
    "ranks = driver.find_elements_by_xpath(\"//div[@class='rank']\")\n",
    "for i in ranks:\n",
    "    ran = i.text\n",
    "    rank.append(ran)\n",
    "len(rank)\n"
   ]
  },
  {
   "cell_type": "code",
   "execution_count": 199,
   "id": "4e2c86fe",
   "metadata": {},
   "outputs": [
    {
     "data": {
      "text/plain": [
       "200"
      ]
     },
     "execution_count": 199,
     "metadata": {},
     "output_type": "execute_result"
    }
   ],
   "source": [
    "net_worth = []\n",
    "worth = driver.find_elements_by_xpath(\"//div[@class='netWorth']\")\n",
    "for i in worth:\n",
    "    net_worth.append(i.text.replace(\"$\",\"\"))\n",
    "len(net_worth)\n"
   ]
  },
  {
   "cell_type": "code",
   "execution_count": 201,
   "id": "b538f6f2",
   "metadata": {},
   "outputs": [
    {
     "data": {
      "text/plain": [
       "200"
      ]
     },
     "execution_count": 201,
     "metadata": {},
     "output_type": "execute_result"
    }
   ],
   "source": [
    "age = []\n",
    "ages = driver.find_elements_by_xpath(\"//div[@class='age']\")\n",
    "for i in ages:\n",
    "    age.append(i.text)\n",
    "len(age)"
   ]
  },
  {
   "cell_type": "code",
   "execution_count": 206,
   "id": "8fd32f97",
   "metadata": {},
   "outputs": [
    {
     "data": {
      "text/plain": [
       "200"
      ]
     },
     "execution_count": 206,
     "metadata": {},
     "output_type": "execute_result"
    }
   ],
   "source": [
    "country = []\n",
    "country_citizen = driver.find_elements_by_xpath(\"//div[@class='countryOfCitizenship']\")\n",
    "for i in country_citizen:\n",
    "    citizen = i.text\n",
    "    country.append(citizen)\n",
    "len(country)"
   ]
  },
  {
   "cell_type": "code",
   "execution_count": 207,
   "id": "f2d9ff10",
   "metadata": {},
   "outputs": [
    {
     "data": {
      "text/plain": [
       "200"
      ]
     },
     "execution_count": 207,
     "metadata": {},
     "output_type": "execute_result"
    }
   ],
   "source": [
    "source = []\n",
    "source_text = driver.find_elements_by_xpath(\"//span[@class='source-text']\")\n",
    "for i in source_text:\n",
    "    source.append(i.text)\n",
    "len(source)"
   ]
  },
  {
   "cell_type": "code",
   "execution_count": 209,
   "id": "f3b2373f",
   "metadata": {},
   "outputs": [
    {
     "data": {
      "text/plain": [
       "200"
      ]
     },
     "execution_count": 209,
     "metadata": {},
     "output_type": "execute_result"
    }
   ],
   "source": [
    "industry = []\n",
    "ind = driver.find_elements_by_xpath(\"//div[@class='category']\")\n",
    "for i in ind:\n",
    "    industry.append(i.text)\n",
    "len(industry)"
   ]
  },
  {
   "cell_type": "code",
   "execution_count": 212,
   "id": "498945ab",
   "metadata": {},
   "outputs": [
    {
     "data": {
      "text/html": [
       "<div>\n",
       "<style scoped>\n",
       "    .dataframe tbody tr th:only-of-type {\n",
       "        vertical-align: middle;\n",
       "    }\n",
       "\n",
       "    .dataframe tbody tr th {\n",
       "        vertical-align: top;\n",
       "    }\n",
       "\n",
       "    .dataframe thead th {\n",
       "        text-align: right;\n",
       "    }\n",
       "</style>\n",
       "<table border=\"1\" class=\"dataframe\">\n",
       "  <thead>\n",
       "    <tr style=\"text-align: right;\">\n",
       "      <th></th>\n",
       "      <th>Rank</th>\n",
       "      <th>Name</th>\n",
       "      <th>Net Worth</th>\n",
       "      <th>Age</th>\n",
       "      <th>Source</th>\n",
       "      <th>Industry</th>\n",
       "      <th>Country</th>\n",
       "    </tr>\n",
       "  </thead>\n",
       "  <tbody>\n",
       "    <tr>\n",
       "      <th>0</th>\n",
       "      <td>1.</td>\n",
       "      <td>Elon Musk</td>\n",
       "      <td>219 B</td>\n",
       "      <td>50</td>\n",
       "      <td>Tesla, SpaceX</td>\n",
       "      <td>Automotive</td>\n",
       "      <td>United States</td>\n",
       "    </tr>\n",
       "    <tr>\n",
       "      <th>1</th>\n",
       "      <td>2.</td>\n",
       "      <td>Jeff Bezos</td>\n",
       "      <td>171 B</td>\n",
       "      <td>58</td>\n",
       "      <td>Amazon</td>\n",
       "      <td>Technology</td>\n",
       "      <td>United States</td>\n",
       "    </tr>\n",
       "    <tr>\n",
       "      <th>2</th>\n",
       "      <td>3.</td>\n",
       "      <td>Bernard Arnault &amp; family</td>\n",
       "      <td>158 B</td>\n",
       "      <td>73</td>\n",
       "      <td>LVMH</td>\n",
       "      <td>Fashion &amp; Retail</td>\n",
       "      <td>France</td>\n",
       "    </tr>\n",
       "    <tr>\n",
       "      <th>3</th>\n",
       "      <td>4.</td>\n",
       "      <td>Bill Gates</td>\n",
       "      <td>129 B</td>\n",
       "      <td>66</td>\n",
       "      <td>Microsoft</td>\n",
       "      <td>Technology</td>\n",
       "      <td>United States</td>\n",
       "    </tr>\n",
       "    <tr>\n",
       "      <th>4</th>\n",
       "      <td>5.</td>\n",
       "      <td>Warren Buffett</td>\n",
       "      <td>118 B</td>\n",
       "      <td>91</td>\n",
       "      <td>Berkshire Hathaway</td>\n",
       "      <td>Finance &amp; Investments</td>\n",
       "      <td>United States</td>\n",
       "    </tr>\n",
       "    <tr>\n",
       "      <th>...</th>\n",
       "      <td>...</td>\n",
       "      <td>...</td>\n",
       "      <td>...</td>\n",
       "      <td>...</td>\n",
       "      <td>...</td>\n",
       "      <td>...</td>\n",
       "      <td>...</td>\n",
       "    </tr>\n",
       "    <tr>\n",
       "      <th>195</th>\n",
       "      <td>192.</td>\n",
       "      <td>Marcel Herrmann Telles</td>\n",
       "      <td>10.3 B</td>\n",
       "      <td>72</td>\n",
       "      <td>beer</td>\n",
       "      <td>Food &amp; Beverage</td>\n",
       "      <td>Brazil</td>\n",
       "    </tr>\n",
       "    <tr>\n",
       "      <th>196</th>\n",
       "      <td>197.</td>\n",
       "      <td>Leon Black</td>\n",
       "      <td>10 B</td>\n",
       "      <td>70</td>\n",
       "      <td>private equity</td>\n",
       "      <td>Finance &amp; Investments</td>\n",
       "      <td>United States</td>\n",
       "    </tr>\n",
       "    <tr>\n",
       "      <th>197</th>\n",
       "      <td>197.</td>\n",
       "      <td>Joe Gebbia</td>\n",
       "      <td>10 B</td>\n",
       "      <td>40</td>\n",
       "      <td>Airbnb</td>\n",
       "      <td>Technology</td>\n",
       "      <td>United States</td>\n",
       "    </tr>\n",
       "    <tr>\n",
       "      <th>198</th>\n",
       "      <td>197.</td>\n",
       "      <td>David Geffen</td>\n",
       "      <td>10 B</td>\n",
       "      <td>79</td>\n",
       "      <td>movies, record labels</td>\n",
       "      <td>Media &amp; Entertainment</td>\n",
       "      <td>United States</td>\n",
       "    </tr>\n",
       "    <tr>\n",
       "      <th>199</th>\n",
       "      <td>197.</td>\n",
       "      <td>Yu Renrong</td>\n",
       "      <td>10 B</td>\n",
       "      <td>56</td>\n",
       "      <td>semiconductors</td>\n",
       "      <td>Manufacturing</td>\n",
       "      <td>China</td>\n",
       "    </tr>\n",
       "  </tbody>\n",
       "</table>\n",
       "<p>200 rows × 7 columns</p>\n",
       "</div>"
      ],
      "text/plain": [
       "     Rank                      Name Net Worth Age                 Source  \\\n",
       "0      1.                 Elon Musk     219 B  50          Tesla, SpaceX   \n",
       "1      2.                Jeff Bezos     171 B  58                 Amazon   \n",
       "2      3.  Bernard Arnault & family     158 B  73                   LVMH   \n",
       "3      4.                Bill Gates     129 B  66              Microsoft   \n",
       "4      5.            Warren Buffett     118 B  91     Berkshire Hathaway   \n",
       "..    ...                       ...       ...  ..                    ...   \n",
       "195  192.    Marcel Herrmann Telles    10.3 B  72                   beer   \n",
       "196  197.                Leon Black      10 B  70         private equity   \n",
       "197  197.                Joe Gebbia      10 B  40                 Airbnb   \n",
       "198  197.              David Geffen      10 B  79  movies, record labels   \n",
       "199  197.                Yu Renrong      10 B  56         semiconductors   \n",
       "\n",
       "                  Industry        Country  \n",
       "0               Automotive  United States  \n",
       "1               Technology  United States  \n",
       "2         Fashion & Retail         France  \n",
       "3               Technology  United States  \n",
       "4    Finance & Investments  United States  \n",
       "..                     ...            ...  \n",
       "195        Food & Beverage         Brazil  \n",
       "196  Finance & Investments  United States  \n",
       "197             Technology  United States  \n",
       "198  Media & Entertainment  United States  \n",
       "199          Manufacturing          China  \n",
       "\n",
       "[200 rows x 7 columns]"
      ]
     },
     "execution_count": 212,
     "metadata": {},
     "output_type": "execute_result"
    }
   ],
   "source": [
    "forbes = pd.DataFrame({})\n",
    "forbes[\"Rank\"] = rank\n",
    "forbes[\"Name\"] = names\n",
    "forbes[\"Net Worth\"] = net_worth\n",
    "forbes[\"Age\"] = age\n",
    "forbes[\"Source\"] = source\n",
    "forbes[\"Industry\"] = industry\n",
    "forbes[\"Country\"] = country\n",
    "forbes"
   ]
  },
  {
   "cell_type": "code",
   "execution_count": 38,
   "id": "081560c8",
   "metadata": {},
   "outputs": [],
   "source": [
    "driver.close()"
   ]
  },
  {
   "cell_type": "markdown",
   "id": "d0bf25ed",
   "metadata": {},
   "source": [
    "# 9. Scraping YouTube Video -- comments,Upvote, Time"
   ]
  },
  {
   "cell_type": "code",
   "execution_count": 8,
   "id": "046b69e7",
   "metadata": {},
   "outputs": [],
   "source": [
    "driver = webdriver.Chrome(\"C:\\web driver\\chromedriver\")"
   ]
  },
  {
   "cell_type": "code",
   "execution_count": 9,
   "id": "7563fc01",
   "metadata": {},
   "outputs": [
    {
     "name": "stdout",
     "output_type": "stream",
     "text": [
      "Input youtube video URL https://www.youtube.com/watch?v=TyskcLbCkqE\n"
     ]
    }
   ],
   "source": [
    "yt_url = input (\"Input youtube video URL \")"
   ]
  },
  {
   "cell_type": "code",
   "execution_count": 10,
   "id": "79efc328",
   "metadata": {},
   "outputs": [],
   "source": [
    "driver.get(yt_url)"
   ]
  },
  {
   "cell_type": "code",
   "execution_count": 11,
   "id": "3ae72b29",
   "metadata": {},
   "outputs": [
    {
     "data": {
      "text/plain": [
       "152"
      ]
     },
     "execution_count": 11,
     "metadata": {},
     "output_type": "execute_result"
    }
   ],
   "source": [
    "#In this video there are 152 comments\n",
    "comments = []\n",
    "for _ in range(30):\n",
    "    driver.execute_script(\"window.scrollBy(0,10000)\")\n",
    "    time.sleep(3)\n",
    "    com_xpath = driver.find_elements_by_id(\"content-text\")\n",
    "for i in com_xpath:\n",
    "    comments.append(i.text)\n",
    "len(comments)"
   ]
  },
  {
   "cell_type": "code",
   "execution_count": 20,
   "id": "2f2c458a",
   "metadata": {},
   "outputs": [
    {
     "data": {
      "text/plain": [
       "152"
      ]
     },
     "execution_count": 20,
     "metadata": {},
     "output_type": "execute_result"
    }
   ],
   "source": [
    "upvote = []\n",
    "upvotes = driver.find_elements_by_id(\"vote-count-middle\")\n",
    "for i in upvotes:\n",
    "    upvote.append(i.text)\n",
    "len(upvote)"
   ]
  },
  {
   "cell_type": "code",
   "execution_count": 13,
   "id": "68b9647a",
   "metadata": {},
   "outputs": [
    {
     "data": {
      "text/plain": [
       "152"
      ]
     },
     "execution_count": 13,
     "metadata": {},
     "output_type": "execute_result"
    }
   ],
   "source": [
    "posted = []\n",
    "post = driver.find_elements_by_xpath(\"//yt-formatted-string[@class='published-time-text above-comment style-scope ytd-comment-renderer']\")\n",
    "for i in post:\n",
    "    posted.append(i.text)\n",
    "len(posted)"
   ]
  },
  {
   "cell_type": "code",
   "execution_count": 21,
   "id": "1102ce24",
   "metadata": {},
   "outputs": [
    {
     "data": {
      "text/html": [
       "<div>\n",
       "<style scoped>\n",
       "    .dataframe tbody tr th:only-of-type {\n",
       "        vertical-align: middle;\n",
       "    }\n",
       "\n",
       "    .dataframe tbody tr th {\n",
       "        vertical-align: top;\n",
       "    }\n",
       "\n",
       "    .dataframe thead th {\n",
       "        text-align: right;\n",
       "    }\n",
       "</style>\n",
       "<table border=\"1\" class=\"dataframe\">\n",
       "  <thead>\n",
       "    <tr style=\"text-align: right;\">\n",
       "      <th></th>\n",
       "      <th>Comments</th>\n",
       "      <th>Upvotes</th>\n",
       "      <th>Posted</th>\n",
       "    </tr>\n",
       "  </thead>\n",
       "  <tbody>\n",
       "    <tr>\n",
       "      <th>0</th>\n",
       "      <td>I love the scene where Spider-Man goes to save...</td>\n",
       "      <td>90</td>\n",
       "      <td>4 months ago</td>\n",
       "    </tr>\n",
       "    <tr>\n",
       "      <th>1</th>\n",
       "      <td>Awww so sweet Robin just save Batman!</td>\n",
       "      <td>41</td>\n",
       "      <td>4 months ago</td>\n",
       "    </tr>\n",
       "    <tr>\n",
       "      <th>2</th>\n",
       "      <td>All are thinking spider man movie survives bec...</td>\n",
       "      <td>3</td>\n",
       "      <td>2 days ago</td>\n",
       "    </tr>\n",
       "    <tr>\n",
       "      <th>3</th>\n",
       "      <td>The final fight scene is one of my favourites</td>\n",
       "      <td>37</td>\n",
       "      <td>4 months ago</td>\n",
       "    </tr>\n",
       "    <tr>\n",
       "      <th>4</th>\n",
       "      <td>We love  Spider-Man💜</td>\n",
       "      <td></td>\n",
       "      <td>3 days ago</td>\n",
       "    </tr>\n",
       "    <tr>\n",
       "      <th>...</th>\n",
       "      <td>...</td>\n",
       "      <td>...</td>\n",
       "      <td>...</td>\n",
       "    </tr>\n",
       "    <tr>\n",
       "      <th>147</th>\n",
       "      <td>First</td>\n",
       "      <td>2</td>\n",
       "      <td>4 months ago</td>\n",
       "    </tr>\n",
       "    <tr>\n",
       "      <th>148</th>\n",
       "      <td>ใ</td>\n",
       "      <td></td>\n",
       "      <td>2 weeks ago</td>\n",
       "    </tr>\n",
       "    <tr>\n",
       "      <th>149</th>\n",
       "      <td>stupid spider man</td>\n",
       "      <td></td>\n",
       "      <td>2 months ago</td>\n",
       "    </tr>\n",
       "    <tr>\n",
       "      <th>150</th>\n",
       "      <td>B</td>\n",
       "      <td></td>\n",
       "      <td>3 months ago</td>\n",
       "    </tr>\n",
       "    <tr>\n",
       "      <th>151</th>\n",
       "      <td>ریان</td>\n",
       "      <td></td>\n",
       "      <td>1 month ago</td>\n",
       "    </tr>\n",
       "  </tbody>\n",
       "</table>\n",
       "<p>152 rows × 3 columns</p>\n",
       "</div>"
      ],
      "text/plain": [
       "                                              Comments Upvotes        Posted\n",
       "0    I love the scene where Spider-Man goes to save...      90  4 months ago\n",
       "1                Awww so sweet Robin just save Batman!      41  4 months ago\n",
       "2    All are thinking spider man movie survives bec...       3    2 days ago\n",
       "3        The final fight scene is one of my favourites      37  4 months ago\n",
       "4                                 We love  Spider-Man💜            3 days ago\n",
       "..                                                 ...     ...           ...\n",
       "147                                              First       2  4 months ago\n",
       "148                                                  ใ           2 weeks ago\n",
       "149                                  stupid spider man          2 months ago\n",
       "150                                                  B          3 months ago\n",
       "151                                               ریان           1 month ago\n",
       "\n",
       "[152 rows x 3 columns]"
      ]
     },
     "execution_count": 21,
     "metadata": {},
     "output_type": "execute_result"
    }
   ],
   "source": [
    "youtube =pd.DataFrame({})\n",
    "youtube[\"Comments\"] = comments\n",
    "youtube[\"Upvotes\"] = upvote\n",
    "youtube[\"Posted\"] = posted\n",
    "youtube"
   ]
  },
  {
   "cell_type": "code",
   "execution_count": 22,
   "id": "349af7dd",
   "metadata": {},
   "outputs": [],
   "source": [
    "driver.close()"
   ]
  },
  {
   "cell_type": "markdown",
   "id": "914fbb38",
   "metadata": {},
   "source": [
    "# 10. www.hostelworld.com --- hostels available in london location"
   ]
  },
  {
   "cell_type": "code",
   "execution_count": 46,
   "id": "ec8ca1b0",
   "metadata": {},
   "outputs": [],
   "source": [
    "driver =  webdriver.Chrome(\"C:\\web driver\\chromedriver\")\n",
    "driver.get(\"https:\\\\www.hostelworld.com\")"
   ]
  },
  {
   "cell_type": "code",
   "execution_count": 47,
   "id": "ff87831e",
   "metadata": {},
   "outputs": [],
   "source": [
    "#here date is between 27 may to 31 may\n",
    "search_destination = driver.find_element_by_xpath(\"/html/body/div[3]/div/div/div[1]/div[1]/div/div[2]/div[4]/div/div[2]/div/div[1]/div/div/div/input\")\n",
    "search_destination.send_keys('London')"
   ]
  },
  {
   "cell_type": "code",
   "execution_count": 48,
   "id": "7b8567c0",
   "metadata": {},
   "outputs": [],
   "source": [
    "click_location = driver.find_element_by_xpath(\"/html/body/div[3]/div/div/div[1]/div[1]/div/div[2]/div[4]/div/div[2]/div/div[1]/div/div/ul/li[2]\")\n",
    "click_location.click()\n",
    "time.sleep(5)"
   ]
  },
  {
   "cell_type": "code",
   "execution_count": 49,
   "id": "8c2a6ed4",
   "metadata": {},
   "outputs": [],
   "source": [
    "click_button = driver.find_element_by_xpath(\"/html/body/div[3]/div/div/div[1]/div[1]/div/div[2]/div[4]/div/div[2]/div/div[5]/button\")\n",
    "click_button.click()"
   ]
  },
  {
   "cell_type": "code",
   "execution_count": 38,
   "id": "3d871e71",
   "metadata": {},
   "outputs": [
    {
     "data": {
      "text/plain": [
       "6"
      ]
     },
     "execution_count": 38,
     "metadata": {},
     "output_type": "execute_result"
    }
   ],
   "source": [
    "hostel_name = []\n",
    "hostel = driver.find_elements_by_xpath(\"//h2[@class='title title-6']\")\n",
    "for i in hostel:\n",
    "    hostel_name.append(i.text)\n",
    "len(hostel_name)"
   ]
  },
  {
   "cell_type": "code",
   "execution_count": 39,
   "id": "b8777a85",
   "metadata": {},
   "outputs": [
    {
     "data": {
      "text/plain": [
       "6"
      ]
     },
     "execution_count": 39,
     "metadata": {},
     "output_type": "execute_result"
    }
   ],
   "source": [
    "location = []\n",
    "distance = driver.find_elements_by_xpath(\"//span[@class='description']\")\n",
    "for i in distance:\n",
    "    location.append(i.text)\n",
    "len(location)"
   ]
  },
  {
   "cell_type": "code",
   "execution_count": 40,
   "id": "052e27b6",
   "metadata": {},
   "outputs": [
    {
     "data": {
      "text/plain": [
       "6"
      ]
     },
     "execution_count": 40,
     "metadata": {},
     "output_type": "execute_result"
    }
   ],
   "source": [
    "ratings = []\n",
    "information = driver.find_elements_by_xpath(\"//div[@class='info']/div[2]\")\n",
    "for i in information:\n",
    "    ratings.append(i.text.split('\\n')[0])\n",
    "len(ratings)\n"
   ]
  },
  {
   "cell_type": "code",
   "execution_count": 41,
   "id": "5d2f86fb",
   "metadata": {},
   "outputs": [
    {
     "data": {
      "text/plain": [
       "6"
      ]
     },
     "execution_count": 41,
     "metadata": {},
     "output_type": "execute_result"
    }
   ],
   "source": [
    "total_reviews = []\n",
    "reviews = driver.find_elements_by_xpath(\"//div[@class='reviews']\")\n",
    "for i in reviews:\n",
    "    total_reviews.append(i.text)\n",
    "len(total_reviews)"
   ]
  },
  {
   "cell_type": "code",
   "execution_count": 51,
   "id": "8b13dbac",
   "metadata": {},
   "outputs": [
    {
     "data": {
      "text/plain": [
       "6"
      ]
     },
     "execution_count": 51,
     "metadata": {},
     "output_type": "execute_result"
    }
   ],
   "source": [
    "overall_reviews = []\n",
    "review = driver.find_elements_by_xpath(\"//div[@class='keyword']/span\")\n",
    "for i in review:\n",
    "    overall_reviews.append(i.text)\n",
    "len(overall_reviews)"
   ]
  },
  {
   "cell_type": "code",
   "execution_count": 52,
   "id": "a772883a",
   "metadata": {},
   "outputs": [
    {
     "data": {
      "text/plain": [
       "6"
      ]
     },
     "execution_count": 52,
     "metadata": {},
     "output_type": "execute_result"
    }
   ],
   "source": [
    "private_price = []\n",
    "private = driver.find_elements_by_xpath(\"//a[@class='prices']/div[1]\")\n",
    "for i in private:\n",
    "    \n",
    "    private_price.append(i.text.replace(\"\\n\",\"\"))\n",
    "len(private_price)\n"
   ]
  },
  {
   "cell_type": "code",
   "execution_count": 44,
   "id": "404c6e54",
   "metadata": {},
   "outputs": [
    {
     "data": {
      "text/plain": [
       "6"
      ]
     },
     "execution_count": 44,
     "metadata": {},
     "output_type": "execute_result"
    }
   ],
   "source": [
    "dorm_price = []\n",
    "dorm = driver.find_elements_by_xpath(\"//a[@class='prices']/div[2]\")\n",
    "for i in dorm:\n",
    "    dorm_price.append(i.text.replace(\"\\n\",\"\"))\n",
    "len(dorm_price)"
   ]
  },
  {
   "cell_type": "code",
   "execution_count": 45,
   "id": "fb4fd120",
   "metadata": {},
   "outputs": [
    {
     "data": {
      "text/plain": [
       "['-',\n",
       " '-',\n",
       " 'We are located about twenty minutes by tube from London city centre.\\n\\nThe Cranbrook Hotel is suited close to Valentines Park, which is beautiful and well cared for, covering over 136 acres. There are amenities for tennis, mini-golf, swimming and boating. The park is well known for its old English garden, the Rosary Terrace and its lakes.\\n\\nThe hotel is ideally placed for all public transport a few minutes walk from Ilford Station (twenty minutes to Central London). It is, therefore, an ideal situation for visiting London to see the sights.\\n\\nEight bus routes pass the door to Barking, Dagenham, Chigwell and further afield. Park Hotel has been established for over twenty-five years and is run as a family business by the resident proprietors. Free car parking is available in the hotel grounds.\\n\\nPLEASE NOTE: After booking, the hotel will contact you for your CVC code and address to gaurantee your reservation. This is normal policy, and must be provided to them, otherwise your booking may be cancelled.\\n\\nWe operate a 48 hour cancellation policy',\n",
       " '-',\n",
       " '-',\n",
       " '-']"
      ]
     },
     "execution_count": 45,
     "metadata": {},
     "output_type": "execute_result"
    }
   ],
   "source": [
    "property_description = []\n",
    "prop_url = []\n",
    "url = driver.find_elements_by_xpath(\"//h2[@class='title title-6']/a\")\n",
    "for i in url:\n",
    "    prop_url.append(i.get_attribute('href'))\n",
    "\n",
    "for i in prop_url:\n",
    "    driver.get(i)\n",
    "    time.sleep(5)\n",
    "    try:\n",
    "        description = driver.find_element_by_xpath(\"/html/body/div[3]/div/div/div[1]/section/div[7]/div/div[2]/div/div/div[2]\")\n",
    "        property_description.append(description.text)\n",
    "    except NoSuchElementException:\n",
    "        property_description.append(\"-\")\n",
    "\n",
    "len(property_description)\n",
    "property_description\n",
    "\n",
    "    \n",
    "\n"
   ]
  },
  {
   "cell_type": "code",
   "execution_count": 53,
   "id": "20c29c12",
   "metadata": {},
   "outputs": [
    {
     "data": {
      "text/html": [
       "<div>\n",
       "<style scoped>\n",
       "    .dataframe tbody tr th:only-of-type {\n",
       "        vertical-align: middle;\n",
       "    }\n",
       "\n",
       "    .dataframe tbody tr th {\n",
       "        vertical-align: top;\n",
       "    }\n",
       "\n",
       "    .dataframe thead th {\n",
       "        text-align: right;\n",
       "    }\n",
       "</style>\n",
       "<table border=\"1\" class=\"dataframe\">\n",
       "  <thead>\n",
       "    <tr style=\"text-align: right;\">\n",
       "      <th></th>\n",
       "      <th>Name</th>\n",
       "      <th>Distance from City Center</th>\n",
       "      <th>Ratings</th>\n",
       "      <th>Total Reviews</th>\n",
       "      <th>Overall Review</th>\n",
       "      <th>Private Price</th>\n",
       "      <th>Dorm Price</th>\n",
       "      <th>Description</th>\n",
       "      <th>URL</th>\n",
       "    </tr>\n",
       "  </thead>\n",
       "  <tbody>\n",
       "    <tr>\n",
       "      <th>0</th>\n",
       "      <td>Safestay London Elephant &amp; Castle</td>\n",
       "      <td>Hostel - 1.7km from city centre</td>\n",
       "      <td>7.2</td>\n",
       "      <td>4248 Total Reviews</td>\n",
       "      <td>Good</td>\n",
       "      <td>No Privates Available</td>\n",
       "      <td>Dorms FromRs3470</td>\n",
       "      <td>-</td>\n",
       "      <td>https://www.hostelworld.com/pwa/hosteldetails....</td>\n",
       "    </tr>\n",
       "    <tr>\n",
       "      <th>1</th>\n",
       "      <td>Britannia Inn Hotel</td>\n",
       "      <td>Hotel - 14.5km from city centre</td>\n",
       "      <td>8.1</td>\n",
       "      <td>19 Total Reviews</td>\n",
       "      <td>Fabulous</td>\n",
       "      <td>Privates FromRs24463</td>\n",
       "      <td>No Dorms Available</td>\n",
       "      <td>-</td>\n",
       "      <td>https://www.hostelworld.com/pwa/hosteldetails....</td>\n",
       "    </tr>\n",
       "    <tr>\n",
       "      <th>2</th>\n",
       "      <td>Cranbrook Hotel</td>\n",
       "      <td>Hotel - 14.8km from city centre</td>\n",
       "      <td>No Rating</td>\n",
       "      <td>58 Total Reviews</td>\n",
       "      <td>No Rating</td>\n",
       "      <td>Privates FromRs14257</td>\n",
       "      <td>No Dorms Available</td>\n",
       "      <td>We are located about twenty minutes by tube fr...</td>\n",
       "      <td>https://www.hostelworld.com/pwa/hosteldetails....</td>\n",
       "    </tr>\n",
       "    <tr>\n",
       "      <th>3</th>\n",
       "      <td>Colliers Hotel</td>\n",
       "      <td>Hotel - 2.1km from city centre</td>\n",
       "      <td>7.4</td>\n",
       "      <td>4 Total Reviews</td>\n",
       "      <td>Very Good</td>\n",
       "      <td>Privates FromRs17108</td>\n",
       "      <td>No Dorms Available</td>\n",
       "      <td>-</td>\n",
       "      <td>https://www.hostelworld.com/pwa/hosteldetails....</td>\n",
       "    </tr>\n",
       "    <tr>\n",
       "      <th>4</th>\n",
       "      <td>Park Hotel Essex</td>\n",
       "      <td>Hotel - 24.1km from city centre</td>\n",
       "      <td>8.0</td>\n",
       "      <td>109 Total Reviews</td>\n",
       "      <td>Fabulous</td>\n",
       "      <td>Privates FromRs25111</td>\n",
       "      <td>No Dorms Available</td>\n",
       "      <td>-</td>\n",
       "      <td>https://www.hostelworld.com/pwa/hosteldetails....</td>\n",
       "    </tr>\n",
       "    <tr>\n",
       "      <th>5</th>\n",
       "      <td>Best Western Boltons London Kensington</td>\n",
       "      <td>Hotel - 5.4km from city centre</td>\n",
       "      <td>2.0</td>\n",
       "      <td>2 Total Reviews</td>\n",
       "      <td>Rating</td>\n",
       "      <td>Privates FromRs19880</td>\n",
       "      <td>No Dorms Available</td>\n",
       "      <td>-</td>\n",
       "      <td>https://www.hostelworld.com/pwa/hosteldetails....</td>\n",
       "    </tr>\n",
       "  </tbody>\n",
       "</table>\n",
       "</div>"
      ],
      "text/plain": [
       "                                     Name        Distance from City Center  \\\n",
       "0       Safestay London Elephant & Castle  Hostel - 1.7km from city centre   \n",
       "1                     Britannia Inn Hotel  Hotel - 14.5km from city centre   \n",
       "2                         Cranbrook Hotel  Hotel - 14.8km from city centre   \n",
       "3                          Colliers Hotel   Hotel - 2.1km from city centre   \n",
       "4                        Park Hotel Essex  Hotel - 24.1km from city centre   \n",
       "5  Best Western Boltons London Kensington   Hotel - 5.4km from city centre   \n",
       "\n",
       "     Ratings       Total Reviews Overall Review          Private Price  \\\n",
       "0        7.2  4248 Total Reviews           Good  No Privates Available   \n",
       "1        8.1    19 Total Reviews       Fabulous   Privates FromRs24463   \n",
       "2  No Rating    58 Total Reviews      No Rating   Privates FromRs14257   \n",
       "3        7.4     4 Total Reviews      Very Good   Privates FromRs17108   \n",
       "4        8.0   109 Total Reviews       Fabulous   Privates FromRs25111   \n",
       "5        2.0     2 Total Reviews         Rating   Privates FromRs19880   \n",
       "\n",
       "           Dorm Price                                        Description  \\\n",
       "0    Dorms FromRs3470                                                  -   \n",
       "1  No Dorms Available                                                  -   \n",
       "2  No Dorms Available  We are located about twenty minutes by tube fr...   \n",
       "3  No Dorms Available                                                  -   \n",
       "4  No Dorms Available                                                  -   \n",
       "5  No Dorms Available                                                  -   \n",
       "\n",
       "                                                 URL  \n",
       "0  https://www.hostelworld.com/pwa/hosteldetails....  \n",
       "1  https://www.hostelworld.com/pwa/hosteldetails....  \n",
       "2  https://www.hostelworld.com/pwa/hosteldetails....  \n",
       "3  https://www.hostelworld.com/pwa/hosteldetails....  \n",
       "4  https://www.hostelworld.com/pwa/hosteldetails....  \n",
       "5  https://www.hostelworld.com/pwa/hosteldetails....  "
      ]
     },
     "execution_count": 53,
     "metadata": {},
     "output_type": "execute_result"
    }
   ],
   "source": [
    "hostel = pd.DataFrame({})\n",
    "hostel[\"Name\"] = hostel_name\n",
    "hostel[\"Distance from City Center\"] = location\n",
    "hostel[\"Ratings\"] = ratings\n",
    "hostel[\"Total Reviews\"] = total_reviews\n",
    "hostel[\"Overall Review\"] = overall_reviews\n",
    "hostel[\"Private Price\"] = private_price\n",
    "hostel[\"Dorm Price\"] = dorm_price\n",
    "hostel[\"Description\"] = property_description\n",
    "hostel[\"URL\"] = prop_url\n",
    "hostel"
   ]
  },
  {
   "cell_type": "code",
   "execution_count": 54,
   "id": "31fc3818",
   "metadata": {},
   "outputs": [],
   "source": [
    "driver.close()"
   ]
  }
 ],
 "metadata": {
  "kernelspec": {
   "display_name": "Python 3 (ipykernel)",
   "language": "python",
   "name": "python3"
  },
  "language_info": {
   "codemirror_mode": {
    "name": "ipython",
    "version": 3
   },
   "file_extension": ".py",
   "mimetype": "text/x-python",
   "name": "python",
   "nbconvert_exporter": "python",
   "pygments_lexer": "ipython3",
   "version": "3.9.7"
  }
 },
 "nbformat": 4,
 "nbformat_minor": 5
}
