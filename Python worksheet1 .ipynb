{
 "cells": [
  {
   "cell_type": "markdown",
   "id": "bf7bbd7a",
   "metadata": {},
   "source": [
    "# Find a number is Prime or Not"
   ]
  },
  {
   "cell_type": "code",
   "execution_count": 2,
   "id": "532d5611",
   "metadata": {},
   "outputs": [
    {
     "name": "stdout",
     "output_type": "stream",
     "text": [
      "enter a number 5\n",
      "Number is prime\n"
     ]
    }
   ],
   "source": [
    "n = int(input(\"enter a number \"))\n",
    "if n > 1:\n",
    "    for i in range(2,n):\n",
    "        if (n%i)==0:\n",
    "            print(\"Number is not prime\")\n",
    "            break\n",
    "        else:\n",
    "            print(\"Number is prime\")\n",
    "            break\n",
    "else:\n",
    "    print(\"number is not prime\")"
   ]
  },
  {
   "cell_type": "markdown",
   "id": "11c9e7e7",
   "metadata": {},
   "source": [
    "# Give string is palindrome or not"
   ]
  },
  {
   "cell_type": "code",
   "execution_count": 3,
   "id": "d94bc2a6",
   "metadata": {},
   "outputs": [
    {
     "name": "stdout",
     "output_type": "stream",
     "text": [
      "enter name tat\n",
      "palindrome\n"
     ]
    }
   ],
   "source": [
    "x = input(\"enter name \")\n",
    "y = \"\"\n",
    "for i in x:\n",
    "    y = i+y\n",
    "if(x==y):\n",
    "    print(\"palindrome\")\n",
    "else:\n",
    "    print(\"not a palindrome\")\n",
    "    "
   ]
  },
  {
   "cell_type": "markdown",
   "id": "4ba37c69",
   "metadata": {},
   "source": [
    "# Get third side of right angled triangle by using two given sides"
   ]
  },
  {
   "cell_type": "code",
   "execution_count": 4,
   "id": "fc6a480e",
   "metadata": {},
   "outputs": [
    {
     "name": "stdout",
     "output_type": "stream",
     "text": [
      "enter base: 4\n",
      "enter height: 3\n",
      "other side of triangle is  5.0\n"
     ]
    }
   ],
   "source": [
    "# a and b are two sides of triangle with values given\n",
    "import math\n",
    "a = int(input(\"enter base: \"))\n",
    "b = int(input(\"enter height: \"))\n",
    "c = math.sqrt(a*a + b*b)     #formula c = sqrt(a*a+b*b)\n",
    "print(\"other side of triangle is \",c)"
   ]
  },
  {
   "cell_type": "markdown",
   "id": "d750b2f4",
   "metadata": {},
   "source": [
    "# Find Frequency of each of character present in given string"
   ]
  },
  {
   "cell_type": "code",
   "execution_count": 5,
   "id": "a82dce45",
   "metadata": {},
   "outputs": [
    {
     "name": "stdout",
     "output_type": "stream",
     "text": [
      "{'p': 1, 'o': 2, 'v': 1, 'a': 2, 'r': 1, 's': 1, 'i': 1}\n"
     ]
    }
   ],
   "source": [
    "name = \"poovarasi\"\n",
    "#creating empty dictionary\n",
    "d= {}\n",
    "for i in name:\n",
    "    if i in d:\n",
    "        d[i] = d[i]+1\n",
    "    else:\n",
    "        d[i] = 1\n",
    "#printing the output\n",
    "print(d)"
   ]
  },
  {
   "cell_type": "markdown",
   "id": "af74f58d",
   "metadata": {},
   "source": [
    "# Find Factorial of a number"
   ]
  },
  {
   "cell_type": "code",
   "execution_count": 6,
   "id": "82390513",
   "metadata": {},
   "outputs": [
    {
     "name": "stdout",
     "output_type": "stream",
     "text": [
      "enter a number 5\n",
      "factorial of n is 120\n"
     ]
    }
   ],
   "source": [
    "n = int(input(\"enter a number \"))\n",
    "fact = 1\n",
    "for i in range(1,n+1):\n",
    "    fact = fact*i\n",
    "print(\"factorial of n is\", fact)"
   ]
  },
  {
   "cell_type": "code",
   "execution_count": null,
   "id": "7cf31ff8",
   "metadata": {},
   "outputs": [],
   "source": []
  }
 ],
 "metadata": {
  "kernelspec": {
   "display_name": "Python 3",
   "language": "python",
   "name": "python3"
  },
  "language_info": {
   "codemirror_mode": {
    "name": "ipython",
    "version": 3
   },
   "file_extension": ".py",
   "mimetype": "text/x-python",
   "name": "python",
   "nbconvert_exporter": "python",
   "pygments_lexer": "ipython3",
   "version": "3.8.8"
  }
 },
 "nbformat": 4,
 "nbformat_minor": 5
}
