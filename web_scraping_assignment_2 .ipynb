{
 "cells": [
  {
   "cell_type": "markdown",
   "id": "1a6f5941",
   "metadata": {},
   "source": [
    "# Display all header tags from wikepedia.org"
   ]
  },
  {
   "cell_type": "code",
   "execution_count": 1,
   "id": "796696a1",
   "metadata": {},
   "outputs": [
    {
     "name": "stdout",
     "output_type": "stream",
     "text": [
      "Requirement already satisfied: bs4 in c:\\users\\poovi\\anaconda3\\lib\\site-packages (0.0.1)\n",
      "Requirement already satisfied: beautifulsoup4 in c:\\users\\poovi\\anaconda3\\lib\\site-packages (from bs4) (4.10.0)\n",
      "Requirement already satisfied: soupsieve>1.2 in c:\\users\\poovi\\anaconda3\\lib\\site-packages (from beautifulsoup4->bs4) (2.2.1)\n",
      "Requirement already satisfied: requests in c:\\users\\poovi\\anaconda3\\lib\\site-packages (2.26.0)\n",
      "Requirement already satisfied: idna<4,>=2.5 in c:\\users\\poovi\\anaconda3\\lib\\site-packages (from requests) (3.2)\n",
      "Requirement already satisfied: urllib3<1.27,>=1.21.1 in c:\\users\\poovi\\anaconda3\\lib\\site-packages (from requests) (1.26.7)\n",
      "Requirement already satisfied: certifi>=2017.4.17 in c:\\users\\poovi\\anaconda3\\lib\\site-packages (from requests) (2021.10.8)\n",
      "Requirement already satisfied: charset-normalizer~=2.0.0 in c:\\users\\poovi\\anaconda3\\lib\\site-packages (from requests) (2.0.4)\n"
     ]
    }
   ],
   "source": [
    "!pip install bs4\n",
    "!pip install requests"
   ]
  },
  {
   "cell_type": "code",
   "execution_count": 2,
   "id": "efd489aa",
   "metadata": {},
   "outputs": [],
   "source": [
    "#import libraries\n",
    "\n",
    "from bs4 import BeautifulSoup\n",
    "import requests"
   ]
  },
  {
   "cell_type": "code",
   "execution_count": 3,
   "id": "de33d863",
   "metadata": {},
   "outputs": [
    {
     "data": {
      "text/plain": [
       "<Response [200]>"
      ]
     },
     "execution_count": 3,
     "metadata": {},
     "output_type": "execute_result"
    }
   ],
   "source": [
    "#send get request to webpage server to get source page\n",
    "page = requests.get('https://www.wikipedia.org/')\n",
    "page"
   ]
  },
  {
   "cell_type": "code",
   "execution_count": 4,
   "id": "990acc96",
   "metadata": {},
   "outputs": [],
   "source": [
    "#Page Content\n",
    "soup = BeautifulSoup(page.content)\n"
   ]
  },
  {
   "cell_type": "code",
   "execution_count": 5,
   "id": "5593c7da",
   "metadata": {},
   "outputs": [
    {
     "data": {
      "text/plain": [
       "['Commons',\n",
       " 'Wikivoyage',\n",
       " 'Wiktionary',\n",
       " 'Wikibooks',\n",
       " 'Wikinews',\n",
       " 'Wikidata',\n",
       " 'Wikiversity',\n",
       " 'Wikiquote',\n",
       " 'MediaWiki',\n",
       " 'Wikisource',\n",
       " 'Wikispecies',\n",
       " 'Meta-Wiki']"
      ]
     },
     "execution_count": 5,
     "metadata": {},
     "output_type": "execute_result"
    }
   ],
   "source": [
    "#scraping all the header tags\n",
    "\n",
    "header = []  #empty list\n",
    "#append headers to list\n",
    "for i in soup.find_all('span',class_=\"other-project-title jsl10n\"):\n",
    "    header.append(i.text)\n",
    "header   #displaying all header"
   ]
  },
  {
   "cell_type": "markdown",
   "id": "dc964a2a",
   "metadata": {},
   "source": [
    "# IMBD's Top rated 100 movies"
   ]
  },
  {
   "cell_type": "code",
   "execution_count": 6,
   "id": "441f5c27",
   "metadata": {},
   "outputs": [],
   "source": [
    "#importing libraries\n",
    "from bs4 import BeautifulSoup\n",
    "import requests"
   ]
  },
  {
   "cell_type": "code",
   "execution_count": 7,
   "id": "80f5f938",
   "metadata": {},
   "outputs": [
    {
     "data": {
      "text/plain": [
       "<Response [200]>"
      ]
     },
     "execution_count": 7,
     "metadata": {},
     "output_type": "execute_result"
    }
   ],
   "source": [
    "#send get request to web page server to get source page\n",
    "page = requests.get('https://www.imdb.com/chart/top/?ref_=nv_mv_250')\n",
    "page"
   ]
  },
  {
   "cell_type": "code",
   "execution_count": 8,
   "id": "a6adf88f",
   "metadata": {},
   "outputs": [],
   "source": [
    "#page content\n",
    "soup = BeautifulSoup(page.content)\n"
   ]
  },
  {
   "cell_type": "code",
   "execution_count": 9,
   "id": "6df4ca1d",
   "metadata": {},
   "outputs": [],
   "source": [
    "#Scraping Movie names\n",
    "names = []  #empty list\n",
    "#append movie_name to list\n",
    "for i in soup.find_all('td',class_='titleColumn')[:100]:\n",
    "    names.append(i.text.replace(\"\\n\",\"\"))"
   ]
  },
  {
   "cell_type": "code",
   "execution_count": 10,
   "id": "1ec9e0ac",
   "metadata": {},
   "outputs": [],
   "source": [
    "#Scraping year of release\n",
    "\n",
    "year = []\n",
    "specialchar = \"\"\n",
    "#append year of release to list\n",
    "for i in soup('span',class_=\"secondaryInfo\")[:100]:\n",
    "    tmp_year = i.text.replace('(',\"\")  #replacing '(' with \"\"\n",
    "    tmp_year = tmp_year.replace(')',\"\")#replacing ')' with \"\"\n",
    "    year.append(tmp_year)    "
   ]
  },
  {
   "cell_type": "code",
   "execution_count": 11,
   "id": "cddde173",
   "metadata": {},
   "outputs": [],
   "source": [
    "#scraping rating of each movie\n",
    "\n",
    "ratings = []\n",
    "#append rating of movie to list\n",
    "for i in soup.find_all('td',class_=\"ratingColumn imdbRating\")[:100]:\n",
    "    ratings.append(i.text.replace(\"\\n\",\"\"))"
   ]
  },
  {
   "cell_type": "code",
   "execution_count": 12,
   "id": "7247a0c1",
   "metadata": {},
   "outputs": [
    {
     "name": "stdout",
     "output_type": "stream",
     "text": [
      "100 100 100\n"
     ]
    }
   ],
   "source": [
    "print(len(names),len(year),len(ratings))  #printing length of names,year,ratings"
   ]
  },
  {
   "cell_type": "code",
   "execution_count": 13,
   "id": "e2e8a39b",
   "metadata": {},
   "outputs": [
    {
     "data": {
      "text/html": [
       "<div>\n",
       "<style scoped>\n",
       "    .dataframe tbody tr th:only-of-type {\n",
       "        vertical-align: middle;\n",
       "    }\n",
       "\n",
       "    .dataframe tbody tr th {\n",
       "        vertical-align: top;\n",
       "    }\n",
       "\n",
       "    .dataframe thead th {\n",
       "        text-align: right;\n",
       "    }\n",
       "</style>\n",
       "<table border=\"1\" class=\"dataframe\">\n",
       "  <thead>\n",
       "    <tr style=\"text-align: right;\">\n",
       "      <th></th>\n",
       "      <th>movie_name</th>\n",
       "      <th>year</th>\n",
       "      <th>imdb_rating</th>\n",
       "    </tr>\n",
       "  </thead>\n",
       "  <tbody>\n",
       "    <tr>\n",
       "      <th>0</th>\n",
       "      <td>1.      The Shawshank Redemption(1994)</td>\n",
       "      <td>1994</td>\n",
       "      <td>9.2</td>\n",
       "    </tr>\n",
       "    <tr>\n",
       "      <th>1</th>\n",
       "      <td>2.      The Godfather(1972)</td>\n",
       "      <td>1972</td>\n",
       "      <td>9.2</td>\n",
       "    </tr>\n",
       "    <tr>\n",
       "      <th>2</th>\n",
       "      <td>3.      The Dark Knight(2008)</td>\n",
       "      <td>2008</td>\n",
       "      <td>9.0</td>\n",
       "    </tr>\n",
       "    <tr>\n",
       "      <th>3</th>\n",
       "      <td>4.      The Godfather: Part II(1974)</td>\n",
       "      <td>1974</td>\n",
       "      <td>9.0</td>\n",
       "    </tr>\n",
       "    <tr>\n",
       "      <th>4</th>\n",
       "      <td>5.      12 Angry Men(1957)</td>\n",
       "      <td>1957</td>\n",
       "      <td>8.9</td>\n",
       "    </tr>\n",
       "    <tr>\n",
       "      <th>...</th>\n",
       "      <td>...</td>\n",
       "      <td>...</td>\n",
       "      <td>...</td>\n",
       "    </tr>\n",
       "    <tr>\n",
       "      <th>95</th>\n",
       "      <td>96.      M - Eine Stadt sucht einen Mörd...</td>\n",
       "      <td>1931</td>\n",
       "      <td>8.3</td>\n",
       "    </tr>\n",
       "    <tr>\n",
       "      <th>96</th>\n",
       "      <td>97.      North by Northwest(1959)</td>\n",
       "      <td>1959</td>\n",
       "      <td>8.3</td>\n",
       "    </tr>\n",
       "    <tr>\n",
       "      <th>97</th>\n",
       "      <td>98.      Jagten(2012)</td>\n",
       "      <td>2012</td>\n",
       "      <td>8.3</td>\n",
       "    </tr>\n",
       "    <tr>\n",
       "      <th>98</th>\n",
       "      <td>99.      Vertigo(1958)</td>\n",
       "      <td>1958</td>\n",
       "      <td>8.2</td>\n",
       "    </tr>\n",
       "    <tr>\n",
       "      <th>99</th>\n",
       "      <td>100.      Le fabuleux destin d'Amélie Po...</td>\n",
       "      <td>2001</td>\n",
       "      <td>8.2</td>\n",
       "    </tr>\n",
       "  </tbody>\n",
       "</table>\n",
       "<p>100 rows × 3 columns</p>\n",
       "</div>"
      ],
      "text/plain": [
       "                                           movie_name  year imdb_rating\n",
       "0              1.      The Shawshank Redemption(1994)  1994         9.2\n",
       "1                         2.      The Godfather(1972)  1972         9.2\n",
       "2                       3.      The Dark Knight(2008)  2008         9.0\n",
       "3                4.      The Godfather: Part II(1974)  1974         9.0\n",
       "4                          5.      12 Angry Men(1957)  1957         8.9\n",
       "..                                                ...   ...         ...\n",
       "95        96.      M - Eine Stadt sucht einen Mörd...  1931         8.3\n",
       "96                  97.      North by Northwest(1959)  1959         8.3\n",
       "97                              98.      Jagten(2012)  2012         8.3\n",
       "98                             99.      Vertigo(1958)  1958         8.2\n",
       "99        100.      Le fabuleux destin d'Amélie Po...  2001         8.2\n",
       "\n",
       "[100 rows x 3 columns]"
      ]
     },
     "execution_count": 13,
     "metadata": {},
     "output_type": "execute_result"
    }
   ],
   "source": [
    "#Making DataFrame\n",
    "import pandas as pd\n",
    "df = pd.DataFrame({'movie_name':names,'year':year,'imdb_rating':ratings})\n",
    "df"
   ]
  },
  {
   "cell_type": "markdown",
   "id": "e24ed60f",
   "metadata": {},
   "source": [
    "# Top Rated 100 Indian Movies"
   ]
  },
  {
   "cell_type": "code",
   "execution_count": 14,
   "id": "74a2279b",
   "metadata": {},
   "outputs": [],
   "source": [
    "#import libraries\n",
    "from bs4 import BeautifulSoup\n",
    "import requests"
   ]
  },
  {
   "cell_type": "code",
   "execution_count": 15,
   "id": "d5f27c25",
   "metadata": {},
   "outputs": [
    {
     "data": {
      "text/plain": [
       "<Response [200]>"
      ]
     },
     "execution_count": 15,
     "metadata": {},
     "output_type": "execute_result"
    }
   ],
   "source": [
    "#send get request to source page\n",
    "page = requests.get('https://www.imdb.com/india/top-rated-indian-movies/')\n",
    "page"
   ]
  },
  {
   "cell_type": "code",
   "execution_count": 16,
   "id": "8590ff30",
   "metadata": {},
   "outputs": [],
   "source": [
    "#Page Content\n",
    "soup = BeautifulSoup(page.content)\n"
   ]
  },
  {
   "cell_type": "code",
   "execution_count": 17,
   "id": "41a458c6",
   "metadata": {},
   "outputs": [],
   "source": [
    "#scraping movie name\n",
    "\n",
    "movie = []\n",
    "#append movie name to list\n",
    "for i in soup.find_all('td',class_=\"titleColumn\")[:100]:\n",
    "    movie.append(i.text.replace('\\n',\"\"))"
   ]
  },
  {
   "cell_type": "code",
   "execution_count": 18,
   "id": "4939b0cc",
   "metadata": {},
   "outputs": [],
   "source": [
    "#scraping year of release\n",
    "year = []\n",
    "#append year of release to list\n",
    "for i in soup.find_all('span',class_=\"secondaryInfo\")[:100]:\n",
    "    tmp_year = i.text.replace('(',\"\")\n",
    "    tmp_year = tmp_year.replace(')',\"\")\n",
    "    year.append(tmp_year)"
   ]
  },
  {
   "cell_type": "code",
   "execution_count": 19,
   "id": "2ce2f4a3",
   "metadata": {},
   "outputs": [],
   "source": [
    "#scraping movie ratings\n",
    "ratings = []\n",
    "#append rating to list\n",
    "for i in soup.find_all('td',class_=\"ratingColumn imdbRating\")[:100]:\n",
    "    ratings.append(i.text.replace('\\n',\"\"))"
   ]
  },
  {
   "cell_type": "code",
   "execution_count": 20,
   "id": "169015fc",
   "metadata": {},
   "outputs": [
    {
     "data": {
      "text/html": [
       "<div>\n",
       "<style scoped>\n",
       "    .dataframe tbody tr th:only-of-type {\n",
       "        vertical-align: middle;\n",
       "    }\n",
       "\n",
       "    .dataframe tbody tr th {\n",
       "        vertical-align: top;\n",
       "    }\n",
       "\n",
       "    .dataframe thead th {\n",
       "        text-align: right;\n",
       "    }\n",
       "</style>\n",
       "<table border=\"1\" class=\"dataframe\">\n",
       "  <thead>\n",
       "    <tr style=\"text-align: right;\">\n",
       "      <th></th>\n",
       "      <th>movie_name</th>\n",
       "      <th>year</th>\n",
       "      <th>imbd_rating</th>\n",
       "    </tr>\n",
       "  </thead>\n",
       "  <tbody>\n",
       "    <tr>\n",
       "      <th>0</th>\n",
       "      <td>1.      K.G.F: Chapter 2(2022)</td>\n",
       "      <td>2022</td>\n",
       "      <td>8.4</td>\n",
       "    </tr>\n",
       "    <tr>\n",
       "      <th>1</th>\n",
       "      <td>2.      Anbe Sivam(2003)</td>\n",
       "      <td>2003</td>\n",
       "      <td>8.4</td>\n",
       "    </tr>\n",
       "    <tr>\n",
       "      <th>2</th>\n",
       "      <td>3.      Jai Bhim(2021)</td>\n",
       "      <td>2021</td>\n",
       "      <td>8.4</td>\n",
       "    </tr>\n",
       "    <tr>\n",
       "      <th>3</th>\n",
       "      <td>4.      Golmaal(1979)</td>\n",
       "      <td>1979</td>\n",
       "      <td>8.4</td>\n",
       "    </tr>\n",
       "    <tr>\n",
       "      <th>4</th>\n",
       "      <td>5.      Nayakan(1987)</td>\n",
       "      <td>1987</td>\n",
       "      <td>8.4</td>\n",
       "    </tr>\n",
       "    <tr>\n",
       "      <th>...</th>\n",
       "      <td>...</td>\n",
       "      <td>...</td>\n",
       "      <td>...</td>\n",
       "    </tr>\n",
       "    <tr>\n",
       "      <th>95</th>\n",
       "      <td>96.      Baasha(1995)</td>\n",
       "      <td>1995</td>\n",
       "      <td>8.0</td>\n",
       "    </tr>\n",
       "    <tr>\n",
       "      <th>96</th>\n",
       "      <td>97.      Masaan(2015)</td>\n",
       "      <td>2015</td>\n",
       "      <td>8.0</td>\n",
       "    </tr>\n",
       "    <tr>\n",
       "      <th>97</th>\n",
       "      <td>98.      Dil Chahta Hai(2001)</td>\n",
       "      <td>2001</td>\n",
       "      <td>8.0</td>\n",
       "    </tr>\n",
       "    <tr>\n",
       "      <th>98</th>\n",
       "      <td>99.      Kahaani(2012)</td>\n",
       "      <td>2012</td>\n",
       "      <td>8.0</td>\n",
       "    </tr>\n",
       "    <tr>\n",
       "      <th>99</th>\n",
       "      <td>100.      Maheshinte Prathikaaram(2016)</td>\n",
       "      <td>2016</td>\n",
       "      <td>8.0</td>\n",
       "    </tr>\n",
       "  </tbody>\n",
       "</table>\n",
       "<p>100 rows × 3 columns</p>\n",
       "</div>"
      ],
      "text/plain": [
       "                                       movie_name  year imbd_rating\n",
       "0                  1.      K.G.F: Chapter 2(2022)  2022         8.4\n",
       "1                        2.      Anbe Sivam(2003)  2003         8.4\n",
       "2                          3.      Jai Bhim(2021)  2021         8.4\n",
       "3                           4.      Golmaal(1979)  1979         8.4\n",
       "4                           5.      Nayakan(1987)  1987         8.4\n",
       "..                                            ...   ...         ...\n",
       "95                          96.      Baasha(1995)  1995         8.0\n",
       "96                          97.      Masaan(2015)  2015         8.0\n",
       "97                  98.      Dil Chahta Hai(2001)  2001         8.0\n",
       "98                         99.      Kahaani(2012)  2012         8.0\n",
       "99        100.      Maheshinte Prathikaaram(2016)  2016         8.0\n",
       "\n",
       "[100 rows x 3 columns]"
      ]
     },
     "execution_count": 20,
     "metadata": {},
     "output_type": "execute_result"
    }
   ],
   "source": [
    "#DataFrame\n",
    "import pandas as pd\n",
    "df = pd.DataFrame({'movie_name':movie,'year':year,'imbd_rating':ratings})\n",
    "df"
   ]
  },
  {
   "cell_type": "markdown",
   "id": "b9f3eaf5",
   "metadata": {},
   "source": [
    "# Meesho"
   ]
  },
  {
   "cell_type": "code",
   "execution_count": 21,
   "id": "7e4c40ee",
   "metadata": {},
   "outputs": [],
   "source": [
    "#import libraries\n",
    "from bs4 import BeautifulSoup\n",
    "import requests"
   ]
  },
  {
   "cell_type": "code",
   "execution_count": 22,
   "id": "23cf70d5",
   "metadata": {},
   "outputs": [
    {
     "data": {
      "text/plain": [
       "<Response [200]>"
      ]
     },
     "execution_count": 22,
     "metadata": {},
     "output_type": "execute_result"
    }
   ],
   "source": [
    "#send get request to source page\n",
    "page = requests.get('https://meesho.com/bags-ladies/pl/p7vbp')\n",
    "page"
   ]
  },
  {
   "cell_type": "code",
   "execution_count": 23,
   "id": "2d7c783f",
   "metadata": {},
   "outputs": [],
   "source": [
    "#page content\n",
    "soup = BeautifulSoup(page.content)\n"
   ]
  },
  {
   "cell_type": "code",
   "execution_count": 24,
   "id": "9faf48d6",
   "metadata": {},
   "outputs": [],
   "source": [
    "#Getting bag names\n",
    "product_names = []\n",
    "#append bag name to list\n",
    "for i in soup.find_all('p',class_=\"Text__StyledText-sc-oo0kvp-0 bWSOET NewProductCard__ProductTitle_Desktop-sc-j0e7tu-4 cQhePS NewProductCard__ProductTitle_Desktop-sc-j0e7tu-4 cQhePS\"):\n",
    "    product_names.append(i.text)"
   ]
  },
  {
   "cell_type": "code",
   "execution_count": 25,
   "id": "0191e988",
   "metadata": {},
   "outputs": [],
   "source": [
    "#Getting price\n",
    "price = []\n",
    "#append price to list\n",
    "for i in soup.find_all('h5',class_=\"Text__StyledText-sc-oo0kvp-0 hiHdyy\"):\n",
    "    price.append(i.text.replace('₹',\"\"))"
   ]
  },
  {
   "cell_type": "code",
   "execution_count": 26,
   "id": "03c68811",
   "metadata": {},
   "outputs": [],
   "source": [
    "#Getting discount\n",
    "discount = []\n",
    "#append discount to list\n",
    "for i in soup.find_all('span',class_=\"Text__StyledText-sc-oo0kvp-0 lnonyH\"):\n",
    "    discount.append(i.text.replace('off',\"\"))"
   ]
  },
  {
   "cell_type": "code",
   "execution_count": 27,
   "id": "790f8d3e",
   "metadata": {},
   "outputs": [
    {
     "name": "stdout",
     "output_type": "stream",
     "text": [
      "16 16 16\n"
     ]
    }
   ],
   "source": [
    "print(len(product_names),len(price),len(discount))"
   ]
  },
  {
   "cell_type": "code",
   "execution_count": 28,
   "id": "80eb55c0",
   "metadata": {},
   "outputs": [
    {
     "data": {
      "text/html": [
       "<div>\n",
       "<style scoped>\n",
       "    .dataframe tbody tr th:only-of-type {\n",
       "        vertical-align: middle;\n",
       "    }\n",
       "\n",
       "    .dataframe tbody tr th {\n",
       "        vertical-align: top;\n",
       "    }\n",
       "\n",
       "    .dataframe thead th {\n",
       "        text-align: right;\n",
       "    }\n",
       "</style>\n",
       "<table border=\"1\" class=\"dataframe\">\n",
       "  <thead>\n",
       "    <tr style=\"text-align: right;\">\n",
       "      <th></th>\n",
       "      <th>product_names</th>\n",
       "      <th>price</th>\n",
       "      <th>discount</th>\n",
       "    </tr>\n",
       "  </thead>\n",
       "  <tbody>\n",
       "    <tr>\n",
       "      <th>0</th>\n",
       "      <td>Ravishing Alluring Women Handbags</td>\n",
       "      <td>384</td>\n",
       "      <td>12%</td>\n",
       "    </tr>\n",
       "    <tr>\n",
       "      <th>1</th>\n",
       "      <td>Graceful Fancy Women Handbags</td>\n",
       "      <td>528</td>\n",
       "      <td>9%</td>\n",
       "    </tr>\n",
       "    <tr>\n",
       "      <th>2</th>\n",
       "      <td>Ravishing Classy Women Handbags</td>\n",
       "      <td>950</td>\n",
       "      <td>5%</td>\n",
       "    </tr>\n",
       "    <tr>\n",
       "      <th>3</th>\n",
       "      <td>Classic Versatile Women Handbags</td>\n",
       "      <td>950</td>\n",
       "      <td>5%</td>\n",
       "    </tr>\n",
       "    <tr>\n",
       "      <th>4</th>\n",
       "      <td>Voguish Fancy Women Handbags</td>\n",
       "      <td>1549</td>\n",
       "      <td>3%</td>\n",
       "    </tr>\n",
       "    <tr>\n",
       "      <th>5</th>\n",
       "      <td>Graceful Versatile Women Handbags</td>\n",
       "      <td>950</td>\n",
       "      <td>5%</td>\n",
       "    </tr>\n",
       "    <tr>\n",
       "      <th>6</th>\n",
       "      <td>Classic Stylish Women Handbags</td>\n",
       "      <td>3202</td>\n",
       "      <td>2%</td>\n",
       "    </tr>\n",
       "    <tr>\n",
       "      <th>7</th>\n",
       "      <td>Ravishing Fashionable Women Handbags</td>\n",
       "      <td>316</td>\n",
       "      <td>14%</td>\n",
       "    </tr>\n",
       "    <tr>\n",
       "      <th>8</th>\n",
       "      <td>Elegant Classy Women Handbags</td>\n",
       "      <td>950</td>\n",
       "      <td>5%</td>\n",
       "    </tr>\n",
       "    <tr>\n",
       "      <th>9</th>\n",
       "      <td>Elegant Alluring Women Handbags</td>\n",
       "      <td>2337</td>\n",
       "      <td>2%</td>\n",
       "    </tr>\n",
       "    <tr>\n",
       "      <th>10</th>\n",
       "      <td>Classic Alluring Women Handbags</td>\n",
       "      <td>518</td>\n",
       "      <td>9%</td>\n",
       "    </tr>\n",
       "    <tr>\n",
       "      <th>11</th>\n",
       "      <td>Elegant Fashionable Women Handbags</td>\n",
       "      <td>725</td>\n",
       "      <td>6%</td>\n",
       "    </tr>\n",
       "    <tr>\n",
       "      <th>12</th>\n",
       "      <td>Trendy Alluring Women Handbags</td>\n",
       "      <td>1320</td>\n",
       "      <td>4%</td>\n",
       "    </tr>\n",
       "    <tr>\n",
       "      <th>13</th>\n",
       "      <td>Trendy Alluring Women Handbags</td>\n",
       "      <td>950</td>\n",
       "      <td>5%</td>\n",
       "    </tr>\n",
       "    <tr>\n",
       "      <th>14</th>\n",
       "      <td>Classic Fancy Women Handbags</td>\n",
       "      <td>646</td>\n",
       "      <td>7%</td>\n",
       "    </tr>\n",
       "    <tr>\n",
       "      <th>15</th>\n",
       "      <td>Classic Fashionable Women Handbags</td>\n",
       "      <td>620</td>\n",
       "      <td>7%</td>\n",
       "    </tr>\n",
       "  </tbody>\n",
       "</table>\n",
       "</div>"
      ],
      "text/plain": [
       "                           product_names price discount\n",
       "0      Ravishing Alluring Women Handbags   384     12% \n",
       "1          Graceful Fancy Women Handbags   528      9% \n",
       "2        Ravishing Classy Women Handbags   950      5% \n",
       "3       Classic Versatile Women Handbags   950      5% \n",
       "4           Voguish Fancy Women Handbags  1549      3% \n",
       "5      Graceful Versatile Women Handbags   950      5% \n",
       "6         Classic Stylish Women Handbags  3202      2% \n",
       "7   Ravishing Fashionable Women Handbags   316     14% \n",
       "8          Elegant Classy Women Handbags   950      5% \n",
       "9        Elegant Alluring Women Handbags  2337      2% \n",
       "10       Classic Alluring Women Handbags   518      9% \n",
       "11    Elegant Fashionable Women Handbags   725      6% \n",
       "12        Trendy Alluring Women Handbags  1320      4% \n",
       "13        Trendy Alluring Women Handbags   950      5% \n",
       "14          Classic Fancy Women Handbags   646      7% \n",
       "15    Classic Fashionable Women Handbags   620      7% "
      ]
     },
     "execution_count": 28,
     "metadata": {},
     "output_type": "execute_result"
    }
   ],
   "source": [
    "#DataFrame\n",
    "import pandas as pd\n",
    "df = pd.DataFrame({'product_names':product_names,'price':price,'discount':discount})\n",
    "df"
   ]
  },
  {
   "cell_type": "markdown",
   "id": "479353f1",
   "metadata": {},
   "source": [
    "# ICC Cricket"
   ]
  },
  {
   "cell_type": "markdown",
   "id": "bdb67dc6",
   "metadata": {},
   "source": [
    "# Top 10 Men's ODI teams"
   ]
  },
  {
   "cell_type": "code",
   "execution_count": 29,
   "id": "ab66793a",
   "metadata": {},
   "outputs": [],
   "source": [
    "#import libraries\n",
    "from bs4 import BeautifulSoup\n",
    "import requests"
   ]
  },
  {
   "cell_type": "code",
   "execution_count": 30,
   "id": "98436529",
   "metadata": {},
   "outputs": [
    {
     "data": {
      "text/plain": [
       "<Response [200]>"
      ]
     },
     "execution_count": 30,
     "metadata": {},
     "output_type": "execute_result"
    }
   ],
   "source": [
    "#send get request to source page \n",
    "page = requests.get('https://www.icc-cricket.com/rankings/mens/team-rankings/odi')\n",
    "page"
   ]
  },
  {
   "cell_type": "code",
   "execution_count": 31,
   "id": "f856caaf",
   "metadata": {},
   "outputs": [],
   "source": [
    "#page content\n",
    "soup = BeautifulSoup(page.content)\n"
   ]
  },
  {
   "cell_type": "code",
   "execution_count": 32,
   "id": "889963c5",
   "metadata": {},
   "outputs": [],
   "source": [
    "#scraping team names\n",
    "country = []\n",
    "#append team name to list\n",
    "for i in soup.find_all('span',class_=\"u-hide-phablet\")[:10]:\n",
    "    country.append(i.text)\n"
   ]
  },
  {
   "cell_type": "code",
   "execution_count": 33,
   "id": "a179aa48",
   "metadata": {},
   "outputs": [
    {
     "data": {
      "text/plain": [
       "('20', '2,448')"
      ]
     },
     "execution_count": 33,
     "metadata": {},
     "output_type": "execute_result"
    }
   ],
   "source": [
    "match = soup.find('td',class_=\"rankings-block__banner--matches\") #getting 1st match number\n",
    "point = soup.find('td',class_=\"rankings-block__banner--points\")  #getting first points\n",
    "match.text,point.text"
   ]
  },
  {
   "cell_type": "code",
   "execution_count": 34,
   "id": "b6a65372",
   "metadata": {},
   "outputs": [
    {
     "data": {
      "text/plain": [
       "[['32', '3,793'],\n",
       " ['31', '3,475'],\n",
       " ['38', '4,162'],\n",
       " ['31', '3,167'],\n",
       " ['30', '2,921'],\n",
       " ['36', '3,350'],\n",
       " ['35', '2,835'],\n",
       " ['36', '2,788'],\n",
       " ['23', '1,562']]"
      ]
     },
     "execution_count": 34,
     "metadata": {},
     "output_type": "execute_result"
    }
   ],
   "source": [
    "matches = []\n",
    "temp = []\n",
    "j = 0\n",
    "#soup.find_all returns match and points to different line of list,for loop appends match and points to a single list\n",
    "for i in soup.find_all('td',class_=\"table-body__cell u-center-text\")[:18]:\n",
    "    temp.append(i.text)\n",
    "    if((j%2)!=0):\n",
    "        matches.append(temp)\n",
    "        temp = []\n",
    "    j = j+1\n",
    "matches"
   ]
  },
  {
   "cell_type": "code",
   "execution_count": 35,
   "id": "93c4f1ca",
   "metadata": {},
   "outputs": [
    {
     "data": {
      "text/html": [
       "<div>\n",
       "<style scoped>\n",
       "    .dataframe tbody tr th:only-of-type {\n",
       "        vertical-align: middle;\n",
       "    }\n",
       "\n",
       "    .dataframe tbody tr th {\n",
       "        vertical-align: top;\n",
       "    }\n",
       "\n",
       "    .dataframe thead th {\n",
       "        text-align: right;\n",
       "    }\n",
       "</style>\n",
       "<table border=\"1\" class=\"dataframe\">\n",
       "  <thead>\n",
       "    <tr style=\"text-align: right;\">\n",
       "      <th></th>\n",
       "      <th>matches</th>\n",
       "      <th>points</th>\n",
       "    </tr>\n",
       "  </thead>\n",
       "  <tbody>\n",
       "    <tr>\n",
       "      <th>0</th>\n",
       "      <td>32</td>\n",
       "      <td>3,793</td>\n",
       "    </tr>\n",
       "    <tr>\n",
       "      <th>1</th>\n",
       "      <td>31</td>\n",
       "      <td>3,475</td>\n",
       "    </tr>\n",
       "    <tr>\n",
       "      <th>2</th>\n",
       "      <td>38</td>\n",
       "      <td>4,162</td>\n",
       "    </tr>\n",
       "    <tr>\n",
       "      <th>3</th>\n",
       "      <td>31</td>\n",
       "      <td>3,167</td>\n",
       "    </tr>\n",
       "    <tr>\n",
       "      <th>4</th>\n",
       "      <td>30</td>\n",
       "      <td>2,921</td>\n",
       "    </tr>\n",
       "    <tr>\n",
       "      <th>5</th>\n",
       "      <td>36</td>\n",
       "      <td>3,350</td>\n",
       "    </tr>\n",
       "    <tr>\n",
       "      <th>6</th>\n",
       "      <td>35</td>\n",
       "      <td>2,835</td>\n",
       "    </tr>\n",
       "    <tr>\n",
       "      <th>7</th>\n",
       "      <td>36</td>\n",
       "      <td>2,788</td>\n",
       "    </tr>\n",
       "    <tr>\n",
       "      <th>8</th>\n",
       "      <td>23</td>\n",
       "      <td>1,562</td>\n",
       "    </tr>\n",
       "  </tbody>\n",
       "</table>\n",
       "</div>"
      ],
      "text/plain": [
       "  matches points\n",
       "0      32  3,793\n",
       "1      31  3,475\n",
       "2      38  4,162\n",
       "3      31  3,167\n",
       "4      30  2,921\n",
       "5      36  3,350\n",
       "6      35  2,835\n",
       "7      36  2,788\n",
       "8      23  1,562"
      ]
     },
     "execution_count": 35,
     "metadata": {},
     "output_type": "execute_result"
    }
   ],
   "source": [
    "#DataFrame\n",
    "import pandas as pd\n",
    "df = pd.DataFrame(matches)\n",
    "df.columns = ['matches','points']\n",
    "df"
   ]
  },
  {
   "cell_type": "code",
   "execution_count": 36,
   "id": "1571124d",
   "metadata": {},
   "outputs": [
    {
     "data": {
      "text/html": [
       "<div>\n",
       "<style scoped>\n",
       "    .dataframe tbody tr th:only-of-type {\n",
       "        vertical-align: middle;\n",
       "    }\n",
       "\n",
       "    .dataframe tbody tr th {\n",
       "        vertical-align: top;\n",
       "    }\n",
       "\n",
       "    .dataframe thead th {\n",
       "        text-align: right;\n",
       "    }\n",
       "</style>\n",
       "<table border=\"1\" class=\"dataframe\">\n",
       "  <thead>\n",
       "    <tr style=\"text-align: right;\">\n",
       "      <th></th>\n",
       "      <th>matches</th>\n",
       "      <th>points</th>\n",
       "    </tr>\n",
       "  </thead>\n",
       "  <tbody>\n",
       "    <tr>\n",
       "      <th>0</th>\n",
       "      <td>20</td>\n",
       "      <td>2448</td>\n",
       "    </tr>\n",
       "    <tr>\n",
       "      <th>1</th>\n",
       "      <td>32</td>\n",
       "      <td>3,793</td>\n",
       "    </tr>\n",
       "    <tr>\n",
       "      <th>2</th>\n",
       "      <td>31</td>\n",
       "      <td>3,475</td>\n",
       "    </tr>\n",
       "    <tr>\n",
       "      <th>3</th>\n",
       "      <td>38</td>\n",
       "      <td>4,162</td>\n",
       "    </tr>\n",
       "    <tr>\n",
       "      <th>4</th>\n",
       "      <td>31</td>\n",
       "      <td>3,167</td>\n",
       "    </tr>\n",
       "    <tr>\n",
       "      <th>5</th>\n",
       "      <td>30</td>\n",
       "      <td>2,921</td>\n",
       "    </tr>\n",
       "    <tr>\n",
       "      <th>6</th>\n",
       "      <td>36</td>\n",
       "      <td>3,350</td>\n",
       "    </tr>\n",
       "    <tr>\n",
       "      <th>7</th>\n",
       "      <td>35</td>\n",
       "      <td>2,835</td>\n",
       "    </tr>\n",
       "    <tr>\n",
       "      <th>8</th>\n",
       "      <td>36</td>\n",
       "      <td>2,788</td>\n",
       "    </tr>\n",
       "    <tr>\n",
       "      <th>9</th>\n",
       "      <td>23</td>\n",
       "      <td>1,562</td>\n",
       "    </tr>\n",
       "  </tbody>\n",
       "</table>\n",
       "</div>"
      ],
      "text/plain": [
       "  matches points\n",
       "0      20   2448\n",
       "1      32  3,793\n",
       "2      31  3,475\n",
       "3      38  4,162\n",
       "4      31  3,167\n",
       "5      30  2,921\n",
       "6      36  3,350\n",
       "7      35  2,835\n",
       "8      36  2,788\n",
       "9      23  1,562"
      ]
     },
     "execution_count": 36,
     "metadata": {},
     "output_type": "execute_result"
    }
   ],
   "source": [
    "df1 = pd.DataFrame({'matches':20,'points':2448},index=[0])\n",
    "#concatinating df and df1\n",
    "df2 = pd.concat([df1,df],ignore_index=True)\n",
    "df2"
   ]
  },
  {
   "cell_type": "code",
   "execution_count": 37,
   "id": "fa0dc927",
   "metadata": {},
   "outputs": [
    {
     "data": {
      "text/plain": [
       "'                            122                            '"
      ]
     },
     "execution_count": 37,
     "metadata": {},
     "output_type": "execute_result"
    }
   ],
   "source": [
    "#getting first value of rating\n",
    "rate = soup.find('td',class_=\"rankings-block__banner--rating u-text-right\")\n",
    "rate.text.replace('\\n',\"\")"
   ]
  },
  {
   "cell_type": "code",
   "execution_count": 38,
   "id": "f11ddb84",
   "metadata": {},
   "outputs": [
    {
     "data": {
      "text/plain": [
       "['119', '112', '110', '102', '97', '93', '81', '77', '68']"
      ]
     },
     "execution_count": 38,
     "metadata": {},
     "output_type": "execute_result"
    }
   ],
   "source": [
    "rating = []\n",
    "#append all rating values to list\n",
    "for i in soup.find_all('td',class_=\"table-body__cell u-text-right rating\")[:9]:\n",
    "    rating.append(i.text)\n",
    "rating"
   ]
  },
  {
   "cell_type": "code",
   "execution_count": 39,
   "id": "4f9471f9",
   "metadata": {},
   "outputs": [
    {
     "data": {
      "text/plain": [
       "['122', '119', '112', '110', '102', '97', '93', '81', '77', '68']"
      ]
     },
     "execution_count": 39,
     "metadata": {},
     "output_type": "execute_result"
    }
   ],
   "source": [
    "#insert the 1st rate value to rating list\n",
    "rating.insert(0,'122')\n",
    "rating"
   ]
  },
  {
   "cell_type": "code",
   "execution_count": 40,
   "id": "f8706d69",
   "metadata": {},
   "outputs": [
    {
     "data": {
      "text/html": [
       "<div>\n",
       "<style scoped>\n",
       "    .dataframe tbody tr th:only-of-type {\n",
       "        vertical-align: middle;\n",
       "    }\n",
       "\n",
       "    .dataframe tbody tr th {\n",
       "        vertical-align: top;\n",
       "    }\n",
       "\n",
       "    .dataframe thead th {\n",
       "        text-align: right;\n",
       "    }\n",
       "</style>\n",
       "<table border=\"1\" class=\"dataframe\">\n",
       "  <thead>\n",
       "    <tr style=\"text-align: right;\">\n",
       "      <th></th>\n",
       "      <th>Team</th>\n",
       "      <th>rating</th>\n",
       "    </tr>\n",
       "  </thead>\n",
       "  <tbody>\n",
       "    <tr>\n",
       "      <th>0</th>\n",
       "      <td>New Zealand</td>\n",
       "      <td>122</td>\n",
       "    </tr>\n",
       "    <tr>\n",
       "      <th>1</th>\n",
       "      <td>England</td>\n",
       "      <td>119</td>\n",
       "    </tr>\n",
       "    <tr>\n",
       "      <th>2</th>\n",
       "      <td>Australia</td>\n",
       "      <td>112</td>\n",
       "    </tr>\n",
       "    <tr>\n",
       "      <th>3</th>\n",
       "      <td>India</td>\n",
       "      <td>110</td>\n",
       "    </tr>\n",
       "    <tr>\n",
       "      <th>4</th>\n",
       "      <td>South Africa</td>\n",
       "      <td>102</td>\n",
       "    </tr>\n",
       "    <tr>\n",
       "      <th>5</th>\n",
       "      <td>Pakistan</td>\n",
       "      <td>97</td>\n",
       "    </tr>\n",
       "    <tr>\n",
       "      <th>6</th>\n",
       "      <td>Bangladesh</td>\n",
       "      <td>93</td>\n",
       "    </tr>\n",
       "    <tr>\n",
       "      <th>7</th>\n",
       "      <td>Sri Lanka</td>\n",
       "      <td>81</td>\n",
       "    </tr>\n",
       "    <tr>\n",
       "      <th>8</th>\n",
       "      <td>West Indies</td>\n",
       "      <td>77</td>\n",
       "    </tr>\n",
       "    <tr>\n",
       "      <th>9</th>\n",
       "      <td>Afghanistan</td>\n",
       "      <td>68</td>\n",
       "    </tr>\n",
       "  </tbody>\n",
       "</table>\n",
       "</div>"
      ],
      "text/plain": [
       "           Team rating\n",
       "0   New Zealand    122\n",
       "1       England    119\n",
       "2     Australia    112\n",
       "3         India    110\n",
       "4  South Africa    102\n",
       "5      Pakistan     97\n",
       "6    Bangladesh     93\n",
       "7     Sri Lanka     81\n",
       "8   West Indies     77\n",
       "9   Afghanistan     68"
      ]
     },
     "execution_count": 40,
     "metadata": {},
     "output_type": "execute_result"
    }
   ],
   "source": [
    "#DataFrame\n",
    "import pandas as pd\n",
    "df1 = pd.DataFrame({'Team':country,'rating':rating})\n",
    "df1"
   ]
  },
  {
   "cell_type": "code",
   "execution_count": 41,
   "id": "62e53bb7",
   "metadata": {},
   "outputs": [
    {
     "data": {
      "text/html": [
       "<div>\n",
       "<style scoped>\n",
       "    .dataframe tbody tr th:only-of-type {\n",
       "        vertical-align: middle;\n",
       "    }\n",
       "\n",
       "    .dataframe tbody tr th {\n",
       "        vertical-align: top;\n",
       "    }\n",
       "\n",
       "    .dataframe thead th {\n",
       "        text-align: right;\n",
       "    }\n",
       "</style>\n",
       "<table border=\"1\" class=\"dataframe\">\n",
       "  <thead>\n",
       "    <tr style=\"text-align: right;\">\n",
       "      <th></th>\n",
       "      <th>Team</th>\n",
       "      <th>rating</th>\n",
       "      <th>matches</th>\n",
       "      <th>points</th>\n",
       "    </tr>\n",
       "  </thead>\n",
       "  <tbody>\n",
       "    <tr>\n",
       "      <th>0</th>\n",
       "      <td>New Zealand</td>\n",
       "      <td>122</td>\n",
       "      <td>20</td>\n",
       "      <td>2448</td>\n",
       "    </tr>\n",
       "    <tr>\n",
       "      <th>1</th>\n",
       "      <td>England</td>\n",
       "      <td>119</td>\n",
       "      <td>32</td>\n",
       "      <td>3,793</td>\n",
       "    </tr>\n",
       "    <tr>\n",
       "      <th>2</th>\n",
       "      <td>Australia</td>\n",
       "      <td>112</td>\n",
       "      <td>31</td>\n",
       "      <td>3,475</td>\n",
       "    </tr>\n",
       "    <tr>\n",
       "      <th>3</th>\n",
       "      <td>India</td>\n",
       "      <td>110</td>\n",
       "      <td>38</td>\n",
       "      <td>4,162</td>\n",
       "    </tr>\n",
       "    <tr>\n",
       "      <th>4</th>\n",
       "      <td>South Africa</td>\n",
       "      <td>102</td>\n",
       "      <td>31</td>\n",
       "      <td>3,167</td>\n",
       "    </tr>\n",
       "    <tr>\n",
       "      <th>5</th>\n",
       "      <td>Pakistan</td>\n",
       "      <td>97</td>\n",
       "      <td>30</td>\n",
       "      <td>2,921</td>\n",
       "    </tr>\n",
       "    <tr>\n",
       "      <th>6</th>\n",
       "      <td>Bangladesh</td>\n",
       "      <td>93</td>\n",
       "      <td>36</td>\n",
       "      <td>3,350</td>\n",
       "    </tr>\n",
       "    <tr>\n",
       "      <th>7</th>\n",
       "      <td>Sri Lanka</td>\n",
       "      <td>81</td>\n",
       "      <td>35</td>\n",
       "      <td>2,835</td>\n",
       "    </tr>\n",
       "    <tr>\n",
       "      <th>8</th>\n",
       "      <td>West Indies</td>\n",
       "      <td>77</td>\n",
       "      <td>36</td>\n",
       "      <td>2,788</td>\n",
       "    </tr>\n",
       "    <tr>\n",
       "      <th>9</th>\n",
       "      <td>Afghanistan</td>\n",
       "      <td>68</td>\n",
       "      <td>23</td>\n",
       "      <td>1,562</td>\n",
       "    </tr>\n",
       "  </tbody>\n",
       "</table>\n",
       "</div>"
      ],
      "text/plain": [
       "           Team rating matches points\n",
       "0   New Zealand    122      20   2448\n",
       "1       England    119      32  3,793\n",
       "2     Australia    112      31  3,475\n",
       "3         India    110      38  4,162\n",
       "4  South Africa    102      31  3,167\n",
       "5      Pakistan     97      30  2,921\n",
       "6    Bangladesh     93      36  3,350\n",
       "7     Sri Lanka     81      35  2,835\n",
       "8   West Indies     77      36  2,788\n",
       "9   Afghanistan     68      23  1,562"
      ]
     },
     "execution_count": 41,
     "metadata": {},
     "output_type": "execute_result"
    }
   ],
   "source": [
    "#Concatenating df1 and df2\n",
    "col = pd.concat([df1,df2],axis=1)\n",
    "col"
   ]
  },
  {
   "cell_type": "markdown",
   "id": "37919fd5",
   "metadata": {},
   "source": [
    "# Top 10 ODI Batsman Team and Ranking"
   ]
  },
  {
   "cell_type": "code",
   "execution_count": 42,
   "id": "2bd159d6",
   "metadata": {},
   "outputs": [
    {
     "data": {
      "text/plain": [
       "<Response [200]>"
      ]
     },
     "execution_count": 42,
     "metadata": {},
     "output_type": "execute_result"
    }
   ],
   "source": [
    "#get request from the source page\n",
    "page = requests.get('https://www.icc-cricket.com/rankings/mens/player-rankings/odi')\n",
    "page"
   ]
  },
  {
   "cell_type": "code",
   "execution_count": 43,
   "id": "4b677b58",
   "metadata": {},
   "outputs": [],
   "source": [
    "#page content\n",
    "soup = BeautifulSoup(page.content)\n"
   ]
  },
  {
   "cell_type": "code",
   "execution_count": 44,
   "id": "cc24626c",
   "metadata": {},
   "outputs": [
    {
     "data": {
      "text/plain": [
       "'Babar Azam'"
      ]
     },
     "execution_count": 44,
     "metadata": {},
     "output_type": "execute_result"
    }
   ],
   "source": [
    "#getting 1st player name in the list\n",
    "player = soup.find('div',class_=\"rankings-block__banner--name\")\n",
    "player.text"
   ]
  },
  {
   "cell_type": "code",
   "execution_count": 45,
   "id": "520eea28",
   "metadata": {},
   "outputs": [],
   "source": [
    "players = []\n",
    "#append other player names to the list using for loop\n",
    "for i in soup.find_all('td',class_=\"table-body__cell name\")[:9]:\n",
    "    players.append(i.text.replace('\\n',\"\"))\n"
   ]
  },
  {
   "cell_type": "code",
   "execution_count": 46,
   "id": "61413572",
   "metadata": {},
   "outputs": [
    {
     "data": {
      "text/plain": [
       "['Babar Azam',\n",
       " 'Virat Kohli',\n",
       " 'Imam-ul-Haq',\n",
       " 'Rohit Sharma',\n",
       " 'Quinton de Kock',\n",
       " 'Jonny Bairstow',\n",
       " 'Ross Taylor',\n",
       " 'Rassie van der Dussen',\n",
       " 'David Warner',\n",
       " 'Aaron Finch']"
      ]
     },
     "execution_count": 46,
     "metadata": {},
     "output_type": "execute_result"
    }
   ],
   "source": [
    "#insert the first player name to the players list\n",
    "players.insert(0,'Babar Azam')\n",
    "players"
   ]
  },
  {
   "cell_type": "code",
   "execution_count": 47,
   "id": "753eb654",
   "metadata": {},
   "outputs": [
    {
     "data": {
      "text/plain": [
       "'PAK                            891'"
      ]
     },
     "execution_count": 47,
     "metadata": {},
     "output_type": "execute_result"
    }
   ],
   "source": [
    "#getting first country to the list\n",
    "country = soup.find('div',class_=\"rankings-block__banner--nationality\")\n",
    "country.text.replace('\\n',\"\")"
   ]
  },
  {
   "cell_type": "code",
   "execution_count": 48,
   "id": "fb8bcc92",
   "metadata": {},
   "outputs": [
    {
     "data": {
      "text/plain": [
       "['IND', 'PAK', 'IND', 'SA', 'ENG', 'NZ', 'SA', 'AUS', 'AUS']"
      ]
     },
     "execution_count": 48,
     "metadata": {},
     "output_type": "execute_result"
    }
   ],
   "source": [
    "countries = []\n",
    "#append countries to list\n",
    "for i in soup.find_all('span',class_=\"table-body__logo-text\")[:9]:\n",
    "    countries.append(i.text)\n",
    "countries"
   ]
  },
  {
   "cell_type": "code",
   "execution_count": 49,
   "id": "cbb78970",
   "metadata": {},
   "outputs": [
    {
     "data": {
      "text/plain": [
       "['PAK', 'IND', 'PAK', 'IND', 'SA', 'ENG', 'NZ', 'SA', 'AUS', 'AUS']"
      ]
     },
     "execution_count": 49,
     "metadata": {},
     "output_type": "execute_result"
    }
   ],
   "source": [
    "#insert 1st country name to countries list\n",
    "countries.insert(0,'PAK')\n",
    "countries"
   ]
  },
  {
   "cell_type": "code",
   "execution_count": 50,
   "id": "2329f02c",
   "metadata": {},
   "outputs": [
    {
     "data": {
      "text/plain": [
       "['811', '795', '791', '789', '775', '775', '769', '750', '745']"
      ]
     },
     "execution_count": 50,
     "metadata": {},
     "output_type": "execute_result"
    }
   ],
   "source": [
    "ratings = []\n",
    "#append ratings to list\n",
    "for i in soup.find_all('td',class_=\"table-body__cell u-text-right rating\")[:9]:\n",
    "    ratings.append(i.text)\n",
    "ratings"
   ]
  },
  {
   "cell_type": "code",
   "execution_count": 51,
   "id": "47331997",
   "metadata": {},
   "outputs": [
    {
     "data": {
      "text/plain": [
       "['891', '811', '795', '791', '789', '775', '775', '769', '750', '745']"
      ]
     },
     "execution_count": 51,
     "metadata": {},
     "output_type": "execute_result"
    }
   ],
   "source": [
    "#insert 1st rate to ratings list\n",
    "ratings.insert(0,'891')\n",
    "ratings"
   ]
  },
  {
   "cell_type": "code",
   "execution_count": 52,
   "id": "44edeb9c",
   "metadata": {},
   "outputs": [
    {
     "data": {
      "text/html": [
       "<div>\n",
       "<style scoped>\n",
       "    .dataframe tbody tr th:only-of-type {\n",
       "        vertical-align: middle;\n",
       "    }\n",
       "\n",
       "    .dataframe tbody tr th {\n",
       "        vertical-align: top;\n",
       "    }\n",
       "\n",
       "    .dataframe thead th {\n",
       "        text-align: right;\n",
       "    }\n",
       "</style>\n",
       "<table border=\"1\" class=\"dataframe\">\n",
       "  <thead>\n",
       "    <tr style=\"text-align: right;\">\n",
       "      <th></th>\n",
       "      <th>players</th>\n",
       "      <th>country</th>\n",
       "      <th>ratings</th>\n",
       "    </tr>\n",
       "  </thead>\n",
       "  <tbody>\n",
       "    <tr>\n",
       "      <th>0</th>\n",
       "      <td>Babar Azam</td>\n",
       "      <td>PAK</td>\n",
       "      <td>891</td>\n",
       "    </tr>\n",
       "    <tr>\n",
       "      <th>1</th>\n",
       "      <td>Virat Kohli</td>\n",
       "      <td>IND</td>\n",
       "      <td>811</td>\n",
       "    </tr>\n",
       "    <tr>\n",
       "      <th>2</th>\n",
       "      <td>Imam-ul-Haq</td>\n",
       "      <td>PAK</td>\n",
       "      <td>795</td>\n",
       "    </tr>\n",
       "    <tr>\n",
       "      <th>3</th>\n",
       "      <td>Rohit Sharma</td>\n",
       "      <td>IND</td>\n",
       "      <td>791</td>\n",
       "    </tr>\n",
       "    <tr>\n",
       "      <th>4</th>\n",
       "      <td>Quinton de Kock</td>\n",
       "      <td>SA</td>\n",
       "      <td>789</td>\n",
       "    </tr>\n",
       "    <tr>\n",
       "      <th>5</th>\n",
       "      <td>Jonny Bairstow</td>\n",
       "      <td>ENG</td>\n",
       "      <td>775</td>\n",
       "    </tr>\n",
       "    <tr>\n",
       "      <th>6</th>\n",
       "      <td>Ross Taylor</td>\n",
       "      <td>NZ</td>\n",
       "      <td>775</td>\n",
       "    </tr>\n",
       "    <tr>\n",
       "      <th>7</th>\n",
       "      <td>Rassie van der Dussen</td>\n",
       "      <td>SA</td>\n",
       "      <td>769</td>\n",
       "    </tr>\n",
       "    <tr>\n",
       "      <th>8</th>\n",
       "      <td>David Warner</td>\n",
       "      <td>AUS</td>\n",
       "      <td>750</td>\n",
       "    </tr>\n",
       "    <tr>\n",
       "      <th>9</th>\n",
       "      <td>Aaron Finch</td>\n",
       "      <td>AUS</td>\n",
       "      <td>745</td>\n",
       "    </tr>\n",
       "  </tbody>\n",
       "</table>\n",
       "</div>"
      ],
      "text/plain": [
       "                 players country ratings\n",
       "0             Babar Azam     PAK     891\n",
       "1            Virat Kohli     IND     811\n",
       "2            Imam-ul-Haq     PAK     795\n",
       "3           Rohit Sharma     IND     791\n",
       "4        Quinton de Kock      SA     789\n",
       "5         Jonny Bairstow     ENG     775\n",
       "6            Ross Taylor      NZ     775\n",
       "7  Rassie van der Dussen      SA     769\n",
       "8           David Warner     AUS     750\n",
       "9            Aaron Finch     AUS     745"
      ]
     },
     "execution_count": 52,
     "metadata": {},
     "output_type": "execute_result"
    }
   ],
   "source": [
    "#DataFrame\n",
    "import pandas as pd\n",
    "df = pd.DataFrame({'players':players,'country':countries,'ratings':ratings})\n",
    "df"
   ]
  },
  {
   "cell_type": "markdown",
   "id": "9657cbc8",
   "metadata": {},
   "source": [
    "# Top 10 ODI Bowlers"
   ]
  },
  {
   "cell_type": "code",
   "execution_count": 53,
   "id": "52a2330c",
   "metadata": {},
   "outputs": [],
   "source": [
    "#import libraries\n",
    "from bs4 import BeautifulSoup\n",
    "import requests"
   ]
  },
  {
   "cell_type": "code",
   "execution_count": 54,
   "id": "58fa3b37",
   "metadata": {},
   "outputs": [
    {
     "data": {
      "text/plain": [
       "<Response [200]>"
      ]
     },
     "execution_count": 54,
     "metadata": {},
     "output_type": "execute_result"
    }
   ],
   "source": [
    "#get request from source page\n",
    "page = requests.get('https://www.icc-cricket.com/rankings/mens/player-rankings/odi/bowling')\n",
    "page"
   ]
  },
  {
   "cell_type": "code",
   "execution_count": 55,
   "id": "cc115e8e",
   "metadata": {},
   "outputs": [],
   "source": [
    "#page content\n",
    "soup = BeautifulSoup(page.content)\n"
   ]
  },
  {
   "cell_type": "code",
   "execution_count": 56,
   "id": "1c0fee27",
   "metadata": {},
   "outputs": [
    {
     "data": {
      "text/plain": [
       "'Trent Boult'"
      ]
     },
     "execution_count": 56,
     "metadata": {},
     "output_type": "execute_result"
    }
   ],
   "source": [
    "#getting 1st bowler name to list\n",
    "bowler = soup.find('div',class_=\"rankings-block__banner--name-large\")\n",
    "bowler.text"
   ]
  },
  {
   "cell_type": "code",
   "execution_count": 57,
   "id": "a49dccf1",
   "metadata": {},
   "outputs": [],
   "source": [
    "bowlers = []\n",
    "#append bowlers name to list\n",
    "for i in soup.find_all('td',class_=\"table-body__cell rankings-table__name name\")[:9]:\n",
    "    bowlers.append(i.text.replace('\\n',\"\"))\n"
   ]
  },
  {
   "cell_type": "code",
   "execution_count": 58,
   "id": "776754ac",
   "metadata": {},
   "outputs": [
    {
     "data": {
      "text/plain": [
       "['Trent Boult',\n",
       " 'Chris Woakes',\n",
       " 'Josh Hazlewood',\n",
       " 'Matt Henry',\n",
       " 'Mujeeb Ur Rahman',\n",
       " 'Jasprit Bumrah',\n",
       " 'Shaheen Afridi',\n",
       " 'Mehedi Hasan',\n",
       " 'Shakib Al Hasan',\n",
       " 'Rashid Khan']"
      ]
     },
     "execution_count": 58,
     "metadata": {},
     "output_type": "execute_result"
    }
   ],
   "source": [
    "#insert 1st bowler name to bowlers list\n",
    "bowlers.insert(0,'Trent Boult')\n",
    "bowlers"
   ]
  },
  {
   "cell_type": "code",
   "execution_count": 59,
   "id": "eebfd404",
   "metadata": {},
   "outputs": [
    {
     "data": {
      "text/plain": [
       "'NZ                    '"
      ]
     },
     "execution_count": 59,
     "metadata": {},
     "output_type": "execute_result"
    }
   ],
   "source": [
    "#get 1st country name to list\n",
    "country = soup.find('div',class_=\"rankings-block__banner--nationality\")\n",
    "country.text.replace('\\n',\"\")"
   ]
  },
  {
   "cell_type": "code",
   "execution_count": 60,
   "id": "4571dca8",
   "metadata": {},
   "outputs": [
    {
     "data": {
      "text/plain": [
       "['ENG', 'AUS', 'NZ', 'AFG', 'IND', 'PAK', 'BAN', 'BAN', 'AFG']"
      ]
     },
     "execution_count": 60,
     "metadata": {},
     "output_type": "execute_result"
    }
   ],
   "source": [
    "countries = []\n",
    "#append country names to list\n",
    "for i in soup.find_all('span',class_=\"table-body__logo-text\")[:9]:\n",
    "    countries.append(i.text)\n",
    "countries"
   ]
  },
  {
   "cell_type": "code",
   "execution_count": 61,
   "id": "5975f85b",
   "metadata": {},
   "outputs": [
    {
     "data": {
      "text/plain": [
       "['NZ', 'ENG', 'AUS', 'NZ', 'AFG', 'IND', 'PAK', 'BAN', 'BAN', 'AFG']"
      ]
     },
     "execution_count": 61,
     "metadata": {},
     "output_type": "execute_result"
    }
   ],
   "source": [
    "#insert 1st country name to countries list\n",
    "countries.insert(0,'NZ')\n",
    "countries"
   ]
  },
  {
   "cell_type": "code",
   "execution_count": 62,
   "id": "87ad6d95",
   "metadata": {},
   "outputs": [
    {
     "data": {
      "text/plain": [
       "'726'"
      ]
     },
     "execution_count": 62,
     "metadata": {},
     "output_type": "execute_result"
    }
   ],
   "source": [
    "#get rate to list\n",
    "rate = soup.find('div',class_=\"rankings-block__banner--rating\")\n",
    "rate.text"
   ]
  },
  {
   "cell_type": "code",
   "execution_count": 63,
   "id": "40d4b07b",
   "metadata": {},
   "outputs": [
    {
     "data": {
      "text/plain": [
       "['700', '698', '683', '681', '679', '671', '661', '657', '650']"
      ]
     },
     "execution_count": 63,
     "metadata": {},
     "output_type": "execute_result"
    }
   ],
   "source": [
    "ratings = []\n",
    "#append ratings to list\n",
    "for i in soup.find_all('td',class_=\"table-body__cell rating\")[:9]:\n",
    "    ratings.append(i.text)\n",
    "ratings"
   ]
  },
  {
   "cell_type": "code",
   "execution_count": 64,
   "id": "919495a8",
   "metadata": {},
   "outputs": [
    {
     "data": {
      "text/plain": [
       "['726', '700', '698', '683', '681', '679', '671', '661', '657', '650']"
      ]
     },
     "execution_count": 64,
     "metadata": {},
     "output_type": "execute_result"
    }
   ],
   "source": [
    "#insert 1st rate to ratings list\n",
    "ratings.insert(0,'726')\n",
    "ratings"
   ]
  },
  {
   "cell_type": "code",
   "execution_count": 65,
   "id": "fa14e019",
   "metadata": {},
   "outputs": [
    {
     "data": {
      "text/html": [
       "<div>\n",
       "<style scoped>\n",
       "    .dataframe tbody tr th:only-of-type {\n",
       "        vertical-align: middle;\n",
       "    }\n",
       "\n",
       "    .dataframe tbody tr th {\n",
       "        vertical-align: top;\n",
       "    }\n",
       "\n",
       "    .dataframe thead th {\n",
       "        text-align: right;\n",
       "    }\n",
       "</style>\n",
       "<table border=\"1\" class=\"dataframe\">\n",
       "  <thead>\n",
       "    <tr style=\"text-align: right;\">\n",
       "      <th></th>\n",
       "      <th>bowlers</th>\n",
       "      <th>countries</th>\n",
       "      <th>ratings</th>\n",
       "    </tr>\n",
       "  </thead>\n",
       "  <tbody>\n",
       "    <tr>\n",
       "      <th>0</th>\n",
       "      <td>Trent Boult</td>\n",
       "      <td>NZ</td>\n",
       "      <td>726</td>\n",
       "    </tr>\n",
       "    <tr>\n",
       "      <th>1</th>\n",
       "      <td>Chris Woakes</td>\n",
       "      <td>ENG</td>\n",
       "      <td>700</td>\n",
       "    </tr>\n",
       "    <tr>\n",
       "      <th>2</th>\n",
       "      <td>Josh Hazlewood</td>\n",
       "      <td>AUS</td>\n",
       "      <td>698</td>\n",
       "    </tr>\n",
       "    <tr>\n",
       "      <th>3</th>\n",
       "      <td>Matt Henry</td>\n",
       "      <td>NZ</td>\n",
       "      <td>683</td>\n",
       "    </tr>\n",
       "    <tr>\n",
       "      <th>4</th>\n",
       "      <td>Mujeeb Ur Rahman</td>\n",
       "      <td>AFG</td>\n",
       "      <td>681</td>\n",
       "    </tr>\n",
       "    <tr>\n",
       "      <th>5</th>\n",
       "      <td>Jasprit Bumrah</td>\n",
       "      <td>IND</td>\n",
       "      <td>679</td>\n",
       "    </tr>\n",
       "    <tr>\n",
       "      <th>6</th>\n",
       "      <td>Shaheen Afridi</td>\n",
       "      <td>PAK</td>\n",
       "      <td>671</td>\n",
       "    </tr>\n",
       "    <tr>\n",
       "      <th>7</th>\n",
       "      <td>Mehedi Hasan</td>\n",
       "      <td>BAN</td>\n",
       "      <td>661</td>\n",
       "    </tr>\n",
       "    <tr>\n",
       "      <th>8</th>\n",
       "      <td>Shakib Al Hasan</td>\n",
       "      <td>BAN</td>\n",
       "      <td>657</td>\n",
       "    </tr>\n",
       "    <tr>\n",
       "      <th>9</th>\n",
       "      <td>Rashid Khan</td>\n",
       "      <td>AFG</td>\n",
       "      <td>650</td>\n",
       "    </tr>\n",
       "  </tbody>\n",
       "</table>\n",
       "</div>"
      ],
      "text/plain": [
       "            bowlers countries ratings\n",
       "0       Trent Boult        NZ     726\n",
       "1      Chris Woakes       ENG     700\n",
       "2    Josh Hazlewood       AUS     698\n",
       "3        Matt Henry        NZ     683\n",
       "4  Mujeeb Ur Rahman       AFG     681\n",
       "5    Jasprit Bumrah       IND     679\n",
       "6    Shaheen Afridi       PAK     671\n",
       "7      Mehedi Hasan       BAN     661\n",
       "8   Shakib Al Hasan       BAN     657\n",
       "9       Rashid Khan       AFG     650"
      ]
     },
     "execution_count": 65,
     "metadata": {},
     "output_type": "execute_result"
    }
   ],
   "source": [
    "#DataFrame\n",
    "import pandas as pd\n",
    "df = pd.DataFrame({'bowlers':bowlers,'countries':countries,'ratings':ratings})\n",
    "df"
   ]
  },
  {
   "cell_type": "markdown",
   "id": "a058e1c5",
   "metadata": {},
   "source": [
    "# Women's ODI"
   ]
  },
  {
   "cell_type": "code",
   "execution_count": 66,
   "id": "4f2f7a81",
   "metadata": {},
   "outputs": [],
   "source": [
    "#import libraries\n",
    "from bs4 import BeautifulSoup\n",
    "import requests"
   ]
  },
  {
   "cell_type": "code",
   "execution_count": 67,
   "id": "091a36e7",
   "metadata": {},
   "outputs": [
    {
     "data": {
      "text/plain": [
       "<Response [200]>"
      ]
     },
     "execution_count": 67,
     "metadata": {},
     "output_type": "execute_result"
    }
   ],
   "source": [
    "#get request from source page\n",
    "page = requests.get('https://www.icc-cricket.com/rankings/womens/team-rankings/odi')\n",
    "page"
   ]
  },
  {
   "cell_type": "code",
   "execution_count": 68,
   "id": "fddc21c8",
   "metadata": {},
   "outputs": [],
   "source": [
    "#page content\n",
    "soup = BeautifulSoup(page.content)\n"
   ]
  },
  {
   "cell_type": "code",
   "execution_count": 69,
   "id": "b0df3c15",
   "metadata": {},
   "outputs": [
    {
     "data": {
      "text/plain": [
       "['Australia',\n",
       " 'South Africa',\n",
       " 'England',\n",
       " 'India',\n",
       " 'New Zealand',\n",
       " 'West Indies',\n",
       " 'Bangladesh',\n",
       " 'Pakistan',\n",
       " 'Ireland',\n",
       " 'Sri Lanka']"
      ]
     },
     "execution_count": 69,
     "metadata": {},
     "output_type": "execute_result"
    }
   ],
   "source": [
    "country = []\n",
    "#append country to list\n",
    "for i in soup.find_all('span',class_=\"u-hide-phablet\")[:10]:\n",
    "    country.append(i.text)\n",
    "country"
   ]
  },
  {
   "cell_type": "code",
   "execution_count": 70,
   "id": "bfa3fe98",
   "metadata": {},
   "outputs": [
    {
     "data": {
      "text/plain": [
       "'29'"
      ]
     },
     "execution_count": 70,
     "metadata": {},
     "output_type": "execute_result"
    }
   ],
   "source": [
    "#get 1st match number to list\n",
    "match = soup.find('td',class_=\"rankings-block__banner--matches\")\n",
    "match.text"
   ]
  },
  {
   "cell_type": "code",
   "execution_count": 71,
   "id": "bd192912",
   "metadata": {},
   "outputs": [
    {
     "data": {
      "text/plain": [
       "'4,840'"
      ]
     },
     "execution_count": 71,
     "metadata": {},
     "output_type": "execute_result"
    }
   ],
   "source": [
    "#get 1st point to list\n",
    "point = soup.find('td',class_=\"rankings-block__banner--points\")\n",
    "point.text"
   ]
  },
  {
   "cell_type": "code",
   "execution_count": 72,
   "id": "5651450e",
   "metadata": {},
   "outputs": [
    {
     "data": {
      "text/plain": [
       "[['28', '3,504'],\n",
       " ['30', '3,533'],\n",
       " ['29', '2,878'],\n",
       " ['31', '3,030'],\n",
       " ['28', '2,481'],\n",
       " ['12', '936'],\n",
       " ['26', '1,752'],\n",
       " ['5', '240'],\n",
       " ['5', '233']]"
      ]
     },
     "execution_count": 72,
     "metadata": {},
     "output_type": "execute_result"
    }
   ],
   "source": [
    "matches = []\n",
    "temp = []\n",
    "j = 0\n",
    "#match and points are in different list, using for loop it is converted to single list\n",
    "for i in soup.find_all('td',class_=\"table-body__cell u-center-text\")[:18]:\n",
    "    temp.append(i.text)\n",
    "    if ((j % 2) != 0):\n",
    "        matches.append(temp)\n",
    "        temp =[]\n",
    "    j = j+1\n",
    "matches"
   ]
  },
  {
   "cell_type": "code",
   "execution_count": 73,
   "id": "02918872",
   "metadata": {},
   "outputs": [
    {
     "data": {
      "text/html": [
       "<div>\n",
       "<style scoped>\n",
       "    .dataframe tbody tr th:only-of-type {\n",
       "        vertical-align: middle;\n",
       "    }\n",
       "\n",
       "    .dataframe tbody tr th {\n",
       "        vertical-align: top;\n",
       "    }\n",
       "\n",
       "    .dataframe thead th {\n",
       "        text-align: right;\n",
       "    }\n",
       "</style>\n",
       "<table border=\"1\" class=\"dataframe\">\n",
       "  <thead>\n",
       "    <tr style=\"text-align: right;\">\n",
       "      <th></th>\n",
       "      <th>matches</th>\n",
       "      <th>points</th>\n",
       "    </tr>\n",
       "  </thead>\n",
       "  <tbody>\n",
       "    <tr>\n",
       "      <th>0</th>\n",
       "      <td>28</td>\n",
       "      <td>3,504</td>\n",
       "    </tr>\n",
       "    <tr>\n",
       "      <th>1</th>\n",
       "      <td>30</td>\n",
       "      <td>3,533</td>\n",
       "    </tr>\n",
       "    <tr>\n",
       "      <th>2</th>\n",
       "      <td>29</td>\n",
       "      <td>2,878</td>\n",
       "    </tr>\n",
       "    <tr>\n",
       "      <th>3</th>\n",
       "      <td>31</td>\n",
       "      <td>3,030</td>\n",
       "    </tr>\n",
       "    <tr>\n",
       "      <th>4</th>\n",
       "      <td>28</td>\n",
       "      <td>2,481</td>\n",
       "    </tr>\n",
       "    <tr>\n",
       "      <th>5</th>\n",
       "      <td>12</td>\n",
       "      <td>936</td>\n",
       "    </tr>\n",
       "    <tr>\n",
       "      <th>6</th>\n",
       "      <td>26</td>\n",
       "      <td>1,752</td>\n",
       "    </tr>\n",
       "    <tr>\n",
       "      <th>7</th>\n",
       "      <td>5</td>\n",
       "      <td>240</td>\n",
       "    </tr>\n",
       "    <tr>\n",
       "      <th>8</th>\n",
       "      <td>5</td>\n",
       "      <td>233</td>\n",
       "    </tr>\n",
       "  </tbody>\n",
       "</table>\n",
       "</div>"
      ],
      "text/plain": [
       "  matches points\n",
       "0      28  3,504\n",
       "1      30  3,533\n",
       "2      29  2,878\n",
       "3      31  3,030\n",
       "4      28  2,481\n",
       "5      12    936\n",
       "6      26  1,752\n",
       "7       5    240\n",
       "8       5    233"
      ]
     },
     "execution_count": 73,
     "metadata": {},
     "output_type": "execute_result"
    }
   ],
   "source": [
    "#dataframe for match and points\n",
    "df = pd.DataFrame(data=matches,columns=['matches','points'])\n",
    "df"
   ]
  },
  {
   "cell_type": "code",
   "execution_count": 74,
   "id": "03e833ad",
   "metadata": {},
   "outputs": [],
   "source": [
    "df1 = pd.DataFrame({'matches':29,'points':4840},index=[0])"
   ]
  },
  {
   "cell_type": "code",
   "execution_count": 75,
   "id": "7d989884",
   "metadata": {},
   "outputs": [
    {
     "data": {
      "text/html": [
       "<div>\n",
       "<style scoped>\n",
       "    .dataframe tbody tr th:only-of-type {\n",
       "        vertical-align: middle;\n",
       "    }\n",
       "\n",
       "    .dataframe tbody tr th {\n",
       "        vertical-align: top;\n",
       "    }\n",
       "\n",
       "    .dataframe thead th {\n",
       "        text-align: right;\n",
       "    }\n",
       "</style>\n",
       "<table border=\"1\" class=\"dataframe\">\n",
       "  <thead>\n",
       "    <tr style=\"text-align: right;\">\n",
       "      <th></th>\n",
       "      <th>matches</th>\n",
       "      <th>points</th>\n",
       "    </tr>\n",
       "  </thead>\n",
       "  <tbody>\n",
       "    <tr>\n",
       "      <th>0</th>\n",
       "      <td>29</td>\n",
       "      <td>4840</td>\n",
       "    </tr>\n",
       "    <tr>\n",
       "      <th>1</th>\n",
       "      <td>28</td>\n",
       "      <td>3,504</td>\n",
       "    </tr>\n",
       "    <tr>\n",
       "      <th>2</th>\n",
       "      <td>30</td>\n",
       "      <td>3,533</td>\n",
       "    </tr>\n",
       "    <tr>\n",
       "      <th>3</th>\n",
       "      <td>29</td>\n",
       "      <td>2,878</td>\n",
       "    </tr>\n",
       "    <tr>\n",
       "      <th>4</th>\n",
       "      <td>31</td>\n",
       "      <td>3,030</td>\n",
       "    </tr>\n",
       "    <tr>\n",
       "      <th>5</th>\n",
       "      <td>28</td>\n",
       "      <td>2,481</td>\n",
       "    </tr>\n",
       "    <tr>\n",
       "      <th>6</th>\n",
       "      <td>12</td>\n",
       "      <td>936</td>\n",
       "    </tr>\n",
       "    <tr>\n",
       "      <th>7</th>\n",
       "      <td>26</td>\n",
       "      <td>1,752</td>\n",
       "    </tr>\n",
       "    <tr>\n",
       "      <th>8</th>\n",
       "      <td>5</td>\n",
       "      <td>240</td>\n",
       "    </tr>\n",
       "    <tr>\n",
       "      <th>9</th>\n",
       "      <td>5</td>\n",
       "      <td>233</td>\n",
       "    </tr>\n",
       "  </tbody>\n",
       "</table>\n",
       "</div>"
      ],
      "text/plain": [
       "  matches points\n",
       "0      29   4840\n",
       "1      28  3,504\n",
       "2      30  3,533\n",
       "3      29  2,878\n",
       "4      31  3,030\n",
       "5      28  2,481\n",
       "6      12    936\n",
       "7      26  1,752\n",
       "8       5    240\n",
       "9       5    233"
      ]
     },
     "execution_count": 75,
     "metadata": {},
     "output_type": "execute_result"
    }
   ],
   "source": [
    "#concatenating df1 and df\n",
    "df2 = pd.concat([df1,df],ignore_index=True)\n",
    "df2"
   ]
  },
  {
   "cell_type": "code",
   "execution_count": 76,
   "id": "d4b009a9",
   "metadata": {},
   "outputs": [
    {
     "data": {
      "text/plain": [
       "'                            167                            '"
      ]
     },
     "execution_count": 76,
     "metadata": {},
     "output_type": "execute_result"
    }
   ],
   "source": [
    "#getting 1st rate to list\n",
    "rate = soup.find('td',class_=\"rankings-block__banner--rating u-text-right\")\n",
    "rate.text.replace('\\n',\"\")"
   ]
  },
  {
   "cell_type": "code",
   "execution_count": 77,
   "id": "2815118f",
   "metadata": {},
   "outputs": [
    {
     "data": {
      "text/plain": [
       "['125', '118', '99', '98', '89', '78', '67', '48', '47']"
      ]
     },
     "execution_count": 77,
     "metadata": {},
     "output_type": "execute_result"
    }
   ],
   "source": [
    "ratings = []\n",
    "#append rates to list\n",
    "for i in soup.find_all('td',class_=\"table-body__cell u-text-right rating\")[:9]:\n",
    "    ratings.append(i.text)\n",
    "ratings"
   ]
  },
  {
   "cell_type": "code",
   "execution_count": 78,
   "id": "c643fd38",
   "metadata": {},
   "outputs": [
    {
     "data": {
      "text/plain": [
       "['167', '125', '118', '99', '98', '89', '78', '67', '48', '47']"
      ]
     },
     "execution_count": 78,
     "metadata": {},
     "output_type": "execute_result"
    }
   ],
   "source": [
    "#inserting first rate to rating list\n",
    "ratings.insert(0,'167')\n",
    "ratings"
   ]
  },
  {
   "cell_type": "code",
   "execution_count": 79,
   "id": "27543f64",
   "metadata": {},
   "outputs": [
    {
     "data": {
      "text/html": [
       "<div>\n",
       "<style scoped>\n",
       "    .dataframe tbody tr th:only-of-type {\n",
       "        vertical-align: middle;\n",
       "    }\n",
       "\n",
       "    .dataframe tbody tr th {\n",
       "        vertical-align: top;\n",
       "    }\n",
       "\n",
       "    .dataframe thead th {\n",
       "        text-align: right;\n",
       "    }\n",
       "</style>\n",
       "<table border=\"1\" class=\"dataframe\">\n",
       "  <thead>\n",
       "    <tr style=\"text-align: right;\">\n",
       "      <th></th>\n",
       "      <th>Team</th>\n",
       "      <th>ratings</th>\n",
       "    </tr>\n",
       "  </thead>\n",
       "  <tbody>\n",
       "    <tr>\n",
       "      <th>0</th>\n",
       "      <td>Australia</td>\n",
       "      <td>167</td>\n",
       "    </tr>\n",
       "    <tr>\n",
       "      <th>1</th>\n",
       "      <td>South Africa</td>\n",
       "      <td>125</td>\n",
       "    </tr>\n",
       "    <tr>\n",
       "      <th>2</th>\n",
       "      <td>England</td>\n",
       "      <td>118</td>\n",
       "    </tr>\n",
       "    <tr>\n",
       "      <th>3</th>\n",
       "      <td>India</td>\n",
       "      <td>99</td>\n",
       "    </tr>\n",
       "    <tr>\n",
       "      <th>4</th>\n",
       "      <td>New Zealand</td>\n",
       "      <td>98</td>\n",
       "    </tr>\n",
       "    <tr>\n",
       "      <th>5</th>\n",
       "      <td>West Indies</td>\n",
       "      <td>89</td>\n",
       "    </tr>\n",
       "    <tr>\n",
       "      <th>6</th>\n",
       "      <td>Bangladesh</td>\n",
       "      <td>78</td>\n",
       "    </tr>\n",
       "    <tr>\n",
       "      <th>7</th>\n",
       "      <td>Pakistan</td>\n",
       "      <td>67</td>\n",
       "    </tr>\n",
       "    <tr>\n",
       "      <th>8</th>\n",
       "      <td>Ireland</td>\n",
       "      <td>48</td>\n",
       "    </tr>\n",
       "    <tr>\n",
       "      <th>9</th>\n",
       "      <td>Sri Lanka</td>\n",
       "      <td>47</td>\n",
       "    </tr>\n",
       "  </tbody>\n",
       "</table>\n",
       "</div>"
      ],
      "text/plain": [
       "           Team ratings\n",
       "0     Australia     167\n",
       "1  South Africa     125\n",
       "2       England     118\n",
       "3         India      99\n",
       "4   New Zealand      98\n",
       "5   West Indies      89\n",
       "6    Bangladesh      78\n",
       "7      Pakistan      67\n",
       "8       Ireland      48\n",
       "9     Sri Lanka      47"
      ]
     },
     "execution_count": 79,
     "metadata": {},
     "output_type": "execute_result"
    }
   ],
   "source": [
    "#dataframe fro Team and rating\n",
    "df3 = pd.DataFrame({'Team':country,'ratings':ratings})\n",
    "df3"
   ]
  },
  {
   "cell_type": "code",
   "execution_count": 80,
   "id": "fc67a4b7",
   "metadata": {},
   "outputs": [
    {
     "data": {
      "text/html": [
       "<div>\n",
       "<style scoped>\n",
       "    .dataframe tbody tr th:only-of-type {\n",
       "        vertical-align: middle;\n",
       "    }\n",
       "\n",
       "    .dataframe tbody tr th {\n",
       "        vertical-align: top;\n",
       "    }\n",
       "\n",
       "    .dataframe thead th {\n",
       "        text-align: right;\n",
       "    }\n",
       "</style>\n",
       "<table border=\"1\" class=\"dataframe\">\n",
       "  <thead>\n",
       "    <tr style=\"text-align: right;\">\n",
       "      <th></th>\n",
       "      <th>Team</th>\n",
       "      <th>ratings</th>\n",
       "      <th>matches</th>\n",
       "      <th>points</th>\n",
       "    </tr>\n",
       "  </thead>\n",
       "  <tbody>\n",
       "    <tr>\n",
       "      <th>0</th>\n",
       "      <td>Australia</td>\n",
       "      <td>167</td>\n",
       "      <td>29</td>\n",
       "      <td>4840</td>\n",
       "    </tr>\n",
       "    <tr>\n",
       "      <th>1</th>\n",
       "      <td>South Africa</td>\n",
       "      <td>125</td>\n",
       "      <td>28</td>\n",
       "      <td>3,504</td>\n",
       "    </tr>\n",
       "    <tr>\n",
       "      <th>2</th>\n",
       "      <td>England</td>\n",
       "      <td>118</td>\n",
       "      <td>30</td>\n",
       "      <td>3,533</td>\n",
       "    </tr>\n",
       "    <tr>\n",
       "      <th>3</th>\n",
       "      <td>India</td>\n",
       "      <td>99</td>\n",
       "      <td>29</td>\n",
       "      <td>2,878</td>\n",
       "    </tr>\n",
       "    <tr>\n",
       "      <th>4</th>\n",
       "      <td>New Zealand</td>\n",
       "      <td>98</td>\n",
       "      <td>31</td>\n",
       "      <td>3,030</td>\n",
       "    </tr>\n",
       "    <tr>\n",
       "      <th>5</th>\n",
       "      <td>West Indies</td>\n",
       "      <td>89</td>\n",
       "      <td>28</td>\n",
       "      <td>2,481</td>\n",
       "    </tr>\n",
       "    <tr>\n",
       "      <th>6</th>\n",
       "      <td>Bangladesh</td>\n",
       "      <td>78</td>\n",
       "      <td>12</td>\n",
       "      <td>936</td>\n",
       "    </tr>\n",
       "    <tr>\n",
       "      <th>7</th>\n",
       "      <td>Pakistan</td>\n",
       "      <td>67</td>\n",
       "      <td>26</td>\n",
       "      <td>1,752</td>\n",
       "    </tr>\n",
       "    <tr>\n",
       "      <th>8</th>\n",
       "      <td>Ireland</td>\n",
       "      <td>48</td>\n",
       "      <td>5</td>\n",
       "      <td>240</td>\n",
       "    </tr>\n",
       "    <tr>\n",
       "      <th>9</th>\n",
       "      <td>Sri Lanka</td>\n",
       "      <td>47</td>\n",
       "      <td>5</td>\n",
       "      <td>233</td>\n",
       "    </tr>\n",
       "  </tbody>\n",
       "</table>\n",
       "</div>"
      ],
      "text/plain": [
       "           Team ratings matches points\n",
       "0     Australia     167      29   4840\n",
       "1  South Africa     125      28  3,504\n",
       "2       England     118      30  3,533\n",
       "3         India      99      29  2,878\n",
       "4   New Zealand      98      31  3,030\n",
       "5   West Indies      89      28  2,481\n",
       "6    Bangladesh      78      12    936\n",
       "7      Pakistan      67      26  1,752\n",
       "8       Ireland      48       5    240\n",
       "9     Sri Lanka      47       5    233"
      ]
     },
     "execution_count": 80,
     "metadata": {},
     "output_type": "execute_result"
    }
   ],
   "source": [
    "#concatinating to df3 and df2 to get the final result\n",
    "pd.concat([df3,df2],axis=1)"
   ]
  },
  {
   "cell_type": "markdown",
   "id": "f4fa1e1d",
   "metadata": {},
   "source": [
    "# Women's ODI Batting Players"
   ]
  },
  {
   "cell_type": "code",
   "execution_count": 81,
   "id": "464add27",
   "metadata": {},
   "outputs": [
    {
     "data": {
      "text/plain": [
       "<Response [200]>"
      ]
     },
     "execution_count": 81,
     "metadata": {},
     "output_type": "execute_result"
    }
   ],
   "source": [
    "#get request from source page\n",
    "page = requests.get('https://www.icc-cricket.com/rankings/womens/player-rankings/odi/batting')\n",
    "page"
   ]
  },
  {
   "cell_type": "code",
   "execution_count": 82,
   "id": "efa5e356",
   "metadata": {},
   "outputs": [],
   "source": [
    "#page content\n",
    "soup = BeautifulSoup(page.content)\n"
   ]
  },
  {
   "cell_type": "code",
   "execution_count": 83,
   "id": "3317b9ef",
   "metadata": {},
   "outputs": [
    {
     "data": {
      "text/plain": [
       "'Alyssa Healy'"
      ]
     },
     "execution_count": 83,
     "metadata": {},
     "output_type": "execute_result"
    }
   ],
   "source": [
    "#getting 1st name to list\n",
    "name = soup.find('div',class_=\"rankings-block__banner--name-large\")\n",
    "name.text"
   ]
  },
  {
   "cell_type": "code",
   "execution_count": 84,
   "id": "827d42dd",
   "metadata": {},
   "outputs": [],
   "source": [
    "names = []\n",
    "#append other player names to list\n",
    "for i in soup.find_all('td',class_=\"table-body__cell rankings-table__name name\")[:9]:\n",
    "    names.append(i.text.replace(\"\\n\",\"\"))\n"
   ]
  },
  {
   "cell_type": "code",
   "execution_count": 85,
   "id": "87b61c5b",
   "metadata": {},
   "outputs": [
    {
     "data": {
      "text/plain": [
       "['Alyssa Healy',\n",
       " 'Natalie Sciver',\n",
       " 'Beth Mooney',\n",
       " 'Laura Wolvaardt',\n",
       " 'Meg Lanning',\n",
       " 'Rachael Haynes',\n",
       " 'Mithali Raj',\n",
       " 'Amy Satterthwaite',\n",
       " 'Smriti Mandhana',\n",
       " 'Tammy Beaumont']"
      ]
     },
     "execution_count": 85,
     "metadata": {},
     "output_type": "execute_result"
    }
   ],
   "source": [
    "#inserting 1st player name to other players in the list\n",
    "names.insert(0,'Alyssa Healy')\n",
    "names"
   ]
  },
  {
   "cell_type": "code",
   "execution_count": 86,
   "id": "639982b4",
   "metadata": {},
   "outputs": [
    {
     "data": {
      "text/plain": [
       "'AUS                    '"
      ]
     },
     "execution_count": 86,
     "metadata": {},
     "output_type": "execute_result"
    }
   ],
   "source": [
    "#getting 1st country in the list\n",
    "country = soup.find('div',class_=\"rankings-block__banner--nationality\")\n",
    "country.text.replace('\\n','')"
   ]
  },
  {
   "cell_type": "code",
   "execution_count": 87,
   "id": "c663c7e7",
   "metadata": {},
   "outputs": [
    {
     "data": {
      "text/plain": [
       "['ENG', 'AUS', 'SA', 'AUS', 'AUS', 'IND', 'NZ', 'IND', 'ENG']"
      ]
     },
     "execution_count": 87,
     "metadata": {},
     "output_type": "execute_result"
    }
   ],
   "source": [
    "team = []\n",
    "#append teams to list\n",
    "for i in soup.find_all('span',class_=\"table-body__logo-text\")[:9]:\n",
    "    team.append(i.text)\n",
    "team"
   ]
  },
  {
   "cell_type": "code",
   "execution_count": 88,
   "id": "a1f46cb7",
   "metadata": {},
   "outputs": [
    {
     "data": {
      "text/plain": [
       "['AUS', 'ENG', 'AUS', 'SA', 'AUS', 'AUS', 'IND', 'NZ', 'IND', 'ENG']"
      ]
     },
     "execution_count": 88,
     "metadata": {},
     "output_type": "execute_result"
    }
   ],
   "source": [
    "#inserting 1st team name to team list\n",
    "team.insert(0,'AUS')\n",
    "team"
   ]
  },
  {
   "cell_type": "code",
   "execution_count": 89,
   "id": "da2c4cdc",
   "metadata": {},
   "outputs": [
    {
     "data": {
      "text/plain": [
       "'785'"
      ]
     },
     "execution_count": 89,
     "metadata": {},
     "output_type": "execute_result"
    }
   ],
   "source": [
    "#getting first rate name\n",
    "rate = soup.find('div',class_=\"rankings-block__banner--rating\")\n",
    "rate.text"
   ]
  },
  {
   "cell_type": "code",
   "execution_count": 90,
   "id": "6d02305b",
   "metadata": {},
   "outputs": [
    {
     "data": {
      "text/plain": [
       "['750', '748', '722', '710', '701', '686', '681', '669', '659']"
      ]
     },
     "execution_count": 90,
     "metadata": {},
     "output_type": "execute_result"
    }
   ],
   "source": [
    "rating = []\n",
    "#append ratings to list\n",
    "for i in soup.find_all('td',class_=\"table-body__cell rating\")[:9]:\n",
    "    rating.append(i.text)\n",
    "rating"
   ]
  },
  {
   "cell_type": "code",
   "execution_count": 91,
   "id": "2874ff1c",
   "metadata": {},
   "outputs": [
    {
     "data": {
      "text/plain": [
       "['785', '750', '748', '722', '710', '701', '686', '681', '669', '659']"
      ]
     },
     "execution_count": 91,
     "metadata": {},
     "output_type": "execute_result"
    }
   ],
   "source": [
    "#insert 1st rate to rating list\n",
    "rating.insert(0,'785')\n",
    "rating"
   ]
  },
  {
   "cell_type": "code",
   "execution_count": 92,
   "id": "4f0bab1b",
   "metadata": {},
   "outputs": [
    {
     "data": {
      "text/html": [
       "<div>\n",
       "<style scoped>\n",
       "    .dataframe tbody tr th:only-of-type {\n",
       "        vertical-align: middle;\n",
       "    }\n",
       "\n",
       "    .dataframe tbody tr th {\n",
       "        vertical-align: top;\n",
       "    }\n",
       "\n",
       "    .dataframe thead th {\n",
       "        text-align: right;\n",
       "    }\n",
       "</style>\n",
       "<table border=\"1\" class=\"dataframe\">\n",
       "  <thead>\n",
       "    <tr style=\"text-align: right;\">\n",
       "      <th></th>\n",
       "      <th>names</th>\n",
       "      <th>team</th>\n",
       "      <th>rating</th>\n",
       "    </tr>\n",
       "  </thead>\n",
       "  <tbody>\n",
       "    <tr>\n",
       "      <th>0</th>\n",
       "      <td>Alyssa Healy</td>\n",
       "      <td>AUS</td>\n",
       "      <td>785</td>\n",
       "    </tr>\n",
       "    <tr>\n",
       "      <th>1</th>\n",
       "      <td>Natalie Sciver</td>\n",
       "      <td>ENG</td>\n",
       "      <td>750</td>\n",
       "    </tr>\n",
       "    <tr>\n",
       "      <th>2</th>\n",
       "      <td>Beth Mooney</td>\n",
       "      <td>AUS</td>\n",
       "      <td>748</td>\n",
       "    </tr>\n",
       "    <tr>\n",
       "      <th>3</th>\n",
       "      <td>Laura Wolvaardt</td>\n",
       "      <td>SA</td>\n",
       "      <td>722</td>\n",
       "    </tr>\n",
       "    <tr>\n",
       "      <th>4</th>\n",
       "      <td>Meg Lanning</td>\n",
       "      <td>AUS</td>\n",
       "      <td>710</td>\n",
       "    </tr>\n",
       "    <tr>\n",
       "      <th>5</th>\n",
       "      <td>Rachael Haynes</td>\n",
       "      <td>AUS</td>\n",
       "      <td>701</td>\n",
       "    </tr>\n",
       "    <tr>\n",
       "      <th>6</th>\n",
       "      <td>Mithali Raj</td>\n",
       "      <td>IND</td>\n",
       "      <td>686</td>\n",
       "    </tr>\n",
       "    <tr>\n",
       "      <th>7</th>\n",
       "      <td>Amy Satterthwaite</td>\n",
       "      <td>NZ</td>\n",
       "      <td>681</td>\n",
       "    </tr>\n",
       "    <tr>\n",
       "      <th>8</th>\n",
       "      <td>Smriti Mandhana</td>\n",
       "      <td>IND</td>\n",
       "      <td>669</td>\n",
       "    </tr>\n",
       "    <tr>\n",
       "      <th>9</th>\n",
       "      <td>Tammy Beaumont</td>\n",
       "      <td>ENG</td>\n",
       "      <td>659</td>\n",
       "    </tr>\n",
       "  </tbody>\n",
       "</table>\n",
       "</div>"
      ],
      "text/plain": [
       "               names team rating\n",
       "0       Alyssa Healy  AUS    785\n",
       "1     Natalie Sciver  ENG    750\n",
       "2        Beth Mooney  AUS    748\n",
       "3    Laura Wolvaardt   SA    722\n",
       "4        Meg Lanning  AUS    710\n",
       "5     Rachael Haynes  AUS    701\n",
       "6        Mithali Raj  IND    686\n",
       "7  Amy Satterthwaite   NZ    681\n",
       "8    Smriti Mandhana  IND    669\n",
       "9     Tammy Beaumont  ENG    659"
      ]
     },
     "execution_count": 92,
     "metadata": {},
     "output_type": "execute_result"
    }
   ],
   "source": [
    "#DataFrame\n",
    "import pandas as pd\n",
    "df = pd.DataFrame({'names':names,'team':team,'rating':rating})\n",
    "df"
   ]
  },
  {
   "cell_type": "markdown",
   "id": "eedc93fa",
   "metadata": {},
   "source": [
    "# Women's ODI All Rounder"
   ]
  },
  {
   "cell_type": "code",
   "execution_count": 93,
   "id": "0b0856e5",
   "metadata": {},
   "outputs": [
    {
     "data": {
      "text/plain": [
       "<Response [200]>"
      ]
     },
     "execution_count": 93,
     "metadata": {},
     "output_type": "execute_result"
    }
   ],
   "source": [
    "#get request from source page\n",
    "page = requests.get('https://www.icc-cricket.com/rankings/womens/player-rankings/odi/all-rounder')\n",
    "page"
   ]
  },
  {
   "cell_type": "code",
   "execution_count": 94,
   "id": "4fd57e3e",
   "metadata": {},
   "outputs": [],
   "source": [
    "#page content\n",
    "soup = BeautifulSoup(page.content)\n"
   ]
  },
  {
   "cell_type": "code",
   "execution_count": 95,
   "id": "f7785de4",
   "metadata": {},
   "outputs": [
    {
     "data": {
      "text/plain": [
       "'Natalie Sciver'"
      ]
     },
     "execution_count": 95,
     "metadata": {},
     "output_type": "execute_result"
    }
   ],
   "source": [
    "#getting 1st name to list\n",
    "name = soup.find('div',class_=\"rankings-block__banner--name-large\")\n",
    "name.text"
   ]
  },
  {
   "cell_type": "code",
   "execution_count": 96,
   "id": "94a4d460",
   "metadata": {},
   "outputs": [],
   "source": [
    "names = []\n",
    "#append names to list\n",
    "for i in soup.find_all('td',class_=\"table-body__cell rankings-table__name name\")[:9]:\n",
    "    names.append(i.text.replace('\\n',\"\"))\n"
   ]
  },
  {
   "cell_type": "code",
   "execution_count": 97,
   "id": "3406c66f",
   "metadata": {},
   "outputs": [
    {
     "data": {
      "text/plain": [
       "['Natalie Sciver',\n",
       " 'Ellyse Perry',\n",
       " 'Marizanne Kapp',\n",
       " 'Hayley Matthews',\n",
       " 'Amelia Kerr',\n",
       " 'Ashleigh Gardner',\n",
       " 'Deepti Sharma',\n",
       " 'Jess Jonassen',\n",
       " 'Katherine Brunt',\n",
       " 'Jhulan Goswami']"
      ]
     },
     "execution_count": 97,
     "metadata": {},
     "output_type": "execute_result"
    }
   ],
   "source": [
    "#inserting 1st name to names list\n",
    "names.insert(0,'Natalie Sciver')\n",
    "names"
   ]
  },
  {
   "cell_type": "code",
   "execution_count": 98,
   "id": "5b071c27",
   "metadata": {},
   "outputs": [
    {
     "data": {
      "text/plain": [
       "'ENG                    '"
      ]
     },
     "execution_count": 98,
     "metadata": {},
     "output_type": "execute_result"
    }
   ],
   "source": [
    "#append 1st team to list\n",
    "team = soup.find('div',class_=\"rankings-block__banner--nationality\")\n",
    "team.text.replace('\\n',\"\")"
   ]
  },
  {
   "cell_type": "code",
   "execution_count": 99,
   "id": "75fdf222",
   "metadata": {},
   "outputs": [
    {
     "data": {
      "text/plain": [
       "['AUS', 'SA', 'WI', 'NZ', 'AUS', 'IND', 'AUS', 'ENG', 'IND']"
      ]
     },
     "execution_count": 99,
     "metadata": {},
     "output_type": "execute_result"
    }
   ],
   "source": [
    "teams = []\n",
    "#append teams to list\n",
    "for i in soup.find_all('span',class_=\"table-body__logo-text\")[:9]:\n",
    "    teams.append(i.text)\n",
    "teams"
   ]
  },
  {
   "cell_type": "code",
   "execution_count": 100,
   "id": "c4992dc6",
   "metadata": {},
   "outputs": [
    {
     "data": {
      "text/plain": [
       "['ENG', 'AUS', 'SA', 'WI', 'NZ', 'AUS', 'IND', 'AUS', 'ENG', 'IND']"
      ]
     },
     "execution_count": 100,
     "metadata": {},
     "output_type": "execute_result"
    }
   ],
   "source": [
    "#insert 1st team to teams list\n",
    "teams.insert(0,'ENG')\n",
    "teams"
   ]
  },
  {
   "cell_type": "code",
   "execution_count": 101,
   "id": "d026283c",
   "metadata": {},
   "outputs": [
    {
     "data": {
      "text/plain": [
       "'393'"
      ]
     },
     "execution_count": 101,
     "metadata": {},
     "output_type": "execute_result"
    }
   ],
   "source": [
    "#get 1st rate to list\n",
    "rate = soup.find('div',class_=\"rankings-block__banner--rating\")\n",
    "rate.text"
   ]
  },
  {
   "cell_type": "code",
   "execution_count": 102,
   "id": "79d920bc",
   "metadata": {},
   "outputs": [
    {
     "data": {
      "text/plain": [
       "['374', '359', '338', '335', '269', '249', '245', '221', '217']"
      ]
     },
     "execution_count": 102,
     "metadata": {},
     "output_type": "execute_result"
    }
   ],
   "source": [
    "ratings = []\n",
    "#append rating to list\n",
    "for i in soup.find_all('td',class_=\"table-body__cell rating\")[:9]:\n",
    "    ratings.append(i.text)\n",
    "ratings"
   ]
  },
  {
   "cell_type": "code",
   "execution_count": 103,
   "id": "4f8600c4",
   "metadata": {},
   "outputs": [
    {
     "data": {
      "text/plain": [
       "['393', '374', '359', '338', '335', '269', '249', '245', '221', '217']"
      ]
     },
     "execution_count": 103,
     "metadata": {},
     "output_type": "execute_result"
    }
   ],
   "source": [
    "#insert 1st rate to ratings list\n",
    "ratings.insert(0,'393')\n",
    "ratings"
   ]
  },
  {
   "cell_type": "code",
   "execution_count": 104,
   "id": "bce6cffe",
   "metadata": {},
   "outputs": [
    {
     "data": {
      "text/html": [
       "<div>\n",
       "<style scoped>\n",
       "    .dataframe tbody tr th:only-of-type {\n",
       "        vertical-align: middle;\n",
       "    }\n",
       "\n",
       "    .dataframe tbody tr th {\n",
       "        vertical-align: top;\n",
       "    }\n",
       "\n",
       "    .dataframe thead th {\n",
       "        text-align: right;\n",
       "    }\n",
       "</style>\n",
       "<table border=\"1\" class=\"dataframe\">\n",
       "  <thead>\n",
       "    <tr style=\"text-align: right;\">\n",
       "      <th></th>\n",
       "      <th>player</th>\n",
       "      <th>teams</th>\n",
       "      <th>ratings</th>\n",
       "    </tr>\n",
       "  </thead>\n",
       "  <tbody>\n",
       "    <tr>\n",
       "      <th>0</th>\n",
       "      <td>Natalie Sciver</td>\n",
       "      <td>ENG</td>\n",
       "      <td>393</td>\n",
       "    </tr>\n",
       "    <tr>\n",
       "      <th>1</th>\n",
       "      <td>Ellyse Perry</td>\n",
       "      <td>AUS</td>\n",
       "      <td>374</td>\n",
       "    </tr>\n",
       "    <tr>\n",
       "      <th>2</th>\n",
       "      <td>Marizanne Kapp</td>\n",
       "      <td>SA</td>\n",
       "      <td>359</td>\n",
       "    </tr>\n",
       "    <tr>\n",
       "      <th>3</th>\n",
       "      <td>Hayley Matthews</td>\n",
       "      <td>WI</td>\n",
       "      <td>338</td>\n",
       "    </tr>\n",
       "    <tr>\n",
       "      <th>4</th>\n",
       "      <td>Amelia Kerr</td>\n",
       "      <td>NZ</td>\n",
       "      <td>335</td>\n",
       "    </tr>\n",
       "    <tr>\n",
       "      <th>5</th>\n",
       "      <td>Ashleigh Gardner</td>\n",
       "      <td>AUS</td>\n",
       "      <td>269</td>\n",
       "    </tr>\n",
       "    <tr>\n",
       "      <th>6</th>\n",
       "      <td>Deepti Sharma</td>\n",
       "      <td>IND</td>\n",
       "      <td>249</td>\n",
       "    </tr>\n",
       "    <tr>\n",
       "      <th>7</th>\n",
       "      <td>Jess Jonassen</td>\n",
       "      <td>AUS</td>\n",
       "      <td>245</td>\n",
       "    </tr>\n",
       "    <tr>\n",
       "      <th>8</th>\n",
       "      <td>Katherine Brunt</td>\n",
       "      <td>ENG</td>\n",
       "      <td>221</td>\n",
       "    </tr>\n",
       "    <tr>\n",
       "      <th>9</th>\n",
       "      <td>Jhulan Goswami</td>\n",
       "      <td>IND</td>\n",
       "      <td>217</td>\n",
       "    </tr>\n",
       "  </tbody>\n",
       "</table>\n",
       "</div>"
      ],
      "text/plain": [
       "             player teams ratings\n",
       "0    Natalie Sciver   ENG     393\n",
       "1      Ellyse Perry   AUS     374\n",
       "2    Marizanne Kapp    SA     359\n",
       "3   Hayley Matthews    WI     338\n",
       "4       Amelia Kerr    NZ     335\n",
       "5  Ashleigh Gardner   AUS     269\n",
       "6     Deepti Sharma   IND     249\n",
       "7     Jess Jonassen   AUS     245\n",
       "8   Katherine Brunt   ENG     221\n",
       "9    Jhulan Goswami   IND     217"
      ]
     },
     "execution_count": 104,
     "metadata": {},
     "output_type": "execute_result"
    }
   ],
   "source": [
    "#Making DataFrame\n",
    "import pandas as pd\n",
    "df = pd.DataFrame({'player':names,'teams':teams,'ratings':ratings})\n",
    "df"
   ]
  },
  {
   "cell_type": "markdown",
   "id": "2460ab08",
   "metadata": {},
   "source": [
    "# COREYMS.COM"
   ]
  },
  {
   "cell_type": "code",
   "execution_count": 105,
   "id": "3ed892dd",
   "metadata": {},
   "outputs": [],
   "source": [
    "#import libraries\n",
    "from bs4 import BeautifulSoup\n",
    "import requests"
   ]
  },
  {
   "cell_type": "code",
   "execution_count": 106,
   "id": "20a44676",
   "metadata": {},
   "outputs": [
    {
     "data": {
      "text/plain": [
       "<Response [200]>"
      ]
     },
     "execution_count": 106,
     "metadata": {},
     "output_type": "execute_result"
    }
   ],
   "source": [
    "#get request from source page\n",
    "page = requests.get('https://coreyms.com/')\n",
    "page"
   ]
  },
  {
   "cell_type": "code",
   "execution_count": 107,
   "id": "7c476345",
   "metadata": {},
   "outputs": [],
   "source": [
    "#page content\n",
    "soup = BeautifulSoup(page.content)\n"
   ]
  },
  {
   "cell_type": "code",
   "execution_count": 108,
   "id": "c804a2ff",
   "metadata": {},
   "outputs": [],
   "source": [
    "#Scraping Heading\n",
    "heading = []\n",
    "#append heading to list\n",
    "for i in soup.find_all('a',class_=\"entry-title-link\"):\n",
    "    heading.append(i.text)"
   ]
  },
  {
   "cell_type": "code",
   "execution_count": 109,
   "id": "30c043df",
   "metadata": {},
   "outputs": [],
   "source": [
    "#Scraping Date\n",
    "date = []\n",
    "#append data to list\n",
    "for i in soup.find_all('time',class_=\"entry-time\"):\n",
    "    date.append(i.text)"
   ]
  },
  {
   "cell_type": "code",
   "execution_count": 110,
   "id": "c66f0756",
   "metadata": {},
   "outputs": [],
   "source": [
    "#scraping content\n",
    "content = []\n",
    "#append content to list\n",
    "for i in soup.find_all('div',class_=\"entry-content\"):\n",
    "    content.append(i.text.replace(\"\\n\",\"\"))"
   ]
  },
  {
   "cell_type": "code",
   "execution_count": 111,
   "id": "4962689f",
   "metadata": {},
   "outputs": [],
   "source": [
    "#scraping video link\n",
    "video = []\n",
    "#append video_link to list\n",
    "for i in soup.find_all('iframe',class_=\"youtube-player\"):\n",
    "    video.append(i['src'])"
   ]
  },
  {
   "cell_type": "code",
   "execution_count": 112,
   "id": "899185e6",
   "metadata": {},
   "outputs": [],
   "source": [
    "video.insert(4,'No Video')"
   ]
  },
  {
   "cell_type": "code",
   "execution_count": 113,
   "id": "77e2c28b",
   "metadata": {},
   "outputs": [
    {
     "name": "stdout",
     "output_type": "stream",
     "text": [
      "10 10 10 10\n"
     ]
    }
   ],
   "source": [
    "print(len(heading),len(date),len(content),len(video)) "
   ]
  },
  {
   "cell_type": "code",
   "execution_count": 114,
   "id": "f9e82b02",
   "metadata": {},
   "outputs": [
    {
     "data": {
      "text/html": [
       "<div>\n",
       "<style scoped>\n",
       "    .dataframe tbody tr th:only-of-type {\n",
       "        vertical-align: middle;\n",
       "    }\n",
       "\n",
       "    .dataframe tbody tr th {\n",
       "        vertical-align: top;\n",
       "    }\n",
       "\n",
       "    .dataframe thead th {\n",
       "        text-align: right;\n",
       "    }\n",
       "</style>\n",
       "<table border=\"1\" class=\"dataframe\">\n",
       "  <thead>\n",
       "    <tr style=\"text-align: right;\">\n",
       "      <th></th>\n",
       "      <th>heading</th>\n",
       "      <th>date</th>\n",
       "      <th>content</th>\n",
       "      <th>video_link</th>\n",
       "    </tr>\n",
       "  </thead>\n",
       "  <tbody>\n",
       "    <tr>\n",
       "      <th>0</th>\n",
       "      <td>Python Tutorial: Zip Files – Creating and Extr...</td>\n",
       "      <td>November 19, 2019</td>\n",
       "      <td>In this video, we will be learning how to crea...</td>\n",
       "      <td>https://www.youtube.com/embed/z0gguhEmWiY?vers...</td>\n",
       "    </tr>\n",
       "    <tr>\n",
       "      <th>1</th>\n",
       "      <td>Python Data Science Tutorial: Analyzing the 20...</td>\n",
       "      <td>October 17, 2019</td>\n",
       "      <td>In this Python Programming video, we will be l...</td>\n",
       "      <td>https://www.youtube.com/embed/_P7X8tMplsw?vers...</td>\n",
       "    </tr>\n",
       "    <tr>\n",
       "      <th>2</th>\n",
       "      <td>Python Multiprocessing Tutorial: Run Code in P...</td>\n",
       "      <td>September 21, 2019</td>\n",
       "      <td>In this Python Programming video, we will be l...</td>\n",
       "      <td>https://www.youtube.com/embed/fKl2JW_qrso?vers...</td>\n",
       "    </tr>\n",
       "    <tr>\n",
       "      <th>3</th>\n",
       "      <td>Python Threading Tutorial: Run Code Concurrent...</td>\n",
       "      <td>September 12, 2019</td>\n",
       "      <td>In this Python Programming video, we will be l...</td>\n",
       "      <td>https://www.youtube.com/embed/IEEhzQoKtQU?vers...</td>\n",
       "    </tr>\n",
       "    <tr>\n",
       "      <th>4</th>\n",
       "      <td>Update (2019-09-03)</td>\n",
       "      <td>September 3, 2019</td>\n",
       "      <td>Hey everyone. I wanted to give you an update o...</td>\n",
       "      <td>No Video</td>\n",
       "    </tr>\n",
       "    <tr>\n",
       "      <th>5</th>\n",
       "      <td>Python Quick Tip: The Difference Between “==” ...</td>\n",
       "      <td>August 6, 2019</td>\n",
       "      <td>In this Python Programming Tutorial, we will b...</td>\n",
       "      <td>https://www.youtube.com/embed/mO_dS3rXDIs?vers...</td>\n",
       "    </tr>\n",
       "    <tr>\n",
       "      <th>6</th>\n",
       "      <td>Python Tutorial: Calling External Commands Usi...</td>\n",
       "      <td>July 24, 2019</td>\n",
       "      <td>In this Python Programming Tutorial, we will b...</td>\n",
       "      <td>https://www.youtube.com/embed/2Fp1N6dof0Y?vers...</td>\n",
       "    </tr>\n",
       "    <tr>\n",
       "      <th>7</th>\n",
       "      <td>Visual Studio Code (Windows) – Setting up a Py...</td>\n",
       "      <td>May 1, 2019</td>\n",
       "      <td>In this Python Programming Tutorial, we will b...</td>\n",
       "      <td>https://www.youtube.com/embed/-nh9rCzPJ20?vers...</td>\n",
       "    </tr>\n",
       "    <tr>\n",
       "      <th>8</th>\n",
       "      <td>Visual Studio Code (Mac) – Setting up a Python...</td>\n",
       "      <td>May 1, 2019</td>\n",
       "      <td>In this Python Programming Tutorial, we will b...</td>\n",
       "      <td>https://www.youtube.com/embed/06I63_p-2A4?vers...</td>\n",
       "    </tr>\n",
       "    <tr>\n",
       "      <th>9</th>\n",
       "      <td>Clarifying the Issues with Mutable Default Arg...</td>\n",
       "      <td>April 24, 2019</td>\n",
       "      <td>In this Python Programming Tutorial, we will b...</td>\n",
       "      <td>https://www.youtube.com/embed/_JGmemuINww?vers...</td>\n",
       "    </tr>\n",
       "  </tbody>\n",
       "</table>\n",
       "</div>"
      ],
      "text/plain": [
       "                                             heading                date  \\\n",
       "0  Python Tutorial: Zip Files – Creating and Extr...   November 19, 2019   \n",
       "1  Python Data Science Tutorial: Analyzing the 20...    October 17, 2019   \n",
       "2  Python Multiprocessing Tutorial: Run Code in P...  September 21, 2019   \n",
       "3  Python Threading Tutorial: Run Code Concurrent...  September 12, 2019   \n",
       "4                                Update (2019-09-03)   September 3, 2019   \n",
       "5  Python Quick Tip: The Difference Between “==” ...      August 6, 2019   \n",
       "6  Python Tutorial: Calling External Commands Usi...       July 24, 2019   \n",
       "7  Visual Studio Code (Windows) – Setting up a Py...         May 1, 2019   \n",
       "8  Visual Studio Code (Mac) – Setting up a Python...         May 1, 2019   \n",
       "9  Clarifying the Issues with Mutable Default Arg...      April 24, 2019   \n",
       "\n",
       "                                             content  \\\n",
       "0  In this video, we will be learning how to crea...   \n",
       "1  In this Python Programming video, we will be l...   \n",
       "2  In this Python Programming video, we will be l...   \n",
       "3  In this Python Programming video, we will be l...   \n",
       "4  Hey everyone. I wanted to give you an update o...   \n",
       "5  In this Python Programming Tutorial, we will b...   \n",
       "6  In this Python Programming Tutorial, we will b...   \n",
       "7  In this Python Programming Tutorial, we will b...   \n",
       "8  In this Python Programming Tutorial, we will b...   \n",
       "9  In this Python Programming Tutorial, we will b...   \n",
       "\n",
       "                                          video_link  \n",
       "0  https://www.youtube.com/embed/z0gguhEmWiY?vers...  \n",
       "1  https://www.youtube.com/embed/_P7X8tMplsw?vers...  \n",
       "2  https://www.youtube.com/embed/fKl2JW_qrso?vers...  \n",
       "3  https://www.youtube.com/embed/IEEhzQoKtQU?vers...  \n",
       "4                                           No Video  \n",
       "5  https://www.youtube.com/embed/mO_dS3rXDIs?vers...  \n",
       "6  https://www.youtube.com/embed/2Fp1N6dof0Y?vers...  \n",
       "7  https://www.youtube.com/embed/-nh9rCzPJ20?vers...  \n",
       "8  https://www.youtube.com/embed/06I63_p-2A4?vers...  \n",
       "9  https://www.youtube.com/embed/_JGmemuINww?vers...  "
      ]
     },
     "execution_count": 114,
     "metadata": {},
     "output_type": "execute_result"
    }
   ],
   "source": [
    "#making dataframe\n",
    "import pandas as pd\n",
    "df = pd.DataFrame({'heading':heading,'date':date,'content':content,\"video_link\":video})\n",
    "df"
   ]
  },
  {
   "cell_type": "markdown",
   "id": "2f6fd33b",
   "metadata": {},
   "source": [
    "# No Broker"
   ]
  },
  {
   "cell_type": "code",
   "execution_count": 115,
   "id": "d4bf0c85",
   "metadata": {},
   "outputs": [],
   "source": [
    "#import libraries\n",
    "from bs4 import BeautifulSoup\n",
    "import requests"
   ]
  },
  {
   "cell_type": "code",
   "execution_count": 116,
   "id": "9fb781cf",
   "metadata": {},
   "outputs": [
    {
     "data": {
      "text/plain": [
       "<Response [200]>"
      ]
     },
     "execution_count": 116,
     "metadata": {},
     "output_type": "execute_result"
    }
   ],
   "source": [
    "#get request from source page\n",
    "page = requests.get('https://www.nobroker.in/property/sale/bangalore/multiple?searchParam=W3sibGF0IjoxMi45NzgzNjkyLCJsb24iOjc3LjY0MDgzNTYsInBsYWNlSWQiOiJDaElKa1FOM0dLUVdyanNSTmhCUUpyaEdEN1UiLCJwbGFjZU5hbWUiOiJJbmRpcmFuYWdhciJ9LHsibGF0IjoxMi45OTgxNzMyLCJsb24iOjc3LjU1MzA0NDU5OTk5OTk5LCJwbGFjZUlkIjoiQ2hJSnhmVzREUE05cmpzUktzTlRHLTVwX1FRIiwicGxhY2VOYW1lIjoiUmFqYWppbmFnYXIifSx7ImxhdCI6MTIuOTMwNzczNSwibG9uIjo3Ny41ODM4MzAyLCJwbGFjZUlkIjoiQ2hJSjJkZGxaNWdWcmpzUmgxQk9BYWYtb3JzIiwicGxhY2VOYW1lIjoiSmF5YW5hZ2FyIn1d&radius=2.0&city=bangalore&locality=Indiranagar,&locality=Rajajinagar,&locality=Jayanagar')\n",
    "page"
   ]
  },
  {
   "cell_type": "code",
   "execution_count": 117,
   "id": "762a7ecd",
   "metadata": {},
   "outputs": [],
   "source": [
    "#page content\n",
    "soup = BeautifulSoup(page.content)\n"
   ]
  },
  {
   "cell_type": "code",
   "execution_count": 118,
   "id": "3d8c241e",
   "metadata": {},
   "outputs": [],
   "source": [
    "#scraping house name\n",
    "house_name = []\n",
    "#append house_name to list\n",
    "for i in soup.find_all('span',class_=\"overflow-hidden overflow-ellipsis whitespace-nowrap max-w-80pe po:max-w-full\"):\n",
    "    house_name.append(i.text)\n"
   ]
  },
  {
   "cell_type": "code",
   "execution_count": 119,
   "id": "a7bc94d9",
   "metadata": {},
   "outputs": [],
   "source": [
    "# scraping area,location\n",
    "area = []\n",
    "#append area to list\n",
    "for i in soup.find_all('div',class_=\"mt-0.5p overflow-hidden overflow-ellipsis whitespace-nowrap max-w-70 text-gray-light leading-4 po:mb-0 po:max-w-95\"):\n",
    "    area.append(i.text)"
   ]
  },
  {
   "cell_type": "code",
   "execution_count": 120,
   "id": "9a08289e",
   "metadata": {},
   "outputs": [],
   "source": [
    "#scraping emi\n",
    "emi = []\n",
    "emi_extract = []\n",
    "#append emi to list\n",
    "for i in soup.find_all('div',class_=\"flex flex-col w-33pe items-center border-r border-r-solid border-card-overview-border-color tp:w-half po:w-full last:border-r-1\"):\n",
    "    emi.append(i.text.replace('/MonthEstimated EMI',\"\"))\n",
    "#getting only the specified list values\n",
    "for i in range(1,len(emi),2):\n",
    "    emi_extract.append(emi[i])\n"
   ]
  },
  {
   "cell_type": "code",
   "execution_count": 121,
   "id": "b9596ac1",
   "metadata": {},
   "outputs": [],
   "source": [
    "#scraping price\n",
    "price = []\n",
    "#append price to list\n",
    "for i in soup.find_all('div',class_=\"flex flex-col w-33pe items-center bo tp:w-half po:w-full border-r-0\"):\n",
    "    price.append(i.text)"
   ]
  },
  {
   "cell_type": "code",
   "execution_count": 122,
   "id": "84f2c98d",
   "metadata": {},
   "outputs": [
    {
     "name": "stdout",
     "output_type": "stream",
     "text": [
      "25 25 25 25\n"
     ]
    }
   ],
   "source": [
    "print(len(house_name),len(area),len(emi_extract),len(price))"
   ]
  },
  {
   "cell_type": "code",
   "execution_count": 123,
   "id": "8e9330ec",
   "metadata": {
    "scrolled": true
   },
   "outputs": [
    {
     "data": {
      "text/html": [
       "<div>\n",
       "<style scoped>\n",
       "    .dataframe tbody tr th:only-of-type {\n",
       "        vertical-align: middle;\n",
       "    }\n",
       "\n",
       "    .dataframe tbody tr th {\n",
       "        vertical-align: top;\n",
       "    }\n",
       "\n",
       "    .dataframe thead th {\n",
       "        text-align: right;\n",
       "    }\n",
       "</style>\n",
       "<table border=\"1\" class=\"dataframe\">\n",
       "  <thead>\n",
       "    <tr style=\"text-align: right;\">\n",
       "      <th></th>\n",
       "      <th>House_name</th>\n",
       "      <th>Area</th>\n",
       "      <th>Monthly_emi</th>\n",
       "      <th>Price</th>\n",
       "    </tr>\n",
       "  </thead>\n",
       "  <tbody>\n",
       "    <tr>\n",
       "      <th>0</th>\n",
       "      <td>4+ BHK In Independent House  For Sale  In Raja...</td>\n",
       "      <td>Independent House, 5th Block, near National Pu...</td>\n",
       "      <td>₹1.86 Lacs</td>\n",
       "      <td>₹3.25 Crores₹10,833 per sq.ft.</td>\n",
       "    </tr>\n",
       "    <tr>\n",
       "      <th>1</th>\n",
       "      <td>4 BHK In Independent House  For Sale  In Jayan...</td>\n",
       "      <td>Independent House, Jayanagar SBI Branch 9th bl...</td>\n",
       "      <td>₹1.55 Lacs</td>\n",
       "      <td>₹2.7 Crores₹10,800 per sq.ft.</td>\n",
       "    </tr>\n",
       "    <tr>\n",
       "      <th>2</th>\n",
       "      <td>3 BHK Flat  For Sale  In Shree Rameshwara Nila...</td>\n",
       "      <td>manjunath road near The illusion Cafe</td>\n",
       "      <td>₹63,045</td>\n",
       "      <td>₹1.1 Crores₹9,167 per sq.ft.</td>\n",
       "    </tr>\n",
       "    <tr>\n",
       "      <th>3</th>\n",
       "      <td>3 BHK Apartment  For Sale  In Laa Royal Manor ...</td>\n",
       "      <td>Laa Royal Manor  11th Cross Rd, 8th cross, HAL...</td>\n",
       "      <td>₹1.58 Lacs</td>\n",
       "      <td>₹2.75 Crores₹13,033 per sq.ft.</td>\n",
       "    </tr>\n",
       "    <tr>\n",
       "      <th>4</th>\n",
       "      <td>2 BHK Flat  For Sale  In Pallava Terrace In Ja...</td>\n",
       "      <td>17, Pallava Terrace, North Main Road, 6th Bloc...</td>\n",
       "      <td>₹42,985</td>\n",
       "      <td>₹75 Lacs₹7,042 per sq.ft.</td>\n",
       "    </tr>\n",
       "    <tr>\n",
       "      <th>5</th>\n",
       "      <td>4+ BHK In Independent House  For Sale  In Raja...</td>\n",
       "      <td>Independent House,  6th Cross road,9th main ro...</td>\n",
       "      <td>₹63,045</td>\n",
       "      <td>₹1.1 Crores₹8,333 per sq.ft.</td>\n",
       "    </tr>\n",
       "    <tr>\n",
       "      <th>6</th>\n",
       "      <td>3 BHK Apartment  For Sale  In Admiralty Manor,...</td>\n",
       "      <td>Admiralty Manor, Indiranagar  Admiralty Manor,...</td>\n",
       "      <td>₹85,971</td>\n",
       "      <td>₹1.5 Crores₹7,653 per sq.ft.</td>\n",
       "    </tr>\n",
       "    <tr>\n",
       "      <th>7</th>\n",
       "      <td>2 BHK Apartment  For Sale  In Jains Prakriti I...</td>\n",
       "      <td>Jains Prakriti   Kanakapura Rd, 7th Block West...</td>\n",
       "      <td>₹1.15 Lacs</td>\n",
       "      <td>₹2 Crores₹15,408 per sq.ft.</td>\n",
       "    </tr>\n",
       "    <tr>\n",
       "      <th>8</th>\n",
       "      <td>3 BHK Flat  For Sale  In Benaka Apartments In ...</td>\n",
       "      <td>16th D main, HAL 2nd stage, Indiranagar ,  Ben...</td>\n",
       "      <td>₹48,717</td>\n",
       "      <td>₹85 Lacs₹6,386 per sq.ft.</td>\n",
       "    </tr>\n",
       "    <tr>\n",
       "      <th>9</th>\n",
       "      <td>4 BHK In Independent House  For Sale  In Indir...</td>\n",
       "      <td>Independent House, 2nd stage ,9th cross</td>\n",
       "      <td>₹1.69 Lacs</td>\n",
       "      <td>₹2.95 Crores₹11,569 per sq.ft.</td>\n",
       "    </tr>\n",
       "    <tr>\n",
       "      <th>10</th>\n",
       "      <td>4+ BHK In Independent House  For Sale  In Laks...</td>\n",
       "      <td>Independent House, CMH Rd , Near B P Bakery</td>\n",
       "      <td>₹63,045</td>\n",
       "      <td>₹1.1 Crores₹4,889 per sq.ft.</td>\n",
       "    </tr>\n",
       "    <tr>\n",
       "      <th>11</th>\n",
       "      <td>4+ BHK In Independent House  For Sale  In Raja...</td>\n",
       "      <td>Independent House, 6th C cross 3rd main rd nea...</td>\n",
       "      <td>₹77,374</td>\n",
       "      <td>₹1.35 Crores₹6,136 per sq.ft.</td>\n",
       "    </tr>\n",
       "    <tr>\n",
       "      <th>12</th>\n",
       "      <td>2 BHK Apartment  For Sale  In Tarang Parkway A...</td>\n",
       "      <td>Tarang Parkway Apartment  2nd Main Rd, Shivana...</td>\n",
       "      <td>₹57,314</td>\n",
       "      <td>₹1 Crore₹8,333 per sq.ft.</td>\n",
       "    </tr>\n",
       "    <tr>\n",
       "      <th>13</th>\n",
       "      <td>3 BHK Apartment  For Sale  In Brigade Gateway ...</td>\n",
       "      <td>Brigade Gateway  Dr Rajkumar Road, Rajaji Naga...</td>\n",
       "      <td>₹1.5 Lacs</td>\n",
       "      <td>₹2.62 Crores₹16,000 per sq.ft.</td>\n",
       "    </tr>\n",
       "    <tr>\n",
       "      <th>14</th>\n",
       "      <td>2 BHK Flat  For Sale  In Jains Prakruti, Jayan...</td>\n",
       "      <td>Kanakapura Road, Jayanagar, Bangalore, Karnata...</td>\n",
       "      <td>₹85,971</td>\n",
       "      <td>₹1.5 Crores₹11,530 per sq.ft.</td>\n",
       "    </tr>\n",
       "    <tr>\n",
       "      <th>15</th>\n",
       "      <td>4+ BHK In Independent House  For Sale  In Raja...</td>\n",
       "      <td>Independent House, 6th Cross Rd, 2nd Block  ne...</td>\n",
       "      <td>₹83,679</td>\n",
       "      <td>₹1.46 Crores₹6,518 per sq.ft.</td>\n",
       "    </tr>\n",
       "    <tr>\n",
       "      <th>16</th>\n",
       "      <td>3 BHK Flat  For Sale  In Rajaji Nagar</td>\n",
       "      <td>Independent House, 242, 27th cross, 2nd Block,...</td>\n",
       "      <td>₹77,374</td>\n",
       "      <td>₹1.35 Crores₹10,588 per sq.ft.</td>\n",
       "    </tr>\n",
       "    <tr>\n",
       "      <th>17</th>\n",
       "      <td>2 BHK Apartment  For Sale  In Blueberry Apartm...</td>\n",
       "      <td>Blueberry Apartment  13th E Main Rd, Channakes...</td>\n",
       "      <td>₹87,691</td>\n",
       "      <td>₹1.53 Crores₹14,246 per sq.ft.</td>\n",
       "    </tr>\n",
       "    <tr>\n",
       "      <th>18</th>\n",
       "      <td>3 BHK Apartment  For Sale  In Adarsh Court Apa...</td>\n",
       "      <td>Adarsh Court Apartment  Adarsh Court Apartment...</td>\n",
       "      <td>₹1.86 Lacs</td>\n",
       "      <td>₹3.25 Crores₹16,332 per sq.ft.</td>\n",
       "    </tr>\n",
       "    <tr>\n",
       "      <th>19</th>\n",
       "      <td>3 BHK Apartment  For Sale  In Parasmani Regenc...</td>\n",
       "      <td>Parasmani Regency  Parasmani Regency, 8th Cros...</td>\n",
       "      <td>₹1.43 Lacs</td>\n",
       "      <td>₹2.5 Crores₹12,887 per sq.ft.</td>\n",
       "    </tr>\n",
       "    <tr>\n",
       "      <th>20</th>\n",
       "      <td>2 BHK Flat  For Sale  In Kumar Ashraya Apartme...</td>\n",
       "      <td>Kumar Ashraya Apartments 194, 9th Cross Rd 2n...</td>\n",
       "      <td>₹37,827</td>\n",
       "      <td>₹66 Lacs₹7,333 per sq.ft.</td>\n",
       "    </tr>\n",
       "    <tr>\n",
       "      <th>21</th>\n",
       "      <td>3 BHK Apartment  For Sale  In Mayitri Enclave ...</td>\n",
       "      <td>Mayitri Enclave  Mayitri Enclave, 39th C, 5T B...</td>\n",
       "      <td>₹44,705</td>\n",
       "      <td>₹78 Lacs₹5,379 per sq.ft.</td>\n",
       "    </tr>\n",
       "    <tr>\n",
       "      <th>22</th>\n",
       "      <td>2 BHK Flat  For Sale  In Jayanagar Residency I...</td>\n",
       "      <td>Jayanagar Residency, K V Layout, LIC Colony, J...</td>\n",
       "      <td>₹57,314</td>\n",
       "      <td>₹1 Crore₹8,333 per sq.ft.</td>\n",
       "    </tr>\n",
       "    <tr>\n",
       "      <th>23</th>\n",
       "      <td>4 BHK Flat  For Sale  In Rrbc Piccassso In Jay...</td>\n",
       "      <td>Municipal No.152, 18th main road, beside Sai B...</td>\n",
       "      <td>₹3.91 Lacs</td>\n",
       "      <td>₹6.83 Crores₹14,056 per sq.ft.</td>\n",
       "    </tr>\n",
       "    <tr>\n",
       "      <th>24</th>\n",
       "      <td>4 BHK Flat  For Sale  In Phoenix  One Bangalor...</td>\n",
       "      <td>Dr Rajkumar Rd, opposite Sheraton Hotel, Rajaj...</td>\n",
       "      <td>₹2.72 Lacs</td>\n",
       "      <td>₹4.75 Crores₹16,374 per sq.ft.</td>\n",
       "    </tr>\n",
       "  </tbody>\n",
       "</table>\n",
       "</div>"
      ],
      "text/plain": [
       "                                           House_name  \\\n",
       "0   4+ BHK In Independent House  For Sale  In Raja...   \n",
       "1   4 BHK In Independent House  For Sale  In Jayan...   \n",
       "2   3 BHK Flat  For Sale  In Shree Rameshwara Nila...   \n",
       "3   3 BHK Apartment  For Sale  In Laa Royal Manor ...   \n",
       "4   2 BHK Flat  For Sale  In Pallava Terrace In Ja...   \n",
       "5   4+ BHK In Independent House  For Sale  In Raja...   \n",
       "6   3 BHK Apartment  For Sale  In Admiralty Manor,...   \n",
       "7   2 BHK Apartment  For Sale  In Jains Prakriti I...   \n",
       "8   3 BHK Flat  For Sale  In Benaka Apartments In ...   \n",
       "9   4 BHK In Independent House  For Sale  In Indir...   \n",
       "10  4+ BHK In Independent House  For Sale  In Laks...   \n",
       "11  4+ BHK In Independent House  For Sale  In Raja...   \n",
       "12  2 BHK Apartment  For Sale  In Tarang Parkway A...   \n",
       "13  3 BHK Apartment  For Sale  In Brigade Gateway ...   \n",
       "14  2 BHK Flat  For Sale  In Jains Prakruti, Jayan...   \n",
       "15  4+ BHK In Independent House  For Sale  In Raja...   \n",
       "16              3 BHK Flat  For Sale  In Rajaji Nagar   \n",
       "17  2 BHK Apartment  For Sale  In Blueberry Apartm...   \n",
       "18  3 BHK Apartment  For Sale  In Adarsh Court Apa...   \n",
       "19  3 BHK Apartment  For Sale  In Parasmani Regenc...   \n",
       "20  2 BHK Flat  For Sale  In Kumar Ashraya Apartme...   \n",
       "21  3 BHK Apartment  For Sale  In Mayitri Enclave ...   \n",
       "22  2 BHK Flat  For Sale  In Jayanagar Residency I...   \n",
       "23  4 BHK Flat  For Sale  In Rrbc Piccassso In Jay...   \n",
       "24  4 BHK Flat  For Sale  In Phoenix  One Bangalor...   \n",
       "\n",
       "                                                 Area Monthly_emi  \\\n",
       "0   Independent House, 5th Block, near National Pu...  ₹1.86 Lacs   \n",
       "1   Independent House, Jayanagar SBI Branch 9th bl...  ₹1.55 Lacs   \n",
       "2               manjunath road near The illusion Cafe     ₹63,045   \n",
       "3   Laa Royal Manor  11th Cross Rd, 8th cross, HAL...  ₹1.58 Lacs   \n",
       "4   17, Pallava Terrace, North Main Road, 6th Bloc...     ₹42,985   \n",
       "5   Independent House,  6th Cross road,9th main ro...     ₹63,045   \n",
       "6   Admiralty Manor, Indiranagar  Admiralty Manor,...     ₹85,971   \n",
       "7   Jains Prakriti   Kanakapura Rd, 7th Block West...  ₹1.15 Lacs   \n",
       "8   16th D main, HAL 2nd stage, Indiranagar ,  Ben...     ₹48,717   \n",
       "9             Independent House, 2nd stage ,9th cross  ₹1.69 Lacs   \n",
       "10        Independent House, CMH Rd , Near B P Bakery     ₹63,045   \n",
       "11  Independent House, 6th C cross 3rd main rd nea...     ₹77,374   \n",
       "12  Tarang Parkway Apartment  2nd Main Rd, Shivana...     ₹57,314   \n",
       "13  Brigade Gateway  Dr Rajkumar Road, Rajaji Naga...   ₹1.5 Lacs   \n",
       "14  Kanakapura Road, Jayanagar, Bangalore, Karnata...     ₹85,971   \n",
       "15  Independent House, 6th Cross Rd, 2nd Block  ne...     ₹83,679   \n",
       "16  Independent House, 242, 27th cross, 2nd Block,...     ₹77,374   \n",
       "17  Blueberry Apartment  13th E Main Rd, Channakes...     ₹87,691   \n",
       "18  Adarsh Court Apartment  Adarsh Court Apartment...  ₹1.86 Lacs   \n",
       "19  Parasmani Regency  Parasmani Regency, 8th Cros...  ₹1.43 Lacs   \n",
       "20   Kumar Ashraya Apartments 194, 9th Cross Rd 2n...     ₹37,827   \n",
       "21  Mayitri Enclave  Mayitri Enclave, 39th C, 5T B...     ₹44,705   \n",
       "22  Jayanagar Residency, K V Layout, LIC Colony, J...     ₹57,314   \n",
       "23  Municipal No.152, 18th main road, beside Sai B...  ₹3.91 Lacs   \n",
       "24  Dr Rajkumar Rd, opposite Sheraton Hotel, Rajaj...  ₹2.72 Lacs   \n",
       "\n",
       "                             Price  \n",
       "0   ₹3.25 Crores₹10,833 per sq.ft.  \n",
       "1    ₹2.7 Crores₹10,800 per sq.ft.  \n",
       "2     ₹1.1 Crores₹9,167 per sq.ft.  \n",
       "3   ₹2.75 Crores₹13,033 per sq.ft.  \n",
       "4        ₹75 Lacs₹7,042 per sq.ft.  \n",
       "5     ₹1.1 Crores₹8,333 per sq.ft.  \n",
       "6     ₹1.5 Crores₹7,653 per sq.ft.  \n",
       "7      ₹2 Crores₹15,408 per sq.ft.  \n",
       "8        ₹85 Lacs₹6,386 per sq.ft.  \n",
       "9   ₹2.95 Crores₹11,569 per sq.ft.  \n",
       "10    ₹1.1 Crores₹4,889 per sq.ft.  \n",
       "11   ₹1.35 Crores₹6,136 per sq.ft.  \n",
       "12       ₹1 Crore₹8,333 per sq.ft.  \n",
       "13  ₹2.62 Crores₹16,000 per sq.ft.  \n",
       "14   ₹1.5 Crores₹11,530 per sq.ft.  \n",
       "15   ₹1.46 Crores₹6,518 per sq.ft.  \n",
       "16  ₹1.35 Crores₹10,588 per sq.ft.  \n",
       "17  ₹1.53 Crores₹14,246 per sq.ft.  \n",
       "18  ₹3.25 Crores₹16,332 per sq.ft.  \n",
       "19   ₹2.5 Crores₹12,887 per sq.ft.  \n",
       "20       ₹66 Lacs₹7,333 per sq.ft.  \n",
       "21       ₹78 Lacs₹5,379 per sq.ft.  \n",
       "22       ₹1 Crore₹8,333 per sq.ft.  \n",
       "23  ₹6.83 Crores₹14,056 per sq.ft.  \n",
       "24  ₹4.75 Crores₹16,374 per sq.ft.  "
      ]
     },
     "execution_count": 123,
     "metadata": {},
     "output_type": "execute_result"
    }
   ],
   "source": [
    "#Making DataFrame\n",
    "import pandas as pd\n",
    "df = pd.DataFrame({'House_name':house_name,'Area':area,'Monthly_emi':emi_extract,'Price':price})\n",
    "df\n"
   ]
  },
  {
   "cell_type": "markdown",
   "id": "a3a3684e",
   "metadata": {},
   "source": [
    "# Dineout.co.in"
   ]
  },
  {
   "cell_type": "code",
   "execution_count": 124,
   "id": "c37137f9",
   "metadata": {},
   "outputs": [],
   "source": [
    "#import libraries\n",
    "from bs4 import BeautifulSoup\n",
    "import requests"
   ]
  },
  {
   "cell_type": "code",
   "execution_count": 125,
   "id": "1ad46e39",
   "metadata": {},
   "outputs": [
    {
     "data": {
      "text/plain": [
       "<Response [200]>"
      ]
     },
     "execution_count": 125,
     "metadata": {},
     "output_type": "execute_result"
    }
   ],
   "source": [
    "#get request from source page\n",
    "page = requests.get('https://www.dineout.co.in/delhi-restaurants/buffet-special')\n",
    "page"
   ]
  },
  {
   "cell_type": "code",
   "execution_count": 126,
   "id": "844b41f3",
   "metadata": {},
   "outputs": [],
   "source": [
    "#page content\n",
    "soup = BeautifulSoup(page.content)\n"
   ]
  },
  {
   "cell_type": "code",
   "execution_count": 127,
   "id": "c62b8f26",
   "metadata": {},
   "outputs": [],
   "source": [
    "#scraping restaurant names\n",
    "name = []\n",
    "#append name to list\n",
    "for i in soup.find_all('a',class_=\"restnt-name ellipsis\"):\n",
    "    name.append(i.text)"
   ]
  },
  {
   "cell_type": "code",
   "execution_count": 128,
   "id": "f60167fc",
   "metadata": {},
   "outputs": [],
   "source": [
    "#scraping cusine\n",
    "cusine = []\n",
    "#append cusine to list\n",
    "for i in soup.find_all('span',class_=\"double-line-ellipsis\"):\n",
    "    cusine.append(i.text)"
   ]
  },
  {
   "cell_type": "code",
   "execution_count": 129,
   "id": "ccf48f5a",
   "metadata": {},
   "outputs": [],
   "source": [
    "#scrping location\n",
    "location = []\n",
    "#append location to list\n",
    "for i in soup.find_all('div',class_=\"restnt-loc ellipsis\"):\n",
    "    location.append(i.text)"
   ]
  },
  {
   "cell_type": "code",
   "execution_count": 130,
   "id": "7b02978d",
   "metadata": {},
   "outputs": [],
   "source": [
    "#scraping ratings\n",
    "rating = []\n",
    "#append rating to list\n",
    "for i in soup.find_all('div',class_=\"restnt-rating rating-4\"):\n",
    "    rating.append(i.text)"
   ]
  },
  {
   "cell_type": "code",
   "execution_count": 131,
   "id": "8b893dc5",
   "metadata": {},
   "outputs": [],
   "source": [
    "#scraping image url\n",
    "image = []\n",
    "#append image_url to list\n",
    "for i in soup.find_all('img',class_=\"no-img\"):\n",
    "    image.append(i['data-src'])"
   ]
  },
  {
   "cell_type": "code",
   "execution_count": 132,
   "id": "ec0ba2e9",
   "metadata": {},
   "outputs": [
    {
     "data": {
      "text/html": [
       "<div>\n",
       "<style scoped>\n",
       "    .dataframe tbody tr th:only-of-type {\n",
       "        vertical-align: middle;\n",
       "    }\n",
       "\n",
       "    .dataframe tbody tr th {\n",
       "        vertical-align: top;\n",
       "    }\n",
       "\n",
       "    .dataframe thead th {\n",
       "        text-align: right;\n",
       "    }\n",
       "</style>\n",
       "<table border=\"1\" class=\"dataframe\">\n",
       "  <thead>\n",
       "    <tr style=\"text-align: right;\">\n",
       "      <th></th>\n",
       "      <th>Name</th>\n",
       "      <th>Location</th>\n",
       "      <th>Prices&amp;Cusine</th>\n",
       "      <th>Rating</th>\n",
       "      <th>Image_url</th>\n",
       "    </tr>\n",
       "  </thead>\n",
       "  <tbody>\n",
       "    <tr>\n",
       "      <th>0</th>\n",
       "      <td>Castle Barbeque</td>\n",
       "      <td>Connaught Place, Central Delhi</td>\n",
       "      <td>₹ 2,000 for 2 (approx) | North Indian, Chinese</td>\n",
       "      <td>3.5</td>\n",
       "      <td>images</td>\n",
       "    </tr>\n",
       "    <tr>\n",
       "      <th>1</th>\n",
       "      <td>Jungle Jamboree</td>\n",
       "      <td>3CS Mall,Lajpat Nagar - 3, South Delhi</td>\n",
       "      <td>₹ 1,400 for 2 (approx) | North Indian, Asian, ...</td>\n",
       "      <td>3.9</td>\n",
       "      <td>images</td>\n",
       "    </tr>\n",
       "    <tr>\n",
       "      <th>2</th>\n",
       "      <td>Castle Barbeque</td>\n",
       "      <td>Pacific Mall,Tagore Garden, West Delhi</td>\n",
       "      <td>₹ 2,000 for 2 (approx) | Chinese, North Indian</td>\n",
       "      <td>3.9</td>\n",
       "      <td>images</td>\n",
       "    </tr>\n",
       "    <tr>\n",
       "      <th>3</th>\n",
       "      <td>Cafe Knosh</td>\n",
       "      <td>The Leela Ambience Convention Hotel,Shahdara, ...</td>\n",
       "      <td>₹ 3,000 for 2 (approx) | Italian, Continental</td>\n",
       "      <td>4.3</td>\n",
       "      <td>images</td>\n",
       "    </tr>\n",
       "    <tr>\n",
       "      <th>4</th>\n",
       "      <td>The Barbeque Company</td>\n",
       "      <td>Gardens Galleria,Sector 38A, Noida</td>\n",
       "      <td>₹ 1,700 for 2 (approx) | North Indian, Chinese</td>\n",
       "      <td>4</td>\n",
       "      <td>images</td>\n",
       "    </tr>\n",
       "    <tr>\n",
       "      <th>5</th>\n",
       "      <td>India Grill</td>\n",
       "      <td>Hilton Garden Inn,Saket, South Delhi</td>\n",
       "      <td>₹ 2,400 for 2 (approx) | North Indian, Italian</td>\n",
       "      <td>3.9</td>\n",
       "      <td>images</td>\n",
       "    </tr>\n",
       "    <tr>\n",
       "      <th>6</th>\n",
       "      <td>Delhi Barbeque</td>\n",
       "      <td>Taurus Sarovar Portico,Mahipalpur, South Delhi</td>\n",
       "      <td>₹ 1,800 for 2 (approx) | North Indian</td>\n",
       "      <td>3.7</td>\n",
       "      <td>images</td>\n",
       "    </tr>\n",
       "    <tr>\n",
       "      <th>7</th>\n",
       "      <td>The Monarch - Bar Be Que Village</td>\n",
       "      <td>Indirapuram Habitat Centre,Indirapuram, Ghaziabad</td>\n",
       "      <td>₹ 1,900 for 2 (approx) | North Indian</td>\n",
       "      <td>3.8</td>\n",
       "      <td>images</td>\n",
       "    </tr>\n",
       "    <tr>\n",
       "      <th>8</th>\n",
       "      <td>World Cafe</td>\n",
       "      <td>Vibe by The Lalit Traveller,Sector 35, Faridabad</td>\n",
       "      <td>₹ 2,400 for 2 (approx) | North Indian, Italian</td>\n",
       "      <td>4.2</td>\n",
       "      <td>images</td>\n",
       "    </tr>\n",
       "    <tr>\n",
       "      <th>9</th>\n",
       "      <td>Indian Grill Room</td>\n",
       "      <td>Suncity Business Tower,Golf Course Road, Gurgaon</td>\n",
       "      <td>₹ 2,200 for 2 (approx) | North Indian, Mughlai</td>\n",
       "      <td>4.3</td>\n",
       "      <td>images</td>\n",
       "    </tr>\n",
       "    <tr>\n",
       "      <th>10</th>\n",
       "      <td>Mad 4 Bar B Que</td>\n",
       "      <td>Sector 29, Faridabad</td>\n",
       "      <td>₹ 800 for 2 (approx) | North Indian</td>\n",
       "      <td>3.6</td>\n",
       "      <td>images</td>\n",
       "    </tr>\n",
       "    <tr>\n",
       "      <th>11</th>\n",
       "      <td>Barbeque 29</td>\n",
       "      <td>NIT, Faridabad</td>\n",
       "      <td>₹ 1,500 for 2 (approx) | North Indian, Mughlai...</td>\n",
       "      <td>4.2</td>\n",
       "      <td>images</td>\n",
       "    </tr>\n",
       "    <tr>\n",
       "      <th>12</th>\n",
       "      <td>Glasshouse</td>\n",
       "      <td>DoubleTree By Hilton Gurugram Baani Square,Sec...</td>\n",
       "      <td>₹ 3,400 for 2 (approx) | European, Italian, As...</td>\n",
       "      <td>4</td>\n",
       "      <td>images</td>\n",
       "    </tr>\n",
       "  </tbody>\n",
       "</table>\n",
       "</div>"
      ],
      "text/plain": [
       "                                Name  \\\n",
       "0                    Castle Barbeque   \n",
       "1                    Jungle Jamboree   \n",
       "2                    Castle Barbeque   \n",
       "3                         Cafe Knosh   \n",
       "4               The Barbeque Company   \n",
       "5                        India Grill   \n",
       "6                     Delhi Barbeque   \n",
       "7   The Monarch - Bar Be Que Village   \n",
       "8                         World Cafe   \n",
       "9                  Indian Grill Room   \n",
       "10                   Mad 4 Bar B Que   \n",
       "11                       Barbeque 29   \n",
       "12                        Glasshouse   \n",
       "\n",
       "                                             Location  \\\n",
       "0                      Connaught Place, Central Delhi   \n",
       "1              3CS Mall,Lajpat Nagar - 3, South Delhi   \n",
       "2              Pacific Mall,Tagore Garden, West Delhi   \n",
       "3   The Leela Ambience Convention Hotel,Shahdara, ...   \n",
       "4                  Gardens Galleria,Sector 38A, Noida   \n",
       "5                Hilton Garden Inn,Saket, South Delhi   \n",
       "6      Taurus Sarovar Portico,Mahipalpur, South Delhi   \n",
       "7   Indirapuram Habitat Centre,Indirapuram, Ghaziabad   \n",
       "8    Vibe by The Lalit Traveller,Sector 35, Faridabad   \n",
       "9    Suncity Business Tower,Golf Course Road, Gurgaon   \n",
       "10                               Sector 29, Faridabad   \n",
       "11                                     NIT, Faridabad   \n",
       "12  DoubleTree By Hilton Gurugram Baani Square,Sec...   \n",
       "\n",
       "                                        Prices&Cusine Rating Image_url  \n",
       "0      ₹ 2,000 for 2 (approx) | North Indian, Chinese    3.5    images  \n",
       "1   ₹ 1,400 for 2 (approx) | North Indian, Asian, ...    3.9    images  \n",
       "2      ₹ 2,000 for 2 (approx) | Chinese, North Indian    3.9    images  \n",
       "3       ₹ 3,000 for 2 (approx) | Italian, Continental    4.3    images  \n",
       "4      ₹ 1,700 for 2 (approx) | North Indian, Chinese      4    images  \n",
       "5      ₹ 2,400 for 2 (approx) | North Indian, Italian    3.9    images  \n",
       "6               ₹ 1,800 for 2 (approx) | North Indian    3.7    images  \n",
       "7               ₹ 1,900 for 2 (approx) | North Indian    3.8    images  \n",
       "8      ₹ 2,400 for 2 (approx) | North Indian, Italian    4.2    images  \n",
       "9      ₹ 2,200 for 2 (approx) | North Indian, Mughlai    4.3    images  \n",
       "10                ₹ 800 for 2 (approx) | North Indian    3.6    images  \n",
       "11  ₹ 1,500 for 2 (approx) | North Indian, Mughlai...    4.2    images  \n",
       "12  ₹ 3,400 for 2 (approx) | European, Italian, As...      4    images  "
      ]
     },
     "execution_count": 132,
     "metadata": {},
     "output_type": "execute_result"
    }
   ],
   "source": [
    "#Making DataFrame\n",
    "import pandas as pd\n",
    "df = pd.DataFrame({'Name':name,'Location':location,'Prices&Cusine':cusine,'Rating':rating,'Image_url':'images'})\n",
    "df"
   ]
  },
  {
   "cell_type": "markdown",
   "id": "56ffde76",
   "metadata": {},
   "source": [
    "# Bewakoof- women's t-shirt"
   ]
  },
  {
   "cell_type": "code",
   "execution_count": 133,
   "id": "2e111c7a",
   "metadata": {},
   "outputs": [],
   "source": [
    "#import libraries\n",
    "from bs4 import BeautifulSoup\n",
    "import requests"
   ]
  },
  {
   "cell_type": "code",
   "execution_count": 134,
   "id": "347950a6",
   "metadata": {},
   "outputs": [
    {
     "data": {
      "text/plain": [
       "<Response [200]>"
      ]
     },
     "execution_count": 134,
     "metadata": {},
     "output_type": "execute_result"
    }
   ],
   "source": [
    "#get request from source page\n",
    "page = requests.get('https://www.bewakoof.com/women-t-shirts')\n",
    "page"
   ]
  },
  {
   "cell_type": "code",
   "execution_count": 135,
   "id": "0b9f8e5b",
   "metadata": {},
   "outputs": [],
   "source": [
    "#page content\n",
    "soup = BeautifulSoup(page.content)\n"
   ]
  },
  {
   "cell_type": "code",
   "execution_count": 136,
   "id": "194fc2e1",
   "metadata": {},
   "outputs": [],
   "source": [
    "#Scraping first 10 product name\n",
    "product = []\n",
    "#append product_name to list\n",
    "for i in soup.find_all('h3')[:10]:\n",
    "    product.append(i.text)\n"
   ]
  },
  {
   "cell_type": "code",
   "execution_count": 137,
   "id": "f03c2975",
   "metadata": {},
   "outputs": [],
   "source": [
    "price = []\n",
    "#append price to list\n",
    "for i in soup.find_all('span',class_=\"discountedPriceText\")[:10]:\n",
    "    price.append(i.text.replace(\"₹\",\"\"))"
   ]
  },
  {
   "cell_type": "code",
   "execution_count": 138,
   "id": "dc594abe",
   "metadata": {},
   "outputs": [],
   "source": [
    "image = []\n",
    "#append image_url to list\n",
    "for i in soup.find_all('a',class_=\"col-sm-4 col-xs-6\")[:10]:\n",
    "    image.append(i['href'])"
   ]
  },
  {
   "cell_type": "code",
   "execution_count": 139,
   "id": "7b04f67a",
   "metadata": {},
   "outputs": [
    {
     "data": {
      "text/html": [
       "<div>\n",
       "<style scoped>\n",
       "    .dataframe tbody tr th:only-of-type {\n",
       "        vertical-align: middle;\n",
       "    }\n",
       "\n",
       "    .dataframe tbody tr th {\n",
       "        vertical-align: top;\n",
       "    }\n",
       "\n",
       "    .dataframe thead th {\n",
       "        text-align: right;\n",
       "    }\n",
       "</style>\n",
       "<table border=\"1\" class=\"dataframe\">\n",
       "  <thead>\n",
       "    <tr style=\"text-align: right;\">\n",
       "      <th></th>\n",
       "      <th>product_name</th>\n",
       "      <th>price</th>\n",
       "      <th>image_url</th>\n",
       "    </tr>\n",
       "  </thead>\n",
       "  <tbody>\n",
       "    <tr>\n",
       "      <th>0</th>\n",
       "      <td>Women's Pink Badass Graphic Printed Oversized ...</td>\n",
       "      <td>349</td>\n",
       "      <td>/p/badass-oversized-fit-t-shirt-women</td>\n",
       "    </tr>\n",
       "    <tr>\n",
       "      <th>1</th>\n",
       "      <td>Women's Green Badass Graphic Printed Oversized...</td>\n",
       "      <td>349</td>\n",
       "      <td>/p/badass-oversized-fit-t-shirt</td>\n",
       "    </tr>\n",
       "    <tr>\n",
       "      <th>2</th>\n",
       "      <td>Nir Vah Nuh Half Sleeve T-shirt</td>\n",
       "      <td>499</td>\n",
       "      <td>/p/nir-vah-nuh-half-sleeve-t-shirt-132</td>\n",
       "    </tr>\n",
       "    <tr>\n",
       "      <th>3</th>\n",
       "      <td>Not Gender Roles Boyfriend T-shirt</td>\n",
       "      <td>399</td>\n",
       "      <td>/p/not-gender-roles-boyfriend-t-shirt</td>\n",
       "    </tr>\n",
       "    <tr>\n",
       "      <th>4</th>\n",
       "      <td>Not Gender Roles Half Sleeve T-shirt</td>\n",
       "      <td>349</td>\n",
       "      <td>/p/not-gender-roles-half-sleeve-t-shirt</td>\n",
       "    </tr>\n",
       "    <tr>\n",
       "      <th>5</th>\n",
       "      <td>More Pizza Half Sleeve T-shirt</td>\n",
       "      <td>349</td>\n",
       "      <td>/p/more-pizza-half-sleeve-t-shirt</td>\n",
       "    </tr>\n",
       "    <tr>\n",
       "      <th>6</th>\n",
       "      <td>Mickey Silhoutte Half Sleeve T-shirt</td>\n",
       "      <td>349</td>\n",
       "      <td>/p/mickey-silhoutte-half-sleeve-t-shirt</td>\n",
       "    </tr>\n",
       "    <tr>\n",
       "      <th>7</th>\n",
       "      <td>Army Half Sleeve T-shirt</td>\n",
       "      <td>349</td>\n",
       "      <td>/p/army-half-sleeve-t-shirt</td>\n",
       "    </tr>\n",
       "    <tr>\n",
       "      <th>8</th>\n",
       "      <td>Garfield Squad Half Sleeve T-shirt</td>\n",
       "      <td>349</td>\n",
       "      <td>/p/garfield-squad-half-sleeve-t-shirt</td>\n",
       "    </tr>\n",
       "    <tr>\n",
       "      <th>9</th>\n",
       "      <td>Only Love Half Sleeve T-shirt</td>\n",
       "      <td>349</td>\n",
       "      <td>/p/only-love-half-sleeve-t-shirt</td>\n",
       "    </tr>\n",
       "  </tbody>\n",
       "</table>\n",
       "</div>"
      ],
      "text/plain": [
       "                                        product_name price  \\\n",
       "0  Women's Pink Badass Graphic Printed Oversized ...   349   \n",
       "1  Women's Green Badass Graphic Printed Oversized...   349   \n",
       "2                    Nir Vah Nuh Half Sleeve T-shirt   499   \n",
       "3                 Not Gender Roles Boyfriend T-shirt   399   \n",
       "4               Not Gender Roles Half Sleeve T-shirt   349   \n",
       "5                     More Pizza Half Sleeve T-shirt   349   \n",
       "6               Mickey Silhoutte Half Sleeve T-shirt   349   \n",
       "7                           Army Half Sleeve T-shirt   349   \n",
       "8                 Garfield Squad Half Sleeve T-shirt   349   \n",
       "9                      Only Love Half Sleeve T-shirt   349   \n",
       "\n",
       "                                 image_url  \n",
       "0    /p/badass-oversized-fit-t-shirt-women  \n",
       "1          /p/badass-oversized-fit-t-shirt  \n",
       "2   /p/nir-vah-nuh-half-sleeve-t-shirt-132  \n",
       "3    /p/not-gender-roles-boyfriend-t-shirt  \n",
       "4  /p/not-gender-roles-half-sleeve-t-shirt  \n",
       "5        /p/more-pizza-half-sleeve-t-shirt  \n",
       "6  /p/mickey-silhoutte-half-sleeve-t-shirt  \n",
       "7              /p/army-half-sleeve-t-shirt  \n",
       "8    /p/garfield-squad-half-sleeve-t-shirt  \n",
       "9         /p/only-love-half-sleeve-t-shirt  "
      ]
     },
     "execution_count": 139,
     "metadata": {},
     "output_type": "execute_result"
    }
   ],
   "source": [
    "#making DataFrame\n",
    "\n",
    "import pandas as pd\n",
    "df = pd.DataFrame({'product_name':product,'price':price,'image_url':image})\n",
    "df"
   ]
  },
  {
   "cell_type": "code",
   "execution_count": null,
   "id": "bad38d32",
   "metadata": {},
   "outputs": [],
   "source": []
  },
  {
   "cell_type": "code",
   "execution_count": null,
   "id": "81e79dc7",
   "metadata": {},
   "outputs": [],
   "source": []
  },
  {
   "cell_type": "code",
   "execution_count": null,
   "id": "3e7323c2",
   "metadata": {},
   "outputs": [],
   "source": []
  },
  {
   "cell_type": "code",
   "execution_count": null,
   "id": "03ce92c2",
   "metadata": {},
   "outputs": [],
   "source": []
  },
  {
   "cell_type": "code",
   "execution_count": null,
   "id": "d48e705a",
   "metadata": {},
   "outputs": [],
   "source": []
  }
 ],
 "metadata": {
  "kernelspec": {
   "display_name": "Python 3 (ipykernel)",
   "language": "python",
   "name": "python3"
  },
  "language_info": {
   "codemirror_mode": {
    "name": "ipython",
    "version": 3
   },
   "file_extension": ".py",
   "mimetype": "text/x-python",
   "name": "python",
   "nbconvert_exporter": "python",
   "pygments_lexer": "ipython3",
   "version": "3.9.7"
  }
 },
 "nbformat": 4,
 "nbformat_minor": 5
}
